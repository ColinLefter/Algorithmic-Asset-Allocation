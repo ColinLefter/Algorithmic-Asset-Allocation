{
 "cells": [
  {
   "attachments": {},
   "cell_type": "markdown",
   "metadata": {},
   "source": [
    "# Keisha Kwek"
   ]
  },
  {
   "attachments": {},
   "cell_type": "markdown",
   "metadata": {},
   "source": [
    "## Research question/interests\n",
    "\n",
    "What are the data analysis processes which are most accurate in displaying the abstract of the examined datasets? \n",
    "\n",
    "### Analysis Plan\n",
    "I am interested in exploring how we can create appropriate abstracts/data summaries of the datasets used using the most suitable models and formulas for the clients' background information. This background information is aimed to help clients make decisions and be mindful of how each variable influences their portfolio creation process, having autonomy over the direction in which the portfolio calculataions and analyses will head. To do this, there will be computation of relevant variables which are best fit to be analyzed together, having backend-research to back up the relevance of each paired/grouped variable that is explored. "
   ]
  }
 ],
 "metadata": {
  "language_info": {
   "name": "python"
  }
 },
 "nbformat": 4,
 "nbformat_minor": 2
}
