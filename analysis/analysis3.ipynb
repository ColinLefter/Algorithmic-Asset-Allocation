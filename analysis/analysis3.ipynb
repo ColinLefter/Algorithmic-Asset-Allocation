{
 "cells": [
  {
   "cell_type": "markdown",
   "metadata": {},
   "source": [
    "# Yigit Yurdusever"
   ]
  },
  {
   "cell_type": "markdown",
   "metadata": {},
   "source": [
    "## Research question/interests\n",
    "\n",
    "What are the roles of financial ratios and the price of equity when conducting a portfolio?\n",
    "\n",
    "\n",
    "**Analysis Plan**\n",
    "\n",
    "Identify the key ratios that are the most effective for determining the equity classification and current price level of the equities. In addition to that, monitoring the portfolio output based on identified key inputs."
   ]
  },
  {
   "cell_type": "code",
   "execution_count": null,
   "metadata": {},
   "outputs": [],
   "source": [
    "import pandas as pd\n",
    "\n",
    "df1=pd.read_csv('../data/raw/us_equities_tradingview_data_balance_sheet.csv')\n",
    "df2=pd.read_csv('../data/raw/us_equities_tradingview_data_dividends.csv')\n",
    "df3=pd.read_csv('../data/raw/us_equities_tradingview_data_income_statement.csv')\n",
    "df4=pd.read_csv('../data/raw/us_equities_tradingview_data_margins.csv')\n",
    "df5=pd.read_csv('../data/raw/us_equities_tradingview_data_overview.csv')\n",
    "df6=pd.read_csv('../data/raw/us_equities_tradingview_data_performance.csv')\n",
    "df7=pd.read_csv('../data/raw/us_equities_tradingview_data_valuation.csv')"
   ]
  }
 ],
 "metadata": {
  "kernelspec": {
   "display_name": "Python 3 (ipykernel)",
   "language": "python",
   "name": "python3"
  }
 },
 "nbformat": 4,
 "nbformat_minor": 4
}
