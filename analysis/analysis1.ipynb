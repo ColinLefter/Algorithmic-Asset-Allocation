{
 "cells": [
  {
   "cell_type": "markdown",
   "metadata": {},
   "source": [
    "# Colin Lefter"
   ]
  },
  {
   "attachments": {},
   "cell_type": "markdown",
   "metadata": {},
   "source": [
    "## Research question/interests\n",
    "\n",
    "**What equity data is the most deterministic of the price of an equity, and of this data, which is the most relevant for a growth portfolio investment strategy such that we can compute an optimized portfolio of equities while using user input to drive our optimization algorithm?**\n",
    "\n",
    "My research objective is to develop a scalable asset allocation and construction algorithm that implements an objected-oriented design approach. This objective is an outcome of determining what equity data is the most deterministic of the price of an equity, which will be the focus for the majority of the project/\n",
    "\n",
    "I intend to develop algorithms for constructing multiple linear regressions and Fourier Franforms, among others, that I will then use to construct interactive and statistical models with Plotly and Seaborn. As such, I have a strong interest in the system design of our software and in developing helper functions that can assist all of us with processing data more efficiently. I am also looking forward to using Facebook Prophet[^1] to construct a time series forecast of a sample portfolio recommendation from our software, which can be included in our Tableau Dashboard.\n",
    "\n",
    "### Analysis Plan\n",
    "Our objective function is one that takes in a selection of columns from our data sets to then search for the top n companies that satisfy a criteria for having the highest probability of producing an optimal return on investment. These inputs themselves refer to sub-objective functions that take as input user-defined parameters and thresholds that set the criteria for favourable performance attributes. To rank the companies from our data set, and ultimately determine what portion of capital to assign to each equity, I propose a data normalization algorithm that normalizes the data that comprises the favourable subset from each column of our data set. We interpret these normalized values as probabilities of equity selection and ultimately average the score of each company across all columns to then multiply the final score percentage of each company with the total capital specified by the user. In a broad sense, our software is composed of four general classes that include \"Data\", \"Quantitative Analysis\", \"Data Visualization\" and \"Portfolio Construction\". We inherit the properties from each of these classes to build a functional data analysis chain.\n",
    "\n",
    "Our data visualization will be concerned with analyzing the influence of certain financial variables, such as Price-to-Earnings, on the price of each equity from a sample of 500 equities (from the S&P 500 index). Such analysis would begin with a statistical summary that will constitute exploratory data analysis, followed by our application of analysis algorithms that we design. The construction of a portfolio is a bonus of our project and will be made possible by the analysis algorithms we have constructed.\n",
    "\n",
    "**Important Note**\n",
    "A component of the analysis will involve the comparison of different values of financial variables with the corresponding price of each equity. This constitutes inferential analysis as we are attempting to identify a correlation on the basis of picking stocks based on expected performance. Therefore, this will require us to use past financial data and compare this data with the current price of each equity. As a result, we can only use the 3-month performance data (i.e. 3-month change in share price data) for this comparison as otherwise we would be using future data to predict past performance, which would be invalid.\n",
    "\n",
    "#### User-defined parameters\n",
    "Some initial ideas for these parameters include:\n",
    "- (float) Initial capital\n",
    "- (float) Additional capital per day, week or month\n",
    "- (int) Intended holding period (in days)\n",
    "- (boolean) Importance of dividends (validated based on capital invested)\n",
    "- (String) Preferred industries (choose from a list, or select all)\n",
    "- (int) Volatility tolerance (from 0 to 1, 1 indicating that volatility is not important)\n",
    "- (String) Preferred companies (as a list)[^2]\n",
    "- (int) Preferred degree of portfolio diversification (from 0 to 1, 1 indicating complete diversification)\n",
    "- (String) Preferred investment strategy (choose from \"Growth\", \"Value\", \"GARP\")\n",
    "\n",
    "### Algorithm Plan\n",
    "\n",
    "####  Tier 1: Threshold-based screening algorithms\n",
    "- The current plan is to use these algorithms to screen the financial documents from each company by setting a minimum threshold for each financial ratio. This class of algorithms will need to conduct such screening per industry as industry financial ratios are dinstinct from one another.\n",
    "- A global screening algorithm that selects companies which show favourable performance across all ratios can also be used after each ratio has been individually tested.\n",
    "\n",
    "#### Tier 2: Regression models\n",
    "- As of now, the intent is to develop a multiple linear regression model that will attempt to determine a relationship between the yearly and quarterly performance of each company in relation to several columns of data that act as predictors. This can essentially implement the results from the threshold-based screening algorithms to only conduct this analysis on the pre-screened companies.\n",
    "\n",
    "#### Tier 3: Statistical modelling algorithms\n",
    "- Tier 3 denotes a class of broadly experimental statistical modelling algorithms that are applied on a pre-final portfolio to add additional points to companies that perform exceptionally well compared to others in the portfolio. For now, these algorithms constitute signal processing algorithms such as a Fourier Transform algorithm that attempts to identify peaks in numerical values that would otherwise not be apparent when examined in isolation and without further processing. Therefore, these algorithms will be used to fine-tune the capital allocation percentages for each company in the pre-final portfolio.\n",
    "\n",
    "#### Columns of relevance\n",
    "Data set 1: Overview\n",
    "- Price\n",
    "- MKT Cap\n",
    "- P/E\n",
    "- EPS\n",
    "- Sector\n",
    "\n",
    "Data set 2: Performance\n",
    "- 1M change (1 month change)\n",
    "- 3-Month performance\n",
    "- 6-month perfromance\n",
    "- YTD performance\n",
    "- Yearly performance\n",
    "- Volatility\n",
    "\n",
    "Data set 3: Valuation\n",
    "- Price / revenue\n",
    "- Enterprise value\n",
    "\n",
    "Data set 4: Dividends\n",
    "- Dividend yield FWD\n",
    "- Dividends per share (FY)\n",
    "\n",
    "Data set 5: Margins\n",
    "- Gross profit margin\n",
    "- Operating margin\n",
    "- Net profit margin\n",
    "\n",
    "Data set 6: Income Statement\n",
    "- Gross profit\n",
    "- Income\n",
    "- Net cash flow\n",
    "\n",
    "Data set 7: Balance Sheet\n",
    "- Current ratio\n",
    "- Debt/equity\n",
    "- Quick ratio\n",
    "\n",
    "The total number of columns would be 24 in this case.\n",
    "\n",
    "[^1]: This would mean that a few time series data sets would need to be downloaded from TradingView at the end of the project to test the demo porfolio.\n",
    "\n",
    "[^2]: A helper function can be developed for this, where the user can just type out the name of the company and the ticker is identifed."
   ]
  },
  {
   "cell_type": "code",
   "execution_count": null,
   "metadata": {},
   "outputs": [],
   "source": [
    "import pandas as pd\n",
    "import plotly as plt\n",
    "import seaborn as sns\n",
    "import numpy as np\n",
    "import datetime as dt\n",
    "from sklearn.linear_model import LinearRegression\n",
    "from sklearn import preprocessing\n",
    "import plotly.graph_objects as go\n",
    "import plotly.express as px\n",
    "import plotly.figure_factory as ff\n",
    "from IPython.display import display, HTML, Markdown, Latex\n",
    "from tqdm import tqdm, trange\n",
    "from typing import *\n",
    "from dataclasses import dataclass\n",
    "from scipy import stats\n",
    "import plotly.io as pio\n",
    "import sys\n",
    "sys.path.append('..')\n",
    "from analysis.code import project_functions1 as pf\n",
    "#import plotly.offline as pyo\n",
    "\n",
    "#pio.renderers.default = \"svg\""
   ]
  },
  {
   "cell_type": "code",
   "execution_count": null,
   "metadata": {},
   "outputs": [],
   "source": [
    "@dataclass\n",
    "class ValueRange:\n",
    "    min: float\n",
    "    max: float\n",
    "    \n",
    "    def validate(self, x):\n",
    "        \"\"\"Checks if inputs to variables that must lie within a specific range are valid\n",
    "        \n",
    "        :x: the value that must be checked as satisfying the specified range\n",
    "        :raises ValueError: if the value does not lie within the specified range\n",
    "        \"\"\"\n",
    "        if not (self.min <= x <= self.max):\n",
    "            raise ValueError(f'{x} must be between 0 and 1 (including).')"
   ]
  },
  {
   "attachments": {},
   "cell_type": "markdown",
   "metadata": {},
   "source": [
    "# Data Loading"
   ]
  },
  {
   "cell_type": "code",
   "execution_count": null,
   "metadata": {},
   "outputs": [],
   "source": [
    "equities = pf.EquityData()\n",
    "overview_df = equities.load_and_process(\"overview\", exclude_columns=['Change %', 'Change', 'Technical Rating', 'Volume', 'Volume*Price'])\n",
    "income_statement_df = equities.load_and_process(\"income_statement\")\n",
    "balance_sheet_df = equities.load_and_process(\"balance_sheet\")\n",
    "dividends_df = equities.load_and_process(\"dividends\", exclude_columns=['Price'])\n",
    "margins_df = equities.load_and_process(\"margins\")\n",
    "performance_df = equities.load_and_process(\"performance\", exclude_columns=['Change 1m, %', 'Change 5m, %', 'Change 15m, %', 'Change 1h, %', 'Change 4h, %', 'Change 1W, %', 'Change 1M, %', 'Change %'])\n",
    "valuation_df = equities.load_and_process(\"valuation\", exclude_columns=['Price', 'Market Capitalization', 'Price to Earnings Ratio (TTM)', 'Basic EPS (TTM)', 'EPS Diluted (FY)'])"
   ]
  },
  {
   "attachments": {},
   "cell_type": "markdown",
   "metadata": {},
   "source": [
    "### Analysis-Specific Data Wrangling"
   ]
  },
  {
   "cell_type": "code",
   "execution_count": null,
   "metadata": {},
   "outputs": [],
   "source": [
    "dfs = [\n",
    "    overview_df,\n",
    "    income_statement_df,\n",
    "    balance_sheet_df,\n",
    "    dividends_df,\n",
    "    margins_df,\n",
    "    performance_df,\n",
    "    valuation_df\n",
    "    ]\n",
    "\n",
    "dfs_names = [\n",
    "    \"Overview Data\",\n",
    "    \"Balance Sheet Data\",\n",
    "    \"Dividends Data\",\n",
    "    \"Income Statement Data\",\n",
    "    \"Margins Data\",\n",
    "    \"Performance Data\",\n",
    "    \"Valuation Data\"\n",
    "    ]\n",
    "\n",
    "overview_df['3-Month Performance'] = performance_df['3-Month Performance']\n",
    "income_statement_df['3-Month Performance'] = performance_df['3-Month Performance']\n",
    "balance_sheet_df['3-Month Performance'] = performance_df['3-Month Performance']\n",
    "dividends_df['3-Month Performance'] = performance_df['3-Month Performance']\n",
    "margins_df['3-Month Performance'] = performance_df['3-Month Performance']\n",
    "valuation_df['3-Month Performance'] = performance_df['3-Month Performance']\n",
    "\n",
    "mega_df = pd.concat(dfs, axis=1)\n",
    "mega_df = mega_df.loc[:,~mega_df.columns.duplicated()].copy()\n",
    "mega_df = mega_df.dropna()\n",
    "mega_df_no_strings = mega_df.select_dtypes(exclude='object')\n",
    "\n",
    "mega_df['6-Month Performance'] = performance_df['6-Month Performance']\n",
    "mega_df['YTD Performance'] = performance_df['YTD Performance']\n",
    "mega_df['Yearly Performance'] = performance_df['Yearly Performance']"
   ]
  },
  {
   "attachments": {},
   "cell_type": "markdown",
   "metadata": {},
   "source": [
    "# Functional Classes"
   ]
  },
  {
   "cell_type": "code",
   "execution_count": null,
   "metadata": {},
   "outputs": [],
   "source": [
    "class QuantitativeAnalysis:\n",
    "    def __init__(self, number_of_companies: int=500, initial_capital: float=100000.00, capital_per_period: float=100.00, period: int=7, dividends_importance: bool=False, preferred_industries: list=[\"Technology Services, Electronic Technology\"],\n",
    "                volatility_tolerance: Annotated[float, ValueRange(0.0, 1.0)]=0.7, preferred_companies: list=[\"Apple, Google, Microsoft, Amazon\"], diversification: Annotated[float, ValueRange(0.0, 1.0)]=0.4, investment_strategy: str=\"Growth\"):\n",
    "        \"\"\"Includes several analysis functions that process select data across all data sets\n",
    "\n",
    "        :number_of_companies: the number of companies included in the sample, with the default being those from the S&P500 Index\n",
    "        :initial_capital: the initial amount of cash to be invested by the client, in USD\\n\n",
    "        :capital_per_period: the amount of cash to be invested by the client at a fixed rate in addition to the initial capital invested, in USD\\n\n",
    "        :period: the frequency (in days) at which additional cash is invested, if desired\\n\n",
    "        :dividends_importance: specifies whether dividends are important to the client, dictating whether analysis algorithms should place greater importance on dividends\\n\n",
    "        :preferred_industries: specifies a list of industries that the analysis algorithms should prioritize when constructing the investment portfolio\\n\n",
    "        :volatility_tolerance: accepts a range of values from 0 to 1, with 1 implying maximum volatility tolerance (i.e. the client is willing to lose 100% of their investment to take on more risk)\\n\n",
    "        :preferred_companies: specifies a list of companies that the analysis algorithms will accomodate in the final portfolio irrespective of their score\\n\n",
    "        :diversification: accepts a range of values from 0 to 1, with 1 implying maximum diversification (i.e. funds will be distributed evenly across all industries and equally among all companies)\\n\n",
    "        :investment_strategy: specifies the investment strategy that will guide the output of the analysis algorithms, in which this analysis notebook strictly focuses on growth investing\\n\n",
    "        :raises: ValueError if an input parameter does not satisfy its accepted range\n",
    "        \"\"\"\n",
    "        \n",
    "        self.number_of_companies = number_of_companies\n",
    "        self.initial_capital = initial_capital\n",
    "        self.capital_per_period = capital_per_period\n",
    "        self.period = period\n",
    "        self.dividends_importance = dividends_importance\n",
    "        self.preferred_industries = preferred_industries\n",
    "        self.volatility_tolerance = volatility_tolerance\n",
    "        self.preferred_companies = preferred_companies\n",
    "        self.diversification = diversification\n",
    "        self.preferred_companies = preferred_industries\n",
    "        self.investment_strategy = investment_strategy\n",
    "        \n",
    "    def lin_reg_coef_determination(self, df: pd.DataFrame, X: str, y: str='3-Month Performance', filter_outliers: bool=True):\n",
    "        if filter_outliers:\n",
    "            df = self.outlier_filtered_df(df, col=y)\n",
    "        \n",
    "        X = df[X]\n",
    "        y = df[y]\n",
    "        \n",
    "        y = y.dropna()\n",
    "        X = X.dropna()\n",
    "        \n",
    "        if len(X) > len(y):\n",
    "            X = X[:len(y)]\n",
    "        else:\n",
    "            y = y[:len(X)]\n",
    "        \n",
    "        self.X = np.array(X).reshape(-1, 1)\n",
    "        self.y = np.array(y).reshape(-1, 1)\n",
    "        \n",
    "        model = LinearRegression()\n",
    "        model.fit(self.X, self.y)\n",
    "         \n",
    "        return model.score(self.X, self.y)\n",
    "\n",
    "    def get_lin_reg_coefs(self, df: pd.DataFrame, x_values: list(), y_value: str='3-Month Performance') -> pd.DataFrame:\n",
    "        \"\"\"Returns a Pandas DataFrame with the coefficients of determination for each y-on-x regression\n",
    "        Example: 3-Month Performance against Price to Earnings Ratio (TTM)\n",
    "        \n",
    "        :df: the data frame that contains the columns to process\n",
    "        :x_values: a list of strings of the names of each column to process\\n\n",
    "        :y_value: a common y-value to map each x value against in the regression analysis\\n\n",
    "        :returns: A Pandas DataFrame with the coefficients of determination for each y-on-x regression\\n\n",
    "        \n",
    "        \"\"\"\n",
    "        self.coef_dict = dict.fromkeys(x_values, 0) # initialize a dict with all the columns assigned to a value of 0\n",
    "        \n",
    "        for predictor in tqdm(x_values, desc=\"Constructing linear regression models\", total=len(x_values)):\n",
    "            self.coef_dict[predictor] = self.lin_reg_coef_determination(df, X=predictor, y=y_value)\n",
    "        \n",
    "        self.processed_df = pd.DataFrame(list(zip(self.coef_dict.keys(), self.coef_dict.values())), columns=[f'Equity Data Against {y_value}', 'Coefficient of Determination'])\n",
    "        \n",
    "        return self.processed_df\n",
    "        \n",
    "    def fourier_transform(self):\n",
    "        pass\n",
    "    \n",
    "    def rank(self, df: pd.DataFrame, col: str, normalize_only: bool=True, threshold: float=1.5,\n",
    "             below_threshold: bool=True, filter_outliers: bool=True, normalize_after: bool=False,\n",
    "             lower_quantile: float=0.05, upper_quantile: float=0.95):\n",
    "        \"\"\"The scoring algorithm for determining the weight of each equity in the construction of the portfolio for this specific column examined.\n",
    "        Features a custom outlier-filtering algorithm that is robust to outliers in the data set while still returning normalized values.\n",
    "        \n",
    "        :df: The original dataframe\\n\n",
    "        :col: The name of the column being extracted from the dataframe provided\\n\n",
    "        :normalize_only: if True, does not apply a threshold to the screening algorithm, and only normalizes values with a minmax scaler\\n\n",
    "        :threshold: the minimum value that equities must have for that column in order to be considered for further analysis\\n\n",
    "        :below_threshold: if True, removes equities that are below the threshold for that column\\n\n",
    "        :filter_outliers: if True, does not consider equities in the data normalization algorithm, but assigns a min or max value to all outliers depending on the below_threshold parameter\\n\n",
    "        :normalize_after: if True, normalizes the data only after the threshold filter has been applied\\n\n",
    "        :lower_quantile: specifies the lower quantile of the distribution when filtering outliers\\n\n",
    "        :upper_quantile: specifies the upper quantile of the distribution when filtering outliers\\n\n",
    "        \"\"\"\n",
    "        \n",
    "        #NOTE: should make an option for no threshold\n",
    "        self.x = df[col]\n",
    "        new_col = col + \" Score\"\n",
    "        \n",
    "        # normalization can be done either before or after equities have been filtered by the threshold\n",
    "        # the difference is that by filtering initially, the min and max values of that smaller set will become 0 and 1 respectively\n",
    "        df[new_col] = np.NaN # initialize the score column with only NaN values\n",
    "        \n",
    "        def outlier_filter(self):\n",
    "            \"\"\"Nested helper function to filter outliers\"\"\"\n",
    "            upper_fence = self.x.quantile(upper_quantile)\n",
    "            lower_fence = self.x.quantile(lower_quantile)\n",
    "            \n",
    "            if below_threshold:\n",
    "                df.loc[self.x > upper_fence, new_col] = 1 # outliers still need to be included in the data (max score assigned)\n",
    "                df.loc[self.x < lower_fence, new_col] = 0 # lowest score assigned\n",
    "            else:\n",
    "                # inverse of the above\n",
    "                df.loc[self.x > upper_fence, new_col] = 0\n",
    "                df.loc[self.x < lower_fence, new_col] = 1\n",
    "\n",
    "            # now only take the rows that are not outliers into the minmax scaler\n",
    "            self.x = self.x[(self.x <= upper_fence) & (self.x >= lower_fence)]\n",
    "            \n",
    "            if normalize_only:\n",
    "                normalize_after = False\n",
    "                \n",
    "            if normalize_after:\n",
    "                if below_threshold:\n",
    "                    # since we are only taking valid values, we consider the inverse of the values that are below the threshold to be valid values\n",
    "                    self.x = self.x[self.x >= threshold]\n",
    "                else:\n",
    "                    self.x = self.x[self.x <= threshold]\n",
    "        \n",
    "        if filter_outliers:\n",
    "            outlier_filter(self)\n",
    "        \n",
    "        self.y = np.array(self.x).reshape(-1, 1)\n",
    "        self.y = preprocessing.MinMaxScaler().fit_transform(self.y)\n",
    " \n",
    "        for col_idx, array_idx in zip(self.x.index, range(len(self.y))):\n",
    "            df.at[col_idx, new_col] = self.y[array_idx]\n",
    "        \n",
    "        # if we are giving the minimum score to values below the threshold, assign 0 to those values\n",
    "        if not normalize_only:\n",
    "            if below_threshold:\n",
    "                df.loc[df[col] <= threshold, new_col] = 0\n",
    "            else:\n",
    "                df.loc[df[col] >= threshold, new_col] = 0\n",
    "    \n",
    "    def outlier_filtered_df(self, df: pd.DataFrame, col: str, lower_quantile: float=0.05, upper_quantile: float=0.95):\n",
    "        upper_fence = df[col].quantile(upper_quantile)\n",
    "        lower_fence = df[col].quantile(lower_quantile)\n",
    "\n",
    "        df = df[(df[col] <= upper_fence) & (df[col] >= lower_fence)]\n",
    "        \n",
    "        return df"
   ]
  },
  {
   "cell_type": "code",
   "execution_count": null,
   "metadata": {},
   "outputs": [],
   "source": [
    "class DataVisualization(QuantitativeAnalysis):\n",
    "    def __init__(self):\n",
    "        QuantitativeAnalysis.__init__(self)\n",
    "\n",
    "    def score_distribution_plot(self, df: pd.DataFrame, data_name: str):\n",
    "        df = df.select_dtypes(exclude='object')[:self.number_of_companies]\n",
    "        self.n = len(df)\n",
    "        \n",
    "        for column in df.columns:\n",
    "            self.rank(df, col=column, upper_quantile=0.99, lower_quantile=0.01)\n",
    "            \n",
    "        self.score_data_length = len(df.axes[1])\n",
    "        self.input_df = df.T[int(self.score_data_length/2 + 1):].T\n",
    "        self.hist_data = [self.input_df[x] for x in self.input_df.columns]\n",
    "        \n",
    "        self.group_labels = [x for x in self.input_df.columns]\n",
    "        self.colors = ['#333F44', '#37AA9C', '#94F3E4']\n",
    "\n",
    "        self.fig = ff.create_distplot(self.hist_data, self.group_labels, show_hist=False, colors=self.colors)\n",
    "        self.fig.update_layout(title_text=f'Distribution for Normalized {data_name} of {self.n} Companies in the S&P500', template='plotly_dark')\n",
    "        \n",
    "        self.fig.update_xaxes(title=\"Score (0 = low, 1 = high)\")\n",
    "        self.fig.update_yaxes(title=\"Count\")\n",
    "        \n",
    "        return self.fig\n",
    "\n",
    "    def heatmap_plot(self, df: pd.DataFrame, data_name: str, number_of_companies: int):\n",
    "        df = df[:number_of_companies]\n",
    "        self.z = []\n",
    "        self.tickers = df['Ticker']\n",
    "        df.index = df['Ticker']\n",
    "        df = df.select_dtypes(exclude='object')\n",
    "        for column in df.columns:\n",
    "            self.rank(df, col=column)\n",
    "\n",
    "        self.score_data_length = len(df.axes[1])\n",
    "        self.input_df = df.T[int(self.score_data_length/2 + 1):].T\n",
    "        for column in self.input_df.columns:\n",
    "            self.z.append(self.input_df[column].round(3))\n",
    "        \n",
    "        # add text_auto=True as a parameter back to this function once latest Plotly update is installed\n",
    "        self.title = f'Heat Map of Normalized {data_name} for the Top {number_of_companies} Companies by Market Capitalization in the S&P500 Index'\n",
    "        \n",
    "        fig = px.imshow(\n",
    "            self.z, text_auto=True, template='plotly_dark', title=self.title, x=[x for x in self.tickers], y=[x for x in df.columns[int(self.score_data_length/2 + 1):]]\n",
    "                )\n",
    "        \n",
    "        return fig\n",
    "\n",
    "    def scatter_3d(self, df, x, y, z):\n",
    "        df.index = df['Ticker']\n",
    "        df = df.select_dtypes(exclude='object')\n",
    "        \n",
    "        for column in df.columns:\n",
    "            self.rank(df, col=column)\n",
    "            \n",
    "        fig = px.scatter_3d(df, x=x, y=y, z=z,\n",
    "                    title='3D Scatter Plot of Normalized Equity Data',\n",
    "                    template='plotly_dark',\n",
    "                    size_max=18,\n",
    "                    color='3-Month Performance Score',\n",
    "                    opacity=0.7)\n",
    "\n",
    "        return fig"
   ]
  },
  {
   "cell_type": "code",
   "execution_count": null,
   "metadata": {},
   "outputs": [],
   "source": [
    "class PortfolioConstruction(DataVisualization):\n",
    "    def __init__(self):\n",
    "        DataVisualization.__init__(self)\n",
    "    \n",
    "    def asset_allocation(self):\n",
    "        pass\n",
    "    \n",
    "    def construct_portfolio(self):\n",
    "        pass"
   ]
  },
  {
   "attachments": {},
   "cell_type": "markdown",
   "metadata": {},
   "source": [
    "# Experimental Feature Development Zone"
   ]
  },
  {
   "cell_type": "code",
   "execution_count": null,
   "metadata": {},
   "outputs": [],
   "source": [
    "quant = QuantitativeAnalysis()\n",
    "viz = DataVisualization()"
   ]
  },
  {
   "cell_type": "code",
   "execution_count": null,
   "metadata": {},
   "outputs": [
    {
     "name": "stderr",
     "output_type": "stream",
     "text": [
      "Constructing linear regression models: 100%|██████████| 35/35 [00:00<00:00, 307.46it/s]\n",
      "Constructing linear regression models: 100%|██████████| 35/35 [00:00<00:00, 601.57it/s]\n"
     ]
    }
   ],
   "source": [
    "config = {\n",
    "  'toImageButtonOptions': {\n",
    "    'format': 'png',\n",
    "    'filename': 'custom_image',\n",
    "    'height': 800,\n",
    "    'width': 2000,\n",
    "    'scale': 2\n",
    "  }\n",
    "}\n",
    "\n",
    "all_columns = list(mega_df_no_strings.columns)\n",
    "all_columns.remove('Price')\n",
    "all_columns.remove('3-Month Performance')\n",
    "all_columns.remove('6-Month Performance')\n",
    "all_columns.remove('YTD Performance')\n",
    "all_columns.remove('Yearly Performance')\n",
    "all_columns.remove('1-Year Beta')\n",
    "y_value='3-Month Performance'\n",
    "\n",
    "y_values=['3-Month Performance', 'YTD Performance']\n",
    "for y_value in y_values:\n",
    "    df = quant.get_lin_reg_coefs(mega_df, x_values=all_columns, y_value=y_value)\n",
    "    fig = px.bar(df, x=f'Equity Data Against {y_value}', y='Coefficient of Determination')\n",
    "    fig.update_layout(title_text=f'Coefficients of Determination for Equity Data Against {y_value}', template='plotly_dark')\n",
    "    #fig.show(config=config)\n",
    "\n",
    "#z = quant.lin_reg_coef_determination(overview_df, x='Price to Earnings Ratio (TTM)')\n",
    "#fig = px.scatter(quant.outlier_filtered_df(overview_df, col=\"Price to Earnings Ratio (TTM)\"), x=\"Price to Earnings Ratio (TTM)\", y=\"3-Month Performance\", trendline=\"ols\")\n",
    "#fig.show()\n",
    "\n",
    "#overview_df"
   ]
  },
  {
   "attachments": {},
   "cell_type": "markdown",
   "metadata": {},
   "source": [
    "![img1](../images/img_1.png)\n",
    "![img1](../images/img_2.png)"
   ]
  },
  {
   "attachments": {},
   "cell_type": "markdown",
   "metadata": {},
   "source": [
    "As anticipated, the coefficients of determination are extremely low and no correlation is evident. Therefore, the next step is to construct a multiple linear regression model that will only select the predictors that have the highest correlation from the tests conducted above. The goal of this analysis is to normalize the coefficients of determination and use that as a multiplier to the default ranked scores applied to each equity data column."
   ]
  },
  {
   "attachments": {},
   "cell_type": "markdown",
   "metadata": {},
   "source": [
    "# Analysis Zone\n",
    "## Note: to view the interactive graphs plotted, run this analysis notebook in a Jupyter Notebook environment"
   ]
  },
  {
   "cell_type": "code",
   "execution_count": null,
   "metadata": {},
   "outputs": [],
   "source": [
    "#for df, name in zip(dfs, dfs_names):\n",
    "    #df.dropna(inplace=True)\n",
    "    #viz.score_distribution_plot(df, name).show(config=config)"
   ]
  },
  {
   "attachments": {},
   "cell_type": "markdown",
   "metadata": {},
   "source": [
    "![img3](../images/img_3.png)\n",
    "![img4](../images/img_4.png)\n",
    "![img5](../images/img_5.png)\n",
    "![img6](../images/img_6.png)\n",
    "![img7](../images/img_7.png)\n",
    "![img8](../images/img_8.png)\n",
    "![img9](../images/img_9.png)"
   ]
  },
  {
   "attachments": {},
   "cell_type": "markdown",
   "metadata": {},
   "source": [
    "These plots reveal a number of things. First, they indicate that there are cases where most companies perform either reasonably well or generally bad for certian financial ratios, as represented by the width of the distribution plot for each ratio. The smaller it is, the more likely that most companies perform similarly. Secondly, most graphs have cases where outliers exist for each category, in which these companies may perform exceptionally well compared to others for a certain financial ratio--being a potentially strong pick.\n",
    "\n",
    "The next step is to investigate if a correlation exists between cases where most companies score low for a certain ratio, and outliers of that segment performing exceptionally well."
   ]
  },
  {
   "cell_type": "code",
   "execution_count": null,
   "metadata": {},
   "outputs": [],
   "source": [
    "#viz.heatmap_plot(mega_df, f'Complete Equity Data ({len(mega_df.columns)} Data Points)', 50)\n",
    "\n",
    "#for df, names in zip(dfs, dfs_names):\n",
    "    #viz.heatmap_plot(df, names, 50).show(config=config)"
   ]
  },
  {
   "attachments": {},
   "cell_type": "markdown",
   "metadata": {},
   "source": [
    "![img10](../images/img_10.png)\n",
    "![img11](../images/img_11.png)\n",
    "![img12](../images/img_12.png)\n",
    "![img13](../images/img_13.png)\n",
    "![img14](../images/img_14.png)\n",
    "![img15](../images/img_15.png)\n",
    "![img16](../images/img_16.png)\n",
    "![img18](../images/img_18.png)"
   ]
  },
  {
   "attachments": {},
   "cell_type": "markdown",
   "metadata": {},
   "source": [
    "These heat plots reveal that for certain categories of data, particularly valuation, income statement and balance sheet data, the top companies by market capitalization tend to have the highest scores in those categories. Although this may indicate that such companies with the highest aggregated normalized scores are the best pick for an investment portfolio, this assumption must be validated against their past 3-month performance to see if these scores did indeed dictate a positive change in the price of an equity--indicating a positive return on investment. A multiple linear regression can be used, but first, a 3D plot can be used to closely analyze the correlation of two of the most important pieces of equity data when picking stocks with the corresponding change in the price of such stocks."
   ]
  },
  {
   "cell_type": "code",
   "execution_count": null,
   "metadata": {},
   "outputs": [
    {
     "data": {
      "application/vnd.plotly.v1+json": {
       "config": {
        "plotlyServerURL": "https://plot.ly",
        "toImageButtonOptions": {
         "filename": "custom_image",
         "format": "png",
         "height": 800,
         "scale": 2,
         "width": 2000
        }
       },
       "data": [
        {
         "hovertemplate": "Price to Earnings Ratio (TTM) Score=%{x}<br>Free Cash Flow Margin (FY) Score=%{y}<br>3-Month Performance Score=%{marker.color}<extra></extra>",
         "legendgroup": "",
         "marker": {
          "color": [
           0.084255072471876,
           0.3846632334360841,
           0.5504737419166106,
           1,
           0.3206109297818549,
           0.27700341521736227,
           0.251155603199685,
           0.41745233507303936,
           0.41566679613088936,
           0.4366947474474645,
           0.3194665390572421,
           0.27392838808573156,
           0.044687459166913884,
           0.8854748527306782,
           0.5896823917446785,
           0.12314505711529003,
           0.29009633827283476,
           0.5392483917236203,
           0.2649964553577698,
           0.44703591759333505,
           1,
           0.17377621228269996,
           0.5082365522607999,
           0.6273007505890689,
           0.47691828005995496,
           0.11991421139835562,
           0.41895572827306604,
           0.12198036098336518,
           0.5575629032379152,
           0.30970000648919344,
           0.8160916474999049,
           0.11388489040836075,
           0.44400092244213585,
           0.9092985601084635,
           0.345071708429194,
           0.6279498366080358,
           0.15251004625505973,
           0.18738365776639018,
           0.21348812919225307,
           0.07888153936974046,
           0.14328265539988683,
           0.46605296126222606,
           1,
           0.7279464948622818,
           0.8147437977586389,
           0.4346451025167789,
           0.7307934020229504,
           0.18184164999086855,
           0.5226969218136678,
           0.3282725046969083,
           0.1672377904600596,
           0.5269738627535238,
           0.35974155238681593,
           0.4407824256331633,
           0.4780604240958769,
           0.9360817126216792,
           0.6133054626904493,
           0,
           0.7167942105327808,
           0.44894233244717285,
           0.1923975943334698,
           0.6513214258668889,
           0.3907682564292293,
           0,
           1,
           0.7423134033943306,
           1,
           0.32936386144148,
           0.822454190806913,
           0,
           0.4367179822846746,
           0.22823022004445137,
           0.39403683134414325,
           0.012697874729140024,
           0.060720794744656525,
           0.15847177132461748,
           0.04943264304512909,
           0.4659295106469012,
           0.2778445766919387,
           0.4257065055828788,
           0.0022366706122252666,
           0.43694673050576177,
           0.7310579783977402,
           0.8070950918208473,
           0.6573260135149113,
           0.19080089744226839,
           0.12211433104869876,
           0.5266938533823611,
           0.1507370525490356,
           0.3367905661691989,
           0,
           0.30445052260294825,
           0.30808877917694755,
           0.8958428543923016,
           0.059344156349599886,
           0.822320083445421,
           0.48802347154006076,
           0.19428190877963863,
           0.916353753986257,
           0,
           0.5115853973479274,
           0.4490220975084229,
           0.3232633539961078,
           0,
           0.5436025136721291,
           0.33141122923257577,
           0.09763287437120574,
           0.10501621514908044,
           0.4148848539084175,
           0.8671676248577127,
           0.11173328732049365,
           0.5082930672593905,
           0.9103057214531065,
           0.7217467644983674,
           0.2292070106241258,
           0.29059317941331,
           0.3250790879427747,
           1,
           0.4270937919093685,
           0.5056621021141374,
           0.6554955458740941,
           0.40136676765604007,
           0.2623202209445853,
           0.49117114516753774,
           0.8479870099114999,
           0.5051235760970686,
           0.16440552724352364,
           0.10052705708666296,
           0.13824198027243007,
           0.6065261125542698,
           0.8709999535581054,
           0.5149178972472805,
           0.6164208936240141,
           0.18136498631050726,
           1,
           0.3464641879695141,
           0.22842527648279648,
           0.36572141604182623,
           0.45274460931569616,
           0.376453732525158,
           0.4258620867045936,
           0.23307188946566448,
           0.9896757538760965,
           1,
           0.5783316148332918,
           0.5987839984840624,
           0.6147924407190568,
           1,
           0.04758118485177429,
           0.19628938589315836,
           0.5043848744181664,
           0.528881376777967,
           0.1155157222230174,
           0.33167816688759716,
           0.3538000654120568,
           0.0014740593683001957,
           0.18320875885724433,
           0.10804075228629506,
           0.45849397195313973,
           0.5123913866986936,
           0.6255121761731008,
           0.2958006725784067,
           0.5762943845204025,
           0.35545157071594385,
           0.39501650140355704,
           1,
           0.5909709466408188,
           0.596115112086476,
           0.4235794793086791,
           0.5076334815567878,
           0.15009804631183515,
           0.5095120787131291,
           0,
           0.6597550579481328,
           0.7350930996674809,
           0.9425155372092322,
           0.39455898038697296,
           0.5678869837516669,
           0.5376591106947568,
           1,
           0.1514216090571996,
           0.5446956176038042,
           0.5951580996327588,
           0.7008748294308257,
           0.340633863871029,
           0.6080287164349432,
           0.2676186848346189,
           0.32154024901280287,
           0.40561753791807237,
           0,
           0.3198138109916327,
           0.22242073477823554,
           1,
           0.9354585670290019,
           0.7149640698384572,
           0,
           0,
           0.29331123225966227,
           0.9157648253207717,
           0.48705683259558974,
           0.46239564910333597,
           0.6081919655738078,
           0.3238446643274888,
           0,
           0.5339952788381415,
           0.5079631272287444,
           0.38217016064563514,
           0,
           0.3134568193643002,
           0.2466333642422957,
           0.24430894455681593,
           0.5013167559010048,
           0.40051028937931044,
           0,
           0.5366165739531976,
           0.8676985918397959,
           0.5090321776214097,
           0.6594752705479965,
           0.8525609219074395,
           0.2970408369894771,
           0.8921639584225713,
           0.22997301794461913,
           0.7510557068888957,
           0.16172984281631161,
           0.6725426241973422,
           0.31063395826347334,
           0.12313412363990137,
           0.811463779182223,
           1,
           0.41362033625738487,
           0.3544784879338818
          ],
          "coloraxis": "coloraxis",
          "opacity": 0.7,
          "symbol": "circle"
         },
         "mode": "markers",
         "name": "",
         "scene": "scene",
         "showlegend": false,
         "type": "scatter3d",
         "x": [
          0.3947805548762924,
          0.4758079384230218,
          0.5956015233411028,
          1,
          0.07535193508200541,
          0.84368216792165,
          1,
          0.41180732953594323,
          0.28834323213540336,
          0.25413753001981243,
          0.4520937840751166,
          0.2974074501507282,
          0.05361118156976788,
          0.3645989499838056,
          0.48010655202146313,
          0.40243178012144276,
          0.7060639525637671,
          0.5786735176438067,
          0.6241127678913662,
          0.2542469931575645,
          0.6614080750140632,
          0.4227138397357544,
          0.04502939625091848,
          0.27505755834705903,
          0.8143279471177632,
          0.38810218006715247,
          0.1822138721174221,
          0.06332260323523223,
          0.12621978961696692,
          0.4544890947005801,
          0.2913448258198523,
          0.3158241240674017,
          0.2628546675038681,
          0.7157323042256143,
          0.30509841991420994,
          0.5557591152923989,
          0.33439551557548963,
          1,
          0.1858531218209075,
          0.688399450047017,
          0.43347524277846805,
          0.5655263930348178,
          0.8616261264518106,
          0.7392075646220367,
          0.20111158449921432,
          0.5019038200527752,
          0.5819985203364395,
          0.2456032829880034,
          0.31817171064052796,
          0.3762003651887914,
          0.10095194192380957,
          0.6997584223680088,
          0.34267901361258457,
          0.7941637191144135,
          0.4480392830447202,
          0.5544279623823599,
          0.12298134429749061,
          0.17378901880928613,
          0.1538495824609283,
          0.49384671482209264,
          0.4925253702315865,
          0,
          0.6602214283335242,
          0,
          0.36236213505890946,
          0.7084655919903311,
          0.26551008524369524,
          0.12058873927856992,
          0.22958916101757906,
          0.05202054450917837,
          0.45398615642410467,
          0.4599916177100829,
          0.23155602194520156,
          0.3634190212639332,
          0.37349318768411477,
          0,
          0.009751053358372203,
          0.3684745325898049,
          0,
          0.7571717982333829,
          0.46620723617995685,
          0.2935116072278078,
          0.5577376710599656,
          0.26627407907325074,
          0.19768471697630677,
          0.22646515130788922,
          0.497396835305707,
          0.688658818507436,
          0.6236868710890944,
          0.6518117643683913,
          0.950627021727055,
          0.7231293732364052,
          0.6915623305390924,
          0.7994939618890858,
          1,
          0.3899274580896275,
          0.29212777916852617,
          0.4840239937410361,
          0.5067323695971495,
          0.019221362245811835,
          0.6008946353129678,
          0.973247897721074,
          0.08643444963707175,
          0.6801310058301998,
          0.43152929510083293,
          0.2626219547108415,
          0.4757751013768108,
          0.4635525837578951,
          0.6962383416534059,
          1,
          0.2915433633072986,
          0.10006473215438927,
          0.3140853276135016,
          0.49764214135518514,
          0,
          0.2762781652597147,
          0.0709982639990604,
          0.2962286712805823,
          0.31806577924703905,
          0.30659167937909315,
          0.4831072869545927,
          0.19017016849327814,
          0.7674005304154541,
          0.5164582470200022,
          0,
          0.5505029591557897,
          0.3385177394052661,
          0.1785825843189702,
          0.6614481822485021,
          0.24655421378006334,
          0.031132703820871188,
          0.8487420338240727,
          0.2850242023589904,
          1,
          0.1891777582716381,
          0.33634435947293206,
          0.31580335228991796,
          0.2404850836972762,
          0.311563389621647,
          0.08153502104616692,
          0.3455899209981731,
          0.48423258282783455,
          0.1764965759979564,
          0.7037343028089964,
          1,
          0.42767554245138706,
          0.6706152774378432,
          0.5495196602481852,
          0.0032887912407374154,
          0.41145966063771944,
          0.7519735783924744,
          0.2817855584932121,
          0.30695354356663773,
          0.30082190731777314,
          0.6392078765446676,
          0.2104748663525289,
          0.31455230719347393,
          0.027182711746251226,
          0.3485988838134575,
          0.6675662095917413,
          0.1668774607339182,
          0.25662298926047733,
          0.5568293710897473,
          0.4346010428403213,
          0.9957705878310009,
          0.014614623737916665,
          0.4150510538512122,
          0.3687722429634367,
          1,
          0.264725651722424,
          0.5177791403088142,
          0.4552114083506321,
          0,
          0.5809675707570954,
          1,
          0.14835700395477017,
          0.1384204468693517,
          0.4979467631674561,
          0.3028981381699559,
          0.6097291462750645,
          1,
          0.1769537199334887,
          0.3264575775707924,
          0.2967109356203711,
          0.31877669025736466,
          0.2169339028089343,
          0.6156070284505029,
          0.43555296856751247,
          0.5637432813107609,
          0.9981587825217452,
          0.34501571473596304,
          0.8147224982848911,
          1,
          0.18206466203735508,
          0.169416328929803,
          0,
          1,
          0.5068317035680707,
          0.8455632989360092,
          0.11736393173216128,
          1,
          0.7418830754239092,
          0.18402071728632988,
          0,
          0.4335657400065992,
          0.31979661974568385,
          0.26841458714215316,
          0,
          0.48756440330519046,
          0.7219193862371003,
          0.2967200590543251,
          0.16968248145953532,
          0.4073329711688657,
          0.687270775801572,
          0.17677084644912813,
          0,
          0.28542849507591783,
          0.37024098757926627,
          0,
          0.37556626515385505,
          0.2978615544106902,
          0.0866192389500105,
          0.264956968961921,
          0,
          0.5302720537511247,
          0.26031136253634835,
          0.08659045392311124,
          0.18167914109098962,
          0.409123290057574,
          0.46676692189830515,
          0.3199476976153792
         ],
         "y": [
          0.831323675244506,
          0.9280219114857033,
          1,
          0.8724085907914194,
          0.5072138621642788,
          0.27754292762828564,
          0.6788849470325307,
          0.5927495572525041,
          0.4317551465590235,
          0.6523729557716282,
          0.8483488312165383,
          1,
          1,
          1,
          0.4860673634390493,
          0.42191228941332676,
          0.26931785580159645,
          0.6010541606095388,
          0.8800854066271739,
          0.7569993892319473,
          0.43600884105799953,
          0.5381744222487099,
          0.45290618042974207,
          0.989696240946506,
          0.6903662125144714,
          0.9276808603837141,
          0.4708537491523066,
          0.769937198268203,
          0.5620890434958219,
          0.5514604469955375,
          0.43184714285082215,
          0.9152334942771511,
          0.2733627884733168,
          0.5097857078130199,
          0.41738085558764154,
          1,
          0.4323432767455144,
          0.8555281322740546,
          0,
          0.35031399582823197,
          0.6337064780409611,
          1,
          0.4739155221868605,
          0.5735035783325422,
          0.6145577171087662,
          0.46947534762084214,
          0.8979890241296927,
          1,
          0.12112784754238787,
          0.33769034905190765,
          0.762375596708781,
          0.7064574086888994,
          0.09987339211978602,
          0.4220191426659037,
          0.5658774397660569,
          0.2773009970413555,
          0.4498232505344727,
          0.3211171273427217,
          0.5494849287020115,
          0.40704610016826814,
          0.5223919209608677,
          0.2877273179757565,
          0.794560211302064,
          0.8496946094005194,
          0.8909508586255538,
          0.8718153691095567,
          0.7968965589884913,
          0.5574706768984605,
          0.9239039762440747,
          0.5696249294909346,
          0.3877534185678391,
          0.2719478586281799,
          0.4930591125357609,
          0,
          0.3472241716115628,
          0.3843577028790399,
          0.12221405075006171,
          0.10690779211330165,
          0.3149797837965251,
          0.5970085681005475,
          0.6433548785977826,
          0.012086871995972914,
          0.3527702511123267,
          0.669795480598266,
          0.30590292725846546,
          0.5411379628246147,
          0.6089572737056923,
          0.5504766681167627,
          0.5262816480011965,
          0.5841910972283901,
          0.9174411354138167,
          0.47126118026236913,
          0.6472027443584942,
          0.6899908164302959,
          0.6371031880079816,
          0.9993613252689187,
          0,
          0.8630521294192371,
          0.36819365116251745,
          0.6792735516411781,
          0.5301615977970665,
          1,
          0.5022880686111794,
          0.5137584409937928,
          0.4396165111179178,
          0.4564999484734821,
          0.27622666690809516,
          0.5106947488150692,
          0.30806833775808706,
          0.5575844101693022,
          0.7736640384729764,
          0.43003716925187474,
          0.41243841213372634,
          0.5019920877392077,
          0.32135394624161884,
          0.3701448444509304,
          1,
          0.6708725150757383,
          0.2563257644750363,
          0.04919055325177099,
          0.4713666543141217,
          0.4887288798581138,
          0.3640297269247889,
          0.6349806120321764,
          0.262855384959786,
          0.42173871350845776,
          0,
          0.3006494554035608,
          0.6655006717377948,
          0.502263005311893,
          0.49131341512200355,
          0,
          0.4644514612749998,
          0.801382218996122,
          0.37111119748381693,
          0.18119984853526944,
          0.3470319917452317,
          0.39323264185027107,
          0,
          0.3612337738676821,
          0.06399566180026584,
          0.8882477741411391,
          0.30012150776089314,
          0.606725010984203,
          0.512109800867874,
          0.3060317894599902,
          0,
          0.4296416547566513,
          1,
          0.3813979061487157,
          0.4492490890420098,
          0.30602675812192137,
          0.3474606335631062,
          0.14091231846025945,
          0.6015746340228194,
          0.4071482382241272,
          0.6396035303919043,
          0.2684521331058702,
          0,
          0.46197278645784734,
          0.5825296372867265,
          0,
          0.34489602782474665,
          0.5145011451599939,
          0.2687190603142368,
          0.17836051638351597,
          0.34694984905139176,
          0.8236535780960672,
          0.6520358517038725,
          0.4880952749573617,
          0.36588025453888456,
          0.5914837022523585,
          0.7750436370506343,
          0.4825289388520251,
          0.6296962563434101,
          0.33907229376438247,
          0,
          0.49045140829660855,
          0.5343824430431628,
          0.45470911310015627,
          0.3703815180047353,
          0.16311243217249627,
          0.3045761589925715,
          0.24200389806913347,
          0.4251721608673297,
          0.47424477425419387,
          0.3888553998161157,
          0.36685756398350466,
          0.6116305138576139,
          0.5618954947353374,
          0.3813494433412854,
          0.39521039311557554,
          1,
          0.5954709655252074,
          0.4252280488948757,
          1,
          0.680494586716168,
          0.7810147838475694,
          0.5232243337586318,
          0.3428136552269425,
          0.4536946565209356,
          0.3426330823546463,
          0.5936769721038144,
          0.38979094011013515,
          0.5370470262226389,
          0,
          0,
          0.9958070437637092,
          0.4258873807183091,
          0.8480212620813073,
          0.46755216386718085,
          0.4094016996640359,
          0.285914257003056,
          1,
          0.4307850671387946,
          0.5468984006748749,
          0.4349456841972399,
          0.8105902068860027,
          0.280946051709983,
          0.965087202285859,
          0.34643097737888845,
          0.12268601192596026,
          0.5384085357516939,
          0.8645986239170488,
          0.3025555164115911,
          0.003138430265789499,
          0.564436105282049,
          0.623077423419677,
          0.46703460072118785,
          0.6117907335791763,
          0
         ],
         "z": [
          0.084255072471876,
          0.3846632334360841,
          0.5504737419166106,
          1,
          0.3206109297818549,
          0.27700341521736227,
          0.251155603199685,
          0.41745233507303936,
          0.41566679613088936,
          0.4366947474474645,
          0.3194665390572421,
          0.27392838808573156,
          0.044687459166913884,
          0.8854748527306782,
          0.5896823917446785,
          0.12314505711529003,
          0.29009633827283476,
          0.5392483917236203,
          0.2649964553577698,
          0.44703591759333505,
          1,
          0.17377621228269996,
          0.5082365522607999,
          0.6273007505890689,
          0.47691828005995496,
          0.11991421139835562,
          0.41895572827306604,
          0.12198036098336518,
          0.5575629032379152,
          0.30970000648919344,
          0.8160916474999049,
          0.11388489040836075,
          0.44400092244213585,
          0.9092985601084635,
          0.345071708429194,
          0.6279498366080358,
          0.15251004625505973,
          0.18738365776639018,
          0.21348812919225307,
          0.07888153936974046,
          0.14328265539988683,
          0.46605296126222606,
          1,
          0.7279464948622818,
          0.8147437977586389,
          0.4346451025167789,
          0.7307934020229504,
          0.18184164999086855,
          0.5226969218136678,
          0.3282725046969083,
          0.1672377904600596,
          0.5269738627535238,
          0.35974155238681593,
          0.4407824256331633,
          0.4780604240958769,
          0.9360817126216792,
          0.6133054626904493,
          0,
          0.7167942105327808,
          0.44894233244717285,
          0.1923975943334698,
          0.6513214258668889,
          0.3907682564292293,
          0,
          1,
          0.7423134033943306,
          1,
          0.32936386144148,
          0.822454190806913,
          0,
          0.4367179822846746,
          0.22823022004445137,
          0.39403683134414325,
          0.012697874729140024,
          0.060720794744656525,
          0.15847177132461748,
          0.04943264304512909,
          0.4659295106469012,
          0.2778445766919387,
          0.4257065055828788,
          0.0022366706122252666,
          0.43694673050576177,
          0.7310579783977402,
          0.8070950918208473,
          0.6573260135149113,
          0.19080089744226839,
          0.12211433104869876,
          0.5266938533823611,
          0.1507370525490356,
          0.3367905661691989,
          0,
          0.30445052260294825,
          0.30808877917694755,
          0.8958428543923016,
          0.059344156349599886,
          0.822320083445421,
          0.48802347154006076,
          0.19428190877963863,
          0.916353753986257,
          0,
          0.5115853973479274,
          0.4490220975084229,
          0.3232633539961078,
          0,
          0.5436025136721291,
          0.33141122923257577,
          0.09763287437120574,
          0.10501621514908044,
          0.4148848539084175,
          0.8671676248577127,
          0.11173328732049365,
          0.5082930672593905,
          0.9103057214531065,
          0.7217467644983674,
          0.2292070106241258,
          0.29059317941331,
          0.3250790879427747,
          1,
          0.4270937919093685,
          0.5056621021141374,
          0.6554955458740941,
          0.40136676765604007,
          0.2623202209445853,
          0.49117114516753774,
          0.8479870099114999,
          0.5051235760970686,
          0.16440552724352364,
          0.10052705708666296,
          0.13824198027243007,
          0.6065261125542698,
          0.8709999535581054,
          0.5149178972472805,
          0.6164208936240141,
          0.18136498631050726,
          1,
          0.3464641879695141,
          0.22842527648279648,
          0.36572141604182623,
          0.45274460931569616,
          0.376453732525158,
          0.4258620867045936,
          0.23307188946566448,
          0.9896757538760965,
          1,
          0.5783316148332918,
          0.5987839984840624,
          0.6147924407190568,
          1,
          0.04758118485177429,
          0.19628938589315836,
          0.5043848744181664,
          0.528881376777967,
          0.1155157222230174,
          0.33167816688759716,
          0.3538000654120568,
          0.0014740593683001957,
          0.18320875885724433,
          0.10804075228629506,
          0.45849397195313973,
          0.5123913866986936,
          0.6255121761731008,
          0.2958006725784067,
          0.5762943845204025,
          0.35545157071594385,
          0.39501650140355704,
          1,
          0.5909709466408188,
          0.596115112086476,
          0.4235794793086791,
          0.5076334815567878,
          0.15009804631183515,
          0.5095120787131291,
          0,
          0.6597550579481328,
          0.7350930996674809,
          0.9425155372092322,
          0.39455898038697296,
          0.5678869837516669,
          0.5376591106947568,
          1,
          0.1514216090571996,
          0.5446956176038042,
          0.5951580996327588,
          0.7008748294308257,
          0.340633863871029,
          0.6080287164349432,
          0.2676186848346189,
          0.32154024901280287,
          0.40561753791807237,
          0,
          0.3198138109916327,
          0.22242073477823554,
          1,
          0.9354585670290019,
          0.7149640698384572,
          0,
          0,
          0.29331123225966227,
          0.9157648253207717,
          0.48705683259558974,
          0.46239564910333597,
          0.6081919655738078,
          0.3238446643274888,
          0,
          0.5339952788381415,
          0.5079631272287444,
          0.38217016064563514,
          0,
          0.3134568193643002,
          0.2466333642422957,
          0.24430894455681593,
          0.5013167559010048,
          0.40051028937931044,
          0,
          0.5366165739531976,
          0.8676985918397959,
          0.5090321776214097,
          0.6594752705479965,
          0.8525609219074395,
          0.2970408369894771,
          0.8921639584225713,
          0.22997301794461913,
          0.7510557068888957,
          0.16172984281631161,
          0.6725426241973422,
          0.31063395826347334,
          0.12313412363990137,
          0.811463779182223,
          1,
          0.41362033625738487,
          0.3544784879338818
         ]
        }
       ],
       "layout": {
        "coloraxis": {
         "colorbar": {
          "title": {
           "text": "3-Month Performance Score"
          }
         },
         "colorscale": [
          [
           0,
           "#0d0887"
          ],
          [
           0.1111111111111111,
           "#46039f"
          ],
          [
           0.2222222222222222,
           "#7201a8"
          ],
          [
           0.3333333333333333,
           "#9c179e"
          ],
          [
           0.4444444444444444,
           "#bd3786"
          ],
          [
           0.5555555555555556,
           "#d8576b"
          ],
          [
           0.6666666666666666,
           "#ed7953"
          ],
          [
           0.7777777777777778,
           "#fb9f3a"
          ],
          [
           0.8888888888888888,
           "#fdca26"
          ],
          [
           1,
           "#f0f921"
          ]
         ]
        },
        "legend": {
         "tracegroupgap": 0
        },
        "scene": {
         "domain": {
          "x": [
           0,
           1
          ],
          "y": [
           0,
           1
          ]
         },
         "xaxis": {
          "title": {
           "text": "Price to Earnings Ratio (TTM) Score"
          }
         },
         "yaxis": {
          "title": {
           "text": "Free Cash Flow Margin (FY) Score"
          }
         },
         "zaxis": {
          "title": {
           "text": "3-Month Performance Score"
          }
         }
        },
        "template": {
         "data": {
          "bar": [
           {
            "error_x": {
             "color": "#f2f5fa"
            },
            "error_y": {
             "color": "#f2f5fa"
            },
            "marker": {
             "line": {
              "color": "rgb(17,17,17)",
              "width": 0.5
             },
             "pattern": {
              "fillmode": "overlay",
              "size": 10,
              "solidity": 0.2
             }
            },
            "type": "bar"
           }
          ],
          "barpolar": [
           {
            "marker": {
             "line": {
              "color": "rgb(17,17,17)",
              "width": 0.5
             },
             "pattern": {
              "fillmode": "overlay",
              "size": 10,
              "solidity": 0.2
             }
            },
            "type": "barpolar"
           }
          ],
          "carpet": [
           {
            "aaxis": {
             "endlinecolor": "#A2B1C6",
             "gridcolor": "#506784",
             "linecolor": "#506784",
             "minorgridcolor": "#506784",
             "startlinecolor": "#A2B1C6"
            },
            "baxis": {
             "endlinecolor": "#A2B1C6",
             "gridcolor": "#506784",
             "linecolor": "#506784",
             "minorgridcolor": "#506784",
             "startlinecolor": "#A2B1C6"
            },
            "type": "carpet"
           }
          ],
          "choropleth": [
           {
            "colorbar": {
             "outlinewidth": 0,
             "ticks": ""
            },
            "type": "choropleth"
           }
          ],
          "contour": [
           {
            "colorbar": {
             "outlinewidth": 0,
             "ticks": ""
            },
            "colorscale": [
             [
              0,
              "#0d0887"
             ],
             [
              0.1111111111111111,
              "#46039f"
             ],
             [
              0.2222222222222222,
              "#7201a8"
             ],
             [
              0.3333333333333333,
              "#9c179e"
             ],
             [
              0.4444444444444444,
              "#bd3786"
             ],
             [
              0.5555555555555556,
              "#d8576b"
             ],
             [
              0.6666666666666666,
              "#ed7953"
             ],
             [
              0.7777777777777778,
              "#fb9f3a"
             ],
             [
              0.8888888888888888,
              "#fdca26"
             ],
             [
              1,
              "#f0f921"
             ]
            ],
            "type": "contour"
           }
          ],
          "contourcarpet": [
           {
            "colorbar": {
             "outlinewidth": 0,
             "ticks": ""
            },
            "type": "contourcarpet"
           }
          ],
          "heatmap": [
           {
            "colorbar": {
             "outlinewidth": 0,
             "ticks": ""
            },
            "colorscale": [
             [
              0,
              "#0d0887"
             ],
             [
              0.1111111111111111,
              "#46039f"
             ],
             [
              0.2222222222222222,
              "#7201a8"
             ],
             [
              0.3333333333333333,
              "#9c179e"
             ],
             [
              0.4444444444444444,
              "#bd3786"
             ],
             [
              0.5555555555555556,
              "#d8576b"
             ],
             [
              0.6666666666666666,
              "#ed7953"
             ],
             [
              0.7777777777777778,
              "#fb9f3a"
             ],
             [
              0.8888888888888888,
              "#fdca26"
             ],
             [
              1,
              "#f0f921"
             ]
            ],
            "type": "heatmap"
           }
          ],
          "heatmapgl": [
           {
            "colorbar": {
             "outlinewidth": 0,
             "ticks": ""
            },
            "colorscale": [
             [
              0,
              "#0d0887"
             ],
             [
              0.1111111111111111,
              "#46039f"
             ],
             [
              0.2222222222222222,
              "#7201a8"
             ],
             [
              0.3333333333333333,
              "#9c179e"
             ],
             [
              0.4444444444444444,
              "#bd3786"
             ],
             [
              0.5555555555555556,
              "#d8576b"
             ],
             [
              0.6666666666666666,
              "#ed7953"
             ],
             [
              0.7777777777777778,
              "#fb9f3a"
             ],
             [
              0.8888888888888888,
              "#fdca26"
             ],
             [
              1,
              "#f0f921"
             ]
            ],
            "type": "heatmapgl"
           }
          ],
          "histogram": [
           {
            "marker": {
             "pattern": {
              "fillmode": "overlay",
              "size": 10,
              "solidity": 0.2
             }
            },
            "type": "histogram"
           }
          ],
          "histogram2d": [
           {
            "colorbar": {
             "outlinewidth": 0,
             "ticks": ""
            },
            "colorscale": [
             [
              0,
              "#0d0887"
             ],
             [
              0.1111111111111111,
              "#46039f"
             ],
             [
              0.2222222222222222,
              "#7201a8"
             ],
             [
              0.3333333333333333,
              "#9c179e"
             ],
             [
              0.4444444444444444,
              "#bd3786"
             ],
             [
              0.5555555555555556,
              "#d8576b"
             ],
             [
              0.6666666666666666,
              "#ed7953"
             ],
             [
              0.7777777777777778,
              "#fb9f3a"
             ],
             [
              0.8888888888888888,
              "#fdca26"
             ],
             [
              1,
              "#f0f921"
             ]
            ],
            "type": "histogram2d"
           }
          ],
          "histogram2dcontour": [
           {
            "colorbar": {
             "outlinewidth": 0,
             "ticks": ""
            },
            "colorscale": [
             [
              0,
              "#0d0887"
             ],
             [
              0.1111111111111111,
              "#46039f"
             ],
             [
              0.2222222222222222,
              "#7201a8"
             ],
             [
              0.3333333333333333,
              "#9c179e"
             ],
             [
              0.4444444444444444,
              "#bd3786"
             ],
             [
              0.5555555555555556,
              "#d8576b"
             ],
             [
              0.6666666666666666,
              "#ed7953"
             ],
             [
              0.7777777777777778,
              "#fb9f3a"
             ],
             [
              0.8888888888888888,
              "#fdca26"
             ],
             [
              1,
              "#f0f921"
             ]
            ],
            "type": "histogram2dcontour"
           }
          ],
          "mesh3d": [
           {
            "colorbar": {
             "outlinewidth": 0,
             "ticks": ""
            },
            "type": "mesh3d"
           }
          ],
          "parcoords": [
           {
            "line": {
             "colorbar": {
              "outlinewidth": 0,
              "ticks": ""
             }
            },
            "type": "parcoords"
           }
          ],
          "pie": [
           {
            "automargin": true,
            "type": "pie"
           }
          ],
          "scatter": [
           {
            "marker": {
             "line": {
              "color": "#283442"
             }
            },
            "type": "scatter"
           }
          ],
          "scatter3d": [
           {
            "line": {
             "colorbar": {
              "outlinewidth": 0,
              "ticks": ""
             }
            },
            "marker": {
             "colorbar": {
              "outlinewidth": 0,
              "ticks": ""
             }
            },
            "type": "scatter3d"
           }
          ],
          "scattercarpet": [
           {
            "marker": {
             "colorbar": {
              "outlinewidth": 0,
              "ticks": ""
             }
            },
            "type": "scattercarpet"
           }
          ],
          "scattergeo": [
           {
            "marker": {
             "colorbar": {
              "outlinewidth": 0,
              "ticks": ""
             }
            },
            "type": "scattergeo"
           }
          ],
          "scattergl": [
           {
            "marker": {
             "line": {
              "color": "#283442"
             }
            },
            "type": "scattergl"
           }
          ],
          "scattermapbox": [
           {
            "marker": {
             "colorbar": {
              "outlinewidth": 0,
              "ticks": ""
             }
            },
            "type": "scattermapbox"
           }
          ],
          "scatterpolar": [
           {
            "marker": {
             "colorbar": {
              "outlinewidth": 0,
              "ticks": ""
             }
            },
            "type": "scatterpolar"
           }
          ],
          "scatterpolargl": [
           {
            "marker": {
             "colorbar": {
              "outlinewidth": 0,
              "ticks": ""
             }
            },
            "type": "scatterpolargl"
           }
          ],
          "scatterternary": [
           {
            "marker": {
             "colorbar": {
              "outlinewidth": 0,
              "ticks": ""
             }
            },
            "type": "scatterternary"
           }
          ],
          "surface": [
           {
            "colorbar": {
             "outlinewidth": 0,
             "ticks": ""
            },
            "colorscale": [
             [
              0,
              "#0d0887"
             ],
             [
              0.1111111111111111,
              "#46039f"
             ],
             [
              0.2222222222222222,
              "#7201a8"
             ],
             [
              0.3333333333333333,
              "#9c179e"
             ],
             [
              0.4444444444444444,
              "#bd3786"
             ],
             [
              0.5555555555555556,
              "#d8576b"
             ],
             [
              0.6666666666666666,
              "#ed7953"
             ],
             [
              0.7777777777777778,
              "#fb9f3a"
             ],
             [
              0.8888888888888888,
              "#fdca26"
             ],
             [
              1,
              "#f0f921"
             ]
            ],
            "type": "surface"
           }
          ],
          "table": [
           {
            "cells": {
             "fill": {
              "color": "#506784"
             },
             "line": {
              "color": "rgb(17,17,17)"
             }
            },
            "header": {
             "fill": {
              "color": "#2a3f5f"
             },
             "line": {
              "color": "rgb(17,17,17)"
             }
            },
            "type": "table"
           }
          ]
         },
         "layout": {
          "annotationdefaults": {
           "arrowcolor": "#f2f5fa",
           "arrowhead": 0,
           "arrowwidth": 1
          },
          "autotypenumbers": "strict",
          "coloraxis": {
           "colorbar": {
            "outlinewidth": 0,
            "ticks": ""
           }
          },
          "colorscale": {
           "diverging": [
            [
             0,
             "#8e0152"
            ],
            [
             0.1,
             "#c51b7d"
            ],
            [
             0.2,
             "#de77ae"
            ],
            [
             0.3,
             "#f1b6da"
            ],
            [
             0.4,
             "#fde0ef"
            ],
            [
             0.5,
             "#f7f7f7"
            ],
            [
             0.6,
             "#e6f5d0"
            ],
            [
             0.7,
             "#b8e186"
            ],
            [
             0.8,
             "#7fbc41"
            ],
            [
             0.9,
             "#4d9221"
            ],
            [
             1,
             "#276419"
            ]
           ],
           "sequential": [
            [
             0,
             "#0d0887"
            ],
            [
             0.1111111111111111,
             "#46039f"
            ],
            [
             0.2222222222222222,
             "#7201a8"
            ],
            [
             0.3333333333333333,
             "#9c179e"
            ],
            [
             0.4444444444444444,
             "#bd3786"
            ],
            [
             0.5555555555555556,
             "#d8576b"
            ],
            [
             0.6666666666666666,
             "#ed7953"
            ],
            [
             0.7777777777777778,
             "#fb9f3a"
            ],
            [
             0.8888888888888888,
             "#fdca26"
            ],
            [
             1,
             "#f0f921"
            ]
           ],
           "sequentialminus": [
            [
             0,
             "#0d0887"
            ],
            [
             0.1111111111111111,
             "#46039f"
            ],
            [
             0.2222222222222222,
             "#7201a8"
            ],
            [
             0.3333333333333333,
             "#9c179e"
            ],
            [
             0.4444444444444444,
             "#bd3786"
            ],
            [
             0.5555555555555556,
             "#d8576b"
            ],
            [
             0.6666666666666666,
             "#ed7953"
            ],
            [
             0.7777777777777778,
             "#fb9f3a"
            ],
            [
             0.8888888888888888,
             "#fdca26"
            ],
            [
             1,
             "#f0f921"
            ]
           ]
          },
          "colorway": [
           "#636efa",
           "#EF553B",
           "#00cc96",
           "#ab63fa",
           "#FFA15A",
           "#19d3f3",
           "#FF6692",
           "#B6E880",
           "#FF97FF",
           "#FECB52"
          ],
          "font": {
           "color": "#f2f5fa"
          },
          "geo": {
           "bgcolor": "rgb(17,17,17)",
           "lakecolor": "rgb(17,17,17)",
           "landcolor": "rgb(17,17,17)",
           "showlakes": true,
           "showland": true,
           "subunitcolor": "#506784"
          },
          "hoverlabel": {
           "align": "left"
          },
          "hovermode": "closest",
          "mapbox": {
           "style": "dark"
          },
          "paper_bgcolor": "rgb(17,17,17)",
          "plot_bgcolor": "rgb(17,17,17)",
          "polar": {
           "angularaxis": {
            "gridcolor": "#506784",
            "linecolor": "#506784",
            "ticks": ""
           },
           "bgcolor": "rgb(17,17,17)",
           "radialaxis": {
            "gridcolor": "#506784",
            "linecolor": "#506784",
            "ticks": ""
           }
          },
          "scene": {
           "xaxis": {
            "backgroundcolor": "rgb(17,17,17)",
            "gridcolor": "#506784",
            "gridwidth": 2,
            "linecolor": "#506784",
            "showbackground": true,
            "ticks": "",
            "zerolinecolor": "#C8D4E3"
           },
           "yaxis": {
            "backgroundcolor": "rgb(17,17,17)",
            "gridcolor": "#506784",
            "gridwidth": 2,
            "linecolor": "#506784",
            "showbackground": true,
            "ticks": "",
            "zerolinecolor": "#C8D4E3"
           },
           "zaxis": {
            "backgroundcolor": "rgb(17,17,17)",
            "gridcolor": "#506784",
            "gridwidth": 2,
            "linecolor": "#506784",
            "showbackground": true,
            "ticks": "",
            "zerolinecolor": "#C8D4E3"
           }
          },
          "shapedefaults": {
           "line": {
            "color": "#f2f5fa"
           }
          },
          "sliderdefaults": {
           "bgcolor": "#C8D4E3",
           "bordercolor": "rgb(17,17,17)",
           "borderwidth": 1,
           "tickwidth": 0
          },
          "ternary": {
           "aaxis": {
            "gridcolor": "#506784",
            "linecolor": "#506784",
            "ticks": ""
           },
           "baxis": {
            "gridcolor": "#506784",
            "linecolor": "#506784",
            "ticks": ""
           },
           "bgcolor": "rgb(17,17,17)",
           "caxis": {
            "gridcolor": "#506784",
            "linecolor": "#506784",
            "ticks": ""
           }
          },
          "title": {
           "x": 0.05
          },
          "updatemenudefaults": {
           "bgcolor": "#506784",
           "borderwidth": 0
          },
          "xaxis": {
           "automargin": true,
           "gridcolor": "#283442",
           "linecolor": "#506784",
           "ticks": "",
           "title": {
            "standoff": 15
           },
           "zerolinecolor": "#283442",
           "zerolinewidth": 2
          },
          "yaxis": {
           "automargin": true,
           "gridcolor": "#283442",
           "linecolor": "#506784",
           "ticks": "",
           "title": {
            "standoff": 15
           },
           "zerolinecolor": "#283442",
           "zerolinewidth": 2
          }
         }
        },
        "title": {
         "text": "3D Scatter Plot of Normalized Equity Data"
        }
       }
      }
     },
     "metadata": {},
     "output_type": "display_data"
    }
   ],
   "source": [
    "viz.scatter_3d(mega_df, 'Price to Earnings Ratio (TTM) Score', 'Free Cash Flow Margin (FY) Score', '3-Month Performance Score').show(config=config)"
   ]
  },
  {
   "attachments": {},
   "cell_type": "markdown",
   "metadata": {},
   "source": [
    "![img19](../images/img_19.png)"
   ]
  },
  {
   "attachments": {},
   "cell_type": "markdown",
   "metadata": {},
   "source": [
    "There appears to be a reasonably strong correlation between the normalized Free Cash Flow Margin (FY) score and the corresponding 3-Month Performance score, indicating that a high Free Cash FLow Margin (FY) Score may be a good metric to consider when picking a stock. The same applies for the correlation between the Price to Earnings Ratio (TTM) score and the 3-Month Performance score. Plotting a regression line can be used to validate this hypothesis."
   ]
  }
 ],
 "metadata": {
  "kernelspec": {
   "display_name": "base",
   "language": "python",
   "name": "python3"
  }
 },
 "nbformat": 4,
 "nbformat_minor": 2
}
