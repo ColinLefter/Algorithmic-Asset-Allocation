{
 "cells": [
  {
   "cell_type": "markdown",
   "metadata": {},
   "source": [
    "# Colin Lefter"
   ]
  },
  {
   "attachments": {},
   "cell_type": "markdown",
   "metadata": {},
   "source": [
    "## Research question/interests\n",
    "\n",
    "**What equity data is the most deterministic of the performance of an equity, and of this data, which is the most relevant for a growth portfolio investment strategy such that we can compute an optimized portfolio of equities while using user input to drive our optimization algorithm?**\n",
    "\n",
    "My research objective is to develop a scalable asset allocation and construction algorithm that implements an objected-oriented design approach. This objective is an outcome of determining what equity data is the most deterministic of the price of an equity, which will be the focus for the majority of the project/\n",
    "\n",
    "I intend to develop algorithms for constructing multiple linear regressions and Fourier Franforms, among others, that I will then use to construct interactive and statistical models with Plotly and Seaborn. As such, I have a strong interest in the system design of our software and in developing helper functions that can assist all of us with processing data more efficiently. I am also looking forward to using Facebook Prophet[^1] to construct a time series forecast of a sample portfolio recommendation from our software, which can be included in our Tableau Dashboard.\n",
    "\n",
    "### Analysis Plan\n",
    "Our objective function is one that takes in a selection of columns from our data sets to then search for the top n companies that satisfy a criteria for having the highest probability of producing an optimal return on investment. These inputs themselves refer to sub-objective functions that take as input user-defined parameters and thresholds that set the criteria for favourable performance attributes. To rank the companies from our data set, and ultimately determine what portion of capital to assign to each equity, I propose a data normalization algorithm that normalizes the data that comprises the favourable subset from each column of our data set. We interpret these normalized values as probabilities of equity selection and ultimately average the score of each company across all columns to then multiply the final score percentage of each company with the total capital specified by the user. In a broad sense, our software is composed of four general classes that include \"Data\", \"Quantitative Analysis\", \"Data Visualization\" and \"Portfolio Construction\". We inherit the properties from each of these classes to build a functional data analysis chain.\n",
    "\n",
    "Our data visualization will be concerned with analyzing the influence of certain financial variables, such as Price-to-Earnings, on the price of each equity from a sample of 500 equities (from the S&P 500 index). Such analysis would begin with a statistical summary that will constitute exploratory data analysis, followed by our application of analysis algorithms that we design. The construction of a portfolio is a bonus of our project and will be made possible by the analysis algorithms we have constructed.\n",
    "\n",
    "**Important Note**\n",
    "A component of the analysis will involve the comparison of different values of financial variables with the corresponding price of each equity. This constitutes inferential analysis as we are attempting to identify a correlation on the basis of picking stocks based on expected performance. Therefore, this will require us to use past financial data and compare this data with the current price of each equity. As a result, we can only use the 3-month performance data (i.e. 3-month change in share price data) for this comparison as otherwise we would be using future data to predict past performance, which would be invalid.\n",
    "\n",
    "#### User-defined parameters\n",
    "Some initial ideas for these parameters include:\n",
    "- (float) Initial capital\n",
    "- (float) Additional capital per day, week or month\n",
    "- (int) Intended holding period (in days)\n",
    "- (boolean) Importance of dividends (validated based on capital invested)\n",
    "- (String) Preferred industries (choose from a list, or select all)\n",
    "- (int) Volatility tolerance (from 0 to 1, 1 indicating that volatility is not important)\n",
    "- (String) Preferred companies (as a list)[^2]\n",
    "- (int) Preferred degree of portfolio diversification (from 0 to 1, 1 indicating complete diversification)\n",
    "- (String) Preferred investment strategy (choose from \"Growth\", \"Value\", \"GARP\")\n",
    "\n",
    "### Algorithm Plan\n",
    "\n",
    "####  Tier 1: Threshold-based screening algorithms\n",
    "- The current plan is to use these algorithms to screen the financial documents from each company by setting a minimum threshold for each financial ratio. This class of algorithms will need to conduct such screening per industry as industry financial ratios are dinstinct from one another.\n",
    "- A global screening algorithm that selects companies which show favourable performance across all ratios can also be used after each ratio has been individually tested.\n",
    "\n",
    "#### Tier 2: Regression models\n",
    "- As of now, the intent is to develop a multiple linear regression model that will attempt to determine a relationship between the yearly and quarterly performance of each company in relation to several columns of data that act as predictors. This can essentially implement the results from the threshold-based screening algorithms to only conduct this analysis on the pre-screened companies.\n",
    "\n",
    "#### Tier 3: Statistical modelling algorithms\n",
    "- Tier 3 denotes a class of broadly experimental statistical modelling algorithms that are applied on a pre-final portfolio to add additional points to companies that perform exceptionally well compared to others in the portfolio. For now, these algorithms constitute signal processing algorithms such as a Fourier Transform algorithm that attempts to identify peaks in numerical values that would otherwise not be apparent when examined in isolation and without further processing. Therefore, these algorithms will be used to fine-tune the capital allocation percentages for each company in the pre-final portfolio.\n",
    "\n",
    "#### Columns of relevance\n",
    "Data set 1: Overview\n",
    "- Price\n",
    "- MKT Cap\n",
    "- P/E\n",
    "- EPS\n",
    "- Sector\n",
    "\n",
    "Data set 2: Performance\n",
    "- 1M change (1 month change)\n",
    "- 3-Month performance\n",
    "- 6-month perfromance\n",
    "- YTD performance\n",
    "- Yearly performance\n",
    "- Volatility\n",
    "\n",
    "Data set 3: Valuation\n",
    "- Price / revenue\n",
    "- Enterprise value\n",
    "\n",
    "Data set 4: Dividends\n",
    "- Dividend yield FWD\n",
    "- Dividends per share (FY)\n",
    "\n",
    "Data set 5: Margins\n",
    "- Gross profit margin\n",
    "- Operating margin\n",
    "- Net profit margin\n",
    "\n",
    "Data set 6: Income Statement\n",
    "- Gross profit\n",
    "- Income\n",
    "- Net cash flow\n",
    "\n",
    "Data set 7: Balance Sheet\n",
    "- Current ratio\n",
    "- Debt/equity\n",
    "- Quick ratio\n",
    "\n",
    "The total number of columns would be 24 in this case.\n",
    "\n",
    "[^1]: This would mean that a few time series data sets would need to be downloaded from TradingView at the end of the project to test the demo porfolio.\n",
    "\n",
    "[^2]: A helper function can be developed for this, where the user can just type out the name of the company and the ticker is identifed."
   ]
  },
  {
   "cell_type": "code",
   "execution_count": 22,
   "metadata": {},
   "outputs": [],
   "source": [
    "import pandas as pd\n",
    "import plotly as plt\n",
    "import seaborn as sns\n",
    "import numpy as np\n",
    "import datetime as dt\n",
    "import matplotlib.pyplot as mplt\n",
    "from sklearn.linear_model import LinearRegression\n",
    "from sklearn import preprocessing\n",
    "import plotly.graph_objects as go\n",
    "import plotly.express as px\n",
    "import plotly.figure_factory as ff\n",
    "from IPython.display import display, HTML, Markdown, Latex\n",
    "from tqdm import tqdm, trange\n",
    "from typing import *\n",
    "from dataclasses import dataclass\n",
    "from scipy import stats\n",
    "import plotly.io as pio\n",
    "import sys\n",
    "from sklearn.model_selection import train_test_split\n",
    "from sklearn import metrics\n",
    "sys.path.append('..')\n",
    "from analysis.code import project_functions1 as pf"
   ]
  },
  {
   "cell_type": "code",
   "execution_count": 23,
   "metadata": {},
   "outputs": [],
   "source": [
    "sns.set_theme(style=\"darkgrid\")\n",
    "sns.set(rc={\"figure.dpi\":300, 'savefig.dpi':300})\n",
    "sns.set(style=\"ticks\", context=\"talk\")\n",
    "mplt.style.use(\"dark_background\")\n",
    "\n",
    "config = {\n",
    "  'toImageButtonOptions': {\n",
    "    'format': 'png',\n",
    "    'filename': 'custom_image',\n",
    "    'height': 800,\n",
    "    'width': 2000,\n",
    "    'scale': 2\n",
    "  }\n",
    "}"
   ]
  },
  {
   "attachments": {},
   "cell_type": "markdown",
   "metadata": {},
   "source": [
    "# Data Loading"
   ]
  },
  {
   "cell_type": "code",
   "execution_count": 24,
   "metadata": {},
   "outputs": [],
   "source": [
    "equities = pf.EquityData()\n",
    "overview_df = equities.load_and_process(\"overview\", exclude_columns=['Change %', 'Change', 'Technical Rating', 'Volume', 'Volume*Price'])\n",
    "income_statement_df = equities.load_and_process(\"income_statement\")\n",
    "balance_sheet_df = equities.load_and_process(\"balance_sheet\")\n",
    "dividends_df = equities.load_and_process(\"dividends\", exclude_columns=['Price'])\n",
    "margins_df = equities.load_and_process(\"margins\")\n",
    "performance_df = equities.load_and_process(\"performance\", exclude_columns=['Change 1m, %', 'Change 5m, %', 'Change 15m, %', 'Change 1h, %', 'Change 4h, %', 'Change 1W, %', 'Change 1M, %', 'Change %'])\n",
    "valuation_df = equities.load_and_process(\"valuation\", exclude_columns=['Price', 'Market Capitalization', 'Price to Earnings Ratio (TTM)', 'Basic EPS (TTM)', 'EPS Diluted (FY)'])"
   ]
  },
  {
   "attachments": {},
   "cell_type": "markdown",
   "metadata": {},
   "source": [
    "### Analysis-Specific Data Wrangling"
   ]
  },
  {
   "cell_type": "code",
   "execution_count": 25,
   "metadata": {},
   "outputs": [],
   "source": [
    "dfs = [\n",
    "    overview_df,\n",
    "    income_statement_df,\n",
    "    balance_sheet_df,\n",
    "    dividends_df,\n",
    "    margins_df,\n",
    "    performance_df,\n",
    "    valuation_df\n",
    "    ]\n",
    "\n",
    "dfs_names = [\n",
    "    \"Overview Data\",\n",
    "    \"Balance Sheet Data\",\n",
    "    \"Dividends Data\",\n",
    "    \"Income Statement Data\",\n",
    "    \"Margins Data\",\n",
    "    \"Performance Data\",\n",
    "    \"Valuation Data\"\n",
    "    ]\n",
    "\n",
    "overview_df['3-Month Performance'] = performance_df['3-Month Performance']\n",
    "income_statement_df['3-Month Performance'] = performance_df['3-Month Performance']\n",
    "balance_sheet_df['3-Month Performance'] = performance_df['3-Month Performance']\n",
    "dividends_df['3-Month Performance'] = performance_df['3-Month Performance']\n",
    "margins_df['3-Month Performance'] = performance_df['3-Month Performance']\n",
    "valuation_df['3-Month Performance'] = performance_df['3-Month Performance']\n",
    "\n",
    "mega_df = pd.concat(dfs, axis=1)\n",
    "mega_df = mega_df.loc[:,~mega_df.columns.duplicated()].copy()\n",
    "mega_df = mega_df.dropna()\n",
    "mega_df_no_strings = mega_df.select_dtypes(exclude='object')\n",
    "\n",
    "mega_df['6-Month Performance'] = performance_df['6-Month Performance']\n",
    "mega_df['YTD Performance'] = performance_df['YTD Performance']\n",
    "mega_df['Yearly Performance'] = performance_df['Yearly Performance']"
   ]
  },
  {
   "attachments": {},
   "cell_type": "markdown",
   "metadata": {},
   "source": [
    "# Experimental Feature Development Zone"
   ]
  },
  {
   "cell_type": "code",
   "execution_count": 26,
   "metadata": {},
   "outputs": [],
   "source": [
    "quant = pf.QuantitativeAnalysis()\n",
    "viz = pf.DataVisualization()"
   ]
  },
  {
   "cell_type": "code",
   "execution_count": 27,
   "metadata": {},
   "outputs": [],
   "source": [
    "#test = QuantitativeAnalysis()\n",
    "#test.rank(mega_df, '6-Month Performance', inplace=True) # taking 6-month performance and inplace=True leads the norm algorithm to skip row 493\n",
    "#mega_df"
   ]
  },
  {
   "attachments": {},
   "cell_type": "markdown",
   "metadata": {},
   "source": [
    "# Analysis Zone\n",
    "## Note: to view the interactive graphs plotted, run this analysis notebook in a Jupyter Notebook environment"
   ]
  },
  {
   "cell_type": "code",
   "execution_count": 28,
   "metadata": {},
   "outputs": [
    {
     "name": "stderr",
     "output_type": "stream",
     "text": [
      "c:\\Users\\colin\\OneDrive\\Desktop\\UniversalFolder\\UBC\\project-group-group15\\analysis\\..\\analysis\\code\\project_functions1.py:306: FutureWarning:\n",
      "\n",
      "In a future version of pandas all arguments of DataFrame.dropna will be keyword-only.\n",
      "\n"
     ]
    },
    {
     "data": {
      "application/vnd.plotly.v1+json": {
       "config": {
        "plotlyServerURL": "https://plot.ly"
       },
       "data": [
        {
         "coloraxis": "coloraxis",
         "hovertemplate": "x: %{x}<br>y: %{y}<br>color: %{z}<extra></extra>",
         "name": "0",
         "texttemplate": "%{z}",
         "type": "heatmap",
         "x": [
          "Price",
          "Market Capitalization",
          "Price to Earnings Ratio (TTM)",
          "Basic EPS (TTM)",
          "Number of Employees",
          "Free Cash Flow (Annual YoY Growth)",
          "Free Cash Flow Margin (FY)",
          "Free Cash Flow (Quarterly YoY Growth)",
          "3-Month Performance",
          "Basic EPS (FY)",
          "EPS Diluted (TTM)",
          "EBITDA (TTM)",
          "Gross Profit (MRQ)",
          "Gross Profit (FY)",
          "Total Revenue (FY)",
          "EPS Diluted (FY)",
          "Last Year Revenue (FY)",
          "Net Income (FY)",
          "Current Ratio (MRQ)",
          "Debt to Equity Ratio (MRQ)",
          "Net Debt (MRQ)",
          "Quick Ratio (MRQ)",
          "Total Assets (MRQ)",
          "Total Debt (MRQ)",
          "Total Current Assets (MRQ)",
          "Dividend Yield Forward",
          "Dividends Paid (FY)",
          "Dividends per Share (FY)",
          "Gross Margin (TTM)",
          "Operating Margin (TTM)",
          "Pretax Margin (TTM)",
          "Net Margin (TTM)",
          "6-Month Performance",
          "YTD Performance",
          "Yearly Performance",
          "1-Year Beta",
          "Volatility",
          "Price to Revenue Ratio (TTM)",
          "Enterprise Value/EBITDA (TTM)",
          "Enterprise Value (MRQ)"
         ],
         "xaxis": "x",
         "y": [
          "Market Capitalization",
          "Price to Earnings Ratio (TTM)",
          "Basic EPS (TTM)",
          "Number of Employees",
          "Free Cash Flow (Annual YoY Growth)",
          "Free Cash Flow Margin (FY)",
          "Free Cash Flow (Quarterly YoY Growth)",
          "3-Month Performance",
          "Basic EPS (FY)",
          "EPS Diluted (TTM)",
          "EBITDA (TTM)",
          "Gross Profit (MRQ)",
          "Gross Profit (FY)",
          "Total Revenue (FY)",
          "EPS Diluted (FY)",
          "Last Year Revenue (FY)",
          "Net Income (FY)",
          "Current Ratio (MRQ)",
          "Debt to Equity Ratio (MRQ)",
          "Net Debt (MRQ)",
          "Quick Ratio (MRQ)",
          "Total Assets (MRQ)",
          "Total Debt (MRQ)",
          "Total Current Assets (MRQ)",
          "Dividend Yield Forward",
          "Dividends Paid (FY)",
          "Dividends per Share (FY)",
          "Gross Margin (TTM)",
          "Operating Margin (TTM)",
          "Pretax Margin (TTM)",
          "Net Margin (TTM)",
          "6-Month Performance",
          "YTD Performance",
          "Yearly Performance",
          "1-Year Beta",
          "Volatility",
          "Price to Revenue Ratio (TTM)",
          "Enterprise Value/EBITDA (TTM)",
          "Enterprise Value (MRQ)",
          "Total Shares Outstanding"
         ],
         "yaxis": "y",
         "z": [
          [
           0.1,
           null,
           null,
           null,
           null,
           null,
           null,
           null,
           null,
           null,
           null,
           null,
           null,
           null,
           null,
           null,
           null,
           null,
           null,
           null,
           null,
           null,
           null,
           null,
           null,
           null,
           null,
           null,
           null,
           null,
           null,
           null,
           null,
           null,
           null,
           null,
           null,
           null,
           null,
           null
          ],
          [
           0,
           0,
           null,
           null,
           null,
           null,
           null,
           null,
           null,
           null,
           null,
           null,
           null,
           null,
           null,
           null,
           null,
           null,
           null,
           null,
           null,
           null,
           null,
           null,
           null,
           null,
           null,
           null,
           null,
           null,
           null,
           null,
           null,
           null,
           null,
           null,
           null,
           null,
           null,
           null
          ],
          [
           0.7,
           0,
           -0.1,
           null,
           null,
           null,
           null,
           null,
           null,
           null,
           null,
           null,
           null,
           null,
           null,
           null,
           null,
           null,
           null,
           null,
           null,
           null,
           null,
           null,
           null,
           null,
           null,
           null,
           null,
           null,
           null,
           null,
           null,
           null,
           null,
           null,
           null,
           null,
           null,
           null
          ],
          [
           0,
           0.2,
           0,
           0,
           null,
           null,
           null,
           null,
           null,
           null,
           null,
           null,
           null,
           null,
           null,
           null,
           null,
           null,
           null,
           null,
           null,
           null,
           null,
           null,
           null,
           null,
           null,
           null,
           null,
           null,
           null,
           null,
           null,
           null,
           null,
           null,
           null,
           null,
           null,
           null
          ],
          [
           0,
           0,
           0,
           0.1,
           0,
           null,
           null,
           null,
           null,
           null,
           null,
           null,
           null,
           null,
           null,
           null,
           null,
           null,
           null,
           null,
           null,
           null,
           null,
           null,
           null,
           null,
           null,
           null,
           null,
           null,
           null,
           null,
           null,
           null,
           null,
           null,
           null,
           null,
           null,
           null
          ],
          [
           0.2,
           0.2,
           0.1,
           0.1,
           -0.1,
           0.1,
           null,
           null,
           null,
           null,
           null,
           null,
           null,
           null,
           null,
           null,
           null,
           null,
           null,
           null,
           null,
           null,
           null,
           null,
           null,
           null,
           null,
           null,
           null,
           null,
           null,
           null,
           null,
           null,
           null,
           null,
           null,
           null,
           null,
           null
          ],
          [
           0,
           0,
           0,
           0.1,
           0.1,
           0,
           0.1,
           null,
           null,
           null,
           null,
           null,
           null,
           null,
           null,
           null,
           null,
           null,
           null,
           null,
           null,
           null,
           null,
           null,
           null,
           null,
           null,
           null,
           null,
           null,
           null,
           null,
           null,
           null,
           null,
           null,
           null,
           null,
           null,
           null
          ],
          [
           0,
           -0.1,
           -0.1,
           -0.1,
           0,
           -0.1,
           0,
           0,
           null,
           null,
           null,
           null,
           null,
           null,
           null,
           null,
           null,
           null,
           null,
           null,
           null,
           null,
           null,
           null,
           null,
           null,
           null,
           null,
           null,
           null,
           null,
           null,
           null,
           null,
           null,
           null,
           null,
           null,
           null,
           null
          ],
          [
           0.6,
           0.1,
           -0.1,
           0.9,
           0.1,
           0,
           0.1,
           0,
           0,
           null,
           null,
           null,
           null,
           null,
           null,
           null,
           null,
           null,
           null,
           null,
           null,
           null,
           null,
           null,
           null,
           null,
           null,
           null,
           null,
           null,
           null,
           null,
           null,
           null,
           null,
           null,
           null,
           null,
           null,
           null
          ],
          [
           0.7,
           0,
           -0.1,
           1,
           0,
           0.1,
           0.1,
           0.1,
           -0.1,
           0.9,
           null,
           null,
           null,
           null,
           null,
           null,
           null,
           null,
           null,
           null,
           null,
           null,
           null,
           null,
           null,
           null,
           null,
           null,
           null,
           null,
           null,
           null,
           null,
           null,
           null,
           null,
           null,
           null,
           null,
           null
          ],
          [
           0,
           0.9,
           0,
           0.1,
           0.2,
           0.2,
           0.2,
           0,
           -0.1,
           0.1,
           0.1,
           null,
           null,
           null,
           null,
           null,
           null,
           null,
           null,
           null,
           null,
           null,
           null,
           null,
           null,
           null,
           null,
           null,
           null,
           null,
           null,
           null,
           null,
           null,
           null,
           null,
           null,
           null,
           null,
           null
          ],
          [
           0,
           0.8,
           0,
           0,
           0.6,
           0.1,
           0.1,
           0.1,
           -0.1,
           0,
           0,
           0.9,
           null,
           null,
           null,
           null,
           null,
           null,
           null,
           null,
           null,
           null,
           null,
           null,
           null,
           null,
           null,
           null,
           null,
           null,
           null,
           null,
           null,
           null,
           null,
           null,
           null,
           null,
           null,
           null
          ],
          [
           0,
           0.8,
           0,
           0,
           0.6,
           0,
           0.1,
           0,
           -0.1,
           0.1,
           0,
           0.9,
           1,
           null,
           null,
           null,
           null,
           null,
           null,
           null,
           null,
           null,
           null,
           null,
           null,
           null,
           null,
           null,
           null,
           null,
           null,
           null,
           null,
           null,
           null,
           null,
           null,
           null,
           null,
           null
          ],
          [
           0,
           0.5,
           0,
           0.1,
           0.7,
           0,
           -0.1,
           0.1,
           -0.1,
           0.1,
           0.1,
           0.7,
           0.8,
           0.8,
           null,
           null,
           null,
           null,
           null,
           null,
           null,
           null,
           null,
           null,
           null,
           null,
           null,
           null,
           null,
           null,
           null,
           null,
           null,
           null,
           null,
           null,
           null,
           null,
           null,
           null
          ],
          [
           0.6,
           0.1,
           -0.1,
           0.9,
           0.1,
           0,
           0.1,
           0,
           0,
           1,
           0.9,
           0.1,
           0,
           0.1,
           0.1,
           null,
           null,
           null,
           null,
           null,
           null,
           null,
           null,
           null,
           null,
           null,
           null,
           null,
           null,
           null,
           null,
           null,
           null,
           null,
           null,
           null,
           null,
           null,
           null,
           null
          ],
          [
           0,
           0.5,
           0,
           0.1,
           0.7,
           0,
           -0.1,
           0.1,
           -0.1,
           0.1,
           0.1,
           0.7,
           0.8,
           0.8,
           1,
           0.1,
           null,
           null,
           null,
           null,
           null,
           null,
           null,
           null,
           null,
           null,
           null,
           null,
           null,
           null,
           null,
           null,
           null,
           null,
           null,
           null,
           null,
           null,
           null,
           null
          ],
          [
           0,
           1,
           0,
           0.1,
           0.2,
           0,
           0.2,
           0,
           -0.1,
           0.1,
           0.1,
           0.9,
           0.8,
           0.9,
           0.6,
           0.1,
           0.6,
           null,
           null,
           null,
           null,
           null,
           null,
           null,
           null,
           null,
           null,
           null,
           null,
           null,
           null,
           null,
           null,
           null,
           null,
           null,
           null,
           null,
           null,
           null
          ],
          [
           0.5,
           0,
           0,
           0.4,
           -0.1,
           0,
           0.3,
           0.1,
           0.2,
           0.4,
           0.4,
           -0.1,
           -0.1,
           -0.1,
           -0.1,
           0.4,
           -0.1,
           0,
           null,
           null,
           null,
           null,
           null,
           null,
           null,
           null,
           null,
           null,
           null,
           null,
           null,
           null,
           null,
           null,
           null,
           null,
           null,
           null,
           null,
           null
          ],
          [
           0,
           0,
           0,
           0,
           0,
           0,
           -0.1,
           0,
           0,
           0,
           0,
           0,
           0,
           0,
           0.2,
           0,
           0.2,
           0,
           -0.1,
           null,
           null,
           null,
           null,
           null,
           null,
           null,
           null,
           null,
           null,
           null,
           null,
           null,
           null,
           null,
           null,
           null,
           null,
           null,
           null,
           null
          ],
          [
           -0.1,
           0.2,
           0,
           -0.1,
           0.2,
           0,
           -0.1,
           -0.1,
           -0.1,
           -0.1,
           -0.1,
           0.4,
           0.4,
           0.4,
           0.4,
           -0.1,
           0.4,
           0.3,
           -0.3,
           0,
           null,
           null,
           null,
           null,
           null,
           null,
           null,
           null,
           null,
           null,
           null,
           null,
           null,
           null,
           null,
           null,
           null,
           null,
           null,
           null
          ],
          [
           0.6,
           0,
           0,
           0.4,
           -0.1,
           0,
           0.4,
           0.1,
           0.1,
           0.4,
           0.4,
           0,
           -0.1,
           -0.1,
           -0.1,
           0.4,
           -0.1,
           0,
           0.9,
           -0.1,
           -0.2,
           null,
           null,
           null,
           null,
           null,
           null,
           null,
           null,
           null,
           null,
           null,
           null,
           null,
           null,
           null,
           null,
           null,
           null,
           null
          ],
          [
           -0.1,
           0.6,
           0,
           0,
           0.3,
           0.1,
           0,
           -0.1,
           -0.2,
           0,
           0,
           0.8,
           0.8,
           0.8,
           0.7,
           0,
           0.7,
           0.7,
           -0.2,
           0,
           0.7,
           -0.1,
           null,
           null,
           null,
           null,
           null,
           null,
           null,
           null,
           null,
           null,
           null,
           null,
           null,
           null,
           null,
           null,
           null,
           null
          ],
          [
           -0.1,
           0.5,
           0,
           -0.1,
           0.3,
           0,
           -0.1,
           -0.1,
           -0.1,
           0,
           -0.1,
           0.7,
           0.6,
           0.7,
           0.5,
           0,
           0.5,
           0.6,
           -0.2,
           0,
           0.9,
           -0.1,
           0.9,
           null,
           null,
           null,
           null,
           null,
           null,
           null,
           null,
           null,
           null,
           null,
           null,
           null,
           null,
           null,
           null,
           null
          ],
          [
           0,
           0.7,
           0,
           0.1,
           0.4,
           0,
           0,
           0,
           -0.1,
           0.1,
           0.1,
           0.8,
           0.8,
           0.8,
           0.8,
           0.1,
           0.8,
           0.8,
           0,
           0.1,
           0.4,
           0,
           0.9,
           0.7,
           null,
           null,
           null,
           null,
           null,
           null,
           null,
           null,
           null,
           null,
           null,
           null,
           null,
           null,
           null,
           null
          ],
          [
           -0.3,
           -0.1,
           -0.1,
           -0.1,
           0,
           0,
           -0.1,
           0.1,
           -0.2,
           -0.2,
           -0.1,
           0.1,
           0,
           0,
           0,
           -0.2,
           0,
           0,
           -0.3,
           0,
           0.3,
           -0.2,
           0.2,
           0.3,
           0,
           null,
           null,
           null,
           null,
           null,
           null,
           null,
           null,
           null,
           null,
           null,
           null,
           null,
           null,
           null
          ],
          [
           0,
           -0.8,
           0,
           0,
           -0.2,
           -0.1,
           -0.2,
           0,
           0.1,
           0,
           0,
           -0.9,
           -0.8,
           -0.8,
           -0.5,
           0,
           -0.5,
           -0.8,
           0.1,
           0,
           -0.4,
           0.1,
           -0.8,
           -0.6,
           -0.7,
           -0.3,
           null,
           null,
           null,
           null,
           null,
           null,
           null,
           null,
           null,
           null,
           null,
           null,
           null,
           null
          ],
          [
           0.6,
           0.1,
           0,
           0.5,
           0.1,
           0,
           0.1,
           -0.1,
           -0.1,
           0.5,
           0.5,
           0.1,
           0.1,
           0.1,
           0.1,
           0.5,
           0.1,
           0.1,
           0.1,
           0.1,
           0.1,
           0.1,
           0.1,
           0.1,
           0,
           0.2,
           -0.3,
           null,
           null,
           null,
           null,
           null,
           null,
           null,
           null,
           null,
           null,
           null,
           null,
           null
          ],
          [
           0.3,
           0.2,
           0.1,
           0.1,
           -0.2,
           0,
           0.6,
           0.1,
           0,
           0.1,
           0.1,
           0.1,
           0.1,
           0.1,
           -0.2,
           0.1,
           -0.2,
           0.1,
           0.3,
           -0.1,
           -0.1,
           0.4,
           0,
           0,
           0,
           -0.1,
           -0.2,
           0.1,
           null,
           null,
           null,
           null,
           null,
           null,
           null,
           null,
           null,
           null,
           null,
           null
          ],
          [
           0.3,
           0.1,
           0.1,
           0.4,
           -0.2,
           0.2,
           0.6,
           0.1,
           -0.1,
           0.2,
           0.4,
           0.2,
           0,
           0,
           -0.2,
           0.2,
           -0.2,
           0.1,
           0.4,
           -0.1,
           -0.1,
           0.5,
           -0.1,
           -0.1,
           -0.1,
           0,
           -0.2,
           0.1,
           0.7,
           null,
           null,
           null,
           null,
           null,
           null,
           null,
           null,
           null,
           null,
           null
          ],
          [
           0.3,
           0.2,
           -0.1,
           0.4,
           -0.2,
           0.2,
           0.6,
           0.1,
           -0.1,
           0.3,
           0.4,
           0.2,
           0.1,
           0,
           -0.2,
           0.3,
           -0.2,
           0.2,
           0.4,
           -0.1,
           -0.2,
           0.5,
           0,
           -0.1,
           0,
           0,
           -0.2,
           0.1,
           0.7,
           0.9,
           null,
           null,
           null,
           null,
           null,
           null,
           null,
           null,
           null,
           null
          ],
          [
           0.3,
           0.2,
           -0.1,
           0.4,
           -0.2,
           0.2,
           0.6,
           0.1,
           -0.1,
           0.3,
           0.4,
           0.2,
           0.1,
           0.1,
           -0.2,
           0.3,
           -0.2,
           0.2,
           0.4,
           -0.1,
           -0.1,
           0.5,
           0,
           -0.1,
           0,
           0,
           -0.2,
           0.2,
           0.7,
           0.9,
           1,
           null,
           null,
           null,
           null,
           null,
           null,
           null,
           null,
           null
          ],
          [
           0.1,
           -0.1,
           -0.1,
           0.1,
           0,
           0.2,
           0.1,
           0.2,
           0.5,
           0,
           0.1,
           0,
           0,
           -0.1,
           0,
           0,
           0,
           -0.1,
           0.1,
           0.1,
           -0.1,
           0,
           -0.1,
           -0.1,
           0,
           -0.1,
           0,
           0.1,
           -0.1,
           0.1,
           0,
           0,
           null,
           null,
           null,
           null,
           null,
           null,
           null,
           null
          ],
          [
           -0.1,
           0,
           0,
           0,
           0,
           0,
           0,
           0,
           0.5,
           0,
           0,
           0,
           -0.1,
           -0.1,
           0,
           0,
           0,
           0,
           0.1,
           -0.1,
           -0.1,
           0.1,
           -0.1,
           -0.1,
           0,
           -0.1,
           0.2,
           -0.2,
           0,
           0,
           0,
           0,
           0.2,
           null,
           null,
           null,
           null,
           null,
           null,
           null
          ],
          [
           0.3,
           -0.1,
           0,
           0.3,
           -0.1,
           0.2,
           0.1,
           0.1,
           -0.1,
           0.1,
           0.3,
           0,
           0,
           -0.1,
           0,
           0.1,
           0,
           -0.1,
           0.2,
           0,
           -0.1,
           0.2,
           -0.1,
           -0.2,
           -0.1,
           -0.1,
           0,
           0.1,
           0,
           0.2,
           0.2,
           0.2,
           0.6,
           -0.2,
           null,
           null,
           null,
           null,
           null,
           null
          ],
          [
           0.2,
           0.1,
           0,
           0.1,
           0,
           0,
           0.1,
           0.1,
           0.3,
           0.2,
           0.1,
           0,
           -0.1,
           0,
           -0.1,
           0.2,
           -0.1,
           0.1,
           0.1,
           -0.1,
           -0.2,
           0.1,
           -0.1,
           -0.1,
           0,
           -0.3,
           0.2,
           -0.1,
           0.1,
           0.1,
           0.1,
           0.1,
           0,
           0.6,
           -0.3,
           null,
           null,
           null,
           null,
           null
          ],
          [
           0.1,
           0,
           0,
           0.2,
           -0.1,
           0.1,
           0.2,
           0.1,
           0.1,
           0.1,
           0.2,
           0.1,
           0,
           0,
           0,
           0.1,
           0,
           0,
           0.3,
           -0.1,
           -0.1,
           0.3,
           0,
           0,
           0.1,
           0,
           0.1,
           -0.1,
           0.1,
           0.3,
           0.3,
           0.3,
           0,
           0.3,
           0.1,
           0.4,
           null,
           null,
           null,
           null
          ],
          [
           0.5,
           0.2,
           0.1,
           0.1,
           -0.1,
           -0.1,
           0.5,
           -0.1,
           0.1,
           0.1,
           0.1,
           0,
           0,
           0,
           -0.2,
           0.1,
           -0.2,
           0.1,
           0.5,
           -0.1,
           -0.2,
           0.5,
           -0.1,
           -0.1,
           -0.1,
           -0.3,
           0,
           0.2,
           0.7,
           0.6,
           0.6,
           0.6,
           0,
           0.1,
           0.1,
           0.2,
           0.2,
           null,
           null,
           null
          ],
          [
           0.3,
           0.1,
           0.1,
           -0.1,
           0,
           -0.2,
           0.2,
           -0.1,
           0.1,
           -0.1,
           -0.1,
           -0.2,
           -0.1,
           -0.1,
           -0.2,
           -0.1,
           -0.2,
           0,
           0.2,
           0,
           -0.1,
           0.2,
           -0.2,
           -0.1,
           -0.1,
           -0.4,
           0.1,
           0.1,
           0.3,
           0,
           0.1,
           0.1,
           -0.1,
           0,
           0,
           0.2,
           0,
           0.7,
           null,
           null
          ],
          [
           0,
           1,
           0,
           0,
           0.2,
           0,
           0.2,
           0,
           -0.1,
           0,
           0,
           0.9,
           0.8,
           0.9,
           0.6,
           0,
           0.6,
           1,
           -0.1,
           0,
           0.3,
           0,
           0.7,
           0.6,
           0.7,
           0,
           -0.8,
           0.1,
           0.1,
           0.1,
           0.1,
           0.2,
           -0.1,
           0,
           -0.1,
           0,
           0,
           0.2,
           0.1,
           null
          ],
          [
           -0.2,
           0.8,
           0,
           -0.1,
           0.2,
           0,
           0.2,
           0,
           -0.1,
           -0.1,
           -0.1,
           0.9,
           0.8,
           0.8,
           0.5,
           -0.1,
           0.5,
           0.9,
           -0.1,
           0,
           0.4,
           0,
           0.7,
           0.6,
           0.7,
           0.2,
           -0.8,
           -0.1,
           0.1,
           0.1,
           0.1,
           0.1,
           -0.1,
           0,
           -0.1,
           0,
           0,
           0,
           -0.1,
           0.9
          ]
         ]
        }
       ],
       "layout": {
        "coloraxis": {
         "colorscale": [
          [
           0,
           "#0d0887"
          ],
          [
           0.1111111111111111,
           "#46039f"
          ],
          [
           0.2222222222222222,
           "#7201a8"
          ],
          [
           0.3333333333333333,
           "#9c179e"
          ],
          [
           0.4444444444444444,
           "#bd3786"
          ],
          [
           0.5555555555555556,
           "#d8576b"
          ],
          [
           0.6666666666666666,
           "#ed7953"
          ],
          [
           0.7777777777777778,
           "#fb9f3a"
          ],
          [
           0.8888888888888888,
           "#fdca26"
          ],
          [
           1,
           "#f0f921"
          ]
         ]
        },
        "height": 1000,
        "template": {
         "data": {
          "bar": [
           {
            "error_x": {
             "color": "#f2f5fa"
            },
            "error_y": {
             "color": "#f2f5fa"
            },
            "marker": {
             "line": {
              "color": "rgb(17,17,17)",
              "width": 0.5
             },
             "pattern": {
              "fillmode": "overlay",
              "size": 10,
              "solidity": 0.2
             }
            },
            "type": "bar"
           }
          ],
          "barpolar": [
           {
            "marker": {
             "line": {
              "color": "rgb(17,17,17)",
              "width": 0.5
             },
             "pattern": {
              "fillmode": "overlay",
              "size": 10,
              "solidity": 0.2
             }
            },
            "type": "barpolar"
           }
          ],
          "carpet": [
           {
            "aaxis": {
             "endlinecolor": "#A2B1C6",
             "gridcolor": "#506784",
             "linecolor": "#506784",
             "minorgridcolor": "#506784",
             "startlinecolor": "#A2B1C6"
            },
            "baxis": {
             "endlinecolor": "#A2B1C6",
             "gridcolor": "#506784",
             "linecolor": "#506784",
             "minorgridcolor": "#506784",
             "startlinecolor": "#A2B1C6"
            },
            "type": "carpet"
           }
          ],
          "choropleth": [
           {
            "colorbar": {
             "outlinewidth": 0,
             "ticks": ""
            },
            "type": "choropleth"
           }
          ],
          "contour": [
           {
            "colorbar": {
             "outlinewidth": 0,
             "ticks": ""
            },
            "colorscale": [
             [
              0,
              "#0d0887"
             ],
             [
              0.1111111111111111,
              "#46039f"
             ],
             [
              0.2222222222222222,
              "#7201a8"
             ],
             [
              0.3333333333333333,
              "#9c179e"
             ],
             [
              0.4444444444444444,
              "#bd3786"
             ],
             [
              0.5555555555555556,
              "#d8576b"
             ],
             [
              0.6666666666666666,
              "#ed7953"
             ],
             [
              0.7777777777777778,
              "#fb9f3a"
             ],
             [
              0.8888888888888888,
              "#fdca26"
             ],
             [
              1,
              "#f0f921"
             ]
            ],
            "type": "contour"
           }
          ],
          "contourcarpet": [
           {
            "colorbar": {
             "outlinewidth": 0,
             "ticks": ""
            },
            "type": "contourcarpet"
           }
          ],
          "heatmap": [
           {
            "colorbar": {
             "outlinewidth": 0,
             "ticks": ""
            },
            "colorscale": [
             [
              0,
              "#0d0887"
             ],
             [
              0.1111111111111111,
              "#46039f"
             ],
             [
              0.2222222222222222,
              "#7201a8"
             ],
             [
              0.3333333333333333,
              "#9c179e"
             ],
             [
              0.4444444444444444,
              "#bd3786"
             ],
             [
              0.5555555555555556,
              "#d8576b"
             ],
             [
              0.6666666666666666,
              "#ed7953"
             ],
             [
              0.7777777777777778,
              "#fb9f3a"
             ],
             [
              0.8888888888888888,
              "#fdca26"
             ],
             [
              1,
              "#f0f921"
             ]
            ],
            "type": "heatmap"
           }
          ],
          "heatmapgl": [
           {
            "colorbar": {
             "outlinewidth": 0,
             "ticks": ""
            },
            "colorscale": [
             [
              0,
              "#0d0887"
             ],
             [
              0.1111111111111111,
              "#46039f"
             ],
             [
              0.2222222222222222,
              "#7201a8"
             ],
             [
              0.3333333333333333,
              "#9c179e"
             ],
             [
              0.4444444444444444,
              "#bd3786"
             ],
             [
              0.5555555555555556,
              "#d8576b"
             ],
             [
              0.6666666666666666,
              "#ed7953"
             ],
             [
              0.7777777777777778,
              "#fb9f3a"
             ],
             [
              0.8888888888888888,
              "#fdca26"
             ],
             [
              1,
              "#f0f921"
             ]
            ],
            "type": "heatmapgl"
           }
          ],
          "histogram": [
           {
            "marker": {
             "pattern": {
              "fillmode": "overlay",
              "size": 10,
              "solidity": 0.2
             }
            },
            "type": "histogram"
           }
          ],
          "histogram2d": [
           {
            "colorbar": {
             "outlinewidth": 0,
             "ticks": ""
            },
            "colorscale": [
             [
              0,
              "#0d0887"
             ],
             [
              0.1111111111111111,
              "#46039f"
             ],
             [
              0.2222222222222222,
              "#7201a8"
             ],
             [
              0.3333333333333333,
              "#9c179e"
             ],
             [
              0.4444444444444444,
              "#bd3786"
             ],
             [
              0.5555555555555556,
              "#d8576b"
             ],
             [
              0.6666666666666666,
              "#ed7953"
             ],
             [
              0.7777777777777778,
              "#fb9f3a"
             ],
             [
              0.8888888888888888,
              "#fdca26"
             ],
             [
              1,
              "#f0f921"
             ]
            ],
            "type": "histogram2d"
           }
          ],
          "histogram2dcontour": [
           {
            "colorbar": {
             "outlinewidth": 0,
             "ticks": ""
            },
            "colorscale": [
             [
              0,
              "#0d0887"
             ],
             [
              0.1111111111111111,
              "#46039f"
             ],
             [
              0.2222222222222222,
              "#7201a8"
             ],
             [
              0.3333333333333333,
              "#9c179e"
             ],
             [
              0.4444444444444444,
              "#bd3786"
             ],
             [
              0.5555555555555556,
              "#d8576b"
             ],
             [
              0.6666666666666666,
              "#ed7953"
             ],
             [
              0.7777777777777778,
              "#fb9f3a"
             ],
             [
              0.8888888888888888,
              "#fdca26"
             ],
             [
              1,
              "#f0f921"
             ]
            ],
            "type": "histogram2dcontour"
           }
          ],
          "mesh3d": [
           {
            "colorbar": {
             "outlinewidth": 0,
             "ticks": ""
            },
            "type": "mesh3d"
           }
          ],
          "parcoords": [
           {
            "line": {
             "colorbar": {
              "outlinewidth": 0,
              "ticks": ""
             }
            },
            "type": "parcoords"
           }
          ],
          "pie": [
           {
            "automargin": true,
            "type": "pie"
           }
          ],
          "scatter": [
           {
            "marker": {
             "line": {
              "color": "#283442"
             }
            },
            "type": "scatter"
           }
          ],
          "scatter3d": [
           {
            "line": {
             "colorbar": {
              "outlinewidth": 0,
              "ticks": ""
             }
            },
            "marker": {
             "colorbar": {
              "outlinewidth": 0,
              "ticks": ""
             }
            },
            "type": "scatter3d"
           }
          ],
          "scattercarpet": [
           {
            "marker": {
             "colorbar": {
              "outlinewidth": 0,
              "ticks": ""
             }
            },
            "type": "scattercarpet"
           }
          ],
          "scattergeo": [
           {
            "marker": {
             "colorbar": {
              "outlinewidth": 0,
              "ticks": ""
             }
            },
            "type": "scattergeo"
           }
          ],
          "scattergl": [
           {
            "marker": {
             "line": {
              "color": "#283442"
             }
            },
            "type": "scattergl"
           }
          ],
          "scattermapbox": [
           {
            "marker": {
             "colorbar": {
              "outlinewidth": 0,
              "ticks": ""
             }
            },
            "type": "scattermapbox"
           }
          ],
          "scatterpolar": [
           {
            "marker": {
             "colorbar": {
              "outlinewidth": 0,
              "ticks": ""
             }
            },
            "type": "scatterpolar"
           }
          ],
          "scatterpolargl": [
           {
            "marker": {
             "colorbar": {
              "outlinewidth": 0,
              "ticks": ""
             }
            },
            "type": "scatterpolargl"
           }
          ],
          "scatterternary": [
           {
            "marker": {
             "colorbar": {
              "outlinewidth": 0,
              "ticks": ""
             }
            },
            "type": "scatterternary"
           }
          ],
          "surface": [
           {
            "colorbar": {
             "outlinewidth": 0,
             "ticks": ""
            },
            "colorscale": [
             [
              0,
              "#0d0887"
             ],
             [
              0.1111111111111111,
              "#46039f"
             ],
             [
              0.2222222222222222,
              "#7201a8"
             ],
             [
              0.3333333333333333,
              "#9c179e"
             ],
             [
              0.4444444444444444,
              "#bd3786"
             ],
             [
              0.5555555555555556,
              "#d8576b"
             ],
             [
              0.6666666666666666,
              "#ed7953"
             ],
             [
              0.7777777777777778,
              "#fb9f3a"
             ],
             [
              0.8888888888888888,
              "#fdca26"
             ],
             [
              1,
              "#f0f921"
             ]
            ],
            "type": "surface"
           }
          ],
          "table": [
           {
            "cells": {
             "fill": {
              "color": "#506784"
             },
             "line": {
              "color": "rgb(17,17,17)"
             }
            },
            "header": {
             "fill": {
              "color": "#2a3f5f"
             },
             "line": {
              "color": "rgb(17,17,17)"
             }
            },
            "type": "table"
           }
          ]
         },
         "layout": {
          "annotationdefaults": {
           "arrowcolor": "#f2f5fa",
           "arrowhead": 0,
           "arrowwidth": 1
          },
          "autotypenumbers": "strict",
          "coloraxis": {
           "colorbar": {
            "outlinewidth": 0,
            "ticks": ""
           }
          },
          "colorscale": {
           "diverging": [
            [
             0,
             "#8e0152"
            ],
            [
             0.1,
             "#c51b7d"
            ],
            [
             0.2,
             "#de77ae"
            ],
            [
             0.3,
             "#f1b6da"
            ],
            [
             0.4,
             "#fde0ef"
            ],
            [
             0.5,
             "#f7f7f7"
            ],
            [
             0.6,
             "#e6f5d0"
            ],
            [
             0.7,
             "#b8e186"
            ],
            [
             0.8,
             "#7fbc41"
            ],
            [
             0.9,
             "#4d9221"
            ],
            [
             1,
             "#276419"
            ]
           ],
           "sequential": [
            [
             0,
             "#0d0887"
            ],
            [
             0.1111111111111111,
             "#46039f"
            ],
            [
             0.2222222222222222,
             "#7201a8"
            ],
            [
             0.3333333333333333,
             "#9c179e"
            ],
            [
             0.4444444444444444,
             "#bd3786"
            ],
            [
             0.5555555555555556,
             "#d8576b"
            ],
            [
             0.6666666666666666,
             "#ed7953"
            ],
            [
             0.7777777777777778,
             "#fb9f3a"
            ],
            [
             0.8888888888888888,
             "#fdca26"
            ],
            [
             1,
             "#f0f921"
            ]
           ],
           "sequentialminus": [
            [
             0,
             "#0d0887"
            ],
            [
             0.1111111111111111,
             "#46039f"
            ],
            [
             0.2222222222222222,
             "#7201a8"
            ],
            [
             0.3333333333333333,
             "#9c179e"
            ],
            [
             0.4444444444444444,
             "#bd3786"
            ],
            [
             0.5555555555555556,
             "#d8576b"
            ],
            [
             0.6666666666666666,
             "#ed7953"
            ],
            [
             0.7777777777777778,
             "#fb9f3a"
            ],
            [
             0.8888888888888888,
             "#fdca26"
            ],
            [
             1,
             "#f0f921"
            ]
           ]
          },
          "colorway": [
           "#636efa",
           "#EF553B",
           "#00cc96",
           "#ab63fa",
           "#FFA15A",
           "#19d3f3",
           "#FF6692",
           "#B6E880",
           "#FF97FF",
           "#FECB52"
          ],
          "font": {
           "color": "#f2f5fa"
          },
          "geo": {
           "bgcolor": "rgb(17,17,17)",
           "lakecolor": "rgb(17,17,17)",
           "landcolor": "rgb(17,17,17)",
           "showlakes": true,
           "showland": true,
           "subunitcolor": "#506784"
          },
          "hoverlabel": {
           "align": "left"
          },
          "hovermode": "closest",
          "mapbox": {
           "style": "dark"
          },
          "paper_bgcolor": "rgb(17,17,17)",
          "plot_bgcolor": "rgb(17,17,17)",
          "polar": {
           "angularaxis": {
            "gridcolor": "#506784",
            "linecolor": "#506784",
            "ticks": ""
           },
           "bgcolor": "rgb(17,17,17)",
           "radialaxis": {
            "gridcolor": "#506784",
            "linecolor": "#506784",
            "ticks": ""
           }
          },
          "scene": {
           "xaxis": {
            "backgroundcolor": "rgb(17,17,17)",
            "gridcolor": "#506784",
            "gridwidth": 2,
            "linecolor": "#506784",
            "showbackground": true,
            "ticks": "",
            "zerolinecolor": "#C8D4E3"
           },
           "yaxis": {
            "backgroundcolor": "rgb(17,17,17)",
            "gridcolor": "#506784",
            "gridwidth": 2,
            "linecolor": "#506784",
            "showbackground": true,
            "ticks": "",
            "zerolinecolor": "#C8D4E3"
           },
           "zaxis": {
            "backgroundcolor": "rgb(17,17,17)",
            "gridcolor": "#506784",
            "gridwidth": 2,
            "linecolor": "#506784",
            "showbackground": true,
            "ticks": "",
            "zerolinecolor": "#C8D4E3"
           }
          },
          "shapedefaults": {
           "line": {
            "color": "#f2f5fa"
           }
          },
          "sliderdefaults": {
           "bgcolor": "#C8D4E3",
           "bordercolor": "rgb(17,17,17)",
           "borderwidth": 1,
           "tickwidth": 0
          },
          "ternary": {
           "aaxis": {
            "gridcolor": "#506784",
            "linecolor": "#506784",
            "ticks": ""
           },
           "baxis": {
            "gridcolor": "#506784",
            "linecolor": "#506784",
            "ticks": ""
           },
           "bgcolor": "rgb(17,17,17)",
           "caxis": {
            "gridcolor": "#506784",
            "linecolor": "#506784",
            "ticks": ""
           }
          },
          "title": {
           "x": 0.05
          },
          "updatemenudefaults": {
           "bgcolor": "#506784",
           "borderwidth": 0
          },
          "xaxis": {
           "automargin": true,
           "gridcolor": "#283442",
           "linecolor": "#506784",
           "ticks": "",
           "title": {
            "standoff": 15
           },
           "zerolinecolor": "#283442",
           "zerolinewidth": 2
          },
          "yaxis": {
           "automargin": true,
           "gridcolor": "#283442",
           "linecolor": "#506784",
           "ticks": "",
           "title": {
            "standoff": 15
           },
           "zerolinecolor": "#283442",
           "zerolinewidth": 2
          }
         }
        },
        "title": {
         "text": "Correlation Plot of S&P500 Equity Data"
        },
        "width": 1000,
        "xaxis": {
         "anchor": "y",
         "constrain": "domain",
         "domain": [
          0,
          1
         ],
         "scaleanchor": "y"
        },
        "yaxis": {
         "anchor": "x",
         "autorange": "reversed",
         "constrain": "domain",
         "domain": [
          0,
          1
         ]
        }
       }
      }
     },
     "metadata": {},
     "output_type": "display_data"
    }
   ],
   "source": [
    "#viz.correlation_plot(mega_df, 'S&P 500 Equity Data')\n",
    "viz.heatmap_plot(mega_df, 'Correlation Plot of S&P500 Equity Data', number_of_companies=500, correlation_plot=True)"
   ]
  },
  {
   "attachments": {},
   "cell_type": "markdown",
   "metadata": {},
   "source": [
    "Values with a correlation coefficient greater than or equal to 0.7 are considered as strong correlations. Likewise, negative correlation coefficients follow the inverse of this criteria. The purpose of this correlation plot is to identify singular variables that are correlated with the positive returns of many other variables that are often considered as benchmarks for strong equity performance. Even more significant is the identification of variables that normally do not have any apparent correlation when viewed in isolation, but do when paired together in a regression. After establishing such occurrences, certain variables can be assigned a stronger weight than others when being processed by the normalization algorithm that is the basis of our equity ranking system used in our asset allocation and construction algorithm. Such variables can later be grouped as predictors into a multiple linear regression model for further analysis. The results from the correlation plot can be classified as follows:\n",
    "\n",
    "| X-Value(s) | Strong Positive Y-Values (r >= 0.7) |\n",
    "| --- | --- |\n",
    "| Market Capitalization | Total Shares Outstanding, Net Income (FY), Gross Profit (FY), Gross Profit (MRQ), EBITDA (TTM), Total Current Assets (MRQ) |\n",
    "| Basic EPS (TTM) | EPS Diluted (FY), EPS Diluted (TTM), Basic EPS FY |\n",
    "| EBITDA (TTM), Gross Profit (MRQ), Gross Profit (FY) | Total Shares Outstanding, Enterprise Value (MRQ), Total Current Assets (MRQ), Total Assets (MRQ), Net Income (FY), Gross Profit (FY), Gross Profit (MRQ), Total Debt (MRQ), Last Year Revenue (FY), Total Revenue (FY)|\n",
    "| Total Revenue (FY) | Total Current Assets (MRQ), Last Year Revenue (FY), Total Assets (MRQ) |\n",
    "| Last Year Revenue (FY) | Total Current Assets (MRQ), Total Assets (MRQ) |\n",
    "| Current Ratio (MRQ) | Quick ratio (MRQ), Total Shares Outstanding, Enterprise Value (MRQ) |\n",
    "| Total Assets (MRQ) | Total Current Assets (MRQ), Total Debt (MRQ) |\n",
    "| Operating Margin (TTM) | Net Margin (TTM), Pretax Margin (TTM) |\n",
    "| Enterprise Value (MRQ) | Total Shares Outstanding |\n",
    "| Number of Employees | Last Year Revenue, Total Revenue (FY) |\n",
    "| Net Income | Total Shares Outstanding, Enterprise Value, Total Current Assets (MRQ), Total Assets (MRQ) |\n",
    "| Net Debt | Total Assets (MRQ) |\n",
    "| Gross Margin (TTM) | Price to Revenue Ratio (TTM), Net Margin (TTM), Pretax Margin (TTM), Operating Margin (TTM) |\n",
    "| Price to Revenue Ratio (TTM) | Enterprise Value / EBITDA (TTM) |\n",
    "\n",
    "It should be noted, however, that many of the X values show a high correlation with other Y values due to those Y values being a derivative of the initial X value and vice versa. This observation confirms that  Taking this feature into account can give the following results:\n",
    "\n",
    "| X-Value(s) | Strong Positive Y-Values (r >= 0.7) |\n",
    "| --- | --- |\n",
    "| Market Capitalization | Total Shares Outstanding, Net Income (FY), Gross Profit (FY), Gross Profit (MRQ), EBITDA (TTM), Total Current Assets (MRQ) |\n",
    "| EBITDA (TTM), Gross Profit (MRQ), Gross Profit (FY) | Total Shares Outstanding, Enterprise Value (MRQ), Total Current Assets (MRQ), Total Assets (MRQ), Net Income (FY), Gross Profit (FY), Gross Profit (MRQ), Total Debt (MRQ), Last Year Revenue (FY), Total Revenue (FY) |\n",
    "| Current Ratio (MRQ) | Quick ratio (MRQ), Total Shares Outstanding, Enterprise Value (MRQ) |\n",
    "| Enterprise Value (MRQ) | Total Shares Outstanding |\n",
    "| Number of Employees | Last Year Revenue, Total Revenue (FY) |\n",
    "| Net Income | Total Shares Outstanding, Enterprise Value, Total Current Assets (MRQ), Total Assets (MRQ) |\n",
    "| Price to Revenue Ratio (TTM) | Enterprise Value / EBITDA (TTM) |\n",
    "\n",
    "Taking variables that may not have any immediate obvious correlation can yield the following:\n",
    "\n",
    "| X-Value(s) | Strong Positive Y-Values (r >= 0.7) |\n",
    "| --- | --- |\n",
    "| EBITDA (TTM), Gross Profit (MRQ), Gross Profit (FY) | Total Shares Outstanding |\n",
    "| Current Ratio (MRQ) | Total Shares Outstanding |\n",
    "| Enterprise Value (MRQ) | Total Shares Outstanding |\n",
    "| Number of Employees | Last Year Revenue, Total Revenue (FY) |\n",
    "| Net Income | Total Shares Outstanding |\n",
    "\n",
    "An outcome of these observations can be to take the correlations of these variables and assign them as a multiplier to the normalized values for each respective column to prioritize certain equity data as being more deterministic of a positive return on investment than others.\n",
    "\n",
    "Another outcome of these observations can be to analyze the density plot creating during the EDA phase and solely focus on the distributions of the above variables from tables 2 or 3 that are skewed towads low normalized values. The logic with this would be that outliers in negatively skewed distributions are more likely to be indicative of stronger performance because they excel in a financial ratio that very few companies excel in.\n",
    "\n",
    "The weighted scores from each analysis can be aggregated and in the end, a weighted scoring system is used."
   ]
  },
  {
   "cell_type": "code",
   "execution_count": 29,
   "metadata": {},
   "outputs": [],
   "source": [
    "# target_y = 'Market Capitalization Score'\n",
    "# mega_dfx = mega_df.select_dtypes(exclude='object')\n",
    "# predictors = [x for x in mega_dfx.columns]\n",
    "# #predictors = ['Net Income (FY)', 'Number of Employees', 'Current Ratio (MRQ)']\n",
    "\n",
    "# for predictor in predictors:\n",
    "#     quant.rank(mega_df, predictor)\n",
    "\n",
    "# predictors = [x + \" Score\" for x in predictors]\n",
    "# predictors\n",
    "# quant.multiple_linear_regression(mega_df, predictors, target_y) # result for market cap score seems suspicious if you plot the graph"
   ]
  },
  {
   "cell_type": "code",
   "execution_count": 30,
   "metadata": {},
   "outputs": [],
   "source": [
    "# fig = px.scatter(\n",
    "#     mega_df, x=predictors, y=target_y, opacity=0.65,\n",
    "#     trendline_color_override='darkblue'\n",
    "# )\n",
    "# #fig.show()"
   ]
  },
  {
   "cell_type": "code",
   "execution_count": 31,
   "metadata": {},
   "outputs": [
    {
     "data": {
      "application/vnd.plotly.v1+json": {
       "config": {
        "plotlyServerURL": "https://plot.ly"
       },
       "data": [
        {
         "coloraxis": "coloraxis",
         "hovertemplate": "x: %{x}<br>y: %{y}<br>color: %{z}<extra></extra>",
         "name": "0",
         "texttemplate": "%{z}",
         "type": "heatmap",
         "x": [
          "LKQ",
          "J",
          "TPL",
          "MGM",
          "WLK",
          "AVY",
          "SSNC",
          "PARA",
          "GEN",
          "POOL",
          "BG",
          "VTRS",
          "APA",
          "LW",
          "EVRG",
          "NTAP",
          "IPG",
          "STX",
          "NDSN",
          "LNT"
         ],
         "xaxis": "x",
         "y": [
          "Market Capitalization Score",
          "Price to Earnings Ratio (TTM) Score",
          "Basic EPS (TTM) Score",
          "Number of Employees Score",
          "Free Cash Flow (Annual YoY Growth) Score",
          "Free Cash Flow Margin (FY) Score",
          "Free Cash Flow (Quarterly YoY Growth) Score",
          "3-Month Performance Score",
          "Basic EPS (FY) Score",
          "EPS Diluted (TTM) Score",
          "EBITDA (TTM) Score",
          "Gross Profit (MRQ) Score",
          "Gross Profit (FY) Score",
          "Total Revenue (FY) Score",
          "EPS Diluted (FY) Score",
          "Last Year Revenue (FY) Score",
          "Net Income (FY) Score",
          "Current Ratio (MRQ) Score",
          "Debt to Equity Ratio (MRQ) Score",
          "Net Debt (MRQ) Score",
          "Quick Ratio (MRQ) Score",
          "Total Assets (MRQ) Score",
          "Total Debt (MRQ) Score",
          "Total Current Assets (MRQ) Score",
          "Dividend Yield Forward Score",
          "Dividends Paid (FY) Score",
          "Dividends per Share (FY) Score",
          "Gross Margin (TTM) Score",
          "Operating Margin (TTM) Score",
          "Pretax Margin (TTM) Score",
          "Net Margin (TTM) Score",
          "6-Month Performance Score",
          "YTD Performance Score",
          "Yearly Performance Score",
          "1-Year Beta Score",
          "Volatility Score",
          "Price to Revenue Ratio (TTM) Score",
          "Enterprise Value/EBITDA (TTM) Score",
          "Enterprise Value (MRQ) Score",
          "Total Shares Outstanding Score"
         ],
         "yaxis": "y",
         "z": [
          [
           0.003,
           0.002,
           0.002,
           0.002,
           0.002,
           0.001,
           0,
           0,
           0,
           0,
           0,
           0,
           0,
           0,
           0,
           0,
           0,
           0,
           0,
           0
          ],
          [
           0.17,
           0.407,
           0.687,
           0.177,
           0,
           0.285,
           0.37,
           0,
           0.376,
           0.298,
           0.087,
           0.265,
           0,
           0.53,
           0.26,
           0.087,
           0.182,
           0.409,
           0.467,
           0.32
          ],
          [
           0.151,
           0.189,
           1,
           0.091,
           0.939,
           0.427,
           0.08,
           0.177,
           0,
           0.891,
           0.442,
           0,
           0.452,
           0.106,
           0.116,
           0.272,
           0.071,
           0.086,
           0.376,
           0.076
          ],
          [
           0.145,
           0.192,
           0,
           0.189,
           0.04,
           0.112,
           0.074,
           0.068,
           0,
           0.009,
           0.065,
           0.115,
           0,
           0.017,
           0.007,
           0.031,
           0.178,
           0.125,
           0.015,
           0.002
          ],
          [
           0.136,
           0.069,
           0.226,
           0.519,
           0.456,
           0.272,
           0.217,
           0.013,
           0.259,
           0.111,
           0.214,
           0.533,
           1,
           0.016,
           0,
           0.136,
           0.199,
           0.202,
           0.151,
           0.245
          ],
          [
           0.409,
           0.286,
           1,
           0.431,
           0.547,
           0.435,
           0.811,
           0.281,
           0.965,
           0.346,
           0.123,
           0.538,
           0.865,
           0.303,
           0.003,
           0.564,
           0.623,
           0.467,
           0.612,
           0
          ],
          [
           0.3,
           0.435,
           0.485,
           0.282,
           0.382,
           0.303,
           0.369,
           0.289,
           0,
           0.496,
           0,
           0.339,
           0.425,
           0.267,
           0.427,
           0.292,
           0.202,
           0.266,
           0.378,
           0.27
          ],
          [
           0.501,
           0.401,
           0,
           0.537,
           0.868,
           0.509,
           0.659,
           0.853,
           0.297,
           0.892,
           0.23,
           0.751,
           0.162,
           0.673,
           0.311,
           0.123,
           0.811,
           1,
           0.414,
           0.354
          ],
          [
           0.167,
           0.252,
           1,
           0.088,
           0.931,
           0.501,
           0.132,
           0.38,
           0.024,
           0.965,
           0.856,
           0,
           0.098,
           0.021,
           0.177,
           0.2,
           0.087,
           0.41,
           0.5,
           0.1
          ],
          [
           0.152,
           0.189,
           1,
           0.091,
           0.935,
           0.425,
           0.076,
           0.175,
           0,
           0.884,
           0.422,
           0,
           0.453,
           0.107,
           0.117,
           0.267,
           0.071,
           0.085,
           0.374,
           0.078
          ],
          [
           0.04,
           0.024,
           0,
           0.073,
           0.191,
           0.027,
           0.046,
           0.118,
           0.011,
           0.009,
           0.105,
           0.22,
           0.282,
           0,
           0.071,
           0.029,
           0.04,
           0.025,
           0,
           0.034
          ],
          [
           0.11,
           0.055,
           0,
           0,
           0.05,
           0.035,
           0.036,
           0.252,
           0.033,
           0.021,
           0.024,
           0.178,
           0.134,
           0.006,
           0.043,
           0.093,
           0.002,
           0,
           0.003,
           0
          ],
          [
           0.124,
           0.061,
           0,
           0.074,
           0.07,
           0.036,
           0.04,
           0.297,
           0.036,
           0.014,
           0.126,
           0.161,
           0.067,
           0,
           0.018,
           0.097,
           0.013,
           0.073,
           0.008,
           0
          ],
          [
           0.081,
           0.096,
           0,
           0.054,
           0.071,
           0.044,
           0.017,
           0.206,
           0,
           0.019,
           0.453,
           0.12,
           0.04,
           0.009,
           0.021,
           0.027,
           0.058,
           0.07,
           0,
           0.005
          ],
          [
           0.166,
           0.25,
           1,
           0.086,
           0.925,
           0.495,
           0.123,
           0.37,
           0.023,
           0.95,
           0.801,
           0,
           0.098,
           0.02,
           0.177,
           0.193,
           0.085,
           0.402,
           0.494,
           0.1
          ],
          [
           0.081,
           0.096,
           0,
           0.054,
           0.071,
           0.044,
           0.017,
           0.206,
           0,
           0.019,
           0.453,
           0.12,
           0.04,
           0.009,
           0.021,
           0.027,
           0.058,
           0.07,
           0,
           0.005
          ],
          [
           0.059,
           0.023,
           0,
           0.066,
           0.132,
           0.031,
           0.036,
           0.334,
           0.039,
           0.023,
           0.138,
           0,
           0.05,
           0,
           0.042,
           0.047,
           0.048,
           0.103,
           0.013,
           0.026
          ],
          [
           0.426,
           0.306,
           1,
           0.32,
           0.674,
           0.147,
           0.189,
           0.255,
           0,
           0.855,
           0.369,
           0.362,
           0.162,
           0.489,
           0,
           0.265,
           0.16,
           0.191,
           0.272,
           0.036
          ],
          [
           0.555,
           0.543,
           0.449,
           1,
           0.528,
           0.686,
           0.645,
           0.565,
           1,
           0.675,
           0.548,
           0.609,
           1,
           1,
           0.633,
           0.789,
           0.651,
           0,
           0.506,
           0.657
          ],
          [
           0.094,
           0.086,
           0.013,
           0.622,
           0.096,
           0.085,
           0.171,
           0.322,
           0.212,
           0.059,
           0.129,
           0.426,
           0.135,
           0.072,
           0.266,
           0.016,
           0.082,
           0.133,
           0.037,
           0.196
          ],
          [
           0.159,
           0.557,
           1,
           0.566,
           0.66,
           0.157,
           0.391,
           0.411,
           0.113,
           0.275,
           0.242,
           0.373,
           0.27,
           0.361,
           0,
           0.462,
           0.351,
           0.172,
           0.277,
           0.113
          ],
          [
           0.052,
           0.076,
           0,
           0.329,
           0.12,
           0.024,
           0.09,
           0.406,
           0.085,
           0,
           0.154,
           0.339,
           0.068,
           0,
           0.189,
           0.038,
           0.093,
           0.023,
           0,
           0.119
          ],
          [
           0.058,
           0.067,
           0,
           0.677,
           0.091,
           0.046,
           0.135,
           0.344,
           0.189,
           0.018,
           0.108,
           0.397,
           0.098,
           0.039,
           0.221,
           0.037,
           0.076,
           0.106,
           0,
           0.158
          ],
          [
           0.078,
           0.091,
           0,
           0.197,
           0.127,
           0.045,
           0.033,
           0.321,
           0.01,
           0.025,
           0.416,
           0.241,
           0.05,
           0.015,
           0.018,
           0.087,
           0.191,
           0.048,
           0,
           0.012
          ],
          [
           0.336,
           0.102,
           0.042,
           0,
           0.175,
           0.268,
           0.21,
           0.837,
           0.398,
           0.146,
           0.481,
           0.809,
           0.398,
           0.165,
           0.794,
           0.59,
           0.632,
           0.814,
           0.153,
           0.651
          ],
          [
           1,
           0.987,
           0.992,
           1,
           0.982,
           0.971,
           0.978,
           0.904,
           0.958,
           0.986,
           0.955,
           0.943,
           0.99,
           0.983,
           0.927,
           0.936,
           0.938,
           0.91,
           0.985,
           0.942
          ],
          [
           0.039,
           0.227,
           1,
           0,
           0.218,
           0.528,
           0.126,
           0.183,
           0.089,
           0.593,
           0.409,
           0.055,
           0.036,
           0.183,
           0.43,
           0.394,
           0.207,
           0.55,
           0.43,
           0.315
          ],
          [
           0.451,
           0.147,
           1,
           0.315,
           0.265,
           0.253,
           0.601,
           0.349,
           1,
           0.332,
           0,
           0.501,
           0.678,
           0.219,
           0.303,
           0.9,
           0.029,
           0.213,
           0.727,
           0.215
          ],
          [
           0.155,
           0.065,
           1,
           0,
           0.441,
           0.189,
           0.424,
           0.118,
           0.703,
           0.304,
           0,
           0.226,
           0.993,
           0.251,
           0.449,
           0.337,
           0.203,
           0.117,
           0.547,
           0.426
          ],
          [
           0.216,
           0.064,
           1,
           0.136,
           0.481,
           0.216,
           0.357,
           0.236,
           0.622,
           0.346,
           0,
           0.09,
           1,
           0.257,
           0.325,
           0.371,
           0.221,
           0.084,
           0.567,
           0.355
          ],
          [
           0.21,
           0.056,
           1,
           0.243,
           0.446,
           0.202,
           0.341,
           0.229,
           0.575,
           0.324,
           0,
           0.072,
           0.976,
           0.253,
           0.365,
           0.636,
           0.211,
           0.129,
           0.55,
           0.446
          ],
          [
           0.503,
           0.226,
           0.563,
           0.847,
           0.966,
           0.303,
           0.283,
           0.17,
           0.059,
           0.459,
           0.482,
           0.92,
           0.902,
           0.871,
           0.149,
           0.163,
           0.887,
           0,
           0.45,
           0.093
          ],
          [
           0.637,
           0.301,
           0,
           1,
           1,
           0.371,
           0.803,
           1,
           0.542,
           1,
           0.155,
           0.578,
           0.116,
           0.745,
           0.145,
           0.656,
           0.54,
           1,
           0.233,
           0.156
          ],
          [
           0.526,
           0.327,
           1,
           0.354,
           0.756,
           0.3,
           0,
           0,
           0.217,
           0.104,
           0.406,
           0.085,
           0.973,
           1,
           0.355,
           0.018,
           0.504,
           0,
           0.487,
           0.251
          ],
          [
           0.525,
           0.562,
           0.192,
           0.895,
           0.602,
           0.488,
           0.652,
           1,
           0.252,
           0.723,
           0.004,
           0.588,
           0.4,
           0.248,
           0.142,
           0.535,
           0.639,
           0.859,
           0.563,
           0.213
          ],
          [
           0.313,
           0.175,
           1,
           0.746,
           0.381,
           0.253,
           0.189,
           0.539,
           0.099,
           0.485,
           0.132,
           0.338,
           0.99,
           0,
           0,
           0.296,
           0.215,
           0.948,
           0.496,
           0.234
          ],
          [
           0.084,
           0.065,
           1,
           0.091,
           0.056,
           0.135,
           0.281,
           0.003,
           0.478,
           0.223,
           0,
           0.045,
           0.103,
           0.301,
           0.227,
           0.194,
           0.093,
           0.118,
           0.547,
           0.324
          ],
          [
           0.3,
           0.423,
           0.989,
           0.678,
           0,
           0.371,
           0.348,
           0.218,
           0.753,
           0.487,
           0.107,
           0.088,
           0,
           0.656,
           0.304,
           0.217,
           0.247,
           0.425,
           0.607,
           0.43
          ],
          [
           0.003,
           0.007,
           0,
           0.101,
           0,
           0.002,
           0.015,
           0.045,
           0.021,
           0,
           0.01,
           0.054,
           0.007,
           0,
           0.038,
           0,
           0,
           0.001,
           0,
           0.023
          ],
          [
           0.073,
           0.02,
           0,
           0.118,
           0.02,
           0.002,
           0.067,
           0.219,
           0.22,
           0,
           0.028,
           0.434,
           0.094,
           0.026,
           0.059,
           0.053,
           0.119,
           0.05,
           0,
           0.067
          ]
         ]
        }
       ],
       "layout": {
        "coloraxis": {
         "colorscale": [
          [
           0,
           "#0d0887"
          ],
          [
           0.1111111111111111,
           "#46039f"
          ],
          [
           0.2222222222222222,
           "#7201a8"
          ],
          [
           0.3333333333333333,
           "#9c179e"
          ],
          [
           0.4444444444444444,
           "#bd3786"
          ],
          [
           0.5555555555555556,
           "#d8576b"
          ],
          [
           0.6666666666666666,
           "#ed7953"
          ],
          [
           0.7777777777777778,
           "#fb9f3a"
          ],
          [
           0.8888888888888888,
           "#fdca26"
          ],
          [
           1,
           "#f0f921"
          ]
         ]
        },
        "height": 1100,
        "template": {
         "data": {
          "bar": [
           {
            "error_x": {
             "color": "#f2f5fa"
            },
            "error_y": {
             "color": "#f2f5fa"
            },
            "marker": {
             "line": {
              "color": "rgb(17,17,17)",
              "width": 0.5
             },
             "pattern": {
              "fillmode": "overlay",
              "size": 10,
              "solidity": 0.2
             }
            },
            "type": "bar"
           }
          ],
          "barpolar": [
           {
            "marker": {
             "line": {
              "color": "rgb(17,17,17)",
              "width": 0.5
             },
             "pattern": {
              "fillmode": "overlay",
              "size": 10,
              "solidity": 0.2
             }
            },
            "type": "barpolar"
           }
          ],
          "carpet": [
           {
            "aaxis": {
             "endlinecolor": "#A2B1C6",
             "gridcolor": "#506784",
             "linecolor": "#506784",
             "minorgridcolor": "#506784",
             "startlinecolor": "#A2B1C6"
            },
            "baxis": {
             "endlinecolor": "#A2B1C6",
             "gridcolor": "#506784",
             "linecolor": "#506784",
             "minorgridcolor": "#506784",
             "startlinecolor": "#A2B1C6"
            },
            "type": "carpet"
           }
          ],
          "choropleth": [
           {
            "colorbar": {
             "outlinewidth": 0,
             "ticks": ""
            },
            "type": "choropleth"
           }
          ],
          "contour": [
           {
            "colorbar": {
             "outlinewidth": 0,
             "ticks": ""
            },
            "colorscale": [
             [
              0,
              "#0d0887"
             ],
             [
              0.1111111111111111,
              "#46039f"
             ],
             [
              0.2222222222222222,
              "#7201a8"
             ],
             [
              0.3333333333333333,
              "#9c179e"
             ],
             [
              0.4444444444444444,
              "#bd3786"
             ],
             [
              0.5555555555555556,
              "#d8576b"
             ],
             [
              0.6666666666666666,
              "#ed7953"
             ],
             [
              0.7777777777777778,
              "#fb9f3a"
             ],
             [
              0.8888888888888888,
              "#fdca26"
             ],
             [
              1,
              "#f0f921"
             ]
            ],
            "type": "contour"
           }
          ],
          "contourcarpet": [
           {
            "colorbar": {
             "outlinewidth": 0,
             "ticks": ""
            },
            "type": "contourcarpet"
           }
          ],
          "heatmap": [
           {
            "colorbar": {
             "outlinewidth": 0,
             "ticks": ""
            },
            "colorscale": [
             [
              0,
              "#0d0887"
             ],
             [
              0.1111111111111111,
              "#46039f"
             ],
             [
              0.2222222222222222,
              "#7201a8"
             ],
             [
              0.3333333333333333,
              "#9c179e"
             ],
             [
              0.4444444444444444,
              "#bd3786"
             ],
             [
              0.5555555555555556,
              "#d8576b"
             ],
             [
              0.6666666666666666,
              "#ed7953"
             ],
             [
              0.7777777777777778,
              "#fb9f3a"
             ],
             [
              0.8888888888888888,
              "#fdca26"
             ],
             [
              1,
              "#f0f921"
             ]
            ],
            "type": "heatmap"
           }
          ],
          "heatmapgl": [
           {
            "colorbar": {
             "outlinewidth": 0,
             "ticks": ""
            },
            "colorscale": [
             [
              0,
              "#0d0887"
             ],
             [
              0.1111111111111111,
              "#46039f"
             ],
             [
              0.2222222222222222,
              "#7201a8"
             ],
             [
              0.3333333333333333,
              "#9c179e"
             ],
             [
              0.4444444444444444,
              "#bd3786"
             ],
             [
              0.5555555555555556,
              "#d8576b"
             ],
             [
              0.6666666666666666,
              "#ed7953"
             ],
             [
              0.7777777777777778,
              "#fb9f3a"
             ],
             [
              0.8888888888888888,
              "#fdca26"
             ],
             [
              1,
              "#f0f921"
             ]
            ],
            "type": "heatmapgl"
           }
          ],
          "histogram": [
           {
            "marker": {
             "pattern": {
              "fillmode": "overlay",
              "size": 10,
              "solidity": 0.2
             }
            },
            "type": "histogram"
           }
          ],
          "histogram2d": [
           {
            "colorbar": {
             "outlinewidth": 0,
             "ticks": ""
            },
            "colorscale": [
             [
              0,
              "#0d0887"
             ],
             [
              0.1111111111111111,
              "#46039f"
             ],
             [
              0.2222222222222222,
              "#7201a8"
             ],
             [
              0.3333333333333333,
              "#9c179e"
             ],
             [
              0.4444444444444444,
              "#bd3786"
             ],
             [
              0.5555555555555556,
              "#d8576b"
             ],
             [
              0.6666666666666666,
              "#ed7953"
             ],
             [
              0.7777777777777778,
              "#fb9f3a"
             ],
             [
              0.8888888888888888,
              "#fdca26"
             ],
             [
              1,
              "#f0f921"
             ]
            ],
            "type": "histogram2d"
           }
          ],
          "histogram2dcontour": [
           {
            "colorbar": {
             "outlinewidth": 0,
             "ticks": ""
            },
            "colorscale": [
             [
              0,
              "#0d0887"
             ],
             [
              0.1111111111111111,
              "#46039f"
             ],
             [
              0.2222222222222222,
              "#7201a8"
             ],
             [
              0.3333333333333333,
              "#9c179e"
             ],
             [
              0.4444444444444444,
              "#bd3786"
             ],
             [
              0.5555555555555556,
              "#d8576b"
             ],
             [
              0.6666666666666666,
              "#ed7953"
             ],
             [
              0.7777777777777778,
              "#fb9f3a"
             ],
             [
              0.8888888888888888,
              "#fdca26"
             ],
             [
              1,
              "#f0f921"
             ]
            ],
            "type": "histogram2dcontour"
           }
          ],
          "mesh3d": [
           {
            "colorbar": {
             "outlinewidth": 0,
             "ticks": ""
            },
            "type": "mesh3d"
           }
          ],
          "parcoords": [
           {
            "line": {
             "colorbar": {
              "outlinewidth": 0,
              "ticks": ""
             }
            },
            "type": "parcoords"
           }
          ],
          "pie": [
           {
            "automargin": true,
            "type": "pie"
           }
          ],
          "scatter": [
           {
            "marker": {
             "line": {
              "color": "#283442"
             }
            },
            "type": "scatter"
           }
          ],
          "scatter3d": [
           {
            "line": {
             "colorbar": {
              "outlinewidth": 0,
              "ticks": ""
             }
            },
            "marker": {
             "colorbar": {
              "outlinewidth": 0,
              "ticks": ""
             }
            },
            "type": "scatter3d"
           }
          ],
          "scattercarpet": [
           {
            "marker": {
             "colorbar": {
              "outlinewidth": 0,
              "ticks": ""
             }
            },
            "type": "scattercarpet"
           }
          ],
          "scattergeo": [
           {
            "marker": {
             "colorbar": {
              "outlinewidth": 0,
              "ticks": ""
             }
            },
            "type": "scattergeo"
           }
          ],
          "scattergl": [
           {
            "marker": {
             "line": {
              "color": "#283442"
             }
            },
            "type": "scattergl"
           }
          ],
          "scattermapbox": [
           {
            "marker": {
             "colorbar": {
              "outlinewidth": 0,
              "ticks": ""
             }
            },
            "type": "scattermapbox"
           }
          ],
          "scatterpolar": [
           {
            "marker": {
             "colorbar": {
              "outlinewidth": 0,
              "ticks": ""
             }
            },
            "type": "scatterpolar"
           }
          ],
          "scatterpolargl": [
           {
            "marker": {
             "colorbar": {
              "outlinewidth": 0,
              "ticks": ""
             }
            },
            "type": "scatterpolargl"
           }
          ],
          "scatterternary": [
           {
            "marker": {
             "colorbar": {
              "outlinewidth": 0,
              "ticks": ""
             }
            },
            "type": "scatterternary"
           }
          ],
          "surface": [
           {
            "colorbar": {
             "outlinewidth": 0,
             "ticks": ""
            },
            "colorscale": [
             [
              0,
              "#0d0887"
             ],
             [
              0.1111111111111111,
              "#46039f"
             ],
             [
              0.2222222222222222,
              "#7201a8"
             ],
             [
              0.3333333333333333,
              "#9c179e"
             ],
             [
              0.4444444444444444,
              "#bd3786"
             ],
             [
              0.5555555555555556,
              "#d8576b"
             ],
             [
              0.6666666666666666,
              "#ed7953"
             ],
             [
              0.7777777777777778,
              "#fb9f3a"
             ],
             [
              0.8888888888888888,
              "#fdca26"
             ],
             [
              1,
              "#f0f921"
             ]
            ],
            "type": "surface"
           }
          ],
          "table": [
           {
            "cells": {
             "fill": {
              "color": "#506784"
             },
             "line": {
              "color": "rgb(17,17,17)"
             }
            },
            "header": {
             "fill": {
              "color": "#2a3f5f"
             },
             "line": {
              "color": "rgb(17,17,17)"
             }
            },
            "type": "table"
           }
          ]
         },
         "layout": {
          "annotationdefaults": {
           "arrowcolor": "#f2f5fa",
           "arrowhead": 0,
           "arrowwidth": 1
          },
          "autotypenumbers": "strict",
          "coloraxis": {
           "colorbar": {
            "outlinewidth": 0,
            "ticks": ""
           }
          },
          "colorscale": {
           "diverging": [
            [
             0,
             "#8e0152"
            ],
            [
             0.1,
             "#c51b7d"
            ],
            [
             0.2,
             "#de77ae"
            ],
            [
             0.3,
             "#f1b6da"
            ],
            [
             0.4,
             "#fde0ef"
            ],
            [
             0.5,
             "#f7f7f7"
            ],
            [
             0.6,
             "#e6f5d0"
            ],
            [
             0.7,
             "#b8e186"
            ],
            [
             0.8,
             "#7fbc41"
            ],
            [
             0.9,
             "#4d9221"
            ],
            [
             1,
             "#276419"
            ]
           ],
           "sequential": [
            [
             0,
             "#0d0887"
            ],
            [
             0.1111111111111111,
             "#46039f"
            ],
            [
             0.2222222222222222,
             "#7201a8"
            ],
            [
             0.3333333333333333,
             "#9c179e"
            ],
            [
             0.4444444444444444,
             "#bd3786"
            ],
            [
             0.5555555555555556,
             "#d8576b"
            ],
            [
             0.6666666666666666,
             "#ed7953"
            ],
            [
             0.7777777777777778,
             "#fb9f3a"
            ],
            [
             0.8888888888888888,
             "#fdca26"
            ],
            [
             1,
             "#f0f921"
            ]
           ],
           "sequentialminus": [
            [
             0,
             "#0d0887"
            ],
            [
             0.1111111111111111,
             "#46039f"
            ],
            [
             0.2222222222222222,
             "#7201a8"
            ],
            [
             0.3333333333333333,
             "#9c179e"
            ],
            [
             0.4444444444444444,
             "#bd3786"
            ],
            [
             0.5555555555555556,
             "#d8576b"
            ],
            [
             0.6666666666666666,
             "#ed7953"
            ],
            [
             0.7777777777777778,
             "#fb9f3a"
            ],
            [
             0.8888888888888888,
             "#fdca26"
            ],
            [
             1,
             "#f0f921"
            ]
           ]
          },
          "colorway": [
           "#636efa",
           "#EF553B",
           "#00cc96",
           "#ab63fa",
           "#FFA15A",
           "#19d3f3",
           "#FF6692",
           "#B6E880",
           "#FF97FF",
           "#FECB52"
          ],
          "font": {
           "color": "#f2f5fa"
          },
          "geo": {
           "bgcolor": "rgb(17,17,17)",
           "lakecolor": "rgb(17,17,17)",
           "landcolor": "rgb(17,17,17)",
           "showlakes": true,
           "showland": true,
           "subunitcolor": "#506784"
          },
          "hoverlabel": {
           "align": "left"
          },
          "hovermode": "closest",
          "mapbox": {
           "style": "dark"
          },
          "paper_bgcolor": "rgb(17,17,17)",
          "plot_bgcolor": "rgb(17,17,17)",
          "polar": {
           "angularaxis": {
            "gridcolor": "#506784",
            "linecolor": "#506784",
            "ticks": ""
           },
           "bgcolor": "rgb(17,17,17)",
           "radialaxis": {
            "gridcolor": "#506784",
            "linecolor": "#506784",
            "ticks": ""
           }
          },
          "scene": {
           "xaxis": {
            "backgroundcolor": "rgb(17,17,17)",
            "gridcolor": "#506784",
            "gridwidth": 2,
            "linecolor": "#506784",
            "showbackground": true,
            "ticks": "",
            "zerolinecolor": "#C8D4E3"
           },
           "yaxis": {
            "backgroundcolor": "rgb(17,17,17)",
            "gridcolor": "#506784",
            "gridwidth": 2,
            "linecolor": "#506784",
            "showbackground": true,
            "ticks": "",
            "zerolinecolor": "#C8D4E3"
           },
           "zaxis": {
            "backgroundcolor": "rgb(17,17,17)",
            "gridcolor": "#506784",
            "gridwidth": 2,
            "linecolor": "#506784",
            "showbackground": true,
            "ticks": "",
            "zerolinecolor": "#C8D4E3"
           }
          },
          "shapedefaults": {
           "line": {
            "color": "#f2f5fa"
           }
          },
          "sliderdefaults": {
           "bgcolor": "#C8D4E3",
           "bordercolor": "rgb(17,17,17)",
           "borderwidth": 1,
           "tickwidth": 0
          },
          "ternary": {
           "aaxis": {
            "gridcolor": "#506784",
            "linecolor": "#506784",
            "ticks": ""
           },
           "baxis": {
            "gridcolor": "#506784",
            "linecolor": "#506784",
            "ticks": ""
           },
           "bgcolor": "rgb(17,17,17)",
           "caxis": {
            "gridcolor": "#506784",
            "linecolor": "#506784",
            "ticks": ""
           }
          },
          "title": {
           "x": 0.05
          },
          "updatemenudefaults": {
           "bgcolor": "#506784",
           "borderwidth": 0
          },
          "xaxis": {
           "automargin": true,
           "gridcolor": "#283442",
           "linecolor": "#506784",
           "ticks": "",
           "title": {
            "standoff": 15
           },
           "zerolinecolor": "#283442",
           "zerolinewidth": 2
          },
          "yaxis": {
           "automargin": true,
           "gridcolor": "#283442",
           "linecolor": "#506784",
           "ticks": "",
           "title": {
            "standoff": 15
           },
           "zerolinecolor": "#283442",
           "zerolinewidth": 2
          }
         }
        },
        "title": {
         "text": "Heat Map of Normalized Equity Data from the Bottom 20 Companies in the S&P500"
        },
        "width": 800,
        "xaxis": {
         "anchor": "y",
         "constrain": "domain",
         "domain": [
          0,
          1
         ],
         "scaleanchor": "y"
        },
        "yaxis": {
         "anchor": "x",
         "autorange": "reversed",
         "constrain": "domain",
         "domain": [
          0,
          1
         ]
        }
       }
      }
     },
     "metadata": {},
     "output_type": "display_data"
    },
    {
     "data": {
      "application/vnd.plotly.v1+json": {
       "config": {
        "plotlyServerURL": "https://plot.ly"
       },
       "data": [
        {
         "coloraxis": "coloraxis",
         "hovertemplate": "x: %{x}<br>y: %{y}<br>color: %{z}<extra></extra>",
         "name": "0",
         "texttemplate": "%{z}",
         "type": "heatmap",
         "x": [
          "AAPL",
          "MSFT",
          "V",
          "NVDA",
          "XOM",
          "WMT",
          "LLY",
          "PG",
          "HD",
          "MRK",
          "KO",
          "ABBV",
          "PFE",
          "AVGO",
          "ORCL",
          "PEP",
          "COST",
          "TMO",
          "MCD",
          "CSCO"
         ],
         "xaxis": "x",
         "y": [
          "Market Capitalization Score",
          "Price to Earnings Ratio (TTM) Score",
          "Basic EPS (TTM) Score",
          "Number of Employees Score",
          "Free Cash Flow (Annual YoY Growth) Score",
          "Free Cash Flow Margin (FY) Score",
          "Free Cash Flow (Quarterly YoY Growth) Score",
          "3-Month Performance Score",
          "Basic EPS (FY) Score",
          "EPS Diluted (TTM) Score",
          "EBITDA (TTM) Score",
          "Gross Profit (MRQ) Score",
          "Gross Profit (FY) Score",
          "Total Revenue (FY) Score",
          "EPS Diluted (FY) Score",
          "Last Year Revenue (FY) Score",
          "Net Income (FY) Score",
          "Current Ratio (MRQ) Score",
          "Debt to Equity Ratio (MRQ) Score",
          "Net Debt (MRQ) Score",
          "Quick Ratio (MRQ) Score",
          "Total Assets (MRQ) Score",
          "Total Debt (MRQ) Score",
          "Total Current Assets (MRQ) Score",
          "Dividend Yield Forward Score",
          "Dividends Paid (FY) Score",
          "Dividends per Share (FY) Score",
          "Gross Margin (TTM) Score",
          "Operating Margin (TTM) Score",
          "Pretax Margin (TTM) Score",
          "Net Margin (TTM) Score",
          "6-Month Performance Score",
          "YTD Performance Score",
          "Yearly Performance Score",
          "1-Year Beta Score",
          "Volatility Score",
          "Price to Revenue Ratio (TTM) Score",
          "Enterprise Value/EBITDA (TTM) Score",
          "Enterprise Value (MRQ) Score",
          "Total Shares Outstanding Score"
         ],
         "yaxis": "y",
         "z": [
          [
           1,
           1,
           1,
           1,
           1,
           1,
           1,
           1,
           1,
           1,
           1,
           1,
           1,
           0.994,
           0.961,
           0.952,
           0.908,
           0.899,
           0.799,
           0.798
          ],
          [
           0.395,
           0.476,
           0.596,
           1,
           0.075,
           0.844,
           1,
           0.412,
           0.288,
           0.254,
           0.452,
           0.297,
           0.054,
           0.365,
           0.48,
           0.402,
           0.706,
           0.579,
           0.624,
           0.254
          ],
          [
           0.244,
           0.382,
           0.294,
           0.063,
           0.538,
           0.105,
           0.269,
           0.23,
           0.747,
           0.238,
           0.059,
           0.31,
           0.204,
           1,
           0.107,
           0.286,
           0.585,
           0.808,
           0.332,
           0.082
          ],
          [
           0.542,
           0.734,
           0.08,
           0.066,
           0.203,
           1,
           0.108,
           0.347,
           1,
           0.219,
           0.256,
           0.159,
           0.256,
           0.058,
           0.472,
           1,
           1,
           0.428,
           0.664,
           0.271
          ],
          [
           0.217,
           0.208,
           0.224,
           0.338,
           1,
           0.042,
           0.209,
           0.142,
           0.139,
           0.322,
           0.24,
           0.242,
           0.502,
           0.223,
           0.027,
           0.194,
           0.093,
           0.171,
           0.294,
           0.141
          ],
          [
           0.831,
           0.928,
           1,
           0.872,
           0.507,
           0.278,
           0.679,
           0.593,
           0.432,
           0.652,
           0.848,
           1,
           1,
           1,
           0.486,
           0.422,
           0.269,
           0.601,
           0.88,
           0.757
          ],
          [
           0.419,
           0.297,
           0.371,
           0.172,
           0.584,
           1,
           0.416,
           0.31,
           0.331,
           0.421,
           0.366,
           0.37,
           0.357,
           0.431,
           0.499,
           0.379,
           0.322,
           0.313,
           0.358,
           0.404
          ],
          [
           0.084,
           0.385,
           0.55,
           1,
           0.321,
           0.277,
           0.251,
           0.417,
           0.416,
           0.437,
           0.319,
           0.274,
           0.045,
           0.885,
           0.59,
           0.123,
           0.29,
           0.539,
           0.265,
           0.447
          ],
          [
           0.325,
           0.551,
           0.38,
           0.182,
           0.276,
           0.245,
           0.325,
           0.315,
           0.926,
           0.261,
           0.077,
           0.345,
           0.185,
           1,
           0.091,
           0.284,
           0.772,
           1,
           0.577,
           0.113
          ],
          [
           0.243,
           0.382,
           0.287,
           0.063,
           0.54,
           0.106,
           0.27,
           0.224,
           0.747,
           0.239,
           0.06,
           0.311,
           0.2,
           1,
           0.104,
           0.286,
           0.586,
           0.804,
           0.332,
           0.083
          ],
          [
           1,
           1,
           1,
           0.431,
           1,
           1,
           0.471,
           0.972,
           1,
           1,
           0.578,
           1,
           1,
           0.937,
           0.92,
           0.683,
           0.472,
           0.587,
           0.568,
           0.77
          ],
          [
           1,
           1,
           0.729,
           0.353,
           1,
           1,
           0.625,
           1,
           1,
           1,
           0.775,
           1,
           1,
           0.652,
           0.955,
           1,
           0.788,
           0.496,
           0.382,
           1
          ],
          [
           1,
           1,
           0.69,
           0.522,
           1,
           1,
           0.635,
           1,
           1,
           1,
           0.706,
           1,
           1,
           0.621,
           1,
           1,
           0.845,
           0.591,
           0.363,
           0.985
          ],
          [
           1,
           1,
           0.212,
           0.193,
           1,
           1,
           0.204,
           0.622,
           1,
           0.37,
           0.288,
           0.429,
           0.631,
           0.244,
           0.318,
           0.617,
           1,
           0.292,
           0.163,
           0.392
          ],
          [
           0.322,
           0.547,
           0.369,
           0.178,
           0.276,
           0.243,
           0.323,
           0.303,
           0.922,
           0.26,
           0.076,
           0.344,
           0.18,
           1,
           0.086,
           0.282,
           0.77,
           1,
           0.572,
           0.112
          ],
          [
           1,
           1,
           0.212,
           0.193,
           1,
           1,
           0.204,
           0.622,
           1,
           0.37,
           0.288,
           0.429,
           0.631,
           0.244,
           0.318,
           0.617,
           1,
           0.292,
           0.163,
           0.392
          ],
          [
           1,
           1,
           1,
           0.75,
           1,
           1,
           0.417,
           1,
           1,
           1,
           0.751,
           0.887,
           1,
           0.889,
           0.508,
           0.58,
           0.438,
           0.588,
           0.574,
           0.914
          ],
          [
           0.101,
           0.478,
           0.302,
           1,
           0.266,
           0.096,
           0.19,
           0,
           0.283,
           0.309,
           0.189,
           0.118,
           0.355,
           0.726,
           0.018,
           0.115,
           0.156,
           0.408,
           0.376,
           0.306
          ],
          [
           0.845,
           0.514,
           0.533,
           0.533,
           0.485,
           0.572,
           0.686,
           0.567,
           1,
           0.553,
           0.695,
           1,
           0.509,
           0.716,
           0,
           0.76,
           0.513,
           0.55,
           0,
           0.486
          ],
          [
           1,
           0,
           0.063,
           0,
           0.336,
           1,
           0.298,
           0.609,
           1,
           0.421,
           0.575,
           1,
           0.034,
           0.6,
           1,
           0.703,
           0,
           0.572,
           0.953,
           0
          ],
          [
           0.251,
           0.78,
           0.55,
           1,
           0.336,
           0,
           0.268,
           0.009,
           0,
           0.437,
           0.304,
           0.243,
           0.517,
           1,
           0.15,
           0.187,
           0.061,
           0.44,
           0.649,
           0.502
          ],
          [
           1,
           1,
           0.623,
           0.276,
           1,
           1,
           0.33,
           0.874,
           0.557,
           0.791,
           0.678,
           1,
           1,
           0.529,
           0.957,
           0.694,
           0.473,
           0.663,
           0.338,
           0.683
          ],
          [
           1,
           1,
           0.402,
           0.223,
           0.912,
           1,
           0.307,
           0.696,
           1,
           0.605,
           0.793,
           1,
           0.733,
           0.801,
           1,
           0.786,
           0.167,
           0.579,
           0.95,
           0.184
          ],
          [
           1,
           1,
           0.694,
           0.573,
           1,
           1,
           0.428,
           0.538,
           0.846,
           0.843,
           0.597,
           0.76,
           1,
           0.45,
           0.426,
           0.582,
           0.858,
           0.471,
           0.118,
           0.91
          ],
          [
           0.052,
           0.156,
           0.085,
           0,
           0.612,
           0.259,
           0.206,
           0.49,
           0.445,
           0.528,
           0.559,
           0.811,
           0.744,
           0.604,
           0.232,
           0.515,
           0.071,
           0,
           0.408,
           0.608
          ],
          [
           0,
           0,
           0.506,
           0.943,
           0,
           0.046,
           0.524,
           0,
           0,
           0,
           0,
           0,
           0,
           0,
           0.466,
           0.098,
           0.771,
           0.943,
           0.394,
           0.035
          ],
          [
           0.17,
           0.491,
           0.292,
           0.02,
           0.696,
           0.434,
           0.678,
           0.703,
           1,
           0.524,
           0.329,
           1,
           0.306,
           1,
           0.248,
           0.85,
           0.674,
           0.199,
           1,
           0.292
          ],
          [
           0.528,
           0.949,
           1,
           0.774,
           0.22,
           0.208,
           1,
           0.584,
           0.336,
           1,
           0.786,
           1,
           0.851,
           0.845,
           0.996,
           0.699,
           0,
           0.536,
           0.732,
           0.845
          ],
          [
           0.625,
           0.875,
           1,
           0.564,
           0.257,
           0,
           0.6,
           0.412,
           0.261,
           0.689,
           0.453,
           0.804,
           0.764,
           0.938,
           0.649,
           0.226,
           0,
           0.396,
           0.951,
           0.548
          ],
          [
           0.701,
           0.97,
           1,
           0.438,
           0.384,
           0,
           0.497,
           0.483,
           0.287,
           0.646,
           0.659,
           0.58,
           0.784,
           0.891,
           0.504,
           0.279,
           0,
           0.38,
           0.765,
           0.626
          ],
          [
           0.726,
           0.973,
           1,
           0.584,
           0.342,
           0,
           0.577,
           0.486,
           0.265,
           0.734,
           0.664,
           0.654,
           0.875,
           1,
           0.528,
           0.289,
           0,
           0.426,
           0.729,
           0.62
          ],
          [
           0.105,
           0.076,
           0.617,
           0.502,
           0.861,
           0.555,
           0.522,
           0.362,
           0.459,
           0.893,
           0.262,
           0.439,
           0.071,
           0.58,
           0.707,
           0.296,
           0.188,
           0.266,
           0.463,
           0.551
          ],
          [
           0.714,
           0.276,
           0.701,
           1,
           0.435,
           0.27,
           0,
           0,
           0.238,
           0.11,
           0.08,
           0,
           0,
           0.411,
           0.544,
           0.011,
           0.719,
           0.37,
           0.406,
           0.316
          ],
          [
           0.158,
           0.064,
           0.461,
           0.171,
           1,
           0.473,
           1,
           0.203,
           0.174,
           0.971,
           0.431,
           0.517,
           0.066,
           0.515,
           0.553,
           0.404,
           0.464,
           0.425,
           0.539,
           0.196
          ],
          [
           0.798,
           0.735,
           0.589,
           1,
           0.209,
           0.237,
           0.155,
           0.265,
           0.442,
           0,
           0.22,
           0.052,
           0.192,
           0.678,
           0.569,
           0.123,
           0.661,
           0.55,
           0.237,
           0.341
          ],
          [
           0.416,
           0.533,
           0.179,
           1,
           0.422,
           0.14,
           0.531,
           0.091,
           0.133,
           0,
           0.039,
           0.079,
           0.243,
           0.332,
           0.471,
           0.113,
           0,
           0.469,
           0,
           0
          ],
          [
           0.617,
           0.967,
           1,
           1,
           0.086,
           0.02,
           1,
           0.435,
           0.178,
           0.449,
           0.642,
           0.451,
           0.229,
           0.804,
           0.542,
           0.263,
           0.056,
           0.523,
           0.919,
           0.376
          ],
          [
           0.626,
           0.647,
           0.823,
           1,
           0.065,
           0.424,
           1,
           0.612,
           0.415,
           0.345,
           0.864,
           0.273,
           0.07,
           0.439,
           0.568,
           0.637,
           0.777,
           0.711,
           0.711,
           0.331
          ],
          [
           1,
           1,
           1,
           1,
           1,
           1,
           1,
           1,
           1,
           0.869,
           1,
           1,
           0.92,
           0.84,
           1,
           0.992,
           0.839,
           0.825,
           0.78,
           0.634
          ],
          [
           1,
           1,
           0.757,
           0.91,
           1,
           1,
           0.348,
           0.871,
           0.36,
           0.939,
           1,
           0.646,
           1,
           0.131,
           1,
           0.497,
           0.141,
           0.121,
           0.251,
           1
          ]
         ]
        }
       ],
       "layout": {
        "coloraxis": {
         "colorscale": [
          [
           0,
           "#0d0887"
          ],
          [
           0.1111111111111111,
           "#46039f"
          ],
          [
           0.2222222222222222,
           "#7201a8"
          ],
          [
           0.3333333333333333,
           "#9c179e"
          ],
          [
           0.4444444444444444,
           "#bd3786"
          ],
          [
           0.5555555555555556,
           "#d8576b"
          ],
          [
           0.6666666666666666,
           "#ed7953"
          ],
          [
           0.7777777777777778,
           "#fb9f3a"
          ],
          [
           0.8888888888888888,
           "#fdca26"
          ],
          [
           1,
           "#f0f921"
          ]
         ]
        },
        "height": 1100,
        "template": {
         "data": {
          "bar": [
           {
            "error_x": {
             "color": "#f2f5fa"
            },
            "error_y": {
             "color": "#f2f5fa"
            },
            "marker": {
             "line": {
              "color": "rgb(17,17,17)",
              "width": 0.5
             },
             "pattern": {
              "fillmode": "overlay",
              "size": 10,
              "solidity": 0.2
             }
            },
            "type": "bar"
           }
          ],
          "barpolar": [
           {
            "marker": {
             "line": {
              "color": "rgb(17,17,17)",
              "width": 0.5
             },
             "pattern": {
              "fillmode": "overlay",
              "size": 10,
              "solidity": 0.2
             }
            },
            "type": "barpolar"
           }
          ],
          "carpet": [
           {
            "aaxis": {
             "endlinecolor": "#A2B1C6",
             "gridcolor": "#506784",
             "linecolor": "#506784",
             "minorgridcolor": "#506784",
             "startlinecolor": "#A2B1C6"
            },
            "baxis": {
             "endlinecolor": "#A2B1C6",
             "gridcolor": "#506784",
             "linecolor": "#506784",
             "minorgridcolor": "#506784",
             "startlinecolor": "#A2B1C6"
            },
            "type": "carpet"
           }
          ],
          "choropleth": [
           {
            "colorbar": {
             "outlinewidth": 0,
             "ticks": ""
            },
            "type": "choropleth"
           }
          ],
          "contour": [
           {
            "colorbar": {
             "outlinewidth": 0,
             "ticks": ""
            },
            "colorscale": [
             [
              0,
              "#0d0887"
             ],
             [
              0.1111111111111111,
              "#46039f"
             ],
             [
              0.2222222222222222,
              "#7201a8"
             ],
             [
              0.3333333333333333,
              "#9c179e"
             ],
             [
              0.4444444444444444,
              "#bd3786"
             ],
             [
              0.5555555555555556,
              "#d8576b"
             ],
             [
              0.6666666666666666,
              "#ed7953"
             ],
             [
              0.7777777777777778,
              "#fb9f3a"
             ],
             [
              0.8888888888888888,
              "#fdca26"
             ],
             [
              1,
              "#f0f921"
             ]
            ],
            "type": "contour"
           }
          ],
          "contourcarpet": [
           {
            "colorbar": {
             "outlinewidth": 0,
             "ticks": ""
            },
            "type": "contourcarpet"
           }
          ],
          "heatmap": [
           {
            "colorbar": {
             "outlinewidth": 0,
             "ticks": ""
            },
            "colorscale": [
             [
              0,
              "#0d0887"
             ],
             [
              0.1111111111111111,
              "#46039f"
             ],
             [
              0.2222222222222222,
              "#7201a8"
             ],
             [
              0.3333333333333333,
              "#9c179e"
             ],
             [
              0.4444444444444444,
              "#bd3786"
             ],
             [
              0.5555555555555556,
              "#d8576b"
             ],
             [
              0.6666666666666666,
              "#ed7953"
             ],
             [
              0.7777777777777778,
              "#fb9f3a"
             ],
             [
              0.8888888888888888,
              "#fdca26"
             ],
             [
              1,
              "#f0f921"
             ]
            ],
            "type": "heatmap"
           }
          ],
          "heatmapgl": [
           {
            "colorbar": {
             "outlinewidth": 0,
             "ticks": ""
            },
            "colorscale": [
             [
              0,
              "#0d0887"
             ],
             [
              0.1111111111111111,
              "#46039f"
             ],
             [
              0.2222222222222222,
              "#7201a8"
             ],
             [
              0.3333333333333333,
              "#9c179e"
             ],
             [
              0.4444444444444444,
              "#bd3786"
             ],
             [
              0.5555555555555556,
              "#d8576b"
             ],
             [
              0.6666666666666666,
              "#ed7953"
             ],
             [
              0.7777777777777778,
              "#fb9f3a"
             ],
             [
              0.8888888888888888,
              "#fdca26"
             ],
             [
              1,
              "#f0f921"
             ]
            ],
            "type": "heatmapgl"
           }
          ],
          "histogram": [
           {
            "marker": {
             "pattern": {
              "fillmode": "overlay",
              "size": 10,
              "solidity": 0.2
             }
            },
            "type": "histogram"
           }
          ],
          "histogram2d": [
           {
            "colorbar": {
             "outlinewidth": 0,
             "ticks": ""
            },
            "colorscale": [
             [
              0,
              "#0d0887"
             ],
             [
              0.1111111111111111,
              "#46039f"
             ],
             [
              0.2222222222222222,
              "#7201a8"
             ],
             [
              0.3333333333333333,
              "#9c179e"
             ],
             [
              0.4444444444444444,
              "#bd3786"
             ],
             [
              0.5555555555555556,
              "#d8576b"
             ],
             [
              0.6666666666666666,
              "#ed7953"
             ],
             [
              0.7777777777777778,
              "#fb9f3a"
             ],
             [
              0.8888888888888888,
              "#fdca26"
             ],
             [
              1,
              "#f0f921"
             ]
            ],
            "type": "histogram2d"
           }
          ],
          "histogram2dcontour": [
           {
            "colorbar": {
             "outlinewidth": 0,
             "ticks": ""
            },
            "colorscale": [
             [
              0,
              "#0d0887"
             ],
             [
              0.1111111111111111,
              "#46039f"
             ],
             [
              0.2222222222222222,
              "#7201a8"
             ],
             [
              0.3333333333333333,
              "#9c179e"
             ],
             [
              0.4444444444444444,
              "#bd3786"
             ],
             [
              0.5555555555555556,
              "#d8576b"
             ],
             [
              0.6666666666666666,
              "#ed7953"
             ],
             [
              0.7777777777777778,
              "#fb9f3a"
             ],
             [
              0.8888888888888888,
              "#fdca26"
             ],
             [
              1,
              "#f0f921"
             ]
            ],
            "type": "histogram2dcontour"
           }
          ],
          "mesh3d": [
           {
            "colorbar": {
             "outlinewidth": 0,
             "ticks": ""
            },
            "type": "mesh3d"
           }
          ],
          "parcoords": [
           {
            "line": {
             "colorbar": {
              "outlinewidth": 0,
              "ticks": ""
             }
            },
            "type": "parcoords"
           }
          ],
          "pie": [
           {
            "automargin": true,
            "type": "pie"
           }
          ],
          "scatter": [
           {
            "marker": {
             "line": {
              "color": "#283442"
             }
            },
            "type": "scatter"
           }
          ],
          "scatter3d": [
           {
            "line": {
             "colorbar": {
              "outlinewidth": 0,
              "ticks": ""
             }
            },
            "marker": {
             "colorbar": {
              "outlinewidth": 0,
              "ticks": ""
             }
            },
            "type": "scatter3d"
           }
          ],
          "scattercarpet": [
           {
            "marker": {
             "colorbar": {
              "outlinewidth": 0,
              "ticks": ""
             }
            },
            "type": "scattercarpet"
           }
          ],
          "scattergeo": [
           {
            "marker": {
             "colorbar": {
              "outlinewidth": 0,
              "ticks": ""
             }
            },
            "type": "scattergeo"
           }
          ],
          "scattergl": [
           {
            "marker": {
             "line": {
              "color": "#283442"
             }
            },
            "type": "scattergl"
           }
          ],
          "scattermapbox": [
           {
            "marker": {
             "colorbar": {
              "outlinewidth": 0,
              "ticks": ""
             }
            },
            "type": "scattermapbox"
           }
          ],
          "scatterpolar": [
           {
            "marker": {
             "colorbar": {
              "outlinewidth": 0,
              "ticks": ""
             }
            },
            "type": "scatterpolar"
           }
          ],
          "scatterpolargl": [
           {
            "marker": {
             "colorbar": {
              "outlinewidth": 0,
              "ticks": ""
             }
            },
            "type": "scatterpolargl"
           }
          ],
          "scatterternary": [
           {
            "marker": {
             "colorbar": {
              "outlinewidth": 0,
              "ticks": ""
             }
            },
            "type": "scatterternary"
           }
          ],
          "surface": [
           {
            "colorbar": {
             "outlinewidth": 0,
             "ticks": ""
            },
            "colorscale": [
             [
              0,
              "#0d0887"
             ],
             [
              0.1111111111111111,
              "#46039f"
             ],
             [
              0.2222222222222222,
              "#7201a8"
             ],
             [
              0.3333333333333333,
              "#9c179e"
             ],
             [
              0.4444444444444444,
              "#bd3786"
             ],
             [
              0.5555555555555556,
              "#d8576b"
             ],
             [
              0.6666666666666666,
              "#ed7953"
             ],
             [
              0.7777777777777778,
              "#fb9f3a"
             ],
             [
              0.8888888888888888,
              "#fdca26"
             ],
             [
              1,
              "#f0f921"
             ]
            ],
            "type": "surface"
           }
          ],
          "table": [
           {
            "cells": {
             "fill": {
              "color": "#506784"
             },
             "line": {
              "color": "rgb(17,17,17)"
             }
            },
            "header": {
             "fill": {
              "color": "#2a3f5f"
             },
             "line": {
              "color": "rgb(17,17,17)"
             }
            },
            "type": "table"
           }
          ]
         },
         "layout": {
          "annotationdefaults": {
           "arrowcolor": "#f2f5fa",
           "arrowhead": 0,
           "arrowwidth": 1
          },
          "autotypenumbers": "strict",
          "coloraxis": {
           "colorbar": {
            "outlinewidth": 0,
            "ticks": ""
           }
          },
          "colorscale": {
           "diverging": [
            [
             0,
             "#8e0152"
            ],
            [
             0.1,
             "#c51b7d"
            ],
            [
             0.2,
             "#de77ae"
            ],
            [
             0.3,
             "#f1b6da"
            ],
            [
             0.4,
             "#fde0ef"
            ],
            [
             0.5,
             "#f7f7f7"
            ],
            [
             0.6,
             "#e6f5d0"
            ],
            [
             0.7,
             "#b8e186"
            ],
            [
             0.8,
             "#7fbc41"
            ],
            [
             0.9,
             "#4d9221"
            ],
            [
             1,
             "#276419"
            ]
           ],
           "sequential": [
            [
             0,
             "#0d0887"
            ],
            [
             0.1111111111111111,
             "#46039f"
            ],
            [
             0.2222222222222222,
             "#7201a8"
            ],
            [
             0.3333333333333333,
             "#9c179e"
            ],
            [
             0.4444444444444444,
             "#bd3786"
            ],
            [
             0.5555555555555556,
             "#d8576b"
            ],
            [
             0.6666666666666666,
             "#ed7953"
            ],
            [
             0.7777777777777778,
             "#fb9f3a"
            ],
            [
             0.8888888888888888,
             "#fdca26"
            ],
            [
             1,
             "#f0f921"
            ]
           ],
           "sequentialminus": [
            [
             0,
             "#0d0887"
            ],
            [
             0.1111111111111111,
             "#46039f"
            ],
            [
             0.2222222222222222,
             "#7201a8"
            ],
            [
             0.3333333333333333,
             "#9c179e"
            ],
            [
             0.4444444444444444,
             "#bd3786"
            ],
            [
             0.5555555555555556,
             "#d8576b"
            ],
            [
             0.6666666666666666,
             "#ed7953"
            ],
            [
             0.7777777777777778,
             "#fb9f3a"
            ],
            [
             0.8888888888888888,
             "#fdca26"
            ],
            [
             1,
             "#f0f921"
            ]
           ]
          },
          "colorway": [
           "#636efa",
           "#EF553B",
           "#00cc96",
           "#ab63fa",
           "#FFA15A",
           "#19d3f3",
           "#FF6692",
           "#B6E880",
           "#FF97FF",
           "#FECB52"
          ],
          "font": {
           "color": "#f2f5fa"
          },
          "geo": {
           "bgcolor": "rgb(17,17,17)",
           "lakecolor": "rgb(17,17,17)",
           "landcolor": "rgb(17,17,17)",
           "showlakes": true,
           "showland": true,
           "subunitcolor": "#506784"
          },
          "hoverlabel": {
           "align": "left"
          },
          "hovermode": "closest",
          "mapbox": {
           "style": "dark"
          },
          "paper_bgcolor": "rgb(17,17,17)",
          "plot_bgcolor": "rgb(17,17,17)",
          "polar": {
           "angularaxis": {
            "gridcolor": "#506784",
            "linecolor": "#506784",
            "ticks": ""
           },
           "bgcolor": "rgb(17,17,17)",
           "radialaxis": {
            "gridcolor": "#506784",
            "linecolor": "#506784",
            "ticks": ""
           }
          },
          "scene": {
           "xaxis": {
            "backgroundcolor": "rgb(17,17,17)",
            "gridcolor": "#506784",
            "gridwidth": 2,
            "linecolor": "#506784",
            "showbackground": true,
            "ticks": "",
            "zerolinecolor": "#C8D4E3"
           },
           "yaxis": {
            "backgroundcolor": "rgb(17,17,17)",
            "gridcolor": "#506784",
            "gridwidth": 2,
            "linecolor": "#506784",
            "showbackground": true,
            "ticks": "",
            "zerolinecolor": "#C8D4E3"
           },
           "zaxis": {
            "backgroundcolor": "rgb(17,17,17)",
            "gridcolor": "#506784",
            "gridwidth": 2,
            "linecolor": "#506784",
            "showbackground": true,
            "ticks": "",
            "zerolinecolor": "#C8D4E3"
           }
          },
          "shapedefaults": {
           "line": {
            "color": "#f2f5fa"
           }
          },
          "sliderdefaults": {
           "bgcolor": "#C8D4E3",
           "bordercolor": "rgb(17,17,17)",
           "borderwidth": 1,
           "tickwidth": 0
          },
          "ternary": {
           "aaxis": {
            "gridcolor": "#506784",
            "linecolor": "#506784",
            "ticks": ""
           },
           "baxis": {
            "gridcolor": "#506784",
            "linecolor": "#506784",
            "ticks": ""
           },
           "bgcolor": "rgb(17,17,17)",
           "caxis": {
            "gridcolor": "#506784",
            "linecolor": "#506784",
            "ticks": ""
           }
          },
          "title": {
           "x": 0.05
          },
          "updatemenudefaults": {
           "bgcolor": "#506784",
           "borderwidth": 0
          },
          "xaxis": {
           "automargin": true,
           "gridcolor": "#283442",
           "linecolor": "#506784",
           "ticks": "",
           "title": {
            "standoff": 15
           },
           "zerolinecolor": "#283442",
           "zerolinewidth": 2
          },
          "yaxis": {
           "automargin": true,
           "gridcolor": "#283442",
           "linecolor": "#506784",
           "ticks": "",
           "title": {
            "standoff": 15
           },
           "zerolinecolor": "#283442",
           "zerolinewidth": 2
          }
         }
        },
        "title": {
         "text": "Heat Map of Normalized Equity Data from the Top 20 Companies in the S&P500"
        },
        "width": 800,
        "xaxis": {
         "anchor": "y",
         "constrain": "domain",
         "domain": [
          0,
          1
         ],
         "scaleanchor": "y"
        },
        "yaxis": {
         "anchor": "x",
         "autorange": "reversed",
         "constrain": "domain",
         "domain": [
          0,
          1
         ]
        }
       }
      }
     },
     "metadata": {},
     "output_type": "display_data"
    }
   ],
   "source": [
    "sort_by = 'Market Capitalization'\n",
    "\n",
    "display(\n",
    "viz.heatmap_plot(\n",
    "    mega_df,\n",
    "    'Heat Map of Normalized Equity Data from the Bottom 20 Companies in the S&P500',\n",
    "    500,\n",
    "    20,\n",
    "    True,\n",
    "    plot_width=800,\n",
    "    plot_height=1100,\n",
    "    sort_by=sort_by),\n",
    "viz.heatmap_plot(\n",
    "    mega_df,\n",
    "    'Heat Map of Normalized Equity Data from the Top 20 Companies in the S&P500',\n",
    "    500,\n",
    "    20,\n",
    "    False,\n",
    "    plot_width=800,\n",
    "    plot_height=1100,\n",
    "    sort_by=sort_by))"
   ]
  },
  {
   "attachments": {},
   "cell_type": "markdown",
   "metadata": {},
   "source": [
    "The heatmap plots validate the strong correlation between market capitalization and overall equity performance across all other variables. Therefore, market capitalization is a strong determinant of the likelihood of a good return on investment as larger companies are more likely to perform better due to being more established in the market. The bottom 20 companies fromt he S&P 500 index perform poorly across almost all variables in direct contrast to those in the top 20 by market capitalization. "
   ]
  }
 ],
 "metadata": {
  "kernelspec": {
   "display_name": "base",
   "language": "python",
   "name": "python3"
  },
  "language_info": {
   "codemirror_mode": {
    "name": "ipython",
    "version": 3
   },
   "file_extension": ".py",
   "mimetype": "text/x-python",
   "name": "python",
   "nbconvert_exporter": "python",
   "pygments_lexer": "ipython3",
   "version": "3.9.15"
  }
 },
 "nbformat": 4,
 "nbformat_minor": 2
}
