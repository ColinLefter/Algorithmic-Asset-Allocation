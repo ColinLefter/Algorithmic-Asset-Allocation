{
 "cells": [
  {
   "cell_type": "markdown",
   "metadata": {},
   "source": [
    "# Colin Lefter"
   ]
  },
  {
   "attachments": {},
   "cell_type": "markdown",
   "metadata": {},
   "source": [
    "## Research question/interests\n",
    "\n",
    "**What equity data is the most deterministic of the performance of an equity, and of this data, which is the most relevant for a growth portfolio investment strategy such that we can compute an optimized portfolio of equities while using user input to drive our optimization algorithm?**\n",
    "\n",
    "My research objective is to develop a scalable asset allocation and construction algorithm that implements an objected-oriented design approach. This objective is an outcome of determining what equity data is the most deterministic of the price of an equity, which will be the focus for the majority of the project/\n",
    "\n",
    "I intend to develop algorithms for constructing multiple linear regressions and Fourier Franforms, among others, that I will then use to construct interactive and statistical models with Plotly and Seaborn. As such, I have a strong interest in the system design of our software and in developing helper functions that can assist all of us with processing data more efficiently. I am also looking forward to using Facebook Prophet[^1] to construct a time series forecast of a sample portfolio recommendation from our software, which can be included in our Tableau Dashboard.\n",
    "\n",
    "### Analysis Plan\n",
    "Our objective function is one that takes in a selection of columns from our data sets to then search for the top n companies that satisfy a criteria for having the highest probability of producing an optimal return on investment. These inputs themselves refer to sub-objective functions that take as input user-defined parameters and thresholds that set the criteria for favourable performance attributes. To rank the companies from our data set, and ultimately determine what portion of capital to assign to each equity, I propose a data normalization algorithm that normalizes the data that comprises the favourable subset from each column of our data set. We interpret these normalized values as probabilities of equity selection and ultimately average the score of each company across all columns to then multiply the final score percentage of each company with the total capital specified by the user. In a broad sense, our software is composed of four general classes that include \"Data\", \"Quantitative Analysis\", \"Data Visualization\" and \"Portfolio Construction\". We inherit the properties from each of these classes to build a functional data analysis chain.\n",
    "\n",
    "Our data visualization will be concerned with analyzing the influence of certain financial variables, such as Price-to-Earnings, on the price of each equity from a sample of 500 equities (from the S&P 500 index). Such analysis would begin with a statistical summary that will constitute exploratory data analysis, followed by our application of analysis algorithms that we design. The construction of a portfolio is a bonus of our project and will be made possible by the analysis algorithms we have constructed.\n",
    "\n",
    "**Important Note**\n",
    "A component of the analysis will involve the comparison of different values of financial variables with the corresponding price of each equity. This constitutes inferential analysis as we are attempting to identify a correlation on the basis of picking stocks based on expected performance. Therefore, this will require us to use past financial data and compare this data with the current price of each equity. As a result, we can only use the 3-month performance data (i.e. 3-month change in share price data) for this comparison as otherwise we would be using future data to predict past performance, which would be invalid.\n",
    "\n",
    "#### User-defined parameters\n",
    "Some initial ideas for these parameters include:\n",
    "- (float) Initial capital\n",
    "- (float) Additional capital per day, week or month\n",
    "- (int) Intended holding period (in days)\n",
    "- (boolean) Importance of dividends (validated based on capital invested)\n",
    "- (String) Preferred industries (choose from a list, or select all)\n",
    "- (int) Volatility tolerance (from 0 to 1, 1 indicating that volatility is not important)\n",
    "- (String) Preferred companies (as a list)[^2]\n",
    "- (int) Preferred degree of portfolio diversification (from 0 to 1, 1 indicating complete diversification)\n",
    "- (String) Preferred investment strategy (choose from \"Growth\", \"Value\", \"GARP\")\n",
    "\n",
    "### Algorithm Plan\n",
    "\n",
    "####  Tier 1: Threshold-based screening algorithms\n",
    "- The current plan is to use these algorithms to screen the financial documents from each company by setting a minimum threshold for each financial ratio. This class of algorithms will need to conduct such screening per industry as industry financial ratios are dinstinct from one another.\n",
    "- A global screening algorithm that selects companies which show favourable performance across all ratios can also be used after each ratio has been individually tested.\n",
    "\n",
    "#### Tier 2: Regression models\n",
    "- As of now, the intent is to develop a multiple linear regression model that will attempt to determine a relationship between the yearly and quarterly performance of each company in relation to several columns of data that act as predictors. This can essentially implement the results from the threshold-based screening algorithms to only conduct this analysis on the pre-screened companies.\n",
    "\n",
    "#### Tier 3: Statistical modelling algorithms\n",
    "- Tier 3 denotes a class of broadly experimental statistical modelling algorithms that are applied on a pre-final portfolio to add additional points to companies that perform exceptionally well compared to others in the portfolio. For now, these algorithms constitute signal processing algorithms such as a Fourier Transform algorithm that attempts to identify peaks in numerical values that would otherwise not be apparent when examined in isolation and without further processing. Therefore, these algorithms will be used to fine-tune the capital allocation percentages for each company in the pre-final portfolio.\n",
    "\n",
    "#### Columns of relevance\n",
    "Data set 1: Overview\n",
    "- Price\n",
    "- MKT Cap\n",
    "- P/E\n",
    "- EPS\n",
    "- Sector\n",
    "\n",
    "Data set 2: Performance\n",
    "- 1M change (1 month change)\n",
    "- 3-Month performance\n",
    "- 6-month perfromance\n",
    "- YTD performance\n",
    "- Yearly performance\n",
    "- Volatility\n",
    "\n",
    "Data set 3: Valuation\n",
    "- Price / revenue\n",
    "- Enterprise value\n",
    "\n",
    "Data set 4: Dividends\n",
    "- Dividend yield FWD\n",
    "- Dividends per share (FY)\n",
    "\n",
    "Data set 5: Margins\n",
    "- Gross profit margin\n",
    "- Operating margin\n",
    "- Net profit margin\n",
    "\n",
    "Data set 6: Income Statement\n",
    "- Gross profit\n",
    "- Income\n",
    "- Net cash flow\n",
    "\n",
    "Data set 7: Balance Sheet\n",
    "- Current ratio\n",
    "- Debt/equity\n",
    "- Quick ratio\n",
    "\n",
    "The total number of columns would be 24 in this case.\n",
    "\n",
    "[^1]: This would mean that a few time series data sets would need to be downloaded from TradingView at the end of the project to test the demo porfolio.\n",
    "\n",
    "[^2]: A helper function can be developed for this, where the user can just type out the name of the company and the ticker is identifed."
   ]
  },
  {
   "cell_type": "code",
   "execution_count": 63,
   "metadata": {},
   "outputs": [],
   "source": [
    "import pandas as pd\n",
    "import seaborn as sns\n",
    "import matplotlib.pyplot as mplt\n",
    "import plotly.graph_objects as go\n",
    "from IPython.display import display, HTML, Markdown, Latex\n",
    "from plotly.subplots import make_subplots\n",
    "import sys\n",
    "sys.path.append('..')\n",
    "from analysis.code import project_functions1 as pf"
   ]
  },
  {
   "cell_type": "code",
   "execution_count": 64,
   "metadata": {},
   "outputs": [],
   "source": [
    "sns.set_theme(style=\"darkgrid\")\n",
    "sns.set(rc={\"figure.dpi\":300, 'savefig.dpi':300})\n",
    "sns.set(style=\"ticks\", context=\"talk\")\n",
    "mplt.style.use(\"dark_background\")\n",
    "\n",
    "config = {\n",
    "  'toImageButtonOptions': {\n",
    "    'format': 'png',\n",
    "    'filename': 'custom_image',\n",
    "    'height': 3500,\n",
    "    'width': 2000,\n",
    "    'scale': 2\n",
    "  }\n",
    "}"
   ]
  },
  {
   "attachments": {},
   "cell_type": "markdown",
   "metadata": {},
   "source": [
    "# Data Loading"
   ]
  },
  {
   "cell_type": "code",
   "execution_count": 65,
   "metadata": {},
   "outputs": [],
   "source": [
    "equities = pf.EquityData()\n",
    "overview_df = equities.load_and_process(\"overview\", exclude_columns=['Change %', 'Change', 'Technical Rating', 'Volume', 'Volume*Price'])\n",
    "income_statement_df = equities.load_and_process(\"income_statement\")\n",
    "balance_sheet_df = equities.load_and_process(\"balance_sheet\")\n",
    "dividends_df = equities.load_and_process(\"dividends\", exclude_columns=['Price'])\n",
    "margins_df = equities.load_and_process(\"margins\")\n",
    "performance_df = equities.load_and_process(\"performance\", exclude_columns=['Change 1m, %', 'Change 5m, %', 'Change 15m, %', 'Change 1h, %', 'Change 4h, %', 'Change 1W, %', 'Change 1M, %', 'Change %'])\n",
    "valuation_df = equities.load_and_process(\"valuation\", exclude_columns=['Price', 'Market Capitalization', 'Price to Earnings Ratio (TTM)', 'Basic EPS (TTM)', 'EPS Diluted (FY)'])"
   ]
  },
  {
   "attachments": {},
   "cell_type": "markdown",
   "metadata": {},
   "source": [
    "### Analysis-Specific Data Wrangling"
   ]
  },
  {
   "cell_type": "code",
   "execution_count": 66,
   "metadata": {},
   "outputs": [],
   "source": [
    "dfs = [\n",
    "    overview_df,\n",
    "    income_statement_df,\n",
    "    balance_sheet_df,\n",
    "    dividends_df,\n",
    "    margins_df,\n",
    "    performance_df,\n",
    "    valuation_df\n",
    "    ]\n",
    "\n",
    "dfs_names = [\n",
    "    \"Overview Data\",\n",
    "    \"Balance Sheet Data\",\n",
    "    \"Dividends Data\",\n",
    "    \"Income Statement Data\",\n",
    "    \"Margins Data\",\n",
    "    \"Performance Data\",\n",
    "    \"Valuation Data\"\n",
    "    ]\n",
    "\n",
    "overview_df['3-Month Performance'] = performance_df['3-Month Performance']\n",
    "income_statement_df['3-Month Performance'] = performance_df['3-Month Performance']\n",
    "balance_sheet_df['3-Month Performance'] = performance_df['3-Month Performance']\n",
    "dividends_df['3-Month Performance'] = performance_df['3-Month Performance']\n",
    "margins_df['3-Month Performance'] = performance_df['3-Month Performance']\n",
    "valuation_df['3-Month Performance'] = performance_df['3-Month Performance']\n",
    "\n",
    "mega_df = pd.concat(dfs, axis=1)\n",
    "mega_df = mega_df.loc[:,~mega_df.columns.duplicated()].copy()\n",
    "mega_df = mega_df.dropna()\n",
    "mega_df_no_strings = mega_df.select_dtypes(exclude='object')\n",
    "\n",
    "mega_df['6-Month Performance'] = performance_df['6-Month Performance']\n",
    "mega_df['YTD Performance'] = performance_df['YTD Performance']\n",
    "mega_df['Yearly Performance'] = performance_df['Yearly Performance']"
   ]
  },
  {
   "attachments": {},
   "cell_type": "markdown",
   "metadata": {},
   "source": [
    "# Experimental Feature Development Zone"
   ]
  },
  {
   "cell_type": "code",
   "execution_count": 67,
   "metadata": {},
   "outputs": [],
   "source": [
    "quant = pf.QuantitativeAnalysis()\n",
    "viz = pf.DataVisualization()"
   ]
  },
  {
   "cell_type": "code",
   "execution_count": 68,
   "metadata": {},
   "outputs": [],
   "source": [
    "#test = QuantitativeAnalysis()\n",
    "#test.rank(mega_df, '6-Month Performance', inplace=True) # taking 6-month performance and inplace=True leads the norm algorithm to skip row 493\n",
    "#mega_df"
   ]
  },
  {
   "attachments": {},
   "cell_type": "markdown",
   "metadata": {},
   "source": [
    "# Analysis Zone\n",
    "## Note: to view the interactive graphs plotted, run this analysis notebook in a Jupyter Notebook environment"
   ]
  },
  {
   "cell_type": "code",
   "execution_count": 69,
   "metadata": {},
   "outputs": [
    {
     "name": "stderr",
     "output_type": "stream",
     "text": [
      "c:\\Users\\colin\\OneDrive\\Desktop\\UniversalFolder\\UBC\\project-group-group15\\analysis\\..\\analysis\\code\\project_functions1.py:304: FutureWarning:\n",
      "\n",
      "In a future version of pandas all arguments of DataFrame.dropna will be keyword-only.\n",
      "\n"
     ]
    },
    {
     "data": {
      "application/vnd.plotly.v1+json": {
       "config": {
        "plotlyServerURL": "https://plot.ly",
        "toImageButtonOptions": {
         "filename": "custom_image",
         "format": "png",
         "height": 2000,
         "width": 2500
        }
       },
       "data": [
        {
         "coloraxis": "coloraxis",
         "hovertemplate": "x: %{x}<br>y: %{y}<br>color: %{z}<extra></extra>",
         "name": "0",
         "texttemplate": "%{z}",
         "type": "heatmap",
         "x": [
          "Price",
          "Market Capitalization",
          "Price to Earnings Ratio (TTM)",
          "Basic EPS (TTM)",
          "Number of Employees",
          "Free Cash Flow (Annual YoY Growth)",
          "Free Cash Flow Margin (FY)",
          "Free Cash Flow (Quarterly YoY Growth)",
          "3-Month Performance",
          "Basic EPS (FY)",
          "EPS Diluted (TTM)",
          "EBITDA (TTM)",
          "Gross Profit (MRQ)",
          "Gross Profit (FY)",
          "Total Revenue (FY)",
          "EPS Diluted (FY)",
          "Last Year Revenue (FY)",
          "Net Income (FY)",
          "Current Ratio (MRQ)",
          "Debt to Equity Ratio (MRQ)",
          "Net Debt (MRQ)",
          "Quick Ratio (MRQ)",
          "Total Assets (MRQ)",
          "Total Debt (MRQ)",
          "Total Current Assets (MRQ)",
          "Dividend Yield Forward",
          "Dividends Paid (FY)",
          "Dividends per Share (FY)",
          "Gross Margin (TTM)",
          "Operating Margin (TTM)",
          "Pretax Margin (TTM)",
          "Net Margin (TTM)",
          "6-Month Performance",
          "YTD Performance",
          "Yearly Performance",
          "1-Year Beta",
          "Volatility",
          "Price to Revenue Ratio (TTM)",
          "Enterprise Value/EBITDA (TTM)",
          "Enterprise Value (MRQ)"
         ],
         "xaxis": "x",
         "y": [
          "Market Capitalization",
          "Price to Earnings Ratio (TTM)",
          "Basic EPS (TTM)",
          "Number of Employees",
          "Free Cash Flow (Annual YoY Growth)",
          "Free Cash Flow Margin (FY)",
          "Free Cash Flow (Quarterly YoY Growth)",
          "3-Month Performance",
          "Basic EPS (FY)",
          "EPS Diluted (TTM)",
          "EBITDA (TTM)",
          "Gross Profit (MRQ)",
          "Gross Profit (FY)",
          "Total Revenue (FY)",
          "EPS Diluted (FY)",
          "Last Year Revenue (FY)",
          "Net Income (FY)",
          "Current Ratio (MRQ)",
          "Debt to Equity Ratio (MRQ)",
          "Net Debt (MRQ)",
          "Quick Ratio (MRQ)",
          "Total Assets (MRQ)",
          "Total Debt (MRQ)",
          "Total Current Assets (MRQ)",
          "Dividend Yield Forward",
          "Dividends Paid (FY)",
          "Dividends per Share (FY)",
          "Gross Margin (TTM)",
          "Operating Margin (TTM)",
          "Pretax Margin (TTM)",
          "Net Margin (TTM)",
          "6-Month Performance",
          "YTD Performance",
          "Yearly Performance",
          "1-Year Beta",
          "Volatility",
          "Price to Revenue Ratio (TTM)",
          "Enterprise Value/EBITDA (TTM)",
          "Enterprise Value (MRQ)",
          "Total Shares Outstanding"
         ],
         "yaxis": "y",
         "z": [
          [
           0.1,
           null,
           null,
           null,
           null,
           null,
           null,
           null,
           null,
           null,
           null,
           null,
           null,
           null,
           null,
           null,
           null,
           null,
           null,
           null,
           null,
           null,
           null,
           null,
           null,
           null,
           null,
           null,
           null,
           null,
           null,
           null,
           null,
           null,
           null,
           null,
           null,
           null,
           null,
           null
          ],
          [
           0,
           0,
           null,
           null,
           null,
           null,
           null,
           null,
           null,
           null,
           null,
           null,
           null,
           null,
           null,
           null,
           null,
           null,
           null,
           null,
           null,
           null,
           null,
           null,
           null,
           null,
           null,
           null,
           null,
           null,
           null,
           null,
           null,
           null,
           null,
           null,
           null,
           null,
           null,
           null
          ],
          [
           0.7,
           0,
           -0.1,
           null,
           null,
           null,
           null,
           null,
           null,
           null,
           null,
           null,
           null,
           null,
           null,
           null,
           null,
           null,
           null,
           null,
           null,
           null,
           null,
           null,
           null,
           null,
           null,
           null,
           null,
           null,
           null,
           null,
           null,
           null,
           null,
           null,
           null,
           null,
           null,
           null
          ],
          [
           0,
           0.2,
           0,
           0,
           null,
           null,
           null,
           null,
           null,
           null,
           null,
           null,
           null,
           null,
           null,
           null,
           null,
           null,
           null,
           null,
           null,
           null,
           null,
           null,
           null,
           null,
           null,
           null,
           null,
           null,
           null,
           null,
           null,
           null,
           null,
           null,
           null,
           null,
           null,
           null
          ],
          [
           0,
           0,
           0,
           0.1,
           0,
           null,
           null,
           null,
           null,
           null,
           null,
           null,
           null,
           null,
           null,
           null,
           null,
           null,
           null,
           null,
           null,
           null,
           null,
           null,
           null,
           null,
           null,
           null,
           null,
           null,
           null,
           null,
           null,
           null,
           null,
           null,
           null,
           null,
           null,
           null
          ],
          [
           0.2,
           0.2,
           0.1,
           0.1,
           -0.1,
           0.1,
           null,
           null,
           null,
           null,
           null,
           null,
           null,
           null,
           null,
           null,
           null,
           null,
           null,
           null,
           null,
           null,
           null,
           null,
           null,
           null,
           null,
           null,
           null,
           null,
           null,
           null,
           null,
           null,
           null,
           null,
           null,
           null,
           null,
           null
          ],
          [
           0,
           0,
           0,
           0.1,
           0.1,
           0,
           0.1,
           null,
           null,
           null,
           null,
           null,
           null,
           null,
           null,
           null,
           null,
           null,
           null,
           null,
           null,
           null,
           null,
           null,
           null,
           null,
           null,
           null,
           null,
           null,
           null,
           null,
           null,
           null,
           null,
           null,
           null,
           null,
           null,
           null
          ],
          [
           0,
           -0.1,
           -0.1,
           -0.1,
           0,
           -0.1,
           0,
           0,
           null,
           null,
           null,
           null,
           null,
           null,
           null,
           null,
           null,
           null,
           null,
           null,
           null,
           null,
           null,
           null,
           null,
           null,
           null,
           null,
           null,
           null,
           null,
           null,
           null,
           null,
           null,
           null,
           null,
           null,
           null,
           null
          ],
          [
           0.6,
           0.1,
           -0.1,
           0.9,
           0.1,
           0,
           0.1,
           0,
           0,
           null,
           null,
           null,
           null,
           null,
           null,
           null,
           null,
           null,
           null,
           null,
           null,
           null,
           null,
           null,
           null,
           null,
           null,
           null,
           null,
           null,
           null,
           null,
           null,
           null,
           null,
           null,
           null,
           null,
           null,
           null
          ],
          [
           0.7,
           0,
           -0.1,
           1,
           0,
           0.1,
           0.1,
           0.1,
           -0.1,
           0.9,
           null,
           null,
           null,
           null,
           null,
           null,
           null,
           null,
           null,
           null,
           null,
           null,
           null,
           null,
           null,
           null,
           null,
           null,
           null,
           null,
           null,
           null,
           null,
           null,
           null,
           null,
           null,
           null,
           null,
           null
          ],
          [
           0,
           0.9,
           0,
           0.1,
           0.2,
           0.2,
           0.2,
           0,
           -0.1,
           0.1,
           0.1,
           null,
           null,
           null,
           null,
           null,
           null,
           null,
           null,
           null,
           null,
           null,
           null,
           null,
           null,
           null,
           null,
           null,
           null,
           null,
           null,
           null,
           null,
           null,
           null,
           null,
           null,
           null,
           null,
           null
          ],
          [
           0,
           0.8,
           0,
           0,
           0.6,
           0.1,
           0.1,
           0.1,
           -0.1,
           0,
           0,
           0.9,
           null,
           null,
           null,
           null,
           null,
           null,
           null,
           null,
           null,
           null,
           null,
           null,
           null,
           null,
           null,
           null,
           null,
           null,
           null,
           null,
           null,
           null,
           null,
           null,
           null,
           null,
           null,
           null
          ],
          [
           0,
           0.8,
           0,
           0,
           0.6,
           0,
           0.1,
           0,
           -0.1,
           0.1,
           0,
           0.9,
           1,
           null,
           null,
           null,
           null,
           null,
           null,
           null,
           null,
           null,
           null,
           null,
           null,
           null,
           null,
           null,
           null,
           null,
           null,
           null,
           null,
           null,
           null,
           null,
           null,
           null,
           null,
           null
          ],
          [
           0,
           0.5,
           0,
           0.1,
           0.7,
           0,
           -0.1,
           0.1,
           -0.1,
           0.1,
           0.1,
           0.7,
           0.8,
           0.8,
           null,
           null,
           null,
           null,
           null,
           null,
           null,
           null,
           null,
           null,
           null,
           null,
           null,
           null,
           null,
           null,
           null,
           null,
           null,
           null,
           null,
           null,
           null,
           null,
           null,
           null
          ],
          [
           0.6,
           0.1,
           -0.1,
           0.9,
           0.1,
           0,
           0.1,
           0,
           0,
           1,
           0.9,
           0.1,
           0,
           0.1,
           0.1,
           null,
           null,
           null,
           null,
           null,
           null,
           null,
           null,
           null,
           null,
           null,
           null,
           null,
           null,
           null,
           null,
           null,
           null,
           null,
           null,
           null,
           null,
           null,
           null,
           null
          ],
          [
           0,
           0.5,
           0,
           0.1,
           0.7,
           0,
           -0.1,
           0.1,
           -0.1,
           0.1,
           0.1,
           0.7,
           0.8,
           0.8,
           1,
           0.1,
           null,
           null,
           null,
           null,
           null,
           null,
           null,
           null,
           null,
           null,
           null,
           null,
           null,
           null,
           null,
           null,
           null,
           null,
           null,
           null,
           null,
           null,
           null,
           null
          ],
          [
           0,
           1,
           0,
           0.1,
           0.2,
           0,
           0.2,
           0,
           -0.1,
           0.1,
           0.1,
           0.9,
           0.8,
           0.9,
           0.6,
           0.1,
           0.6,
           null,
           null,
           null,
           null,
           null,
           null,
           null,
           null,
           null,
           null,
           null,
           null,
           null,
           null,
           null,
           null,
           null,
           null,
           null,
           null,
           null,
           null,
           null
          ],
          [
           0.5,
           0,
           0,
           0.4,
           -0.1,
           0,
           0.3,
           0.1,
           0.2,
           0.4,
           0.4,
           -0.1,
           -0.1,
           -0.1,
           -0.1,
           0.4,
           -0.1,
           0,
           null,
           null,
           null,
           null,
           null,
           null,
           null,
           null,
           null,
           null,
           null,
           null,
           null,
           null,
           null,
           null,
           null,
           null,
           null,
           null,
           null,
           null
          ],
          [
           0,
           0,
           0,
           0,
           0,
           0,
           -0.1,
           0,
           0,
           0,
           0,
           0,
           0,
           0,
           0.2,
           0,
           0.2,
           0,
           -0.1,
           null,
           null,
           null,
           null,
           null,
           null,
           null,
           null,
           null,
           null,
           null,
           null,
           null,
           null,
           null,
           null,
           null,
           null,
           null,
           null,
           null
          ],
          [
           -0.1,
           0.2,
           0,
           -0.1,
           0.2,
           0,
           -0.1,
           -0.1,
           -0.1,
           -0.1,
           -0.1,
           0.4,
           0.4,
           0.4,
           0.4,
           -0.1,
           0.4,
           0.3,
           -0.3,
           0,
           null,
           null,
           null,
           null,
           null,
           null,
           null,
           null,
           null,
           null,
           null,
           null,
           null,
           null,
           null,
           null,
           null,
           null,
           null,
           null
          ],
          [
           0.6,
           0,
           0,
           0.4,
           -0.1,
           0,
           0.4,
           0.1,
           0.1,
           0.4,
           0.4,
           0,
           -0.1,
           -0.1,
           -0.1,
           0.4,
           -0.1,
           0,
           0.9,
           -0.1,
           -0.2,
           null,
           null,
           null,
           null,
           null,
           null,
           null,
           null,
           null,
           null,
           null,
           null,
           null,
           null,
           null,
           null,
           null,
           null,
           null
          ],
          [
           -0.1,
           0.6,
           0,
           0,
           0.3,
           0.1,
           0,
           -0.1,
           -0.2,
           0,
           0,
           0.8,
           0.8,
           0.8,
           0.7,
           0,
           0.7,
           0.7,
           -0.2,
           0,
           0.7,
           -0.1,
           null,
           null,
           null,
           null,
           null,
           null,
           null,
           null,
           null,
           null,
           null,
           null,
           null,
           null,
           null,
           null,
           null,
           null
          ],
          [
           -0.1,
           0.5,
           0,
           -0.1,
           0.3,
           0,
           -0.1,
           -0.1,
           -0.1,
           0,
           -0.1,
           0.7,
           0.6,
           0.7,
           0.5,
           0,
           0.5,
           0.6,
           -0.2,
           0,
           0.9,
           -0.1,
           0.9,
           null,
           null,
           null,
           null,
           null,
           null,
           null,
           null,
           null,
           null,
           null,
           null,
           null,
           null,
           null,
           null,
           null
          ],
          [
           0,
           0.7,
           0,
           0.1,
           0.4,
           0,
           0,
           0,
           -0.1,
           0.1,
           0.1,
           0.8,
           0.8,
           0.8,
           0.8,
           0.1,
           0.8,
           0.8,
           0,
           0.1,
           0.4,
           0,
           0.9,
           0.7,
           null,
           null,
           null,
           null,
           null,
           null,
           null,
           null,
           null,
           null,
           null,
           null,
           null,
           null,
           null,
           null
          ],
          [
           -0.3,
           -0.1,
           -0.1,
           -0.1,
           0,
           0,
           -0.1,
           0.1,
           -0.2,
           -0.2,
           -0.1,
           0.1,
           0,
           0,
           0,
           -0.2,
           0,
           0,
           -0.3,
           0,
           0.3,
           -0.2,
           0.2,
           0.3,
           0,
           null,
           null,
           null,
           null,
           null,
           null,
           null,
           null,
           null,
           null,
           null,
           null,
           null,
           null,
           null
          ],
          [
           0,
           -0.8,
           0,
           0,
           -0.2,
           -0.1,
           -0.2,
           0,
           0.1,
           0,
           0,
           -0.9,
           -0.8,
           -0.8,
           -0.5,
           0,
           -0.5,
           -0.8,
           0.1,
           0,
           -0.4,
           0.1,
           -0.8,
           -0.6,
           -0.7,
           -0.3,
           null,
           null,
           null,
           null,
           null,
           null,
           null,
           null,
           null,
           null,
           null,
           null,
           null,
           null
          ],
          [
           0.6,
           0.1,
           0,
           0.5,
           0.1,
           0,
           0.1,
           -0.1,
           -0.1,
           0.5,
           0.5,
           0.1,
           0.1,
           0.1,
           0.1,
           0.5,
           0.1,
           0.1,
           0.1,
           0.1,
           0.1,
           0.1,
           0.1,
           0.1,
           0,
           0.2,
           -0.3,
           null,
           null,
           null,
           null,
           null,
           null,
           null,
           null,
           null,
           null,
           null,
           null,
           null
          ],
          [
           0.3,
           0.2,
           0.1,
           0.1,
           -0.2,
           0,
           0.6,
           0.1,
           0,
           0.1,
           0.1,
           0.1,
           0.1,
           0.1,
           -0.2,
           0.1,
           -0.2,
           0.1,
           0.3,
           -0.1,
           -0.1,
           0.4,
           0,
           0,
           0,
           -0.1,
           -0.2,
           0.1,
           null,
           null,
           null,
           null,
           null,
           null,
           null,
           null,
           null,
           null,
           null,
           null
          ],
          [
           0.3,
           0.1,
           0.1,
           0.4,
           -0.2,
           0.2,
           0.6,
           0.1,
           -0.1,
           0.2,
           0.4,
           0.2,
           0,
           0,
           -0.2,
           0.2,
           -0.2,
           0.1,
           0.4,
           -0.1,
           -0.1,
           0.5,
           -0.1,
           -0.1,
           -0.1,
           0,
           -0.2,
           0.1,
           0.7,
           null,
           null,
           null,
           null,
           null,
           null,
           null,
           null,
           null,
           null,
           null
          ],
          [
           0.3,
           0.2,
           -0.1,
           0.4,
           -0.2,
           0.2,
           0.6,
           0.1,
           -0.1,
           0.3,
           0.4,
           0.2,
           0.1,
           0,
           -0.2,
           0.3,
           -0.2,
           0.2,
           0.4,
           -0.1,
           -0.2,
           0.5,
           0,
           -0.1,
           0,
           0,
           -0.2,
           0.1,
           0.7,
           0.9,
           null,
           null,
           null,
           null,
           null,
           null,
           null,
           null,
           null,
           null
          ],
          [
           0.3,
           0.2,
           -0.1,
           0.4,
           -0.2,
           0.2,
           0.6,
           0.1,
           -0.1,
           0.3,
           0.4,
           0.2,
           0.1,
           0.1,
           -0.2,
           0.3,
           -0.2,
           0.2,
           0.4,
           -0.1,
           -0.1,
           0.5,
           0,
           -0.1,
           0,
           0,
           -0.2,
           0.2,
           0.7,
           0.9,
           1,
           null,
           null,
           null,
           null,
           null,
           null,
           null,
           null,
           null
          ],
          [
           0.1,
           -0.1,
           -0.1,
           0.1,
           0,
           0.2,
           0.1,
           0.2,
           0.5,
           0,
           0.1,
           0,
           0,
           -0.1,
           0,
           0,
           0,
           -0.1,
           0.1,
           0.1,
           -0.1,
           0,
           -0.1,
           -0.1,
           0,
           -0.1,
           0,
           0.1,
           -0.1,
           0.1,
           0,
           0,
           null,
           null,
           null,
           null,
           null,
           null,
           null,
           null
          ],
          [
           -0.1,
           0,
           0,
           0,
           0,
           0,
           0,
           0,
           0.5,
           0,
           0,
           0,
           -0.1,
           -0.1,
           0,
           0,
           0,
           0,
           0.1,
           -0.1,
           -0.1,
           0.1,
           -0.1,
           -0.1,
           0,
           -0.1,
           0.2,
           -0.2,
           0,
           0,
           0,
           0,
           0.2,
           null,
           null,
           null,
           null,
           null,
           null,
           null
          ],
          [
           0.3,
           -0.1,
           0,
           0.3,
           -0.1,
           0.2,
           0.1,
           0.1,
           -0.1,
           0.1,
           0.3,
           0,
           0,
           -0.1,
           0,
           0.1,
           0,
           -0.1,
           0.2,
           0,
           -0.1,
           0.2,
           -0.1,
           -0.2,
           -0.1,
           -0.1,
           0,
           0.1,
           0,
           0.2,
           0.2,
           0.2,
           0.6,
           -0.2,
           null,
           null,
           null,
           null,
           null,
           null
          ],
          [
           0.2,
           0.1,
           0,
           0.1,
           0,
           0,
           0.1,
           0.1,
           0.3,
           0.2,
           0.1,
           0,
           -0.1,
           0,
           -0.1,
           0.2,
           -0.1,
           0.1,
           0.1,
           -0.1,
           -0.2,
           0.1,
           -0.1,
           -0.1,
           0,
           -0.3,
           0.2,
           -0.1,
           0.1,
           0.1,
           0.1,
           0.1,
           0,
           0.6,
           -0.3,
           null,
           null,
           null,
           null,
           null
          ],
          [
           0.1,
           0,
           0,
           0.2,
           -0.1,
           0.1,
           0.2,
           0.1,
           0.1,
           0.1,
           0.2,
           0.1,
           0,
           0,
           0,
           0.1,
           0,
           0,
           0.3,
           -0.1,
           -0.1,
           0.3,
           0,
           0,
           0.1,
           0,
           0.1,
           -0.1,
           0.1,
           0.3,
           0.3,
           0.3,
           0,
           0.3,
           0.1,
           0.4,
           null,
           null,
           null,
           null
          ],
          [
           0.5,
           0.2,
           0.1,
           0.1,
           -0.1,
           -0.1,
           0.5,
           -0.1,
           0.1,
           0.1,
           0.1,
           0,
           0,
           0,
           -0.2,
           0.1,
           -0.2,
           0.1,
           0.5,
           -0.1,
           -0.2,
           0.5,
           -0.1,
           -0.1,
           -0.1,
           -0.3,
           0,
           0.2,
           0.7,
           0.6,
           0.6,
           0.6,
           0,
           0.1,
           0.1,
           0.2,
           0.2,
           null,
           null,
           null
          ],
          [
           0.3,
           0.1,
           0.1,
           -0.1,
           0,
           -0.2,
           0.2,
           -0.1,
           0.1,
           -0.1,
           -0.1,
           -0.2,
           -0.1,
           -0.1,
           -0.2,
           -0.1,
           -0.2,
           0,
           0.2,
           0,
           -0.1,
           0.2,
           -0.2,
           -0.1,
           -0.1,
           -0.4,
           0.1,
           0.1,
           0.3,
           0,
           0.1,
           0.1,
           -0.1,
           0,
           0,
           0.2,
           0,
           0.7,
           null,
           null
          ],
          [
           0,
           1,
           0,
           0,
           0.2,
           0,
           0.2,
           0,
           -0.1,
           0,
           0,
           0.9,
           0.8,
           0.9,
           0.6,
           0,
           0.6,
           1,
           -0.1,
           0,
           0.3,
           0,
           0.7,
           0.6,
           0.7,
           0,
           -0.8,
           0.1,
           0.1,
           0.1,
           0.1,
           0.2,
           -0.1,
           0,
           -0.1,
           0,
           0,
           0.2,
           0.1,
           null
          ],
          [
           -0.2,
           0.8,
           0,
           -0.1,
           0.2,
           0,
           0.2,
           0,
           -0.1,
           -0.1,
           -0.1,
           0.9,
           0.8,
           0.8,
           0.5,
           -0.1,
           0.5,
           0.9,
           -0.1,
           0,
           0.4,
           0,
           0.7,
           0.6,
           0.7,
           0.2,
           -0.8,
           -0.1,
           0.1,
           0.1,
           0.1,
           0.1,
           -0.1,
           0,
           -0.1,
           0,
           0,
           0,
           -0.1,
           0.9
          ]
         ]
        }
       ],
       "layout": {
        "coloraxis": {
         "colorscale": [
          [
           0,
           "#0d0887"
          ],
          [
           0.1111111111111111,
           "#46039f"
          ],
          [
           0.2222222222222222,
           "#7201a8"
          ],
          [
           0.3333333333333333,
           "#9c179e"
          ],
          [
           0.4444444444444444,
           "#bd3786"
          ],
          [
           0.5555555555555556,
           "#d8576b"
          ],
          [
           0.6666666666666666,
           "#ed7953"
          ],
          [
           0.7777777777777778,
           "#fb9f3a"
          ],
          [
           0.8888888888888888,
           "#fdca26"
          ],
          [
           1,
           "#f0f921"
          ]
         ]
        },
        "height": 1000,
        "template": {
         "data": {
          "bar": [
           {
            "error_x": {
             "color": "#f2f5fa"
            },
            "error_y": {
             "color": "#f2f5fa"
            },
            "marker": {
             "line": {
              "color": "rgb(17,17,17)",
              "width": 0.5
             },
             "pattern": {
              "fillmode": "overlay",
              "size": 10,
              "solidity": 0.2
             }
            },
            "type": "bar"
           }
          ],
          "barpolar": [
           {
            "marker": {
             "line": {
              "color": "rgb(17,17,17)",
              "width": 0.5
             },
             "pattern": {
              "fillmode": "overlay",
              "size": 10,
              "solidity": 0.2
             }
            },
            "type": "barpolar"
           }
          ],
          "carpet": [
           {
            "aaxis": {
             "endlinecolor": "#A2B1C6",
             "gridcolor": "#506784",
             "linecolor": "#506784",
             "minorgridcolor": "#506784",
             "startlinecolor": "#A2B1C6"
            },
            "baxis": {
             "endlinecolor": "#A2B1C6",
             "gridcolor": "#506784",
             "linecolor": "#506784",
             "minorgridcolor": "#506784",
             "startlinecolor": "#A2B1C6"
            },
            "type": "carpet"
           }
          ],
          "choropleth": [
           {
            "colorbar": {
             "outlinewidth": 0,
             "ticks": ""
            },
            "type": "choropleth"
           }
          ],
          "contour": [
           {
            "colorbar": {
             "outlinewidth": 0,
             "ticks": ""
            },
            "colorscale": [
             [
              0,
              "#0d0887"
             ],
             [
              0.1111111111111111,
              "#46039f"
             ],
             [
              0.2222222222222222,
              "#7201a8"
             ],
             [
              0.3333333333333333,
              "#9c179e"
             ],
             [
              0.4444444444444444,
              "#bd3786"
             ],
             [
              0.5555555555555556,
              "#d8576b"
             ],
             [
              0.6666666666666666,
              "#ed7953"
             ],
             [
              0.7777777777777778,
              "#fb9f3a"
             ],
             [
              0.8888888888888888,
              "#fdca26"
             ],
             [
              1,
              "#f0f921"
             ]
            ],
            "type": "contour"
           }
          ],
          "contourcarpet": [
           {
            "colorbar": {
             "outlinewidth": 0,
             "ticks": ""
            },
            "type": "contourcarpet"
           }
          ],
          "heatmap": [
           {
            "colorbar": {
             "outlinewidth": 0,
             "ticks": ""
            },
            "colorscale": [
             [
              0,
              "#0d0887"
             ],
             [
              0.1111111111111111,
              "#46039f"
             ],
             [
              0.2222222222222222,
              "#7201a8"
             ],
             [
              0.3333333333333333,
              "#9c179e"
             ],
             [
              0.4444444444444444,
              "#bd3786"
             ],
             [
              0.5555555555555556,
              "#d8576b"
             ],
             [
              0.6666666666666666,
              "#ed7953"
             ],
             [
              0.7777777777777778,
              "#fb9f3a"
             ],
             [
              0.8888888888888888,
              "#fdca26"
             ],
             [
              1,
              "#f0f921"
             ]
            ],
            "type": "heatmap"
           }
          ],
          "heatmapgl": [
           {
            "colorbar": {
             "outlinewidth": 0,
             "ticks": ""
            },
            "colorscale": [
             [
              0,
              "#0d0887"
             ],
             [
              0.1111111111111111,
              "#46039f"
             ],
             [
              0.2222222222222222,
              "#7201a8"
             ],
             [
              0.3333333333333333,
              "#9c179e"
             ],
             [
              0.4444444444444444,
              "#bd3786"
             ],
             [
              0.5555555555555556,
              "#d8576b"
             ],
             [
              0.6666666666666666,
              "#ed7953"
             ],
             [
              0.7777777777777778,
              "#fb9f3a"
             ],
             [
              0.8888888888888888,
              "#fdca26"
             ],
             [
              1,
              "#f0f921"
             ]
            ],
            "type": "heatmapgl"
           }
          ],
          "histogram": [
           {
            "marker": {
             "pattern": {
              "fillmode": "overlay",
              "size": 10,
              "solidity": 0.2
             }
            },
            "type": "histogram"
           }
          ],
          "histogram2d": [
           {
            "colorbar": {
             "outlinewidth": 0,
             "ticks": ""
            },
            "colorscale": [
             [
              0,
              "#0d0887"
             ],
             [
              0.1111111111111111,
              "#46039f"
             ],
             [
              0.2222222222222222,
              "#7201a8"
             ],
             [
              0.3333333333333333,
              "#9c179e"
             ],
             [
              0.4444444444444444,
              "#bd3786"
             ],
             [
              0.5555555555555556,
              "#d8576b"
             ],
             [
              0.6666666666666666,
              "#ed7953"
             ],
             [
              0.7777777777777778,
              "#fb9f3a"
             ],
             [
              0.8888888888888888,
              "#fdca26"
             ],
             [
              1,
              "#f0f921"
             ]
            ],
            "type": "histogram2d"
           }
          ],
          "histogram2dcontour": [
           {
            "colorbar": {
             "outlinewidth": 0,
             "ticks": ""
            },
            "colorscale": [
             [
              0,
              "#0d0887"
             ],
             [
              0.1111111111111111,
              "#46039f"
             ],
             [
              0.2222222222222222,
              "#7201a8"
             ],
             [
              0.3333333333333333,
              "#9c179e"
             ],
             [
              0.4444444444444444,
              "#bd3786"
             ],
             [
              0.5555555555555556,
              "#d8576b"
             ],
             [
              0.6666666666666666,
              "#ed7953"
             ],
             [
              0.7777777777777778,
              "#fb9f3a"
             ],
             [
              0.8888888888888888,
              "#fdca26"
             ],
             [
              1,
              "#f0f921"
             ]
            ],
            "type": "histogram2dcontour"
           }
          ],
          "mesh3d": [
           {
            "colorbar": {
             "outlinewidth": 0,
             "ticks": ""
            },
            "type": "mesh3d"
           }
          ],
          "parcoords": [
           {
            "line": {
             "colorbar": {
              "outlinewidth": 0,
              "ticks": ""
             }
            },
            "type": "parcoords"
           }
          ],
          "pie": [
           {
            "automargin": true,
            "type": "pie"
           }
          ],
          "scatter": [
           {
            "marker": {
             "line": {
              "color": "#283442"
             }
            },
            "type": "scatter"
           }
          ],
          "scatter3d": [
           {
            "line": {
             "colorbar": {
              "outlinewidth": 0,
              "ticks": ""
             }
            },
            "marker": {
             "colorbar": {
              "outlinewidth": 0,
              "ticks": ""
             }
            },
            "type": "scatter3d"
           }
          ],
          "scattercarpet": [
           {
            "marker": {
             "colorbar": {
              "outlinewidth": 0,
              "ticks": ""
             }
            },
            "type": "scattercarpet"
           }
          ],
          "scattergeo": [
           {
            "marker": {
             "colorbar": {
              "outlinewidth": 0,
              "ticks": ""
             }
            },
            "type": "scattergeo"
           }
          ],
          "scattergl": [
           {
            "marker": {
             "line": {
              "color": "#283442"
             }
            },
            "type": "scattergl"
           }
          ],
          "scattermapbox": [
           {
            "marker": {
             "colorbar": {
              "outlinewidth": 0,
              "ticks": ""
             }
            },
            "type": "scattermapbox"
           }
          ],
          "scatterpolar": [
           {
            "marker": {
             "colorbar": {
              "outlinewidth": 0,
              "ticks": ""
             }
            },
            "type": "scatterpolar"
           }
          ],
          "scatterpolargl": [
           {
            "marker": {
             "colorbar": {
              "outlinewidth": 0,
              "ticks": ""
             }
            },
            "type": "scatterpolargl"
           }
          ],
          "scatterternary": [
           {
            "marker": {
             "colorbar": {
              "outlinewidth": 0,
              "ticks": ""
             }
            },
            "type": "scatterternary"
           }
          ],
          "surface": [
           {
            "colorbar": {
             "outlinewidth": 0,
             "ticks": ""
            },
            "colorscale": [
             [
              0,
              "#0d0887"
             ],
             [
              0.1111111111111111,
              "#46039f"
             ],
             [
              0.2222222222222222,
              "#7201a8"
             ],
             [
              0.3333333333333333,
              "#9c179e"
             ],
             [
              0.4444444444444444,
              "#bd3786"
             ],
             [
              0.5555555555555556,
              "#d8576b"
             ],
             [
              0.6666666666666666,
              "#ed7953"
             ],
             [
              0.7777777777777778,
              "#fb9f3a"
             ],
             [
              0.8888888888888888,
              "#fdca26"
             ],
             [
              1,
              "#f0f921"
             ]
            ],
            "type": "surface"
           }
          ],
          "table": [
           {
            "cells": {
             "fill": {
              "color": "#506784"
             },
             "line": {
              "color": "rgb(17,17,17)"
             }
            },
            "header": {
             "fill": {
              "color": "#2a3f5f"
             },
             "line": {
              "color": "rgb(17,17,17)"
             }
            },
            "type": "table"
           }
          ]
         },
         "layout": {
          "annotationdefaults": {
           "arrowcolor": "#f2f5fa",
           "arrowhead": 0,
           "arrowwidth": 1
          },
          "autotypenumbers": "strict",
          "coloraxis": {
           "colorbar": {
            "outlinewidth": 0,
            "ticks": ""
           }
          },
          "colorscale": {
           "diverging": [
            [
             0,
             "#8e0152"
            ],
            [
             0.1,
             "#c51b7d"
            ],
            [
             0.2,
             "#de77ae"
            ],
            [
             0.3,
             "#f1b6da"
            ],
            [
             0.4,
             "#fde0ef"
            ],
            [
             0.5,
             "#f7f7f7"
            ],
            [
             0.6,
             "#e6f5d0"
            ],
            [
             0.7,
             "#b8e186"
            ],
            [
             0.8,
             "#7fbc41"
            ],
            [
             0.9,
             "#4d9221"
            ],
            [
             1,
             "#276419"
            ]
           ],
           "sequential": [
            [
             0,
             "#0d0887"
            ],
            [
             0.1111111111111111,
             "#46039f"
            ],
            [
             0.2222222222222222,
             "#7201a8"
            ],
            [
             0.3333333333333333,
             "#9c179e"
            ],
            [
             0.4444444444444444,
             "#bd3786"
            ],
            [
             0.5555555555555556,
             "#d8576b"
            ],
            [
             0.6666666666666666,
             "#ed7953"
            ],
            [
             0.7777777777777778,
             "#fb9f3a"
            ],
            [
             0.8888888888888888,
             "#fdca26"
            ],
            [
             1,
             "#f0f921"
            ]
           ],
           "sequentialminus": [
            [
             0,
             "#0d0887"
            ],
            [
             0.1111111111111111,
             "#46039f"
            ],
            [
             0.2222222222222222,
             "#7201a8"
            ],
            [
             0.3333333333333333,
             "#9c179e"
            ],
            [
             0.4444444444444444,
             "#bd3786"
            ],
            [
             0.5555555555555556,
             "#d8576b"
            ],
            [
             0.6666666666666666,
             "#ed7953"
            ],
            [
             0.7777777777777778,
             "#fb9f3a"
            ],
            [
             0.8888888888888888,
             "#fdca26"
            ],
            [
             1,
             "#f0f921"
            ]
           ]
          },
          "colorway": [
           "#636efa",
           "#EF553B",
           "#00cc96",
           "#ab63fa",
           "#FFA15A",
           "#19d3f3",
           "#FF6692",
           "#B6E880",
           "#FF97FF",
           "#FECB52"
          ],
          "font": {
           "color": "#f2f5fa"
          },
          "geo": {
           "bgcolor": "rgb(17,17,17)",
           "lakecolor": "rgb(17,17,17)",
           "landcolor": "rgb(17,17,17)",
           "showlakes": true,
           "showland": true,
           "subunitcolor": "#506784"
          },
          "hoverlabel": {
           "align": "left"
          },
          "hovermode": "closest",
          "mapbox": {
           "style": "dark"
          },
          "paper_bgcolor": "rgb(17,17,17)",
          "plot_bgcolor": "rgb(17,17,17)",
          "polar": {
           "angularaxis": {
            "gridcolor": "#506784",
            "linecolor": "#506784",
            "ticks": ""
           },
           "bgcolor": "rgb(17,17,17)",
           "radialaxis": {
            "gridcolor": "#506784",
            "linecolor": "#506784",
            "ticks": ""
           }
          },
          "scene": {
           "xaxis": {
            "backgroundcolor": "rgb(17,17,17)",
            "gridcolor": "#506784",
            "gridwidth": 2,
            "linecolor": "#506784",
            "showbackground": true,
            "ticks": "",
            "zerolinecolor": "#C8D4E3"
           },
           "yaxis": {
            "backgroundcolor": "rgb(17,17,17)",
            "gridcolor": "#506784",
            "gridwidth": 2,
            "linecolor": "#506784",
            "showbackground": true,
            "ticks": "",
            "zerolinecolor": "#C8D4E3"
           },
           "zaxis": {
            "backgroundcolor": "rgb(17,17,17)",
            "gridcolor": "#506784",
            "gridwidth": 2,
            "linecolor": "#506784",
            "showbackground": true,
            "ticks": "",
            "zerolinecolor": "#C8D4E3"
           }
          },
          "shapedefaults": {
           "line": {
            "color": "#f2f5fa"
           }
          },
          "sliderdefaults": {
           "bgcolor": "#C8D4E3",
           "bordercolor": "rgb(17,17,17)",
           "borderwidth": 1,
           "tickwidth": 0
          },
          "ternary": {
           "aaxis": {
            "gridcolor": "#506784",
            "linecolor": "#506784",
            "ticks": ""
           },
           "baxis": {
            "gridcolor": "#506784",
            "linecolor": "#506784",
            "ticks": ""
           },
           "bgcolor": "rgb(17,17,17)",
           "caxis": {
            "gridcolor": "#506784",
            "linecolor": "#506784",
            "ticks": ""
           }
          },
          "title": {
           "x": 0.05
          },
          "updatemenudefaults": {
           "bgcolor": "#506784",
           "borderwidth": 0
          },
          "xaxis": {
           "automargin": true,
           "gridcolor": "#283442",
           "linecolor": "#506784",
           "ticks": "",
           "title": {
            "standoff": 15
           },
           "zerolinecolor": "#283442",
           "zerolinewidth": 2
          },
          "yaxis": {
           "automargin": true,
           "gridcolor": "#283442",
           "linecolor": "#506784",
           "ticks": "",
           "title": {
            "standoff": 15
           },
           "zerolinecolor": "#283442",
           "zerolinewidth": 2
          }
         }
        },
        "title": {
         "text": "Correlation Plot of S&P500 Equity Data"
        },
        "width": 1000,
        "xaxis": {
         "anchor": "y",
         "constrain": "domain",
         "domain": [
          0,
          1
         ],
         "scaleanchor": "y"
        },
        "yaxis": {
         "anchor": "x",
         "autorange": "reversed",
         "constrain": "domain",
         "domain": [
          0,
          1
         ]
        }
       }
      }
     },
     "metadata": {},
     "output_type": "display_data"
    }
   ],
   "source": [
    "#viz.correlation_plot(mega_df, 'S&P 500 Equity Data')\n",
    "fig = viz.heatmap_plot(mega_df, 'Correlation Plot of S&P500 Equity Data', number_of_companies=500, correlation_plot=True)\n",
    "\n",
    "config_2 = {\n",
    "  'toImageButtonOptions': {\n",
    "    'format': 'png',\n",
    "    'filename': 'custom_image',\n",
    "    'height': 2000,\n",
    "    'width': 2500,\n",
    "  }\n",
    "}\n",
    "\n",
    "fig.show(config=config_2)"
   ]
  },
  {
   "attachments": {},
   "cell_type": "markdown",
   "metadata": {},
   "source": [
    "Values with a correlation coefficient greater than or equal to 0.7 are considered as strong correlations. Likewise, negative correlation coefficients follow the inverse of this criteria. The purpose of this correlation plot is to identify singular variables that are correlated with the positive returns of many other variables that are often considered as benchmarks for strong equity performance. Even more significant is the identification of variables that normally do not have any apparent correlation when viewed in isolation, but do when paired together in a regression. After establishing such occurrences, certain variables can be assigned a stronger weight than others when being processed by the normalization algorithm that is the basis of our equity ranking system used in our asset allocation and construction algorithm. Such variables can later be grouped as predictors into a multiple linear regression model for further analysis. The results from the correlation plot can be classified as follows:\n",
    "\n",
    "| X-Value(s) | Strong Positive Y-Values (r >= 0.7) |\n",
    "| --- | --- |\n",
    "| Market Capitalization | Total Shares Outstanding, Net Income (FY), Gross Profit (FY), Gross Profit (MRQ), EBITDA (TTM), Total Current Assets (MRQ) |\n",
    "| Basic EPS (TTM) | EPS Diluted (FY), EPS Diluted (TTM), Basic EPS FY |\n",
    "| EBITDA (TTM), Gross Profit (MRQ), Gross Profit (FY) | Total Shares Outstanding, Enterprise Value (MRQ), Total Current Assets (MRQ), Total Assets (MRQ), Net Income (FY), Gross Profit (FY), Gross Profit (MRQ), Total Debt (MRQ), Last Year Revenue (FY), Total Revenue (FY)|\n",
    "| Total Revenue (FY) | Total Current Assets (MRQ), Last Year Revenue (FY), Total Assets (MRQ) |\n",
    "| Last Year Revenue (FY) | Total Current Assets (MRQ), Total Assets (MRQ) |\n",
    "| Current Ratio (MRQ) | Quick ratio (MRQ), Total Shares Outstanding, Enterprise Value (MRQ) |\n",
    "| Total Assets (MRQ) | Total Current Assets (MRQ), Total Debt (MRQ) |\n",
    "| Operating Margin (TTM) | Net Margin (TTM), Pretax Margin (TTM) |\n",
    "| Enterprise Value (MRQ) | Total Shares Outstanding |\n",
    "| Number of Employees | Last Year Revenue, Total Revenue (FY) |\n",
    "| Net Income | Total Shares Outstanding, Enterprise Value, Total Current Assets (MRQ), Total Assets (MRQ) |\n",
    "| Net Debt | Total Assets (MRQ) |\n",
    "| Gross Margin (TTM) | Price to Revenue Ratio (TTM), Net Margin (TTM), Pretax Margin (TTM), Operating Margin (TTM) |\n",
    "| Price to Revenue Ratio (TTM) | Enterprise Value / EBITDA (TTM) |\n",
    "\n",
    "It should be noted, however, that many of the X values show a high correlation with other Y values due to those Y values being a derivative of the initial X value and vice versa. This observation confirms that  Taking this feature into account can give the following results:\n",
    "\n",
    "| X-Value(s) | Strong Positive Y-Values (r >= 0.7) |\n",
    "| --- | --- |\n",
    "| Market Capitalization | Total Shares Outstanding, Net Income (FY), Gross Profit (FY), Gross Profit (MRQ), EBITDA (TTM), Total Current Assets (MRQ) |\n",
    "| EBITDA (TTM), Gross Profit (MRQ), Gross Profit (FY) | Total Shares Outstanding, Enterprise Value (MRQ), Total Current Assets (MRQ), Total Assets (MRQ), Net Income (FY), Gross Profit (FY), Gross Profit (MRQ), Total Debt (MRQ), Last Year Revenue (FY), Total Revenue (FY) |\n",
    "| Current Ratio (MRQ) | Quick ratio (MRQ), Total Shares Outstanding, Enterprise Value (MRQ) |\n",
    "| Enterprise Value (MRQ) | Total Shares Outstanding |\n",
    "| Number of Employees | Last Year Revenue, Total Revenue (FY) |\n",
    "| Net Income | Total Shares Outstanding, Enterprise Value, Total Current Assets (MRQ), Total Assets (MRQ) |\n",
    "| Price to Revenue Ratio (TTM) | Enterprise Value / EBITDA (TTM) |\n",
    "\n",
    "Taking variables that may not have any immediate obvious correlation can yield the following:\n",
    "\n",
    "| X-Value(s) | Strong Positive Y-Values (r >= 0.7) |\n",
    "| --- | --- |\n",
    "| EBITDA (TTM), Gross Profit (MRQ), Gross Profit (FY) | Total Shares Outstanding |\n",
    "| Current Ratio (MRQ) | Total Shares Outstanding |\n",
    "| Enterprise Value (MRQ) | Total Shares Outstanding |\n",
    "| Number of Employees | Last Year Revenue, Total Revenue (FY) |\n",
    "| Net Income | Total Shares Outstanding |\n",
    "\n",
    "An outcome of these observations can be to take the correlations of these variables and assign them as a multiplier to the normalized values for each respective column to prioritize certain equity data as being more deterministic of a positive return on investment than others.\n",
    "\n",
    "Another outcome of these observations can be to analyze the density plot creating during the EDA phase and solely focus on the distributions of the above variables from tables 2 or 3 that are skewed towads low normalized values. The logic with this would be that outliers in negatively skewed distributions are more likely to be indicative of stronger performance because they excel in a financial ratio that very few companies excel in.\n",
    "\n",
    "The weighted scores from each analysis can be aggregated and in the end, a weighted scoring system is used."
   ]
  },
  {
   "cell_type": "code",
   "execution_count": 70,
   "metadata": {},
   "outputs": [],
   "source": [
    "predictors = [\n",
    "    ['Market Capitalization',\n",
    "    'Basic EPS (TTM)',\n",
    "    'EBITDA (TTM)',\n",
    "    'Gross Profit (MRQ)'],\n",
    "    ['Gross Profit (FY)',\n",
    "    'Total Revenue (FY)',\n",
    "    'Last Year Revenue (FY)',\n",
    "    'Current Ratio (MRQ)'],\n",
    "    ['Total Assets (MRQ)',\n",
    "    'Operating Margin (TTM)',\n",
    "    'Enterprise Value (MRQ)',\n",
    "    'Number of Employees'],\n",
    "    ['Net Income (FY)',\n",
    "    'Net Debt (MRQ)',\n",
    "    'Gross Margin (TTM)',\n",
    "    'Price to Revenue Ratio (TTM)']\n",
    "    ]"
   ]
  },
  {
   "cell_type": "code",
   "execution_count": 71,
   "metadata": {},
   "outputs": [],
   "source": [
    "# target_y = 'Market Capitalization Score'\n",
    "# mega_dfx = mega_df.select_dtypes(exclude='object')\n",
    "# predictors = [x for x in mega_dfx.columns]\n",
    "# #predictors = ['Net Income (FY)', 'Number of Employees', 'Current Ratio (MRQ)']\n",
    "\n",
    "# for predictor in predictors:\n",
    "#     quant.rank(mega_df, predictor)\n",
    "\n",
    "# predictors = [x + \" Score\" for x in predictors]\n",
    "# predictors\n",
    "# quant.multiple_linear_regression(mega_df, predictors, target_y) # result for market cap score seems suspicious if you plot the graph"
   ]
  },
  {
   "cell_type": "code",
   "execution_count": 72,
   "metadata": {},
   "outputs": [],
   "source": [
    "# fig = px.scatter(\n",
    "#     mega_df, x=predictors, y=target_y, opacity=0.65,\n",
    "#     trendline_color_override='darkblue'\n",
    "# )\n",
    "# #fig.show()"
   ]
  },
  {
   "cell_type": "code",
   "execution_count": 73,
   "metadata": {},
   "outputs": [
    {
     "ename": "Exception",
     "evalue": "The (row, col) pair sent is out of range. Use Figure.print_grid to view the subplot grid. ",
     "output_type": "error",
     "traceback": [
      "\u001b[1;31m---------------------------------------------------------------------------\u001b[0m",
      "\u001b[1;31mIndexError\u001b[0m                                Traceback (most recent call last)",
      "File \u001b[1;32mc:\\Users\\colin\\miniconda3\\lib\\site-packages\\plotly\\_subplots.py:1352\u001b[0m, in \u001b[0;36m_set_trace_grid_reference\u001b[1;34m(trace, layout, grid_ref, row, col, secondary_y)\u001b[0m\n\u001b[0;32m   1351\u001b[0m \u001b[39mtry\u001b[39;00m:\n\u001b[1;32m-> 1352\u001b[0m     subplot_refs \u001b[39m=\u001b[39m grid_ref[row \u001b[39m-\u001b[39;49m \u001b[39m1\u001b[39;49m][col \u001b[39m-\u001b[39;49m \u001b[39m1\u001b[39;49m]\n\u001b[0;32m   1353\u001b[0m \u001b[39mexcept\u001b[39;00m \u001b[39mIndexError\u001b[39;00m:\n",
      "\u001b[1;31mIndexError\u001b[0m: list index out of range",
      "\nDuring handling of the above exception, another exception occurred:\n",
      "\u001b[1;31mException\u001b[0m                                 Traceback (most recent call last)",
      "Cell \u001b[1;32mIn[73], line 61\u001b[0m\n\u001b[0;32m     53\u001b[0m     fig\u001b[39m.\u001b[39mupdate_layout(\n\u001b[0;32m     54\u001b[0m         title_text\u001b[39m=\u001b[39m\u001b[39mf\u001b[39m\u001b[39m'\u001b[39m\u001b[39mHeat Map Facet Grid of Normalized Equity Data from the Top and Bottom 20 Companies in the S&P500 Index by Predictor (1 = Best, 0 = Worst)\u001b[39m\u001b[39m'\u001b[39m,\n\u001b[0;32m     55\u001b[0m         template\u001b[39m=\u001b[39m\u001b[39m'\u001b[39m\u001b[39mplotly_dark\u001b[39m\u001b[39m'\u001b[39m,\n\u001b[0;32m     56\u001b[0m         width\u001b[39m=\u001b[39m\u001b[39m1500\u001b[39m,\n\u001b[0;32m     57\u001b[0m         height\u001b[39m=\u001b[39m\u001b[39m1500\u001b[39m\u001b[39m*\u001b[39mheight_multiplier)\n\u001b[0;32m     59\u001b[0m     \u001b[39mreturn\u001b[39;00m fig\n\u001b[1;32m---> 61\u001b[0m display(subplot_generator(predictors, \u001b[39m2\u001b[39;49m, vertical_spacing\u001b[39m=\u001b[39;49m\u001b[39m0.02\u001b[39;49m)\u001b[39m.\u001b[39mshow(config\u001b[39m=\u001b[39mconfig))\n\u001b[0;32m     63\u001b[0m \u001b[39m#large_fig_2 = subplot_generator(predictors[1], 4, vertical_spacing=0.009)\u001b[39;00m\n",
      "Cell \u001b[1;32mIn[73], line 41\u001b[0m, in \u001b[0;36msubplot_generator\u001b[1;34m(predictors, height_reduction_factor, horizontal_spacing, vertical_spacing)\u001b[0m\n\u001b[0;32m     32\u001b[0m     fig\u001b[39m.\u001b[39madd_trace(\n\u001b[0;32m     33\u001b[0m     trace\u001b[39m=\u001b[39mviz\u001b[39m.\u001b[39mheatmap_plot(\n\u001b[0;32m     34\u001b[0m     df\u001b[39m=\u001b[39mmega_df,\n\u001b[1;32m   (...)\u001b[0m\n\u001b[0;32m     38\u001b[0m     col \u001b[39m=\u001b[39m col\n\u001b[0;32m     39\u001b[0m )\n\u001b[0;32m     40\u001b[0m     col \u001b[39m+\u001b[39m\u001b[39m=\u001b[39m \u001b[39m1\u001b[39m\n\u001b[1;32m---> 41\u001b[0m     fig\u001b[39m.\u001b[39;49madd_trace(\n\u001b[0;32m     42\u001b[0m     trace\u001b[39m=\u001b[39;49mviz\u001b[39m.\u001b[39;49mheatmap_plot(\n\u001b[0;32m     43\u001b[0m     df\u001b[39m=\u001b[39;49mmega_df,\n\u001b[0;32m     44\u001b[0m     plot_last_companies\u001b[39m=\u001b[39;49m\u001b[39mFalse\u001b[39;49;00m,\n\u001b[0;32m     45\u001b[0m     sort_by\u001b[39m=\u001b[39;49mpredictor)\u001b[39m.\u001b[39;49mdata[\u001b[39m0\u001b[39;49m],\n\u001b[0;32m     46\u001b[0m     row \u001b[39m=\u001b[39;49m row,\n\u001b[0;32m     47\u001b[0m     col \u001b[39m=\u001b[39;49m col \u001b[39m+\u001b[39;49m \u001b[39m1\u001b[39;49m\n\u001b[0;32m     48\u001b[0m )\n\u001b[0;32m     49\u001b[0m     row \u001b[39m+\u001b[39m\u001b[39m=\u001b[39m \u001b[39m1\u001b[39m\n\u001b[0;32m     50\u001b[0m     col \u001b[39m=\u001b[39m \u001b[39m1\u001b[39m\n",
      "File \u001b[1;32mc:\\Users\\colin\\miniconda3\\lib\\site-packages\\plotly\\graph_objs\\_figure.py:900\u001b[0m, in \u001b[0;36mFigure.add_trace\u001b[1;34m(self, trace, row, col, secondary_y, exclude_empty_subplots)\u001b[0m\n\u001b[0;32m    825\u001b[0m \u001b[39mdef\u001b[39;00m \u001b[39madd_trace\u001b[39m(\n\u001b[0;32m    826\u001b[0m     \u001b[39mself\u001b[39m, trace, row\u001b[39m=\u001b[39m\u001b[39mNone\u001b[39;00m, col\u001b[39m=\u001b[39m\u001b[39mNone\u001b[39;00m, secondary_y\u001b[39m=\u001b[39m\u001b[39mNone\u001b[39;00m, exclude_empty_subplots\u001b[39m=\u001b[39m\u001b[39mFalse\u001b[39;00m\n\u001b[0;32m    827\u001b[0m ) \u001b[39m-\u001b[39m\u001b[39m>\u001b[39m \u001b[39m\"\u001b[39m\u001b[39mFigure\u001b[39m\u001b[39m\"\u001b[39m:\n\u001b[0;32m    828\u001b[0m \u001b[39m    \u001b[39m\u001b[39m\"\"\"\u001b[39;00m\n\u001b[0;32m    829\u001b[0m \n\u001b[0;32m    830\u001b[0m \u001b[39m    Add a trace to the figure\u001b[39;00m\n\u001b[1;32m   (...)\u001b[0m\n\u001b[0;32m    898\u001b[0m \n\u001b[0;32m    899\u001b[0m \u001b[39m    \"\"\"\u001b[39;00m\n\u001b[1;32m--> 900\u001b[0m     \u001b[39mreturn\u001b[39;00m \u001b[39msuper\u001b[39;49m(Figure, \u001b[39mself\u001b[39;49m)\u001b[39m.\u001b[39;49madd_trace(\n\u001b[0;32m    901\u001b[0m         trace, row, col, secondary_y, exclude_empty_subplots\n\u001b[0;32m    902\u001b[0m     )\n",
      "File \u001b[1;32mc:\\Users\\colin\\miniconda3\\lib\\site-packages\\plotly\\basedatatypes.py:2089\u001b[0m, in \u001b[0;36mBaseFigure.add_trace\u001b[1;34m(self, trace, row, col, secondary_y, exclude_empty_subplots)\u001b[0m\n\u001b[0;32m   2080\u001b[0m         \u001b[39mself\u001b[39m\u001b[39m.\u001b[39madd_trace(\n\u001b[0;32m   2081\u001b[0m             trace,\n\u001b[0;32m   2082\u001b[0m             row\u001b[39m=\u001b[39mr,\n\u001b[1;32m   (...)\u001b[0m\n\u001b[0;32m   2085\u001b[0m             exclude_empty_subplots\u001b[39m=\u001b[39mexclude_empty_subplots,\n\u001b[0;32m   2086\u001b[0m         )\n\u001b[0;32m   2087\u001b[0m     \u001b[39mreturn\u001b[39;00m \u001b[39mself\u001b[39m\n\u001b[1;32m-> 2089\u001b[0m \u001b[39mreturn\u001b[39;00m \u001b[39mself\u001b[39;49m\u001b[39m.\u001b[39;49madd_traces(\n\u001b[0;32m   2090\u001b[0m     data\u001b[39m=\u001b[39;49m[trace],\n\u001b[0;32m   2091\u001b[0m     rows\u001b[39m=\u001b[39;49m[row] \u001b[39mif\u001b[39;49;00m row \u001b[39mis\u001b[39;49;00m \u001b[39mnot\u001b[39;49;00m \u001b[39mNone\u001b[39;49;00m \u001b[39melse\u001b[39;49;00m \u001b[39mNone\u001b[39;49;00m,\n\u001b[0;32m   2092\u001b[0m     cols\u001b[39m=\u001b[39;49m[col] \u001b[39mif\u001b[39;49;00m col \u001b[39mis\u001b[39;49;00m \u001b[39mnot\u001b[39;49;00m \u001b[39mNone\u001b[39;49;00m \u001b[39melse\u001b[39;49;00m \u001b[39mNone\u001b[39;49;00m,\n\u001b[0;32m   2093\u001b[0m     secondary_ys\u001b[39m=\u001b[39;49m[secondary_y] \u001b[39mif\u001b[39;49;00m secondary_y \u001b[39mis\u001b[39;49;00m \u001b[39mnot\u001b[39;49;00m \u001b[39mNone\u001b[39;49;00m \u001b[39melse\u001b[39;49;00m \u001b[39mNone\u001b[39;49;00m,\n\u001b[0;32m   2094\u001b[0m     exclude_empty_subplots\u001b[39m=\u001b[39;49mexclude_empty_subplots,\n\u001b[0;32m   2095\u001b[0m )\n",
      "File \u001b[1;32mc:\\Users\\colin\\miniconda3\\lib\\site-packages\\plotly\\graph_objs\\_figure.py:980\u001b[0m, in \u001b[0;36mFigure.add_traces\u001b[1;34m(self, data, rows, cols, secondary_ys, exclude_empty_subplots)\u001b[0m\n\u001b[0;32m    904\u001b[0m \u001b[39mdef\u001b[39;00m \u001b[39madd_traces\u001b[39m(\n\u001b[0;32m    905\u001b[0m     \u001b[39mself\u001b[39m,\n\u001b[0;32m    906\u001b[0m     data,\n\u001b[1;32m   (...)\u001b[0m\n\u001b[0;32m    910\u001b[0m     exclude_empty_subplots\u001b[39m=\u001b[39m\u001b[39mFalse\u001b[39;00m,\n\u001b[0;32m    911\u001b[0m ) \u001b[39m-\u001b[39m\u001b[39m>\u001b[39m \u001b[39m\"\u001b[39m\u001b[39mFigure\u001b[39m\u001b[39m\"\u001b[39m:\n\u001b[0;32m    912\u001b[0m \u001b[39m    \u001b[39m\u001b[39m\"\"\"\u001b[39;00m\n\u001b[0;32m    913\u001b[0m \n\u001b[0;32m    914\u001b[0m \u001b[39m    Add traces to the figure\u001b[39;00m\n\u001b[1;32m   (...)\u001b[0m\n\u001b[0;32m    978\u001b[0m \n\u001b[0;32m    979\u001b[0m \u001b[39m    \"\"\"\u001b[39;00m\n\u001b[1;32m--> 980\u001b[0m     \u001b[39mreturn\u001b[39;00m \u001b[39msuper\u001b[39;49m(Figure, \u001b[39mself\u001b[39;49m)\u001b[39m.\u001b[39;49madd_traces(\n\u001b[0;32m    981\u001b[0m         data, rows, cols, secondary_ys, exclude_empty_subplots\n\u001b[0;32m    982\u001b[0m     )\n",
      "File \u001b[1;32mc:\\Users\\colin\\miniconda3\\lib\\site-packages\\plotly\\basedatatypes.py:2219\u001b[0m, in \u001b[0;36mBaseFigure.add_traces\u001b[1;34m(self, data, rows, cols, secondary_ys, exclude_empty_subplots)\u001b[0m\n\u001b[0;32m   2217\u001b[0m \u001b[39mif\u001b[39;00m rows \u001b[39mis\u001b[39;00m \u001b[39mnot\u001b[39;00m \u001b[39mNone\u001b[39;00m:\n\u001b[0;32m   2218\u001b[0m     \u001b[39mfor\u001b[39;00m trace, row, col, secondary_y \u001b[39min\u001b[39;00m \u001b[39mzip\u001b[39m(data, rows, cols, secondary_ys):\n\u001b[1;32m-> 2219\u001b[0m         \u001b[39mself\u001b[39;49m\u001b[39m.\u001b[39;49m_set_trace_grid_position(trace, row, col, secondary_y)\n\u001b[0;32m   2221\u001b[0m \u001b[39mif\u001b[39;00m exclude_empty_subplots:\n\u001b[0;32m   2222\u001b[0m     data \u001b[39m=\u001b[39m \u001b[39mlist\u001b[39m(\n\u001b[0;32m   2223\u001b[0m         \u001b[39mfilter\u001b[39m(\n\u001b[0;32m   2224\u001b[0m             \u001b[39mlambda\u001b[39;00m trace: \u001b[39mself\u001b[39m\u001b[39m.\u001b[39m_subplot_not_empty(\n\u001b[1;32m   (...)\u001b[0m\n\u001b[0;32m   2228\u001b[0m         )\n\u001b[0;32m   2229\u001b[0m     )\n",
      "File \u001b[1;32mc:\\Users\\colin\\miniconda3\\lib\\site-packages\\plotly\\basedatatypes.py:2311\u001b[0m, in \u001b[0;36mBaseFigure._set_trace_grid_position\u001b[1;34m(self, trace, row, col, secondary_y)\u001b[0m\n\u001b[0;32m   2308\u001b[0m \u001b[39mfrom\u001b[39;00m \u001b[39mplotly\u001b[39;00m\u001b[39m.\u001b[39;00m\u001b[39m_subplots\u001b[39;00m \u001b[39mimport\u001b[39;00m _set_trace_grid_reference\n\u001b[0;32m   2310\u001b[0m grid_ref \u001b[39m=\u001b[39m \u001b[39mself\u001b[39m\u001b[39m.\u001b[39m_validate_get_grid_ref()\n\u001b[1;32m-> 2311\u001b[0m \u001b[39mreturn\u001b[39;00m _set_trace_grid_reference(\n\u001b[0;32m   2312\u001b[0m     trace, \u001b[39mself\u001b[39;49m\u001b[39m.\u001b[39;49mlayout, grid_ref, row, col, secondary_y\n\u001b[0;32m   2313\u001b[0m )\n",
      "File \u001b[1;32mc:\\Users\\colin\\miniconda3\\lib\\site-packages\\plotly\\_subplots.py:1354\u001b[0m, in \u001b[0;36m_set_trace_grid_reference\u001b[1;34m(trace, layout, grid_ref, row, col, secondary_y)\u001b[0m\n\u001b[0;32m   1352\u001b[0m         subplot_refs \u001b[39m=\u001b[39m grid_ref[row \u001b[39m-\u001b[39m \u001b[39m1\u001b[39m][col \u001b[39m-\u001b[39m \u001b[39m1\u001b[39m]\n\u001b[0;32m   1353\u001b[0m     \u001b[39mexcept\u001b[39;00m \u001b[39mIndexError\u001b[39;00m:\n\u001b[1;32m-> 1354\u001b[0m         \u001b[39mraise\u001b[39;00m \u001b[39mException\u001b[39;00m(\n\u001b[0;32m   1355\u001b[0m             \u001b[39m\"\u001b[39m\u001b[39mThe (row, col) pair sent is out of \u001b[39m\u001b[39m\"\u001b[39m\n\u001b[0;32m   1356\u001b[0m             \u001b[39m\"\u001b[39m\u001b[39mrange. Use Figure.print_grid to view the \u001b[39m\u001b[39m\"\u001b[39m\n\u001b[0;32m   1357\u001b[0m             \u001b[39m\"\u001b[39m\u001b[39msubplot grid. \u001b[39m\u001b[39m\"\u001b[39m\n\u001b[0;32m   1358\u001b[0m         )\n\u001b[0;32m   1360\u001b[0m     \u001b[39mif\u001b[39;00m \u001b[39mnot\u001b[39;00m subplot_refs:\n\u001b[0;32m   1361\u001b[0m         \u001b[39mraise\u001b[39;00m \u001b[39mValueError\u001b[39;00m(\n\u001b[0;32m   1362\u001b[0m \u001b[39m            \u001b[39m\u001b[39m\"\"\"\u001b[39;00m\n\u001b[0;32m   1363\u001b[0m \u001b[39mNo subplot specified at grid position ({row}, {col})\"\"\"\u001b[39;00m\u001b[39m.\u001b[39mformat(\n\u001b[0;32m   1364\u001b[0m                 row\u001b[39m=\u001b[39mrow, col\u001b[39m=\u001b[39mcol\n\u001b[0;32m   1365\u001b[0m             )\n\u001b[0;32m   1366\u001b[0m         )\n",
      "\u001b[1;31mException\u001b[0m: The (row, col) pair sent is out of range. Use Figure.print_grid to view the subplot grid. "
     ]
    }
   ],
   "source": [
    "def subplot_generator(predictors, height_reduction_factor = 8, horizontal_spacing= 0.02, vertical_spacing = 0.005):\n",
    "    fig = make_subplots(\n",
    "        rows=len(predictors),\n",
    "        cols=2,\n",
    "        shared_yaxes=True,\n",
    "        column_titles=['Bottom 20 Companies', 'Top 20 Companies'],\n",
    "        horizontal_spacing=horizontal_spacing,\n",
    "        vertical_spacing=vertical_spacing,\n",
    "        row_titles=['Sorted by ' + predictor for predictor in predictors]\n",
    "        )\n",
    "\n",
    "    row, col = 1, 1\n",
    "    for predictor in predictors:\n",
    "        fig.add_trace(\n",
    "        trace=viz.heatmap_plot(\n",
    "        df=mega_df,\n",
    "        plot_last_companies=True,\n",
    "        sort_by=predictor).data[0],\n",
    "        row = row,\n",
    "        col = col\n",
    "    )\n",
    "        fig.add_trace(\n",
    "        trace=viz.heatmap_plot(\n",
    "        df=mega_df,\n",
    "        plot_last_companies=False,\n",
    "        sort_by=predictor).data[0],\n",
    "        row = row,\n",
    "        col = col + 1\n",
    "    )\n",
    "        row += 1\n",
    "        col = 1\n",
    "\n",
    "    height_multiplier = len(predictors) - height_reduction_factor\n",
    "    fig.update_layout(\n",
    "        title_text=f'Heat Map Facet Grid of Normalized Equity Data from the Top and Bottom 20 Companies in the S&P500 Index by Predictor (1 = Best, 0 = Worst)',\n",
    "        template='plotly_dark',\n",
    "        width=1500,\n",
    "        height=1500*height_multiplier)\n",
    "    \n",
    "    return fig\n",
    "\n",
    "\n",
    "for predictor_set in predictors:\n",
    "    display(subplot_generator(predictor_set, 2, vertical_spacing=0.02).show(config=config))\n",
    "    \n",
    "#large_fig_2 = subplot_generator(predictors[1], 4, vertical_spacing=0.009)"
   ]
  },
  {
   "attachments": {},
   "cell_type": "markdown",
   "metadata": {},
   "source": [
    "The heatmap plots validate the strong correlation between market capitalization and overall equity performance across all other variables. Therefore, market capitalization is a strong determinant of the likelihood of a good return on investment as larger companies are more likely to perform better due to being more established in the market. The bottom 20 companies fromt he S&P 500 index perform poorly across almost all variables in direct contrast to those in the top 20 by market capitalization. "
   ]
  }
 ],
 "metadata": {
  "kernelspec": {
   "display_name": "base",
   "language": "python",
   "name": "python3"
  },
  "language_info": {
   "codemirror_mode": {
    "name": "ipython",
    "version": 3
   },
   "file_extension": ".py",
   "mimetype": "text/x-python",
   "name": "python",
   "nbconvert_exporter": "python",
   "pygments_lexer": "ipython3",
   "version": "3.9.15"
  }
 },
 "nbformat": 4,
 "nbformat_minor": 2
}
