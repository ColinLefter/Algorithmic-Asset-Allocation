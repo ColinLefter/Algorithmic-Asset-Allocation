{
 "cells": [
  {
   "cell_type": "markdown",
   "metadata": {},
   "source": [
    "# Colin Lefter"
   ]
  },
  {
   "attachments": {},
   "cell_type": "markdown",
   "metadata": {},
   "source": [
    "## Research question/interests\n",
    "\n",
    "**What equity data is the most deterministic of the performance of an equity, and of this data, which is the most relevant for a growth portfolio investment strategy such that we can compute an optimized portfolio of equities while using user input to drive our optimization algorithm?**\n",
    "\n",
    "My research objective is to develop a scalable asset allocation and construction algorithm that implements an objected-oriented design approach. This objective is an outcome of determining what equity data is the most deterministic of the price of an equity, which will be the focus for the majority of the project/\n",
    "\n",
    "I intend to develop algorithms for constructing multiple linear regressions and Fourier Franforms, among others, that I will then use to construct interactive and statistical models with Plotly and Seaborn. As such, I have a strong interest in the system design of our software and in developing helper functions that can assist all of us with processing data more efficiently. I am also looking forward to using Facebook Prophet[^1] to construct a time series forecast of a sample portfolio recommendation from our software, which can be included in our Tableau Dashboard.\n",
    "\n",
    "### Analysis Plan\n",
    "Our objective function is one that takes in a selection of columns from our data sets to then search for the top n companies that satisfy a criteria for having the highest probability of producing an optimal return on investment. These inputs themselves refer to sub-objective functions that take as input user-defined parameters and thresholds that set the criteria for favourable performance attributes. To rank the companies from our data set, and ultimately determine what portion of capital to assign to each equity, I propose a data normalization algorithm that normalizes the data that comprises the favourable subset from each column of our data set. We interpret these normalized values as probabilities of equity selection and ultimately average the score of each company across all columns to then multiply the final score percentage of each company with the total capital specified by the user. In a broad sense, our software is composed of four general classes that include \"Data\", \"Quantitative Analysis\", \"Data Visualization\" and \"Portfolio Construction\". We inherit the properties from each of these classes to build a functional data analysis chain.\n",
    "\n",
    "Our data visualization will be concerned with analyzing the influence of certain financial variables, such as Price-to-Earnings, on the price of each equity from a sample of 500 equities (from the S&P 500 index). Such analysis would begin with a statistical summary that will constitute exploratory data analysis, followed by our application of analysis algorithms that we design. The construction of a portfolio is a bonus of our project and will be made possible by the analysis algorithms we have constructed.\n",
    "\n",
    "**Important Note**\n",
    "A component of the analysis will involve the comparison of different values of financial variables with the corresponding price of each equity. This constitutes inferential analysis as we are attempting to identify a correlation on the basis of picking stocks based on expected performance. Therefore, this will require us to use past financial data and compare this data with the current price of each equity. As a result, we can only use the 3-month performance data (i.e. 3-month change in share price data) for this comparison as otherwise we would be using future data to predict past performance, which would be invalid.\n",
    "\n",
    "#### User-defined parameters\n",
    "Some initial ideas for these parameters include:\n",
    "- (float) Initial capital\n",
    "- (float) Additional capital per day, week or month\n",
    "- (int) Intended holding period (in days)\n",
    "- (boolean) Importance of dividends (validated based on capital invested)\n",
    "- (String) Preferred industries (choose from a list, or select all)\n",
    "- (int) Volatility tolerance (from 0 to 1, 1 indicating that volatility is not important)\n",
    "- (String) Preferred companies (as a list)[^2]\n",
    "- (int) Preferred degree of portfolio diversification (from 0 to 1, 1 indicating complete diversification)\n",
    "- (String) Preferred investment strategy (choose from \"Growth\", \"Value\", \"GARP\")\n",
    "\n",
    "### Algorithm Plan\n",
    "\n",
    "####  Tier 1: Threshold-based screening algorithms\n",
    "- The current plan is to use these algorithms to screen the financial documents from each company by setting a minimum threshold for each financial ratio. This class of algorithms will need to conduct such screening per industry as industry financial ratios are dinstinct from one another.\n",
    "- A global screening algorithm that selects companies which show favourable performance across all ratios can also be used after each ratio has been individually tested.\n",
    "\n",
    "#### Tier 2: Regression models\n",
    "- As of now, the intent is to develop a multiple linear regression model that will attempt to determine a relationship between the yearly and quarterly performance of each company in relation to several columns of data that act as predictors. This can essentially implement the results from the threshold-based screening algorithms to only conduct this analysis on the pre-screened companies.\n",
    "\n",
    "#### Tier 3: Statistical modelling algorithms\n",
    "- Tier 3 denotes a class of broadly experimental statistical modelling algorithms that are applied on a pre-final portfolio to add additional points to companies that perform exceptionally well compared to others in the portfolio. For now, these algorithms constitute signal processing algorithms such as a Fourier Transform algorithm that attempts to identify peaks in numerical values that would otherwise not be apparent when examined in isolation and without further processing. Therefore, these algorithms will be used to fine-tune the capital allocation percentages for each company in the pre-final portfolio.\n",
    "\n",
    "#### Columns of relevance\n",
    "Data set 1: Overview\n",
    "- Price\n",
    "- MKT Cap\n",
    "- P/E\n",
    "- EPS\n",
    "- Sector\n",
    "\n",
    "Data set 2: Performance\n",
    "- 1M change (1 month change)\n",
    "- 3-Month performance\n",
    "- 6-month perfromance\n",
    "- YTD performance\n",
    "- Yearly performance\n",
    "- Volatility\n",
    "\n",
    "Data set 3: Valuation\n",
    "- Price / revenue\n",
    "- Enterprise value\n",
    "\n",
    "Data set 4: Dividends\n",
    "- Dividend yield FWD\n",
    "- Dividends per share (FY)\n",
    "\n",
    "Data set 5: Margins\n",
    "- Gross profit margin\n",
    "- Operating margin\n",
    "- Net profit margin\n",
    "\n",
    "Data set 6: Income Statement\n",
    "- Gross profit\n",
    "- Income\n",
    "- Net cash flow\n",
    "\n",
    "Data set 7: Balance Sheet\n",
    "- Current ratio\n",
    "- Debt/equity\n",
    "- Quick ratio\n",
    "\n",
    "The total number of columns would be 24 in this case.\n",
    "\n",
    "[^1]: This would mean that a few time series data sets would need to be downloaded from TradingView at the end of the project to test the demo porfolio.\n",
    "\n",
    "[^2]: A helper function can be developed for this, where the user can just type out the name of the company and the ticker is identifed."
   ]
  },
  {
   "cell_type": "code",
   "execution_count": 823,
   "metadata": {},
   "outputs": [],
   "source": [
    "import pandas as pd\n",
    "import plotly as plt\n",
    "import seaborn as sns\n",
    "import numpy as np\n",
    "import datetime as dt\n",
    "import matplotlib.pyplot as mplt\n",
    "from sklearn.linear_model import LinearRegression\n",
    "from sklearn import preprocessing\n",
    "import plotly.graph_objects as go\n",
    "import plotly.express as px\n",
    "import plotly.figure_factory as ff\n",
    "from IPython.display import display, HTML, Markdown, Latex\n",
    "from tqdm import tqdm, trange\n",
    "from typing import *\n",
    "from dataclasses import dataclass\n",
    "from scipy import stats\n",
    "import plotly.io as pio\n",
    "import sys\n",
    "from sklearn.model_selection import train_test_split\n",
    "from sklearn import metrics\n",
    "sys.path.append('..')\n",
    "from analysis.code import project_functions1 as pf"
   ]
  },
  {
   "cell_type": "code",
   "execution_count": 824,
   "metadata": {},
   "outputs": [],
   "source": [
    "sns.set_theme(style=\"darkgrid\")\n",
    "sns.set(rc={\"figure.dpi\":300, 'savefig.dpi':300})\n",
    "sns.set(style=\"ticks\", context=\"talk\")\n",
    "mplt.style.use(\"dark_background\")\n",
    "\n",
    "config = {\n",
    "  'toImageButtonOptions': {\n",
    "    'format': 'png',\n",
    "    'filename': 'custom_image',\n",
    "    'height': 800,\n",
    "    'width': 2000,\n",
    "    'scale': 2\n",
    "  }\n",
    "}"
   ]
  },
  {
   "cell_type": "code",
   "execution_count": 825,
   "metadata": {},
   "outputs": [],
   "source": [
    "@dataclass\n",
    "class ValueRange:\n",
    "    min: float\n",
    "    max: float\n",
    "    \n",
    "    def validate(self, x):\n",
    "        \"\"\"Checks if inputs to variables that must lie within a specific range are valid\n",
    "        \n",
    "        :x: the value that must be checked as satisfying the specified range\n",
    "        :raises ValueError: if the value does not lie within the specified range\n",
    "        \"\"\"\n",
    "        if not (self.min <= x <= self.max):\n",
    "            raise ValueError(f'{x} must be between 0 and 1 (including).')"
   ]
  },
  {
   "attachments": {},
   "cell_type": "markdown",
   "metadata": {},
   "source": [
    "# Data Loading"
   ]
  },
  {
   "cell_type": "code",
   "execution_count": 826,
   "metadata": {},
   "outputs": [],
   "source": [
    "equities = pf.EquityData()\n",
    "overview_df = equities.load_and_process(\"overview\", exclude_columns=['Change %', 'Change', 'Technical Rating', 'Volume', 'Volume*Price'])\n",
    "income_statement_df = equities.load_and_process(\"income_statement\")\n",
    "balance_sheet_df = equities.load_and_process(\"balance_sheet\")\n",
    "dividends_df = equities.load_and_process(\"dividends\", exclude_columns=['Price'])\n",
    "margins_df = equities.load_and_process(\"margins\")\n",
    "performance_df = equities.load_and_process(\"performance\", exclude_columns=['Change 1m, %', 'Change 5m, %', 'Change 15m, %', 'Change 1h, %', 'Change 4h, %', 'Change 1W, %', 'Change 1M, %', 'Change %'])\n",
    "valuation_df = equities.load_and_process(\"valuation\", exclude_columns=['Price', 'Market Capitalization', 'Price to Earnings Ratio (TTM)', 'Basic EPS (TTM)', 'EPS Diluted (FY)'])"
   ]
  },
  {
   "attachments": {},
   "cell_type": "markdown",
   "metadata": {},
   "source": [
    "### Analysis-Specific Data Wrangling"
   ]
  },
  {
   "cell_type": "code",
   "execution_count": 827,
   "metadata": {},
   "outputs": [],
   "source": [
    "dfs = [\n",
    "    overview_df,\n",
    "    income_statement_df,\n",
    "    balance_sheet_df,\n",
    "    dividends_df,\n",
    "    margins_df,\n",
    "    performance_df,\n",
    "    valuation_df\n",
    "    ]\n",
    "\n",
    "dfs_names = [\n",
    "    \"Overview Data\",\n",
    "    \"Balance Sheet Data\",\n",
    "    \"Dividends Data\",\n",
    "    \"Income Statement Data\",\n",
    "    \"Margins Data\",\n",
    "    \"Performance Data\",\n",
    "    \"Valuation Data\"\n",
    "    ]\n",
    "\n",
    "overview_df['3-Month Performance'] = performance_df['3-Month Performance']\n",
    "income_statement_df['3-Month Performance'] = performance_df['3-Month Performance']\n",
    "balance_sheet_df['3-Month Performance'] = performance_df['3-Month Performance']\n",
    "dividends_df['3-Month Performance'] = performance_df['3-Month Performance']\n",
    "margins_df['3-Month Performance'] = performance_df['3-Month Performance']\n",
    "valuation_df['3-Month Performance'] = performance_df['3-Month Performance']\n",
    "\n",
    "mega_df = pd.concat(dfs, axis=1)\n",
    "mega_df = mega_df.loc[:,~mega_df.columns.duplicated()].copy()\n",
    "mega_df = mega_df.dropna()\n",
    "mega_df_no_strings = mega_df.select_dtypes(exclude='object')\n",
    "\n",
    "mega_df['6-Month Performance'] = performance_df['6-Month Performance']\n",
    "mega_df['YTD Performance'] = performance_df['YTD Performance']\n",
    "mega_df['Yearly Performance'] = performance_df['Yearly Performance']"
   ]
  },
  {
   "attachments": {},
   "cell_type": "markdown",
   "metadata": {},
   "source": [
    "# Functional Classes"
   ]
  },
  {
   "cell_type": "code",
   "execution_count": 828,
   "metadata": {},
   "outputs": [],
   "source": [
    "class QuantitativeAnalysis:\n",
    "    def __init__(self, number_of_companies: int=500, initial_capital: float=100000.00, capital_per_period: float=100.00, period: int=7, dividends_importance: bool=False, preferred_industries: list=[\"Technology Services, Electronic Technology\"],\n",
    "                volatility_tolerance: Annotated[float, ValueRange(0.0, 1.0)]=0.7, preferred_companies: list=[\"Apple, Google, Microsoft, Amazon\"], diversification: Annotated[float, ValueRange(0.0, 1.0)]=0.4, investment_strategy: str=\"Growth\"):\n",
    "        \"\"\"Includes several analysis functions that process select data across all data sets\n",
    "\n",
    "        :number_of_companies: the number of companies included in the sample, with the default being those from the S&P500 Index\\n\n",
    "        :initial_capital: the initial amount of cash to be invested by the client, in USD\\n\n",
    "        :capital_per_period: the amount of cash to be invested by the client at a fixed rate in addition to the initial capital invested, in USD\\n\n",
    "        :period: the frequency (in days) at which additional cash is invested, if desired\\n\n",
    "        :dividends_importance: specifies whether dividends are important to the client, dictating whether analysis algorithms should place greater importance on dividends\\n\n",
    "        :preferred_industries: specifies a list of industries that the analysis algorithms should prioritize when constructing the investment portfolio\\n\n",
    "        :volatility_tolerance: accepts a range of values from 0 to 1, with 1 implying maximum volatility tolerance (i.e. the client is willing to lose 100% of their investment to take on more risk)\\n\n",
    "        :preferred_companies: specifies a list of companies that the analysis algorithms will accomodate in the final portfolio irrespective of their score\\n\n",
    "        :diversification: accepts a range of values from 0 to 1, with 1 implying maximum diversification (i.e. funds will be distributed evenly across all industries and equally among all companies)\\n\n",
    "        :investment_strategy: specifies the investment strategy that will guide the output of the analysis algorithms, in which this analysis notebook strictly focuses on growth investing\\n\n",
    "        :raises: ValueError if an input parameter does not satisfy its accepted range\n",
    "        \"\"\"\n",
    "        \n",
    "        self.number_of_companies = number_of_companies\n",
    "        self.initial_capital = initial_capital\n",
    "        self.capital_per_period = capital_per_period\n",
    "        self.period = period\n",
    "        self.dividends_importance = dividends_importance\n",
    "        self.preferred_industries = preferred_industries\n",
    "        self.volatility_tolerance = volatility_tolerance\n",
    "        self.preferred_companies = preferred_companies\n",
    "        self.diversification = diversification\n",
    "        self.preferred_companies = preferred_industries\n",
    "        self.investment_strategy = investment_strategy\n",
    "        \n",
    "    def lin_reg_coef_determination(self, df: pd.DataFrame, X: str, y: str='3-Month Performance', filter_outliers: bool=True) -> np.float64:\n",
    "        if filter_outliers:\n",
    "            df = self.outlier_filtered_df(df, col=y)\n",
    "        \n",
    "        X = df[X]\n",
    "        y = df[y]\n",
    "        \n",
    "        y = y.dropna()\n",
    "        X = X.dropna()\n",
    "        \n",
    "        if len(X) > len(y):\n",
    "            X = X[:len(y)]\n",
    "        else:\n",
    "            y = y[:len(X)]\n",
    "        \n",
    "        self.X = np.array(X).reshape(-1, 1)\n",
    "        self.y = np.array(y).reshape(-1, 1)\n",
    "        \n",
    "        model = LinearRegression()\n",
    "        model.fit(self.X, self.y)\n",
    "         \n",
    "        return model.score(self.X, self.y)\n",
    "\n",
    "    def get_lin_reg_coefs(self, df: pd.DataFrame, x_values: list(), y_value: str='3-Month Performance') -> pd.DataFrame:\n",
    "        \"\"\"Returns a Pandas DataFrame with the coefficients of determination for each y-on-x regression\n",
    "        Example: 3-Month Performance against Price to Earnings Ratio (TTM)\n",
    "        \n",
    "        :df: the data frame that contains the columns to process\\n\n",
    "        :x_values: a list of strings of the names of each column to process\\n\n",
    "        :y_value: a common y-value to map each x value against in the regression analysis\\n\n",
    "        :returns: A Pandas DataFrame with the coefficients of determination for each y-on-x regression\\n\n",
    "        \n",
    "        \"\"\"\n",
    "        self.coef_dict = dict.fromkeys(x_values, 0) # initialize a dict with all the columns assigned to a value of 0\n",
    "        \n",
    "        for predictor in tqdm(x_values, desc=\"Constructing linear regression models\", total=len(x_values)):\n",
    "            self.coef_dict[predictor] = self.lin_reg_coef_determination(df, X=predictor, y=y_value)\n",
    "        \n",
    "        self.processed_df = pd.DataFrame(list(zip(self.coef_dict.keys(), self.coef_dict.values())), columns=[f'Equity Data Against {y_value}', 'Coefficient of Determination'])\n",
    "        \n",
    "        return self.processed_df\n",
    "        \n",
    "    def multiple_linear_regression(self, df: pd.DataFrame, predictors: list(), target_y: str='Market Capitalization') -> pd.DataFrame:\n",
    "        \"\"\"Consturcts a multiple linear regression model\n",
    "        :df: a Pandas DataFrame containing the data to be processed\n",
    "        :predictors: the x values that will be used to predict the target y value\n",
    "        :target_y: the y value to be predicted\n",
    "        :returns: a Pandas DataFrame containing a statistical summary of the performance of the model\n",
    "        \"\"\"\n",
    "        df = df.select_dtypes(exclude='object')\n",
    "        predictors.remove(target_y) # so you don't have a perfect correlation for the same variable\n",
    "\n",
    "        X = mega_df[predictors]\n",
    "        y = mega_df[target_y]\n",
    "\n",
    "        x_train, x_test, y_train, y_test = train_test_split(X, y, test_size=0.3, random_state=100)\n",
    "        mlr = LinearRegression()\n",
    "        mlr.fit(x_train, y_train)\n",
    "        y_pred_mlr = mlr.predict(x_test)\n",
    "\n",
    "        mlr_diff = pd.DataFrame({'Actual value': y_test, 'Predicted value': y_pred_mlr})\n",
    "        mlr_diff.head()\n",
    "\n",
    "        meanAbErr = metrics.mean_absolute_error(y_test, y_pred_mlr)\n",
    "        meanSqErr = metrics.mean_squared_error(y_test, y_pred_mlr)\n",
    "        rootMeanSqErr = np.sqrt(metrics.mean_squared_error(y_test, y_pred_mlr))\n",
    "        \n",
    "        results = {'R squared': mlr.score(X,y) * 100, 'Mean Absolute Error': meanAbErr, 'Mean Square Error': meanSqErr, 'Root Mean Square Error': rootMeanSqErr}\n",
    "        results_df = pd.DataFrame(results, index=['Model Results'])\n",
    "        return results_df\n",
    "    \n",
    "    def fourier_transform(self):\n",
    "        pass\n",
    "    \n",
    "    def rank(self, df: pd.DataFrame, col: str, normalize_only: bool=True, threshold: float=1.5,\n",
    "             below_threshold: bool=True, filter_outliers: bool=True, normalize_after: bool=False,\n",
    "             lower_quantile: float=0.05, upper_quantile: float=0.95) -> None:\n",
    "        \"\"\"The scoring algorithm for determining the weight of each equity in the construction of the portfolio for this specific column examined.\n",
    "        Features a custom outlier-filtering algorithm that is robust to outliers in the data set while still returning normalized values.\n",
    "        \n",
    "        :df: The original dataframe\\n\n",
    "        :col: The name of the column being extracted from the dataframe provided\\n\n",
    "        :normalize_only: if True, does not apply a threshold to the screening algorithm, and only normalizes values with a minmax scaler\\n\n",
    "        :threshold: the minimum value that equities must have for that column in order to be considered for further analysis\\n\n",
    "        :below_threshold: if True, removes equities that are below the threshold for that column\\n\n",
    "        :filter_outliers: if True, does not consider equities in the data normalization algorithm, but assigns a min or max value to all outliers depending on the below_threshold parameter\\n\n",
    "        :normalize_after: if True, normalizes the data only after the threshold filter has been applied\\n\n",
    "        :lower_quantile: specifies the lower quantile of the distribution when filtering outliers\\n\n",
    "        :upper_quantile: specifies the upper quantile of the distribution when filtering outliers\\n\n",
    "        \"\"\"\n",
    "        \n",
    "        #NOTE: should make an option for no threshold\n",
    "        self.x = df[col]\n",
    "        new_col = col + \" Score\"\n",
    "        \n",
    "        # normalization can be done either before or after equities have been filtered by the threshold\n",
    "        # the difference is that by filtering initially, the min and max values of that smaller set will become 0 and 1 respectively\n",
    "        df[new_col] = np.NaN # initialize the score column with only NaN values\n",
    "        \n",
    "        def outlier_filter(self):\n",
    "            \"\"\"Nested helper function to filter outliers\"\"\"\n",
    "            upper_fence = self.x.quantile(upper_quantile)\n",
    "            lower_fence = self.x.quantile(lower_quantile)\n",
    "            \n",
    "            if below_threshold:\n",
    "                df.loc[self.x > upper_fence, new_col] = 1 # outliers still need to be included in the data (max score assigned)\n",
    "                df.loc[self.x < lower_fence, new_col] = 0 # lowest score assigned\n",
    "            else:\n",
    "                # inverse of the above\n",
    "                df.loc[self.x > upper_fence, new_col] = 0\n",
    "                df.loc[self.x < lower_fence, new_col] = 1\n",
    "\n",
    "            # now only take the rows that are not outliers into the minmax scaler\n",
    "            self.x = self.x[(self.x <= upper_fence) & (self.x >= lower_fence)]\n",
    "            \n",
    "            if normalize_only:\n",
    "                normalize_after = False\n",
    "                \n",
    "            if normalize_after:\n",
    "                if below_threshold:\n",
    "                    # since we are only taking valid values, we consider the inverse of the values that are below the threshold to be valid values\n",
    "                    self.x = self.x[self.x >= threshold]\n",
    "                else:\n",
    "                    self.x = self.x[self.x <= threshold]\n",
    "        \n",
    "        if filter_outliers:\n",
    "            outlier_filter(self)\n",
    "        \n",
    "        self.y = np.array(self.x).reshape(-1, 1)\n",
    "        self.y = preprocessing.MinMaxScaler().fit_transform(self.y)\n",
    " \n",
    "        for col_idx, array_idx in zip(self.x.index, range(len(self.y))):\n",
    "            df.at[col_idx, new_col] = self.y[array_idx]\n",
    "        \n",
    "        # if we are giving the minimum score to values below the threshold, assign 0 to those values\n",
    "        if not normalize_only:\n",
    "            if below_threshold:\n",
    "                df.loc[df[col] <= threshold, new_col] = 0\n",
    "            else:\n",
    "                df.loc[df[col] >= threshold, new_col] = 0\n",
    "    \n",
    "    def outlier_filtered_df(self, df: pd.DataFrame, col: list(), lower_quantile: float=0.05, upper_quantile: float=0.95):\n",
    "        upper_fence = df[col].quantile(upper_quantile)\n",
    "        lower_fence = df[col].quantile(lower_quantile)\n",
    "\n",
    "        df = df[(df[col] <= upper_fence) & (df[col] >= lower_fence)]\n",
    "        \n",
    "        return df"
   ]
  },
  {
   "cell_type": "code",
   "execution_count": 829,
   "metadata": {},
   "outputs": [],
   "source": [
    "class DataVisualization(QuantitativeAnalysis):\n",
    "    def __init__(self):\n",
    "        QuantitativeAnalysis.__init__(self)\n",
    "\n",
    "    def score_density_plot(self, df: pd.DataFrame, data_name: str) -> plt.graph_objs._figure.Figure:\n",
    "        \"\"\"Constructs an interactive compound density plot based on a histogram of the data provided, plotting a density curve with clusters of data points below\n",
    "        \n",
    "        :df: a Pandas DataFrame of equity data\n",
    "        :data_name: the name of the type of data that has been input into the plot\n",
    "        :returns: a density plot\n",
    "        \"\"\"\n",
    "        df = df.select_dtypes(exclude='object')[:self.number_of_companies]\n",
    "        self.n = len(df)\n",
    "        \n",
    "        for column in df.columns:\n",
    "            self.rank(df, col=column, upper_quantile=0.99, lower_quantile=0.01)\n",
    "            \n",
    "        self.score_data_length = len(df.axes[1])\n",
    "        self.input_df = df.T[int(self.score_data_length/2 + 1):].T\n",
    "        self.hist_data = [self.input_df[x] for x in self.input_df.columns]\n",
    "        \n",
    "        self.group_labels = [x for x in self.input_df.columns]\n",
    "        self.colors = ['#333F44', '#37AA9C', '#94F3E4']\n",
    "\n",
    "        self.fig = ff.create_distplot(self.hist_data, self.group_labels, show_hist=False, colors=self.colors)\n",
    "        self.fig.update_layout(title_text=f'Distribution for Normalized {data_name} of {self.n} Companies in the S&P500', template='plotly_dark')\n",
    "        \n",
    "        self.fig.update_xaxes(title='Score (0 = low, 1 = high)')\n",
    "        self.fig.update_yaxes(title='Density')\n",
    "        \n",
    "        return self.fig\n",
    "\n",
    "    def heatmap_plot(self, df: pd.DataFrame, title: str, number_of_companies: int=50, number_of_subset_companies: int=20,\n",
    "                    plot_last_companies: bool=False, sort_by: str='Market Capitalization', correlation_plot: bool=False, plot_width: int=1000, plot_height: int=1000) -> plt.graph_objs._figure.Figure:\n",
    "        \"\"\"A wrapper function for the default heatmap plot, constructing an interactive heatmap plot of equity data against each company (ticker)\n",
    "        \n",
    "        :df: a Pandas DataFrame of equity data\n",
    "        :data_name: the name of the type of data that has been input into the plot\n",
    "        :number_of_companies: the number of companies to include in the heatmap\n",
    "        :correlation_plot: if true, creates a correlation plot instead of a heatmap plot\n",
    "        :returns: a heatmap plot\n",
    "        \"\"\"\n",
    "        def construct_correlation_plot(self) -> pd.DataFrame:\n",
    "            \"\"\"A helper function to convert the heat map into a correlation plot\"\"\"\n",
    "            # Correlation\n",
    "            self.df_corr = df.corr(numeric_only=True).round(1)\n",
    "            # Conver to a triangular correlation plot\n",
    "            self.mask = np.zeros_like(self.df_corr, dtype=bool)\n",
    "            self.mask[np.triu_indices_from(self.mask)] = True\n",
    "            # Final visualization\n",
    "            self.df_corr_viz = self.df_corr.mask(self.mask).dropna(how='all').dropna('columns', how='all')\n",
    "            \n",
    "            return self.df_corr_viz\n",
    "        \n",
    "        df = df.sort_values(by=sort_by, ascending=False)\n",
    "    \n",
    "        if correlation_plot:            \n",
    "            self.cor_df = construct_correlation_plot(self)\n",
    "            self.fig = px.imshow(\n",
    "                self.cor_df,\n",
    "                text_auto=True,\n",
    "                template='plotly_dark',\n",
    "                title=title,\n",
    "                width=plot_width,\n",
    "                height=plot_height)\n",
    "        else:\n",
    "            df = df[:number_of_companies] # selecting only x number of companies in order\n",
    "                \n",
    "            self.z = []\n",
    "            self.tickers = df['Ticker']\n",
    "            df.index = df['Ticker']\n",
    "            df = df.select_dtypes(exclude='object')\n",
    "            for column in df.columns:\n",
    "                self.rank(df, col=column) # scoring the data\n",
    "                        \n",
    "            if plot_last_companies:\n",
    "                df = df[-number_of_subset_companies:]\n",
    "                self.tickers = self.tickers[-number_of_subset_companies:]\n",
    "            else:\n",
    "                df = df[:number_of_subset_companies] # the normalization algorithm has been applied on number_of_companies but we choose a subset from that\n",
    "                self.tickers = self.tickers[:number_of_subset_companies]\n",
    "            \n",
    "            self.score_data_length = len(df.axes[1])\n",
    "            self.input_df = df.T[int(self.score_data_length/2 + 1):].T\n",
    "            for column in self.input_df.columns:\n",
    "                self.z.append(self.input_df[column].round(3))\n",
    "            \n",
    "            self.fig = px.imshow(\n",
    "                self.z,\n",
    "                text_auto=True,\n",
    "                template='plotly_dark',\n",
    "                title=title,\n",
    "                x=[x for x in self.tickers], \n",
    "                y=[x for x in df.columns[int(self.score_data_length/2 + 1):]],\n",
    "                width=plot_width,\n",
    "                height=plot_height)\n",
    "        \n",
    "        return self.fig\n",
    "\n",
    "    def scatter_3d(self, df: pd.DataFrame, x: str, y: str, z: str) -> plt.graph_objs._figure.Figure:\n",
    "        \"\"\"Constructs a 3D interactive plot of equity data on 3 axes\n",
    "        :df: a Pandas DataFrame of equity data\n",
    "        :x: the name of the column data to be plotted on the x-axis, as a string\n",
    "        :y: the name of the column data to be plotted on the y-axis, as a string\n",
    "        :z: the name of the column data to be plotted on the z-axis, as a string\n",
    "        :returns: a 3D scatter plot\n",
    "        \"\"\"\n",
    "        df.index = df['Ticker']\n",
    "        df = df.select_dtypes(exclude='object')\n",
    "        \n",
    "        for column in df.columns:\n",
    "            self.rank(df, col=column)\n",
    "            \n",
    "        fig = px.scatter_3d(df, x=x, y=y, z=z,\n",
    "                    title='3D Scatter Plot of Normalized Equity Data',\n",
    "                    template='plotly_dark',\n",
    "                    size_max=18,\n",
    "                    color='3-Month Performance Score',\n",
    "                    opacity=0.7)\n",
    "\n",
    "        return fig\n",
    "    \n",
    "    def correlation_plot(self, df, data_name) -> None: \n",
    "        \"\"\"Produces a correlation plot that maps all of the data points in the Data Frame provided\n",
    "        :df: a Pandas DataFrame of the data to be processed\n",
    "        :data_name: the name of the data being plotted\n",
    "        \"\"\"\n",
    "        # Compute the correlation matrix\n",
    "        self.corr = df.corr(numeric_only=True)\n",
    "\n",
    "        # Generate a mask for the upper triangle\n",
    "        self.mask = np.triu(np.ones_like(self.corr, dtype=bool))\n",
    "\n",
    "        # Set up the matplotlib figure\n",
    "        self.f, self.ax = plt.subplots(figsize=(18, 14))\n",
    "\n",
    "        # Generate a custom diverging colormap\n",
    "        self.cmap = sns.diverging_palette(1, 10, as_cmap=True)\n",
    "\n",
    "        #Draw the heatmap with the mask and correct aspect ratio\n",
    "        sns.heatmap(self.corr, mask=self.mask, cmap=self.cmap, vmax=.3, center=0,\n",
    "                    square=True, linewidths=.5, cbar_kws={\"shrink\": .5})\n",
    "        mplt.title(f\"Correlation Plot of {data_name}\")"
   ]
  },
  {
   "cell_type": "code",
   "execution_count": 830,
   "metadata": {},
   "outputs": [],
   "source": [
    "class PortfolioConstruction(DataVisualization):\n",
    "    def __init__(self):\n",
    "        DataVisualization.__init__(self)\n",
    "    \n",
    "    def asset_allocation(self):\n",
    "        pass\n",
    "    \n",
    "    def construct_portfolio(self):\n",
    "        pass"
   ]
  },
  {
   "cell_type": "code",
   "execution_count": 831,
   "metadata": {},
   "outputs": [],
   "source": [
    "quant = QuantitativeAnalysis()\n",
    "viz = DataVisualization()"
   ]
  },
  {
   "attachments": {},
   "cell_type": "markdown",
   "metadata": {},
   "source": [
    "# Experimental Feature Development Zone"
   ]
  },
  {
   "cell_type": "code",
   "execution_count": null,
   "metadata": {},
   "outputs": [],
   "source": []
  },
  {
   "attachments": {},
   "cell_type": "markdown",
   "metadata": {},
   "source": [
    "# Analysis Zone\n",
    "## Note: to view the interactive graphs plotted, run this analysis notebook in a Jupyter Notebook environment"
   ]
  },
  {
   "cell_type": "code",
   "execution_count": 832,
   "metadata": {},
   "outputs": [
    {
     "name": "stderr",
     "output_type": "stream",
     "text": [
      "C:\\Users\\colin\\AppData\\Local\\Temp\\ipykernel_8184\\1985338250.py:51: FutureWarning:\n",
      "\n",
      "In a future version of pandas all arguments of DataFrame.dropna will be keyword-only.\n",
      "\n"
     ]
    },
    {
     "data": {
      "application/vnd.plotly.v1+json": {
       "config": {
        "plotlyServerURL": "https://plot.ly"
       },
       "data": [
        {
         "coloraxis": "coloraxis",
         "hovertemplate": "x: %{x}<br>y: %{y}<br>color: %{z}<extra></extra>",
         "name": "0",
         "texttemplate": "%{z}",
         "type": "heatmap",
         "x": [
          "Price",
          "Market Capitalization",
          "Price to Earnings Ratio (TTM)",
          "Basic EPS (TTM)",
          "Number of Employees",
          "Free Cash Flow (Annual YoY Growth)",
          "Free Cash Flow Margin (FY)",
          "Free Cash Flow (Quarterly YoY Growth)",
          "3-Month Performance",
          "Basic EPS (FY)",
          "EPS Diluted (TTM)",
          "EBITDA (TTM)",
          "Gross Profit (MRQ)",
          "Gross Profit (FY)",
          "Total Revenue (FY)",
          "EPS Diluted (FY)",
          "Last Year Revenue (FY)",
          "Net Income (FY)",
          "Current Ratio (MRQ)",
          "Debt to Equity Ratio (MRQ)",
          "Net Debt (MRQ)",
          "Quick Ratio (MRQ)",
          "Total Assets (MRQ)",
          "Total Debt (MRQ)",
          "Total Current Assets (MRQ)",
          "Dividend Yield Forward",
          "Dividends Paid (FY)",
          "Dividends per Share (FY)",
          "Gross Margin (TTM)",
          "Operating Margin (TTM)",
          "Pretax Margin (TTM)",
          "Net Margin (TTM)",
          "6-Month Performance",
          "YTD Performance",
          "Yearly Performance",
          "1-Year Beta",
          "Volatility",
          "Price to Revenue Ratio (TTM)",
          "Enterprise Value/EBITDA (TTM)",
          "Enterprise Value (MRQ)"
         ],
         "xaxis": "x",
         "y": [
          "Market Capitalization",
          "Price to Earnings Ratio (TTM)",
          "Basic EPS (TTM)",
          "Number of Employees",
          "Free Cash Flow (Annual YoY Growth)",
          "Free Cash Flow Margin (FY)",
          "Free Cash Flow (Quarterly YoY Growth)",
          "3-Month Performance",
          "Basic EPS (FY)",
          "EPS Diluted (TTM)",
          "EBITDA (TTM)",
          "Gross Profit (MRQ)",
          "Gross Profit (FY)",
          "Total Revenue (FY)",
          "EPS Diluted (FY)",
          "Last Year Revenue (FY)",
          "Net Income (FY)",
          "Current Ratio (MRQ)",
          "Debt to Equity Ratio (MRQ)",
          "Net Debt (MRQ)",
          "Quick Ratio (MRQ)",
          "Total Assets (MRQ)",
          "Total Debt (MRQ)",
          "Total Current Assets (MRQ)",
          "Dividend Yield Forward",
          "Dividends Paid (FY)",
          "Dividends per Share (FY)",
          "Gross Margin (TTM)",
          "Operating Margin (TTM)",
          "Pretax Margin (TTM)",
          "Net Margin (TTM)",
          "6-Month Performance",
          "YTD Performance",
          "Yearly Performance",
          "1-Year Beta",
          "Volatility",
          "Price to Revenue Ratio (TTM)",
          "Enterprise Value/EBITDA (TTM)",
          "Enterprise Value (MRQ)",
          "Total Shares Outstanding"
         ],
         "yaxis": "y",
         "z": [
          [
           0.1,
           null,
           null,
           null,
           null,
           null,
           null,
           null,
           null,
           null,
           null,
           null,
           null,
           null,
           null,
           null,
           null,
           null,
           null,
           null,
           null,
           null,
           null,
           null,
           null,
           null,
           null,
           null,
           null,
           null,
           null,
           null,
           null,
           null,
           null,
           null,
           null,
           null,
           null,
           null
          ],
          [
           0,
           0,
           null,
           null,
           null,
           null,
           null,
           null,
           null,
           null,
           null,
           null,
           null,
           null,
           null,
           null,
           null,
           null,
           null,
           null,
           null,
           null,
           null,
           null,
           null,
           null,
           null,
           null,
           null,
           null,
           null,
           null,
           null,
           null,
           null,
           null,
           null,
           null,
           null,
           null
          ],
          [
           0.7,
           0,
           -0.1,
           null,
           null,
           null,
           null,
           null,
           null,
           null,
           null,
           null,
           null,
           null,
           null,
           null,
           null,
           null,
           null,
           null,
           null,
           null,
           null,
           null,
           null,
           null,
           null,
           null,
           null,
           null,
           null,
           null,
           null,
           null,
           null,
           null,
           null,
           null,
           null,
           null
          ],
          [
           0,
           0.2,
           0,
           0,
           null,
           null,
           null,
           null,
           null,
           null,
           null,
           null,
           null,
           null,
           null,
           null,
           null,
           null,
           null,
           null,
           null,
           null,
           null,
           null,
           null,
           null,
           null,
           null,
           null,
           null,
           null,
           null,
           null,
           null,
           null,
           null,
           null,
           null,
           null,
           null
          ],
          [
           0,
           0,
           0,
           0.1,
           0,
           null,
           null,
           null,
           null,
           null,
           null,
           null,
           null,
           null,
           null,
           null,
           null,
           null,
           null,
           null,
           null,
           null,
           null,
           null,
           null,
           null,
           null,
           null,
           null,
           null,
           null,
           null,
           null,
           null,
           null,
           null,
           null,
           null,
           null,
           null
          ],
          [
           0.2,
           0.2,
           0.1,
           0.1,
           -0.1,
           0.1,
           null,
           null,
           null,
           null,
           null,
           null,
           null,
           null,
           null,
           null,
           null,
           null,
           null,
           null,
           null,
           null,
           null,
           null,
           null,
           null,
           null,
           null,
           null,
           null,
           null,
           null,
           null,
           null,
           null,
           null,
           null,
           null,
           null,
           null
          ],
          [
           0,
           0,
           0,
           0.1,
           0.1,
           0,
           0.1,
           null,
           null,
           null,
           null,
           null,
           null,
           null,
           null,
           null,
           null,
           null,
           null,
           null,
           null,
           null,
           null,
           null,
           null,
           null,
           null,
           null,
           null,
           null,
           null,
           null,
           null,
           null,
           null,
           null,
           null,
           null,
           null,
           null
          ],
          [
           0,
           -0.1,
           -0.1,
           -0.1,
           0,
           -0.1,
           0,
           0,
           null,
           null,
           null,
           null,
           null,
           null,
           null,
           null,
           null,
           null,
           null,
           null,
           null,
           null,
           null,
           null,
           null,
           null,
           null,
           null,
           null,
           null,
           null,
           null,
           null,
           null,
           null,
           null,
           null,
           null,
           null,
           null
          ],
          [
           0.6,
           0.1,
           -0.1,
           0.9,
           0.1,
           0,
           0.1,
           0,
           0,
           null,
           null,
           null,
           null,
           null,
           null,
           null,
           null,
           null,
           null,
           null,
           null,
           null,
           null,
           null,
           null,
           null,
           null,
           null,
           null,
           null,
           null,
           null,
           null,
           null,
           null,
           null,
           null,
           null,
           null,
           null
          ],
          [
           0.7,
           0,
           -0.1,
           1,
           0,
           0.1,
           0.1,
           0.1,
           -0.1,
           0.9,
           null,
           null,
           null,
           null,
           null,
           null,
           null,
           null,
           null,
           null,
           null,
           null,
           null,
           null,
           null,
           null,
           null,
           null,
           null,
           null,
           null,
           null,
           null,
           null,
           null,
           null,
           null,
           null,
           null,
           null
          ],
          [
           0,
           0.9,
           0,
           0.1,
           0.2,
           0.2,
           0.2,
           0,
           -0.1,
           0.1,
           0.1,
           null,
           null,
           null,
           null,
           null,
           null,
           null,
           null,
           null,
           null,
           null,
           null,
           null,
           null,
           null,
           null,
           null,
           null,
           null,
           null,
           null,
           null,
           null,
           null,
           null,
           null,
           null,
           null,
           null
          ],
          [
           0,
           0.8,
           0,
           0,
           0.6,
           0.1,
           0.1,
           0.1,
           -0.1,
           0,
           0,
           0.9,
           null,
           null,
           null,
           null,
           null,
           null,
           null,
           null,
           null,
           null,
           null,
           null,
           null,
           null,
           null,
           null,
           null,
           null,
           null,
           null,
           null,
           null,
           null,
           null,
           null,
           null,
           null,
           null
          ],
          [
           0,
           0.8,
           0,
           0,
           0.6,
           0,
           0.1,
           0,
           -0.1,
           0.1,
           0,
           0.9,
           1,
           null,
           null,
           null,
           null,
           null,
           null,
           null,
           null,
           null,
           null,
           null,
           null,
           null,
           null,
           null,
           null,
           null,
           null,
           null,
           null,
           null,
           null,
           null,
           null,
           null,
           null,
           null
          ],
          [
           0,
           0.5,
           0,
           0.1,
           0.7,
           0,
           -0.1,
           0.1,
           -0.1,
           0.1,
           0.1,
           0.7,
           0.8,
           0.8,
           null,
           null,
           null,
           null,
           null,
           null,
           null,
           null,
           null,
           null,
           null,
           null,
           null,
           null,
           null,
           null,
           null,
           null,
           null,
           null,
           null,
           null,
           null,
           null,
           null,
           null
          ],
          [
           0.6,
           0.1,
           -0.1,
           0.9,
           0.1,
           0,
           0.1,
           0,
           0,
           1,
           0.9,
           0.1,
           0,
           0.1,
           0.1,
           null,
           null,
           null,
           null,
           null,
           null,
           null,
           null,
           null,
           null,
           null,
           null,
           null,
           null,
           null,
           null,
           null,
           null,
           null,
           null,
           null,
           null,
           null,
           null,
           null
          ],
          [
           0,
           0.5,
           0,
           0.1,
           0.7,
           0,
           -0.1,
           0.1,
           -0.1,
           0.1,
           0.1,
           0.7,
           0.8,
           0.8,
           1,
           0.1,
           null,
           null,
           null,
           null,
           null,
           null,
           null,
           null,
           null,
           null,
           null,
           null,
           null,
           null,
           null,
           null,
           null,
           null,
           null,
           null,
           null,
           null,
           null,
           null
          ],
          [
           0,
           1,
           0,
           0.1,
           0.2,
           0,
           0.2,
           0,
           -0.1,
           0.1,
           0.1,
           0.9,
           0.8,
           0.9,
           0.6,
           0.1,
           0.6,
           null,
           null,
           null,
           null,
           null,
           null,
           null,
           null,
           null,
           null,
           null,
           null,
           null,
           null,
           null,
           null,
           null,
           null,
           null,
           null,
           null,
           null,
           null
          ],
          [
           0.5,
           0,
           0,
           0.4,
           -0.1,
           0,
           0.3,
           0.1,
           0.2,
           0.4,
           0.4,
           -0.1,
           -0.1,
           -0.1,
           -0.1,
           0.4,
           -0.1,
           0,
           null,
           null,
           null,
           null,
           null,
           null,
           null,
           null,
           null,
           null,
           null,
           null,
           null,
           null,
           null,
           null,
           null,
           null,
           null,
           null,
           null,
           null
          ],
          [
           0,
           0,
           0,
           0,
           0,
           0,
           -0.1,
           0,
           0,
           0,
           0,
           0,
           0,
           0,
           0.2,
           0,
           0.2,
           0,
           -0.1,
           null,
           null,
           null,
           null,
           null,
           null,
           null,
           null,
           null,
           null,
           null,
           null,
           null,
           null,
           null,
           null,
           null,
           null,
           null,
           null,
           null
          ],
          [
           -0.1,
           0.2,
           0,
           -0.1,
           0.2,
           0,
           -0.1,
           -0.1,
           -0.1,
           -0.1,
           -0.1,
           0.4,
           0.4,
           0.4,
           0.4,
           -0.1,
           0.4,
           0.3,
           -0.3,
           0,
           null,
           null,
           null,
           null,
           null,
           null,
           null,
           null,
           null,
           null,
           null,
           null,
           null,
           null,
           null,
           null,
           null,
           null,
           null,
           null
          ],
          [
           0.6,
           0,
           0,
           0.4,
           -0.1,
           0,
           0.4,
           0.1,
           0.1,
           0.4,
           0.4,
           0,
           -0.1,
           -0.1,
           -0.1,
           0.4,
           -0.1,
           0,
           0.9,
           -0.1,
           -0.2,
           null,
           null,
           null,
           null,
           null,
           null,
           null,
           null,
           null,
           null,
           null,
           null,
           null,
           null,
           null,
           null,
           null,
           null,
           null
          ],
          [
           -0.1,
           0.6,
           0,
           0,
           0.3,
           0.1,
           0,
           -0.1,
           -0.2,
           0,
           0,
           0.8,
           0.8,
           0.8,
           0.7,
           0,
           0.7,
           0.7,
           -0.2,
           0,
           0.7,
           -0.1,
           null,
           null,
           null,
           null,
           null,
           null,
           null,
           null,
           null,
           null,
           null,
           null,
           null,
           null,
           null,
           null,
           null,
           null
          ],
          [
           -0.1,
           0.5,
           0,
           -0.1,
           0.3,
           0,
           -0.1,
           -0.1,
           -0.1,
           0,
           -0.1,
           0.7,
           0.6,
           0.7,
           0.5,
           0,
           0.5,
           0.6,
           -0.2,
           0,
           0.9,
           -0.1,
           0.9,
           null,
           null,
           null,
           null,
           null,
           null,
           null,
           null,
           null,
           null,
           null,
           null,
           null,
           null,
           null,
           null,
           null
          ],
          [
           0,
           0.7,
           0,
           0.1,
           0.4,
           0,
           0,
           0,
           -0.1,
           0.1,
           0.1,
           0.8,
           0.8,
           0.8,
           0.8,
           0.1,
           0.8,
           0.8,
           0,
           0.1,
           0.4,
           0,
           0.9,
           0.7,
           null,
           null,
           null,
           null,
           null,
           null,
           null,
           null,
           null,
           null,
           null,
           null,
           null,
           null,
           null,
           null
          ],
          [
           -0.3,
           -0.1,
           -0.1,
           -0.1,
           0,
           0,
           -0.1,
           0.1,
           -0.2,
           -0.2,
           -0.1,
           0.1,
           0,
           0,
           0,
           -0.2,
           0,
           0,
           -0.3,
           0,
           0.3,
           -0.2,
           0.2,
           0.3,
           0,
           null,
           null,
           null,
           null,
           null,
           null,
           null,
           null,
           null,
           null,
           null,
           null,
           null,
           null,
           null
          ],
          [
           0,
           -0.8,
           0,
           0,
           -0.2,
           -0.1,
           -0.2,
           0,
           0.1,
           0,
           0,
           -0.9,
           -0.8,
           -0.8,
           -0.5,
           0,
           -0.5,
           -0.8,
           0.1,
           0,
           -0.4,
           0.1,
           -0.8,
           -0.6,
           -0.7,
           -0.3,
           null,
           null,
           null,
           null,
           null,
           null,
           null,
           null,
           null,
           null,
           null,
           null,
           null,
           null
          ],
          [
           0.6,
           0.1,
           0,
           0.5,
           0.1,
           0,
           0.1,
           -0.1,
           -0.1,
           0.5,
           0.5,
           0.1,
           0.1,
           0.1,
           0.1,
           0.5,
           0.1,
           0.1,
           0.1,
           0.1,
           0.1,
           0.1,
           0.1,
           0.1,
           0,
           0.2,
           -0.3,
           null,
           null,
           null,
           null,
           null,
           null,
           null,
           null,
           null,
           null,
           null,
           null,
           null
          ],
          [
           0.3,
           0.2,
           0.1,
           0.1,
           -0.2,
           0,
           0.6,
           0.1,
           0,
           0.1,
           0.1,
           0.1,
           0.1,
           0.1,
           -0.2,
           0.1,
           -0.2,
           0.1,
           0.3,
           -0.1,
           -0.1,
           0.4,
           0,
           0,
           0,
           -0.1,
           -0.2,
           0.1,
           null,
           null,
           null,
           null,
           null,
           null,
           null,
           null,
           null,
           null,
           null,
           null
          ],
          [
           0.3,
           0.1,
           0.1,
           0.4,
           -0.2,
           0.2,
           0.6,
           0.1,
           -0.1,
           0.2,
           0.4,
           0.2,
           0,
           0,
           -0.2,
           0.2,
           -0.2,
           0.1,
           0.4,
           -0.1,
           -0.1,
           0.5,
           -0.1,
           -0.1,
           -0.1,
           0,
           -0.2,
           0.1,
           0.7,
           null,
           null,
           null,
           null,
           null,
           null,
           null,
           null,
           null,
           null,
           null
          ],
          [
           0.3,
           0.2,
           -0.1,
           0.4,
           -0.2,
           0.2,
           0.6,
           0.1,
           -0.1,
           0.3,
           0.4,
           0.2,
           0.1,
           0,
           -0.2,
           0.3,
           -0.2,
           0.2,
           0.4,
           -0.1,
           -0.2,
           0.5,
           0,
           -0.1,
           0,
           0,
           -0.2,
           0.1,
           0.7,
           0.9,
           null,
           null,
           null,
           null,
           null,
           null,
           null,
           null,
           null,
           null
          ],
          [
           0.3,
           0.2,
           -0.1,
           0.4,
           -0.2,
           0.2,
           0.6,
           0.1,
           -0.1,
           0.3,
           0.4,
           0.2,
           0.1,
           0.1,
           -0.2,
           0.3,
           -0.2,
           0.2,
           0.4,
           -0.1,
           -0.1,
           0.5,
           0,
           -0.1,
           0,
           0,
           -0.2,
           0.2,
           0.7,
           0.9,
           1,
           null,
           null,
           null,
           null,
           null,
           null,
           null,
           null,
           null
          ],
          [
           0.1,
           -0.1,
           -0.1,
           0.1,
           0,
           0.2,
           0.1,
           0.2,
           0.5,
           0,
           0.1,
           0,
           0,
           -0.1,
           0,
           0,
           0,
           -0.1,
           0.1,
           0.1,
           -0.1,
           0,
           -0.1,
           -0.1,
           0,
           -0.1,
           0,
           0.1,
           -0.1,
           0.1,
           0,
           0,
           null,
           null,
           null,
           null,
           null,
           null,
           null,
           null
          ],
          [
           -0.1,
           0,
           0,
           0,
           0,
           0,
           0,
           0,
           0.5,
           0,
           0,
           0,
           -0.1,
           -0.1,
           0,
           0,
           0,
           0,
           0.1,
           -0.1,
           -0.1,
           0.1,
           -0.1,
           -0.1,
           0,
           -0.1,
           0.2,
           -0.2,
           0,
           0,
           0,
           0,
           0.2,
           null,
           null,
           null,
           null,
           null,
           null,
           null
          ],
          [
           0.3,
           -0.1,
           0,
           0.3,
           -0.1,
           0.2,
           0.1,
           0.1,
           -0.1,
           0.1,
           0.3,
           0,
           0,
           -0.1,
           0,
           0.1,
           0,
           -0.1,
           0.2,
           0,
           -0.1,
           0.2,
           -0.1,
           -0.2,
           -0.1,
           -0.1,
           0,
           0.1,
           0,
           0.2,
           0.2,
           0.2,
           0.6,
           -0.2,
           null,
           null,
           null,
           null,
           null,
           null
          ],
          [
           0.2,
           0.1,
           0,
           0.1,
           0,
           0,
           0.1,
           0.1,
           0.3,
           0.2,
           0.1,
           0,
           -0.1,
           0,
           -0.1,
           0.2,
           -0.1,
           0.1,
           0.1,
           -0.1,
           -0.2,
           0.1,
           -0.1,
           -0.1,
           0,
           -0.3,
           0.2,
           -0.1,
           0.1,
           0.1,
           0.1,
           0.1,
           0,
           0.6,
           -0.3,
           null,
           null,
           null,
           null,
           null
          ],
          [
           0.1,
           0,
           0,
           0.2,
           -0.1,
           0.1,
           0.2,
           0.1,
           0.1,
           0.1,
           0.2,
           0.1,
           0,
           0,
           0,
           0.1,
           0,
           0,
           0.3,
           -0.1,
           -0.1,
           0.3,
           0,
           0,
           0.1,
           0,
           0.1,
           -0.1,
           0.1,
           0.3,
           0.3,
           0.3,
           0,
           0.3,
           0.1,
           0.4,
           null,
           null,
           null,
           null
          ],
          [
           0.5,
           0.2,
           0.1,
           0.1,
           -0.1,
           -0.1,
           0.5,
           -0.1,
           0.1,
           0.1,
           0.1,
           0,
           0,
           0,
           -0.2,
           0.1,
           -0.2,
           0.1,
           0.5,
           -0.1,
           -0.2,
           0.5,
           -0.1,
           -0.1,
           -0.1,
           -0.3,
           0,
           0.2,
           0.7,
           0.6,
           0.6,
           0.6,
           0,
           0.1,
           0.1,
           0.2,
           0.2,
           null,
           null,
           null
          ],
          [
           0.3,
           0.1,
           0.1,
           -0.1,
           0,
           -0.2,
           0.2,
           -0.1,
           0.1,
           -0.1,
           -0.1,
           -0.2,
           -0.1,
           -0.1,
           -0.2,
           -0.1,
           -0.2,
           0,
           0.2,
           0,
           -0.1,
           0.2,
           -0.2,
           -0.1,
           -0.1,
           -0.4,
           0.1,
           0.1,
           0.3,
           0,
           0.1,
           0.1,
           -0.1,
           0,
           0,
           0.2,
           0,
           0.7,
           null,
           null
          ],
          [
           0,
           1,
           0,
           0,
           0.2,
           0,
           0.2,
           0,
           -0.1,
           0,
           0,
           0.9,
           0.8,
           0.9,
           0.6,
           0,
           0.6,
           1,
           -0.1,
           0,
           0.3,
           0,
           0.7,
           0.6,
           0.7,
           0,
           -0.8,
           0.1,
           0.1,
           0.1,
           0.1,
           0.2,
           -0.1,
           0,
           -0.1,
           0,
           0,
           0.2,
           0.1,
           null
          ],
          [
           -0.2,
           0.8,
           0,
           -0.1,
           0.2,
           0,
           0.2,
           0,
           -0.1,
           -0.1,
           -0.1,
           0.9,
           0.8,
           0.8,
           0.5,
           -0.1,
           0.5,
           0.9,
           -0.1,
           0,
           0.4,
           0,
           0.7,
           0.6,
           0.7,
           0.2,
           -0.8,
           -0.1,
           0.1,
           0.1,
           0.1,
           0.1,
           -0.1,
           0,
           -0.1,
           0,
           0,
           0,
           -0.1,
           0.9
          ]
         ]
        }
       ],
       "layout": {
        "coloraxis": {
         "colorscale": [
          [
           0,
           "#0d0887"
          ],
          [
           0.1111111111111111,
           "#46039f"
          ],
          [
           0.2222222222222222,
           "#7201a8"
          ],
          [
           0.3333333333333333,
           "#9c179e"
          ],
          [
           0.4444444444444444,
           "#bd3786"
          ],
          [
           0.5555555555555556,
           "#d8576b"
          ],
          [
           0.6666666666666666,
           "#ed7953"
          ],
          [
           0.7777777777777778,
           "#fb9f3a"
          ],
          [
           0.8888888888888888,
           "#fdca26"
          ],
          [
           1,
           "#f0f921"
          ]
         ]
        },
        "height": 1000,
        "template": {
         "data": {
          "bar": [
           {
            "error_x": {
             "color": "#f2f5fa"
            },
            "error_y": {
             "color": "#f2f5fa"
            },
            "marker": {
             "line": {
              "color": "rgb(17,17,17)",
              "width": 0.5
             },
             "pattern": {
              "fillmode": "overlay",
              "size": 10,
              "solidity": 0.2
             }
            },
            "type": "bar"
           }
          ],
          "barpolar": [
           {
            "marker": {
             "line": {
              "color": "rgb(17,17,17)",
              "width": 0.5
             },
             "pattern": {
              "fillmode": "overlay",
              "size": 10,
              "solidity": 0.2
             }
            },
            "type": "barpolar"
           }
          ],
          "carpet": [
           {
            "aaxis": {
             "endlinecolor": "#A2B1C6",
             "gridcolor": "#506784",
             "linecolor": "#506784",
             "minorgridcolor": "#506784",
             "startlinecolor": "#A2B1C6"
            },
            "baxis": {
             "endlinecolor": "#A2B1C6",
             "gridcolor": "#506784",
             "linecolor": "#506784",
             "minorgridcolor": "#506784",
             "startlinecolor": "#A2B1C6"
            },
            "type": "carpet"
           }
          ],
          "choropleth": [
           {
            "colorbar": {
             "outlinewidth": 0,
             "ticks": ""
            },
            "type": "choropleth"
           }
          ],
          "contour": [
           {
            "colorbar": {
             "outlinewidth": 0,
             "ticks": ""
            },
            "colorscale": [
             [
              0,
              "#0d0887"
             ],
             [
              0.1111111111111111,
              "#46039f"
             ],
             [
              0.2222222222222222,
              "#7201a8"
             ],
             [
              0.3333333333333333,
              "#9c179e"
             ],
             [
              0.4444444444444444,
              "#bd3786"
             ],
             [
              0.5555555555555556,
              "#d8576b"
             ],
             [
              0.6666666666666666,
              "#ed7953"
             ],
             [
              0.7777777777777778,
              "#fb9f3a"
             ],
             [
              0.8888888888888888,
              "#fdca26"
             ],
             [
              1,
              "#f0f921"
             ]
            ],
            "type": "contour"
           }
          ],
          "contourcarpet": [
           {
            "colorbar": {
             "outlinewidth": 0,
             "ticks": ""
            },
            "type": "contourcarpet"
           }
          ],
          "heatmap": [
           {
            "colorbar": {
             "outlinewidth": 0,
             "ticks": ""
            },
            "colorscale": [
             [
              0,
              "#0d0887"
             ],
             [
              0.1111111111111111,
              "#46039f"
             ],
             [
              0.2222222222222222,
              "#7201a8"
             ],
             [
              0.3333333333333333,
              "#9c179e"
             ],
             [
              0.4444444444444444,
              "#bd3786"
             ],
             [
              0.5555555555555556,
              "#d8576b"
             ],
             [
              0.6666666666666666,
              "#ed7953"
             ],
             [
              0.7777777777777778,
              "#fb9f3a"
             ],
             [
              0.8888888888888888,
              "#fdca26"
             ],
             [
              1,
              "#f0f921"
             ]
            ],
            "type": "heatmap"
           }
          ],
          "heatmapgl": [
           {
            "colorbar": {
             "outlinewidth": 0,
             "ticks": ""
            },
            "colorscale": [
             [
              0,
              "#0d0887"
             ],
             [
              0.1111111111111111,
              "#46039f"
             ],
             [
              0.2222222222222222,
              "#7201a8"
             ],
             [
              0.3333333333333333,
              "#9c179e"
             ],
             [
              0.4444444444444444,
              "#bd3786"
             ],
             [
              0.5555555555555556,
              "#d8576b"
             ],
             [
              0.6666666666666666,
              "#ed7953"
             ],
             [
              0.7777777777777778,
              "#fb9f3a"
             ],
             [
              0.8888888888888888,
              "#fdca26"
             ],
             [
              1,
              "#f0f921"
             ]
            ],
            "type": "heatmapgl"
           }
          ],
          "histogram": [
           {
            "marker": {
             "pattern": {
              "fillmode": "overlay",
              "size": 10,
              "solidity": 0.2
             }
            },
            "type": "histogram"
           }
          ],
          "histogram2d": [
           {
            "colorbar": {
             "outlinewidth": 0,
             "ticks": ""
            },
            "colorscale": [
             [
              0,
              "#0d0887"
             ],
             [
              0.1111111111111111,
              "#46039f"
             ],
             [
              0.2222222222222222,
              "#7201a8"
             ],
             [
              0.3333333333333333,
              "#9c179e"
             ],
             [
              0.4444444444444444,
              "#bd3786"
             ],
             [
              0.5555555555555556,
              "#d8576b"
             ],
             [
              0.6666666666666666,
              "#ed7953"
             ],
             [
              0.7777777777777778,
              "#fb9f3a"
             ],
             [
              0.8888888888888888,
              "#fdca26"
             ],
             [
              1,
              "#f0f921"
             ]
            ],
            "type": "histogram2d"
           }
          ],
          "histogram2dcontour": [
           {
            "colorbar": {
             "outlinewidth": 0,
             "ticks": ""
            },
            "colorscale": [
             [
              0,
              "#0d0887"
             ],
             [
              0.1111111111111111,
              "#46039f"
             ],
             [
              0.2222222222222222,
              "#7201a8"
             ],
             [
              0.3333333333333333,
              "#9c179e"
             ],
             [
              0.4444444444444444,
              "#bd3786"
             ],
             [
              0.5555555555555556,
              "#d8576b"
             ],
             [
              0.6666666666666666,
              "#ed7953"
             ],
             [
              0.7777777777777778,
              "#fb9f3a"
             ],
             [
              0.8888888888888888,
              "#fdca26"
             ],
             [
              1,
              "#f0f921"
             ]
            ],
            "type": "histogram2dcontour"
           }
          ],
          "mesh3d": [
           {
            "colorbar": {
             "outlinewidth": 0,
             "ticks": ""
            },
            "type": "mesh3d"
           }
          ],
          "parcoords": [
           {
            "line": {
             "colorbar": {
              "outlinewidth": 0,
              "ticks": ""
             }
            },
            "type": "parcoords"
           }
          ],
          "pie": [
           {
            "automargin": true,
            "type": "pie"
           }
          ],
          "scatter": [
           {
            "marker": {
             "line": {
              "color": "#283442"
             }
            },
            "type": "scatter"
           }
          ],
          "scatter3d": [
           {
            "line": {
             "colorbar": {
              "outlinewidth": 0,
              "ticks": ""
             }
            },
            "marker": {
             "colorbar": {
              "outlinewidth": 0,
              "ticks": ""
             }
            },
            "type": "scatter3d"
           }
          ],
          "scattercarpet": [
           {
            "marker": {
             "colorbar": {
              "outlinewidth": 0,
              "ticks": ""
             }
            },
            "type": "scattercarpet"
           }
          ],
          "scattergeo": [
           {
            "marker": {
             "colorbar": {
              "outlinewidth": 0,
              "ticks": ""
             }
            },
            "type": "scattergeo"
           }
          ],
          "scattergl": [
           {
            "marker": {
             "line": {
              "color": "#283442"
             }
            },
            "type": "scattergl"
           }
          ],
          "scattermapbox": [
           {
            "marker": {
             "colorbar": {
              "outlinewidth": 0,
              "ticks": ""
             }
            },
            "type": "scattermapbox"
           }
          ],
          "scatterpolar": [
           {
            "marker": {
             "colorbar": {
              "outlinewidth": 0,
              "ticks": ""
             }
            },
            "type": "scatterpolar"
           }
          ],
          "scatterpolargl": [
           {
            "marker": {
             "colorbar": {
              "outlinewidth": 0,
              "ticks": ""
             }
            },
            "type": "scatterpolargl"
           }
          ],
          "scatterternary": [
           {
            "marker": {
             "colorbar": {
              "outlinewidth": 0,
              "ticks": ""
             }
            },
            "type": "scatterternary"
           }
          ],
          "surface": [
           {
            "colorbar": {
             "outlinewidth": 0,
             "ticks": ""
            },
            "colorscale": [
             [
              0,
              "#0d0887"
             ],
             [
              0.1111111111111111,
              "#46039f"
             ],
             [
              0.2222222222222222,
              "#7201a8"
             ],
             [
              0.3333333333333333,
              "#9c179e"
             ],
             [
              0.4444444444444444,
              "#bd3786"
             ],
             [
              0.5555555555555556,
              "#d8576b"
             ],
             [
              0.6666666666666666,
              "#ed7953"
             ],
             [
              0.7777777777777778,
              "#fb9f3a"
             ],
             [
              0.8888888888888888,
              "#fdca26"
             ],
             [
              1,
              "#f0f921"
             ]
            ],
            "type": "surface"
           }
          ],
          "table": [
           {
            "cells": {
             "fill": {
              "color": "#506784"
             },
             "line": {
              "color": "rgb(17,17,17)"
             }
            },
            "header": {
             "fill": {
              "color": "#2a3f5f"
             },
             "line": {
              "color": "rgb(17,17,17)"
             }
            },
            "type": "table"
           }
          ]
         },
         "layout": {
          "annotationdefaults": {
           "arrowcolor": "#f2f5fa",
           "arrowhead": 0,
           "arrowwidth": 1
          },
          "autotypenumbers": "strict",
          "coloraxis": {
           "colorbar": {
            "outlinewidth": 0,
            "ticks": ""
           }
          },
          "colorscale": {
           "diverging": [
            [
             0,
             "#8e0152"
            ],
            [
             0.1,
             "#c51b7d"
            ],
            [
             0.2,
             "#de77ae"
            ],
            [
             0.3,
             "#f1b6da"
            ],
            [
             0.4,
             "#fde0ef"
            ],
            [
             0.5,
             "#f7f7f7"
            ],
            [
             0.6,
             "#e6f5d0"
            ],
            [
             0.7,
             "#b8e186"
            ],
            [
             0.8,
             "#7fbc41"
            ],
            [
             0.9,
             "#4d9221"
            ],
            [
             1,
             "#276419"
            ]
           ],
           "sequential": [
            [
             0,
             "#0d0887"
            ],
            [
             0.1111111111111111,
             "#46039f"
            ],
            [
             0.2222222222222222,
             "#7201a8"
            ],
            [
             0.3333333333333333,
             "#9c179e"
            ],
            [
             0.4444444444444444,
             "#bd3786"
            ],
            [
             0.5555555555555556,
             "#d8576b"
            ],
            [
             0.6666666666666666,
             "#ed7953"
            ],
            [
             0.7777777777777778,
             "#fb9f3a"
            ],
            [
             0.8888888888888888,
             "#fdca26"
            ],
            [
             1,
             "#f0f921"
            ]
           ],
           "sequentialminus": [
            [
             0,
             "#0d0887"
            ],
            [
             0.1111111111111111,
             "#46039f"
            ],
            [
             0.2222222222222222,
             "#7201a8"
            ],
            [
             0.3333333333333333,
             "#9c179e"
            ],
            [
             0.4444444444444444,
             "#bd3786"
            ],
            [
             0.5555555555555556,
             "#d8576b"
            ],
            [
             0.6666666666666666,
             "#ed7953"
            ],
            [
             0.7777777777777778,
             "#fb9f3a"
            ],
            [
             0.8888888888888888,
             "#fdca26"
            ],
            [
             1,
             "#f0f921"
            ]
           ]
          },
          "colorway": [
           "#636efa",
           "#EF553B",
           "#00cc96",
           "#ab63fa",
           "#FFA15A",
           "#19d3f3",
           "#FF6692",
           "#B6E880",
           "#FF97FF",
           "#FECB52"
          ],
          "font": {
           "color": "#f2f5fa"
          },
          "geo": {
           "bgcolor": "rgb(17,17,17)",
           "lakecolor": "rgb(17,17,17)",
           "landcolor": "rgb(17,17,17)",
           "showlakes": true,
           "showland": true,
           "subunitcolor": "#506784"
          },
          "hoverlabel": {
           "align": "left"
          },
          "hovermode": "closest",
          "mapbox": {
           "style": "dark"
          },
          "paper_bgcolor": "rgb(17,17,17)",
          "plot_bgcolor": "rgb(17,17,17)",
          "polar": {
           "angularaxis": {
            "gridcolor": "#506784",
            "linecolor": "#506784",
            "ticks": ""
           },
           "bgcolor": "rgb(17,17,17)",
           "radialaxis": {
            "gridcolor": "#506784",
            "linecolor": "#506784",
            "ticks": ""
           }
          },
          "scene": {
           "xaxis": {
            "backgroundcolor": "rgb(17,17,17)",
            "gridcolor": "#506784",
            "gridwidth": 2,
            "linecolor": "#506784",
            "showbackground": true,
            "ticks": "",
            "zerolinecolor": "#C8D4E3"
           },
           "yaxis": {
            "backgroundcolor": "rgb(17,17,17)",
            "gridcolor": "#506784",
            "gridwidth": 2,
            "linecolor": "#506784",
            "showbackground": true,
            "ticks": "",
            "zerolinecolor": "#C8D4E3"
           },
           "zaxis": {
            "backgroundcolor": "rgb(17,17,17)",
            "gridcolor": "#506784",
            "gridwidth": 2,
            "linecolor": "#506784",
            "showbackground": true,
            "ticks": "",
            "zerolinecolor": "#C8D4E3"
           }
          },
          "shapedefaults": {
           "line": {
            "color": "#f2f5fa"
           }
          },
          "sliderdefaults": {
           "bgcolor": "#C8D4E3",
           "bordercolor": "rgb(17,17,17)",
           "borderwidth": 1,
           "tickwidth": 0
          },
          "ternary": {
           "aaxis": {
            "gridcolor": "#506784",
            "linecolor": "#506784",
            "ticks": ""
           },
           "baxis": {
            "gridcolor": "#506784",
            "linecolor": "#506784",
            "ticks": ""
           },
           "bgcolor": "rgb(17,17,17)",
           "caxis": {
            "gridcolor": "#506784",
            "linecolor": "#506784",
            "ticks": ""
           }
          },
          "title": {
           "x": 0.05
          },
          "updatemenudefaults": {
           "bgcolor": "#506784",
           "borderwidth": 0
          },
          "xaxis": {
           "automargin": true,
           "gridcolor": "#283442",
           "linecolor": "#506784",
           "ticks": "",
           "title": {
            "standoff": 15
           },
           "zerolinecolor": "#283442",
           "zerolinewidth": 2
          },
          "yaxis": {
           "automargin": true,
           "gridcolor": "#283442",
           "linecolor": "#506784",
           "ticks": "",
           "title": {
            "standoff": 15
           },
           "zerolinecolor": "#283442",
           "zerolinewidth": 2
          }
         }
        },
        "title": {
         "text": "Correlation Plot of S&P500 Equity Data"
        },
        "width": 1000,
        "xaxis": {
         "anchor": "y",
         "constrain": "domain",
         "domain": [
          0,
          1
         ],
         "scaleanchor": "y"
        },
        "yaxis": {
         "anchor": "x",
         "autorange": "reversed",
         "constrain": "domain",
         "domain": [
          0,
          1
         ]
        }
       }
      }
     },
     "metadata": {},
     "output_type": "display_data"
    }
   ],
   "source": [
    "#viz.correlation_plot(mega_df, 'S&P 500 Equity Data')\n",
    "viz.heatmap_plot(mega_df, 'Correlation Plot of S&P500 Equity Data', number_of_companies=500, correlation_plot=True)"
   ]
  },
  {
   "attachments": {},
   "cell_type": "markdown",
   "metadata": {},
   "source": [
    "Values with a correlation coefficient greater than or equal to 0.7 are considered as strong correlations. Likewise, negative correlation coefficients follow the inverse of this criteria. The purpose of this correlation plot is to identify singular variables that are correlated with the positive returns of many other variables that are often considered as benchmarks for strong equity performance. Even more significant is the identification of variables that normally do not have any apparent correlation when viewed in isolation, but do when paired together in a regression. After establishing such occurrences, certain variables can be assigned a stronger weight than others when being processed by the normalization algorithm that is the basis of our equity ranking system used in our asset allocation and construction algorithm. Such variables can later be grouped as predictors into a multiple linear regression model for further analysis. The results from the correlation plot can be classified as follows:\n",
    "\n",
    "| X-Value(s) | Strong Positive Y-Values (r >= 0.7) |\n",
    "| --- | --- |\n",
    "| Market Capitalization | Total Shares Outstanding, Net Income (FY), Gross Profit (FY), Gross Profit (MRQ), EBITDA (TTM), Total Current Assets (MRQ) |\n",
    "| Basic EPS (TTM) | EPS Diluted (FY), EPS Diluted (TTM), Basic EPS FY |\n",
    "| EBITDA (TTM), Gross Profit (MRQ), Gross Profit (FY) | Total Shares Outstanding, Enterprise Value (MRQ), Total Current Assets (MRQ), Total Assets (MRQ), Net Income (FY), Gross Profit (FY), Gross Profit (MRQ), Total Debt (MRQ), Last Year Revenue (FY), Total Revenue (FY)|\n",
    "| Total Revenue (FY) | Total Current Assets (MRQ), Last Year Revenue (FY), Total Assets (MRQ) |\n",
    "| Last Year Revenue (FY) | Total Current Assets (MRQ), Total Assets (MRQ) |\n",
    "| Current Ratio (MRQ) | Quick ratio (MRQ), Total Shares Outstanding, Enterprise Value (MRQ) |\n",
    "| Total Assets (MRQ) | Total Current Assets (MRQ), Total Debt (MRQ) |\n",
    "| Operating Margin (TTM) | Net Margin (TTM), Pretax Margin (TTM) |\n",
    "| Enterprise Value (MRQ) | Total Shares Outstanding |\n",
    "| Number of Employees | Last Year Revenue, Total Revenue (FY) |\n",
    "| Net Income | Total Shares Outstanding, Enterprise Value, Total Current Assets (MRQ), Total Assets (MRQ) |\n",
    "| Net Debt | Total Assets (MRQ) |\n",
    "| Gross Margin (TTM) | Price to Revenue Ratio (TTM), Net Margin (TTM), Pretax Margin (TTM), Operating Margin (TTM) |\n",
    "| Price to Revenue Ratio (TTM) | Enterprise Value / EBITDA (TTM) |\n",
    "\n",
    "It should be noted, however, that many of the X values show a high correlation with other Y values due to those Y values being a derivative of the initial X value and vice versa. This observation confirms that  Taking this feature into account can give the following results:\n",
    "\n",
    "| X-Value(s) | Strong Positive Y-Values (r >= 0.7) |\n",
    "| --- | --- |\n",
    "| Market Capitalization | Total Shares Outstanding, Net Income (FY), Gross Profit (FY), Gross Profit (MRQ), EBITDA (TTM), Total Current Assets (MRQ) |\n",
    "| EBITDA (TTM), Gross Profit (MRQ), Gross Profit (FY) | Total Shares Outstanding, Enterprise Value (MRQ), Total Current Assets (MRQ), Total Assets (MRQ), Net Income (FY), Gross Profit (FY), Gross Profit (MRQ), Total Debt (MRQ), Last Year Revenue (FY), Total Revenue (FY) |\n",
    "| Current Ratio (MRQ) | Quick ratio (MRQ), Total Shares Outstanding, Enterprise Value (MRQ) |\n",
    "| Enterprise Value (MRQ) | Total Shares Outstanding |\n",
    "| Number of Employees | Last Year Revenue, Total Revenue (FY) |\n",
    "| Net Income | Total Shares Outstanding, Enterprise Value, Total Current Assets (MRQ), Total Assets (MRQ) |\n",
    "| Price to Revenue Ratio (TTM) | Enterprise Value / EBITDA (TTM) |\n",
    "\n",
    "Taking variables that may not have any immediate obvious correlation can yield the following:\n",
    "\n",
    "| X-Value(s) | Strong Positive Y-Values (r >= 0.7) |\n",
    "| --- | --- |\n",
    "| EBITDA (TTM), Gross Profit (MRQ), Gross Profit (FY) | Total Shares Outstanding |\n",
    "| Current Ratio (MRQ) | Total Shares Outstanding |\n",
    "| Enterprise Value (MRQ) | Total Shares Outstanding |\n",
    "| Number of Employees | Last Year Revenue, Total Revenue (FY) |\n",
    "| Net Income | Total Shares Outstanding |\n",
    "\n",
    "An outcome of these observations can be to take the correlations of these variables and assign them as a multiplier to the normalized values for each respective column to prioritize certain equity data as being more deterministic of a positive return on investment than others.\n",
    "\n",
    "Another outcome of these observations can be to analyze the density plot creating during the EDA phase and solely focus on the distributions of the above variables from tables 2 or 3 that are skewed towads low normalized values. The logic with this would be that outliers in negatively skewed distributions are more likely to be indicative of stronger performance because they excel in a financial ratio that very few companies excel in.\n",
    "\n",
    "The weighted scores from each analysis can be aggregated and in the end, a weighted scoring system is used."
   ]
  },
  {
   "cell_type": "code",
   "execution_count": 833,
   "metadata": {},
   "outputs": [
    {
     "data": {
      "text/html": [
       "<div>\n",
       "<style scoped>\n",
       "    .dataframe tbody tr th:only-of-type {\n",
       "        vertical-align: middle;\n",
       "    }\n",
       "\n",
       "    .dataframe tbody tr th {\n",
       "        vertical-align: top;\n",
       "    }\n",
       "\n",
       "    .dataframe thead th {\n",
       "        text-align: right;\n",
       "    }\n",
       "</style>\n",
       "<table border=\"1\" class=\"dataframe\">\n",
       "  <thead>\n",
       "    <tr style=\"text-align: right;\">\n",
       "      <th></th>\n",
       "      <th>R squared</th>\n",
       "      <th>Mean Absolute Error</th>\n",
       "      <th>Mean Square Error</th>\n",
       "      <th>Root Mean Square Error</th>\n",
       "    </tr>\n",
       "  </thead>\n",
       "  <tbody>\n",
       "    <tr>\n",
       "      <th>Model Results</th>\n",
       "      <td>76.744824</td>\n",
       "      <td>61197.690926</td>\n",
       "      <td>1.047268e+10</td>\n",
       "      <td>102336.124294</td>\n",
       "    </tr>\n",
       "  </tbody>\n",
       "</table>\n",
       "</div>"
      ],
      "text/plain": [
       "               R squared  Mean Absolute Error  Mean Square Error  \\\n",
       "Model Results  76.744824         61197.690926       1.047268e+10   \n",
       "\n",
       "               Root Mean Square Error  \n",
       "Model Results           102336.124294  "
      ]
     },
     "execution_count": 833,
     "metadata": {},
     "output_type": "execute_result"
    }
   ],
   "source": [
    "target_y = 'Number of Employees'\n",
    "mega_dfx = mega_df.select_dtypes(exclude='object')\n",
    "predictors = [x for x in mega_dfx.columns]\n",
    "\n",
    "quant.multiple_linear_regression(mega_df, predictors, target_y)"
   ]
  },
  {
   "cell_type": "code",
   "execution_count": 834,
   "metadata": {},
   "outputs": [],
   "source": [
    "#fig = px.scatter(\n",
    "#    mega_df, x=predictors, y=target_y, opacity=0.65,\n",
    "#    trendline='ols', trendline_color_override='darkblue'\n",
    "#)\n",
    "#fig.show()"
   ]
  },
  {
   "cell_type": "code",
   "execution_count": 835,
   "metadata": {},
   "outputs": [
    {
     "data": {
      "application/vnd.plotly.v1+json": {
       "config": {
        "plotlyServerURL": "https://plot.ly"
       },
       "data": [
        {
         "coloraxis": "coloraxis",
         "hovertemplate": "x: %{x}<br>y: %{y}<br>color: %{z}<extra></extra>",
         "name": "0",
         "texttemplate": "%{z}",
         "type": "heatmap",
         "x": [
          "ATO",
          "WMB",
          "MSCI",
          "LNT",
          "BNTX",
          "CF",
          "OKE",
          "EOG",
          "MPWR",
          "GEN",
          "TRGP",
          "APA",
          "PXD",
          "DVN",
          "MRO",
          "UI",
          "TW",
          "CTRA",
          "FANG",
          "TPL"
         ],
         "xaxis": "x",
         "y": [
          "Market Capitalization Score",
          "Price to Earnings Ratio (TTM) Score",
          "Basic EPS (TTM) Score",
          "Number of Employees Score",
          "Free Cash Flow (Annual YoY Growth) Score",
          "Free Cash Flow Margin (FY) Score",
          "Free Cash Flow (Quarterly YoY Growth) Score",
          "3-Month Performance Score",
          "Basic EPS (FY) Score",
          "EPS Diluted (TTM) Score",
          "EBITDA (TTM) Score",
          "Gross Profit (MRQ) Score",
          "Gross Profit (FY) Score",
          "Total Revenue (FY) Score",
          "EPS Diluted (FY) Score",
          "Last Year Revenue (FY) Score",
          "Net Income (FY) Score",
          "Current Ratio (MRQ) Score",
          "Debt to Equity Ratio (MRQ) Score",
          "Net Debt (MRQ) Score",
          "Quick Ratio (MRQ) Score",
          "Total Assets (MRQ) Score",
          "Total Debt (MRQ) Score",
          "Total Current Assets (MRQ) Score",
          "Dividend Yield Forward Score",
          "Dividends Paid (FY) Score",
          "Dividends per Share (FY) Score",
          "Gross Margin (TTM) Score",
          "Operating Margin (TTM) Score",
          "Pretax Margin (TTM) Score",
          "Net Margin (TTM) Score",
          "6-Month Performance Score",
          "YTD Performance Score",
          "Yearly Performance Score",
          "1-Year Beta Score",
          "Volatility Score",
          "Price to Revenue Ratio (TTM) Score",
          "Enterprise Value/EBITDA (TTM) Score",
          "Enterprise Value (MRQ) Score",
          "Total Shares Outstanding Score"
         ],
         "yaxis": "y",
         "z": [
          [
           0.006,
           0.1,
           0.112,
           0,
           0.087,
           0.006,
           0.066,
           0.273,
           0.019,
           0,
           0.008,
           0,
           0.173,
           0.113,
           0.01,
           0.01,
           0.011,
           0.02,
           0.047,
           0.002
          ],
          [
           0.32,
           0.292,
           0.973,
           0.32,
           0,
           0,
           0.285,
           0.101,
           1,
           0.376,
           1,
           0,
           0.052,
           0.019,
           0,
           1,
           1,
           0,
           0.003,
           0.687
          ],
          [
           0.221,
           0.028,
           0.45,
           0.076,
           1,
           0.683,
           0.122,
           0.564,
           0.352,
           0,
           0.001,
           0.452,
           1,
           0.406,
           0.199,
           0.215,
           0.012,
           0.186,
           1,
           1
          ],
          [
           0.007,
           0.007,
           0.003,
           0.002,
           0.001,
           0.001,
           0,
           0,
           0,
           0,
           0,
           0,
           0,
           0,
           0,
           0,
           0,
           0,
           0,
           0
          ],
          [
           0.29,
           0.221,
           0.209,
           0.245,
           1,
           0.523,
           1,
           0.673,
           0.186,
           0.259,
           0.46,
           1,
           1,
           1,
           1,
           0.081,
           0.24,
           1,
           1,
           0.226
          ],
          [
           0,
           0.774,
           1,
           0,
           0.321,
           0.996,
           0.464,
           0.762,
           0.63,
           0.965,
           0.454,
           0.865,
           0.57,
           0.679,
           1,
           0.68,
           1,
           0.775,
           1,
           1
          ],
          [
           0.331,
           0.399,
           0.472,
           0.27,
           0.696,
           0.497,
           0.406,
           0.701,
           0.144,
           0,
           0.223,
           0.425,
           0.554,
           0.032,
           0.588,
           0.254,
           0.395,
           1,
           0.525,
           0.485
          ],
          [
           0.508,
           0.112,
           0.449,
           0.354,
           0.229,
           0,
           0.616,
           0.167,
           0.735,
           0.297,
           0.462,
           0.162,
           0,
           0,
           0,
           0,
           1,
           0,
           0.048,
           0
          ],
          [
           0.291,
           0.012,
           0.493,
           0.1,
           1,
           0.204,
           0.147,
           0.444,
           0.269,
           0.024,
           0,
           0.098,
           0.51,
           0.2,
           0.009,
           0.324,
           0.004,
           0.079,
           0.72,
           1
          ],
          [
           0.222,
           0.029,
           0.448,
           0.078,
           1,
           0.682,
           0.123,
           0.562,
           0.339,
           0,
           0,
           0.453,
           1,
           0.406,
           0.2,
           0.217,
           0.013,
           0.187,
           1,
           1
          ],
          [
           0.028,
           0.2,
           0.021,
           0.034,
           0.707,
           0.274,
           0.141,
           0.857,
           0,
           0.011,
           0.129,
           0.282,
           0.626,
           0.547,
           0.232,
           0,
           0,
           0.314,
           0.355,
           0
          ],
          [
           0,
           0.083,
           0.012,
           0,
           0.297,
           0.072,
           0.063,
           0.486,
           0,
           0.033,
           0.051,
           0.134,
           0.283,
           0.249,
           0.093,
           0,
           0,
           0.178,
           0.169,
           0
          ],
          [
           0.003,
           0.062,
           0.013,
           0,
           0.677,
           0.038,
           0.059,
           0.246,
           0,
           0.036,
           0.029,
           0.067,
           0.181,
           0.129,
           0.031,
           0,
           0,
           0.028,
           0.098,
           0
          ],
          [
           0.01,
           0.061,
           0,
           0.005,
           0.157,
           0.029,
           0.115,
           0.135,
           0,
           0,
           0.116,
           0.04,
           0.12,
           0.087,
           0.021,
           0,
           0,
           0.005,
           0.031,
           0
          ],
          [
           0.29,
           0.012,
           0.487,
           0.1,
           1,
           0.203,
           0.146,
           0.441,
           0.255,
           0.023,
           0,
           0.098,
           0.481,
           0.199,
           0.009,
           0.323,
           0.002,
           0.079,
           0.716,
           1
          ],
          [
           0.01,
           0.061,
           0,
           0.005,
           0.157,
           0.029,
           0.115,
           0.135,
           0,
           0,
           0.116,
           0.04,
           0.12,
           0.087,
           0.021,
           0,
           0,
           0.005,
           0.031,
           0
          ],
          [
           0.034,
           0.093,
           0.03,
           0.026,
           0.942,
           0.045,
           0.092,
           0.344,
           0,
           0.039,
           0,
           0.05,
           0.14,
           0.194,
           0.047,
           0.002,
           0,
           0.064,
           0.146,
           0
          ],
          [
           0.089,
           0.103,
           0.298,
           0.036,
           1,
           0.741,
           0.025,
           0.422,
           1,
           0,
           0.049,
           0.162,
           0.154,
           0.201,
           0.174,
           0.491,
           1,
           0.381,
           0.006,
           1
          ],
          [
           0.584,
           0.704,
           0,
           0.657,
           0.452,
           0.519,
           0.782,
           0.483,
           0.45,
           1,
           0.809,
           1,
           0.486,
           0.542,
           0.507,
           0.052,
           0.45,
           0.481,
           0.505,
           0.449
          ],
          [
           0.197,
           0.495,
           0.102,
           0.196,
           0,
           0.045,
           0.312,
           0.024,
           0.007,
           0.212,
           0.25,
           0.135,
           0.101,
           0.136,
           0.088,
           0.038,
           0,
           0.062,
           0.134,
           0.013
          ],
          [
           0.196,
           0.225,
           0.546,
           0.113,
           1,
           0.987,
           0.075,
           0.643,
           1,
           0.113,
           0.124,
           0.27,
           0.291,
           0.408,
           0.349,
           0.24,
           1,
           0.642,
           0.115,
           1
          ],
          [
           0.14,
           0.339,
           0,
           0.119,
           0.134,
           0.065,
           0.151,
           0.276,
           0,
           0.085,
           0.112,
           0.068,
           0.239,
           0.145,
           0.1,
           0,
           0.01,
           0.119,
           0.147,
           0
          ],
          [
           0.153,
           0.461,
           0.078,
           0.158,
           0,
           0.049,
           0.266,
           0.091,
           0,
           0.189,
           0.213,
           0.098,
           0.097,
           0.12,
           0.069,
           0,
           0,
           0.037,
           0.092,
           0
          ],
          [
           0.048,
           0.084,
           0.008,
           0.012,
           0.509,
           0.064,
           0.04,
           0.234,
           0.003,
           0.01,
           0.033,
           0.05,
           0.08,
           0.073,
           0.037,
           0,
           0.002,
           0.029,
           0,
           0
          ],
          [
           0.479,
           1,
           0.126,
           0.651,
           0,
           0.34,
           1,
           0.457,
           0.069,
           0.398,
           0.325,
           0.398,
           1,
           1,
           0.187,
           0.094,
           0.006,
           1,
           0.324,
           0.042
          ],
          [
           0.946,
           0.694,
           0.958,
           0.942,
           1,
           0.965,
           0.745,
           0.587,
           0.988,
           0.958,
           0.976,
           0.99,
           0.757,
           0.8,
           0.983,
           0.982,
           0.995,
           0.883,
           0.956,
           0.992
          ],
          [
           0.54,
           0.321,
           0.727,
           0.315,
           0,
           0.231,
           0.747,
           1,
           0.475,
           0.089,
           0.069,
           0.036,
           0.455,
           0.258,
           0.024,
           0.475,
           0.053,
           0.215,
           0.343,
           1
          ],
          [
           0.308,
           0.317,
           1,
           0.215,
           1,
           0.656,
           0.027,
           0.728,
           0.782,
           1,
           0,
           0.678,
           0.544,
           0.606,
           0.741,
           0.413,
           1,
           0.866,
           0.983,
           1
          ],
          [
           0.421,
           0.499,
           1,
           0.426,
           1,
           1,
           0.203,
           1,
           0.576,
           0.703,
           0.15,
           0.993,
           0.932,
           1,
           1,
           0.482,
           0.713,
           1,
           1,
           1
          ],
          [
           0.441,
           0.473,
           1,
           0.355,
           1,
           1,
           0.147,
           0.771,
           0.641,
           0.622,
           0.025,
           1,
           0.869,
           0.915,
           1,
           0.512,
           0.866,
           1,
           1,
           1
          ],
          [
           0.506,
           0.486,
           1,
           0.446,
           1,
           0.834,
           0.137,
           0.739,
           0.666,
           0.575,
           0,
           0.976,
           0.834,
           0.889,
           1,
           0.545,
           0.651,
           1,
           1,
           1
          ],
          [
           0.292,
           0.21,
           0.497,
           0.093,
           0,
           0,
           0.697,
           0.895,
           0,
           0.059,
           0.554,
           0.902,
           0.392,
           0.424,
           0.672,
           0.215,
           0.539,
           0.012,
           0.669,
           0.563
          ],
          [
           0.408,
           0.056,
           0.63,
           0.156,
           0,
           0.179,
           0.393,
           0.424,
           0.871,
           0.542,
           0.318,
           0.116,
           0.37,
           0.4,
           0.35,
           0.435,
           0.861,
           0.367,
           0.622,
           0
          ],
          [
           0.575,
           0.502,
           0.477,
           0.251,
           0.243,
           0.748,
           0.633,
           0.746,
           0.607,
           0.217,
           0.899,
           0.973,
           0.525,
           0.716,
           1,
           0.466,
           0.257,
           0.674,
           0.609,
           1
          ],
          [
           0.256,
           0.333,
           1,
           0.213,
           0.342,
           0,
           0.641,
           0.484,
           1,
           0.252,
           0.393,
           0.4,
           0.459,
           0.523,
           0.544,
           0.557,
           0.548,
           0.489,
           0.711,
           0.192
          ],
          [
           0.184,
           0.467,
           0.765,
           0.234,
           0.733,
           0.461,
           0.173,
           0.535,
           1,
           0.099,
           0.488,
           0.99,
           0.471,
           1,
           1,
           0.765,
           0.56,
           0.671,
           1,
           1
          ],
          [
           0.385,
           0.331,
           1,
           0.324,
           0.15,
           0.116,
           0.093,
           0.253,
           1,
           0.478,
           0.033,
           0.103,
           0.213,
           0.179,
           0.226,
           1,
           1,
           0.193,
           0.254,
           1
          ],
          [
           0.562,
           0.391,
           1,
           0.43,
           0,
           0,
           0.341,
           0,
           1,
           0.753,
           0.194,
           0,
           0,
           0,
           0,
           1,
           1,
           0,
           0,
           0.989
          ],
          [
           0.027,
           0.174,
           0.087,
           0.023,
           0.023,
           0.029,
           0.082,
           0.195,
           0.004,
           0.021,
           0.045,
           0.007,
           0.165,
           0.113,
           0.01,
           0.011,
           0,
           0.027,
           0.044,
           0
          ],
          [
           0.025,
           0.436,
           0.002,
           0.067,
           0.064,
           0.046,
           0.142,
           0.195,
           0,
           0.22,
           0.058,
           0.094,
           0.062,
           0.221,
           0.214,
           0,
           0.051,
           0.272,
           0.038,
           0
          ]
         ]
        }
       ],
       "layout": {
        "coloraxis": {
         "colorscale": [
          [
           0,
           "#0d0887"
          ],
          [
           0.1111111111111111,
           "#46039f"
          ],
          [
           0.2222222222222222,
           "#7201a8"
          ],
          [
           0.3333333333333333,
           "#9c179e"
          ],
          [
           0.4444444444444444,
           "#bd3786"
          ],
          [
           0.5555555555555556,
           "#d8576b"
          ],
          [
           0.6666666666666666,
           "#ed7953"
          ],
          [
           0.7777777777777778,
           "#fb9f3a"
          ],
          [
           0.8888888888888888,
           "#fdca26"
          ],
          [
           1,
           "#f0f921"
          ]
         ]
        },
        "height": 1000,
        "template": {
         "data": {
          "bar": [
           {
            "error_x": {
             "color": "#f2f5fa"
            },
            "error_y": {
             "color": "#f2f5fa"
            },
            "marker": {
             "line": {
              "color": "rgb(17,17,17)",
              "width": 0.5
             },
             "pattern": {
              "fillmode": "overlay",
              "size": 10,
              "solidity": 0.2
             }
            },
            "type": "bar"
           }
          ],
          "barpolar": [
           {
            "marker": {
             "line": {
              "color": "rgb(17,17,17)",
              "width": 0.5
             },
             "pattern": {
              "fillmode": "overlay",
              "size": 10,
              "solidity": 0.2
             }
            },
            "type": "barpolar"
           }
          ],
          "carpet": [
           {
            "aaxis": {
             "endlinecolor": "#A2B1C6",
             "gridcolor": "#506784",
             "linecolor": "#506784",
             "minorgridcolor": "#506784",
             "startlinecolor": "#A2B1C6"
            },
            "baxis": {
             "endlinecolor": "#A2B1C6",
             "gridcolor": "#506784",
             "linecolor": "#506784",
             "minorgridcolor": "#506784",
             "startlinecolor": "#A2B1C6"
            },
            "type": "carpet"
           }
          ],
          "choropleth": [
           {
            "colorbar": {
             "outlinewidth": 0,
             "ticks": ""
            },
            "type": "choropleth"
           }
          ],
          "contour": [
           {
            "colorbar": {
             "outlinewidth": 0,
             "ticks": ""
            },
            "colorscale": [
             [
              0,
              "#0d0887"
             ],
             [
              0.1111111111111111,
              "#46039f"
             ],
             [
              0.2222222222222222,
              "#7201a8"
             ],
             [
              0.3333333333333333,
              "#9c179e"
             ],
             [
              0.4444444444444444,
              "#bd3786"
             ],
             [
              0.5555555555555556,
              "#d8576b"
             ],
             [
              0.6666666666666666,
              "#ed7953"
             ],
             [
              0.7777777777777778,
              "#fb9f3a"
             ],
             [
              0.8888888888888888,
              "#fdca26"
             ],
             [
              1,
              "#f0f921"
             ]
            ],
            "type": "contour"
           }
          ],
          "contourcarpet": [
           {
            "colorbar": {
             "outlinewidth": 0,
             "ticks": ""
            },
            "type": "contourcarpet"
           }
          ],
          "heatmap": [
           {
            "colorbar": {
             "outlinewidth": 0,
             "ticks": ""
            },
            "colorscale": [
             [
              0,
              "#0d0887"
             ],
             [
              0.1111111111111111,
              "#46039f"
             ],
             [
              0.2222222222222222,
              "#7201a8"
             ],
             [
              0.3333333333333333,
              "#9c179e"
             ],
             [
              0.4444444444444444,
              "#bd3786"
             ],
             [
              0.5555555555555556,
              "#d8576b"
             ],
             [
              0.6666666666666666,
              "#ed7953"
             ],
             [
              0.7777777777777778,
              "#fb9f3a"
             ],
             [
              0.8888888888888888,
              "#fdca26"
             ],
             [
              1,
              "#f0f921"
             ]
            ],
            "type": "heatmap"
           }
          ],
          "heatmapgl": [
           {
            "colorbar": {
             "outlinewidth": 0,
             "ticks": ""
            },
            "colorscale": [
             [
              0,
              "#0d0887"
             ],
             [
              0.1111111111111111,
              "#46039f"
             ],
             [
              0.2222222222222222,
              "#7201a8"
             ],
             [
              0.3333333333333333,
              "#9c179e"
             ],
             [
              0.4444444444444444,
              "#bd3786"
             ],
             [
              0.5555555555555556,
              "#d8576b"
             ],
             [
              0.6666666666666666,
              "#ed7953"
             ],
             [
              0.7777777777777778,
              "#fb9f3a"
             ],
             [
              0.8888888888888888,
              "#fdca26"
             ],
             [
              1,
              "#f0f921"
             ]
            ],
            "type": "heatmapgl"
           }
          ],
          "histogram": [
           {
            "marker": {
             "pattern": {
              "fillmode": "overlay",
              "size": 10,
              "solidity": 0.2
             }
            },
            "type": "histogram"
           }
          ],
          "histogram2d": [
           {
            "colorbar": {
             "outlinewidth": 0,
             "ticks": ""
            },
            "colorscale": [
             [
              0,
              "#0d0887"
             ],
             [
              0.1111111111111111,
              "#46039f"
             ],
             [
              0.2222222222222222,
              "#7201a8"
             ],
             [
              0.3333333333333333,
              "#9c179e"
             ],
             [
              0.4444444444444444,
              "#bd3786"
             ],
             [
              0.5555555555555556,
              "#d8576b"
             ],
             [
              0.6666666666666666,
              "#ed7953"
             ],
             [
              0.7777777777777778,
              "#fb9f3a"
             ],
             [
              0.8888888888888888,
              "#fdca26"
             ],
             [
              1,
              "#f0f921"
             ]
            ],
            "type": "histogram2d"
           }
          ],
          "histogram2dcontour": [
           {
            "colorbar": {
             "outlinewidth": 0,
             "ticks": ""
            },
            "colorscale": [
             [
              0,
              "#0d0887"
             ],
             [
              0.1111111111111111,
              "#46039f"
             ],
             [
              0.2222222222222222,
              "#7201a8"
             ],
             [
              0.3333333333333333,
              "#9c179e"
             ],
             [
              0.4444444444444444,
              "#bd3786"
             ],
             [
              0.5555555555555556,
              "#d8576b"
             ],
             [
              0.6666666666666666,
              "#ed7953"
             ],
             [
              0.7777777777777778,
              "#fb9f3a"
             ],
             [
              0.8888888888888888,
              "#fdca26"
             ],
             [
              1,
              "#f0f921"
             ]
            ],
            "type": "histogram2dcontour"
           }
          ],
          "mesh3d": [
           {
            "colorbar": {
             "outlinewidth": 0,
             "ticks": ""
            },
            "type": "mesh3d"
           }
          ],
          "parcoords": [
           {
            "line": {
             "colorbar": {
              "outlinewidth": 0,
              "ticks": ""
             }
            },
            "type": "parcoords"
           }
          ],
          "pie": [
           {
            "automargin": true,
            "type": "pie"
           }
          ],
          "scatter": [
           {
            "marker": {
             "line": {
              "color": "#283442"
             }
            },
            "type": "scatter"
           }
          ],
          "scatter3d": [
           {
            "line": {
             "colorbar": {
              "outlinewidth": 0,
              "ticks": ""
             }
            },
            "marker": {
             "colorbar": {
              "outlinewidth": 0,
              "ticks": ""
             }
            },
            "type": "scatter3d"
           }
          ],
          "scattercarpet": [
           {
            "marker": {
             "colorbar": {
              "outlinewidth": 0,
              "ticks": ""
             }
            },
            "type": "scattercarpet"
           }
          ],
          "scattergeo": [
           {
            "marker": {
             "colorbar": {
              "outlinewidth": 0,
              "ticks": ""
             }
            },
            "type": "scattergeo"
           }
          ],
          "scattergl": [
           {
            "marker": {
             "line": {
              "color": "#283442"
             }
            },
            "type": "scattergl"
           }
          ],
          "scattermapbox": [
           {
            "marker": {
             "colorbar": {
              "outlinewidth": 0,
              "ticks": ""
             }
            },
            "type": "scattermapbox"
           }
          ],
          "scatterpolar": [
           {
            "marker": {
             "colorbar": {
              "outlinewidth": 0,
              "ticks": ""
             }
            },
            "type": "scatterpolar"
           }
          ],
          "scatterpolargl": [
           {
            "marker": {
             "colorbar": {
              "outlinewidth": 0,
              "ticks": ""
             }
            },
            "type": "scatterpolargl"
           }
          ],
          "scatterternary": [
           {
            "marker": {
             "colorbar": {
              "outlinewidth": 0,
              "ticks": ""
             }
            },
            "type": "scatterternary"
           }
          ],
          "surface": [
           {
            "colorbar": {
             "outlinewidth": 0,
             "ticks": ""
            },
            "colorscale": [
             [
              0,
              "#0d0887"
             ],
             [
              0.1111111111111111,
              "#46039f"
             ],
             [
              0.2222222222222222,
              "#7201a8"
             ],
             [
              0.3333333333333333,
              "#9c179e"
             ],
             [
              0.4444444444444444,
              "#bd3786"
             ],
             [
              0.5555555555555556,
              "#d8576b"
             ],
             [
              0.6666666666666666,
              "#ed7953"
             ],
             [
              0.7777777777777778,
              "#fb9f3a"
             ],
             [
              0.8888888888888888,
              "#fdca26"
             ],
             [
              1,
              "#f0f921"
             ]
            ],
            "type": "surface"
           }
          ],
          "table": [
           {
            "cells": {
             "fill": {
              "color": "#506784"
             },
             "line": {
              "color": "rgb(17,17,17)"
             }
            },
            "header": {
             "fill": {
              "color": "#2a3f5f"
             },
             "line": {
              "color": "rgb(17,17,17)"
             }
            },
            "type": "table"
           }
          ]
         },
         "layout": {
          "annotationdefaults": {
           "arrowcolor": "#f2f5fa",
           "arrowhead": 0,
           "arrowwidth": 1
          },
          "autotypenumbers": "strict",
          "coloraxis": {
           "colorbar": {
            "outlinewidth": 0,
            "ticks": ""
           }
          },
          "colorscale": {
           "diverging": [
            [
             0,
             "#8e0152"
            ],
            [
             0.1,
             "#c51b7d"
            ],
            [
             0.2,
             "#de77ae"
            ],
            [
             0.3,
             "#f1b6da"
            ],
            [
             0.4,
             "#fde0ef"
            ],
            [
             0.5,
             "#f7f7f7"
            ],
            [
             0.6,
             "#e6f5d0"
            ],
            [
             0.7,
             "#b8e186"
            ],
            [
             0.8,
             "#7fbc41"
            ],
            [
             0.9,
             "#4d9221"
            ],
            [
             1,
             "#276419"
            ]
           ],
           "sequential": [
            [
             0,
             "#0d0887"
            ],
            [
             0.1111111111111111,
             "#46039f"
            ],
            [
             0.2222222222222222,
             "#7201a8"
            ],
            [
             0.3333333333333333,
             "#9c179e"
            ],
            [
             0.4444444444444444,
             "#bd3786"
            ],
            [
             0.5555555555555556,
             "#d8576b"
            ],
            [
             0.6666666666666666,
             "#ed7953"
            ],
            [
             0.7777777777777778,
             "#fb9f3a"
            ],
            [
             0.8888888888888888,
             "#fdca26"
            ],
            [
             1,
             "#f0f921"
            ]
           ],
           "sequentialminus": [
            [
             0,
             "#0d0887"
            ],
            [
             0.1111111111111111,
             "#46039f"
            ],
            [
             0.2222222222222222,
             "#7201a8"
            ],
            [
             0.3333333333333333,
             "#9c179e"
            ],
            [
             0.4444444444444444,
             "#bd3786"
            ],
            [
             0.5555555555555556,
             "#d8576b"
            ],
            [
             0.6666666666666666,
             "#ed7953"
            ],
            [
             0.7777777777777778,
             "#fb9f3a"
            ],
            [
             0.8888888888888888,
             "#fdca26"
            ],
            [
             1,
             "#f0f921"
            ]
           ]
          },
          "colorway": [
           "#636efa",
           "#EF553B",
           "#00cc96",
           "#ab63fa",
           "#FFA15A",
           "#19d3f3",
           "#FF6692",
           "#B6E880",
           "#FF97FF",
           "#FECB52"
          ],
          "font": {
           "color": "#f2f5fa"
          },
          "geo": {
           "bgcolor": "rgb(17,17,17)",
           "lakecolor": "rgb(17,17,17)",
           "landcolor": "rgb(17,17,17)",
           "showlakes": true,
           "showland": true,
           "subunitcolor": "#506784"
          },
          "hoverlabel": {
           "align": "left"
          },
          "hovermode": "closest",
          "mapbox": {
           "style": "dark"
          },
          "paper_bgcolor": "rgb(17,17,17)",
          "plot_bgcolor": "rgb(17,17,17)",
          "polar": {
           "angularaxis": {
            "gridcolor": "#506784",
            "linecolor": "#506784",
            "ticks": ""
           },
           "bgcolor": "rgb(17,17,17)",
           "radialaxis": {
            "gridcolor": "#506784",
            "linecolor": "#506784",
            "ticks": ""
           }
          },
          "scene": {
           "xaxis": {
            "backgroundcolor": "rgb(17,17,17)",
            "gridcolor": "#506784",
            "gridwidth": 2,
            "linecolor": "#506784",
            "showbackground": true,
            "ticks": "",
            "zerolinecolor": "#C8D4E3"
           },
           "yaxis": {
            "backgroundcolor": "rgb(17,17,17)",
            "gridcolor": "#506784",
            "gridwidth": 2,
            "linecolor": "#506784",
            "showbackground": true,
            "ticks": "",
            "zerolinecolor": "#C8D4E3"
           },
           "zaxis": {
            "backgroundcolor": "rgb(17,17,17)",
            "gridcolor": "#506784",
            "gridwidth": 2,
            "linecolor": "#506784",
            "showbackground": true,
            "ticks": "",
            "zerolinecolor": "#C8D4E3"
           }
          },
          "shapedefaults": {
           "line": {
            "color": "#f2f5fa"
           }
          },
          "sliderdefaults": {
           "bgcolor": "#C8D4E3",
           "bordercolor": "rgb(17,17,17)",
           "borderwidth": 1,
           "tickwidth": 0
          },
          "ternary": {
           "aaxis": {
            "gridcolor": "#506784",
            "linecolor": "#506784",
            "ticks": ""
           },
           "baxis": {
            "gridcolor": "#506784",
            "linecolor": "#506784",
            "ticks": ""
           },
           "bgcolor": "rgb(17,17,17)",
           "caxis": {
            "gridcolor": "#506784",
            "linecolor": "#506784",
            "ticks": ""
           }
          },
          "title": {
           "x": 0.05
          },
          "updatemenudefaults": {
           "bgcolor": "#506784",
           "borderwidth": 0
          },
          "xaxis": {
           "automargin": true,
           "gridcolor": "#283442",
           "linecolor": "#506784",
           "ticks": "",
           "title": {
            "standoff": 15
           },
           "zerolinecolor": "#283442",
           "zerolinewidth": 2
          },
          "yaxis": {
           "automargin": true,
           "gridcolor": "#283442",
           "linecolor": "#506784",
           "ticks": "",
           "title": {
            "standoff": 15
           },
           "zerolinecolor": "#283442",
           "zerolinewidth": 2
          }
         }
        },
        "title": {
         "text": "Heat Map of Normalized Equity Data from the Bottom 20 Companies in the S&P500"
        },
        "width": 800,
        "xaxis": {
         "anchor": "y",
         "constrain": "domain",
         "domain": [
          0,
          1
         ],
         "scaleanchor": "y"
        },
        "yaxis": {
         "anchor": "x",
         "autorange": "reversed",
         "constrain": "domain",
         "domain": [
          0,
          1
         ]
        }
       }
      }
     },
     "metadata": {},
     "output_type": "display_data"
    },
    {
     "data": {
      "application/vnd.plotly.v1+json": {
       "config": {
        "plotlyServerURL": "https://plot.ly"
       },
       "data": [
        {
         "coloraxis": "coloraxis",
         "hovertemplate": "x: %{x}<br>y: %{y}<br>color: %{z}<extra></extra>",
         "name": "0",
         "texttemplate": "%{z}",
         "type": "heatmap",
         "x": [
          "WMT",
          "ACN",
          "UPS",
          "HD",
          "YUMC",
          "TGT",
          "KR",
          "SBUX",
          "LOW",
          "CTSH",
          "PEP",
          "COST",
          "CVS",
          "FDX",
          "MSFT",
          "MCD",
          "F",
          "DRI",
          "AAPL",
          "DG"
         ],
         "xaxis": "x",
         "y": [
          "Market Capitalization Score",
          "Price to Earnings Ratio (TTM) Score",
          "Basic EPS (TTM) Score",
          "Number of Employees Score",
          "Free Cash Flow (Annual YoY Growth) Score",
          "Free Cash Flow Margin (FY) Score",
          "Free Cash Flow (Quarterly YoY Growth) Score",
          "3-Month Performance Score",
          "Basic EPS (FY) Score",
          "EPS Diluted (TTM) Score",
          "EBITDA (TTM) Score",
          "Gross Profit (MRQ) Score",
          "Gross Profit (FY) Score",
          "Total Revenue (FY) Score",
          "EPS Diluted (FY) Score",
          "Last Year Revenue (FY) Score",
          "Net Income (FY) Score",
          "Current Ratio (MRQ) Score",
          "Debt to Equity Ratio (MRQ) Score",
          "Net Debt (MRQ) Score",
          "Quick Ratio (MRQ) Score",
          "Total Assets (MRQ) Score",
          "Total Debt (MRQ) Score",
          "Total Current Assets (MRQ) Score",
          "Dividend Yield Forward Score",
          "Dividends Paid (FY) Score",
          "Dividends per Share (FY) Score",
          "Gross Margin (TTM) Score",
          "Operating Margin (TTM) Score",
          "Pretax Margin (TTM) Score",
          "Net Margin (TTM) Score",
          "6-Month Performance Score",
          "YTD Performance Score",
          "Yearly Performance Score",
          "1-Year Beta Score",
          "Volatility Score",
          "Price to Revenue Ratio (TTM) Score",
          "Enterprise Value/EBITDA (TTM) Score",
          "Enterprise Value (MRQ) Score",
          "Total Shares Outstanding Score"
         ],
         "yaxis": "y",
         "z": [
          [
           1,
           0.722,
           0.602,
           1,
           0.048,
           0.274,
           0.073,
           0.477,
           0.467,
           0.082,
           0.952,
           0.908,
           0.434,
           0.138,
           1,
           0.799,
           0.161,
           0.013,
           1,
           0.162
          ],
          [
           0.844,
           0.423,
           0.182,
           0.288,
           0.55,
           0.376,
           0.179,
           0.716,
           0.305,
           0.19,
           0.402,
           0.706,
           0.688,
           0.198,
           0.476,
           0.624,
           0,
           0.319,
           0.395,
           0.373
          ],
          [
           0.105,
           0.484,
           0.564,
           0.747,
           0.047,
           0.302,
           0.104,
           0.085,
           0.44,
           0.165,
           0.286,
           0.585,
           0.064,
           0.565,
           0.382,
           0.332,
           0.057,
           0.3,
           0.244,
           0.445
          ],
          [
           1,
           1,
           1,
           1,
           1,
           1,
           1,
           1,
           1,
           1,
           1,
           1,
           1,
           0.828,
           0.734,
           0.664,
           0.606,
           0.593,
           0.542,
           0.539
          ],
          [
           0.042,
           0.183,
           0.432,
           0.139,
           0.24,
           0.091,
           0.16,
           0.103,
           0.147,
           0.118,
           0.194,
           0.093,
           0.211,
           0.109,
           0.208,
           0.294,
           0.062,
           0.157,
           0.217,
           0.088
          ],
          [
           0.278,
           0.538,
           0.471,
           0.432,
           0.43,
           0.338,
           0.301,
           0.51,
           0.417,
           0.489,
           0.422,
           0.269,
           0.35,
           0.306,
           0.928,
           0.88,
           0.384,
           0.425,
           0.831,
           0.347
          ],
          [
           1,
           0.402,
           0.314,
           0.331,
           1,
           0,
           0.246,
           0.313,
           0.364,
           0.389,
           0.379,
           0.322,
           0.514,
           0.043,
           0.297,
           0.358,
           0.262,
           0.23,
           0.419,
           0.157
          ],
          [
           0.277,
           0.174,
           0.419,
           0.416,
           1,
           0.328,
           0.101,
           0.909,
           0.345,
           0.401,
           0.123,
           0.29,
           0.079,
           0.657,
           0.385,
           0.265,
           0.158,
           0.341,
           0.084,
           0.061
          ],
          [
           0.245,
           0.625,
           0.872,
           0.926,
           0.082,
           0.839,
           0.073,
           0.114,
           0.702,
           0.191,
           0.284,
           0.772,
           0.315,
           0.858,
           0.551,
           0.577,
           0.219,
           0.408,
           0.325,
           0.585
          ],
          [
           0.106,
           0.479,
           0.563,
           0.747,
           0.047,
           0.301,
           0.104,
           0.086,
           0.44,
           0.166,
           0.286,
           0.586,
           0.064,
           0.562,
           0.382,
           0.332,
           0.057,
           0.299,
           0.243,
           0.444
          ],
          [
           1,
           0.538,
           0.809,
           1,
           0.047,
           0.337,
           0.371,
           0.326,
           0.607,
           0.136,
           0.683,
           0.472,
           0.96,
           0.457,
           1,
           0.568,
           0.575,
           0.029,
           1,
           0.152
          ],
          [
           1,
           0.603,
           0.584,
           1,
           0.023,
           0.735,
           0.782,
           0.157,
           0.875,
           0.163,
           1,
           0.788,
           1,
           0.536,
           1,
           0.382,
           0.388,
           0.001,
           1,
           0.317
          ],
          [
           1,
           0.596,
           0.52,
           1,
           0.006,
           0.881,
           0.844,
           0.164,
           0.935,
           0.163,
           1,
           0.845,
           1,
           0.608,
           1,
           0.363,
           0.748,
           0.014,
           1,
           0.309
          ],
          [
           1,
           0.473,
           0.76,
           1,
           0.055,
           0.831,
           1,
           0.236,
           0.752,
           0.125,
           0.617,
           1,
           1,
           0.73,
           1,
           0.163,
           1,
           0.053,
           1,
           0.252
          ],
          [
           0.243,
           0.615,
           0.868,
           0.922,
           0.078,
           0.831,
           0.071,
           0.113,
           0.699,
           0.191,
           0.282,
           0.77,
           0.312,
           0.847,
           0.547,
           0.572,
           0.216,
           0.403,
           0.322,
           0.581
          ],
          [
           1,
           0.473,
           0.76,
           1,
           0.055,
           0.831,
           1,
           0.236,
           0.752,
           0.125,
           0.617,
           1,
           1,
           0.73,
           1,
           0.163,
           1,
           0.053,
           1,
           0.252
          ],
          [
           1,
           0.52,
           1,
           1,
           0.051,
           0.526,
           0.103,
           0.234,
           0.643,
           0.142,
           0.58,
           0.438,
           0.603,
           0.277,
           1,
           0.574,
           1,
           0.048,
           1,
           0.163
          ],
          [
           0.096,
           0.236,
           0.284,
           0.283,
           0.588,
           0.093,
           0.057,
           0.061,
           0.215,
           0.599,
           0.115,
           0.156,
           0.124,
           0.251,
           0.478,
           0.376,
           0.215,
           0,
           0.101,
           0.228
          ],
          [
           0.572,
           0.47,
           0.662,
           1,
           0.489,
           0.715,
           0.758,
           0.035,
           0,
           0.469,
           0.76,
           0.513,
           0.601,
           0.688,
           0.514,
           0,
           0.916,
           0.896,
           0.845,
           0.858
          ],
          [
           1,
           0,
           0.284,
           1,
           0,
           0.407,
           0.402,
           0.454,
           0.746,
           0,
           0.703,
           0,
           1,
           0.722,
           0,
           0.953,
           1,
           0.141,
           1,
           0.359
          ],
          [
           0,
           0.457,
           0.526,
           0,
           0.877,
           0,
           0,
           0.09,
           0,
           0.97,
           0.187,
           0.061,
           0.173,
           0.455,
           0.78,
           0.649,
           0.343,
           0,
           0.251,
           0
          ],
          [
           1,
           0.327,
           0.501,
           0.557,
           0.053,
           0.393,
           0.349,
           0.179,
           0.326,
           0.096,
           0.694,
           0.473,
           1,
           0.625,
           1,
           0.338,
           1,
           0.04,
           1,
           0.187
          ],
          [
           1,
           0.05,
           0.471,
           1,
           0.021,
           0.378,
           0.397,
           0.47,
           0.765,
           0.013,
           0.786,
           0.167,
           1,
           0.761,
           1,
           0.95,
           1,
           0.104,
           1,
           0.319
          ],
          [
           1,
           0.507,
           0.609,
           0.846,
           0.091,
           0.5,
           0.317,
           0.151,
           0.62,
           0.159,
           0.582,
           0.858,
           1,
           0.443,
           1,
           0.118,
           1,
           0,
           1,
           0.177
          ],
          [
           0.259,
           0.271,
           0.654,
           0.445,
           0.083,
           0.482,
           0.425,
           0.344,
           0.373,
           0.277,
           0.515,
           0.071,
           0.525,
           0.448,
           0.156,
           0.408,
           0.917,
           0.62,
           0.052,
           0.119
          ],
          [
           0.046,
           0.622,
           0.469,
           0,
           0.973,
           0.764,
           0.913,
           0.652,
           0.696,
           0.926,
           0.098,
           0.771,
           0.596,
           0.881,
           0,
           0.394,
           0.942,
           0.917,
           0,
           0.944
          ],
          [
           0.434,
           0.775,
           0.816,
           1,
           0.085,
           0.674,
           0.152,
           0.386,
           0.597,
           0.183,
           0.85,
           0.674,
           0.404,
           0.597,
           0.491,
           1,
           0.008,
           0.881,
           0.17,
           0.329
          ],
          [
           0.208,
           0.339,
           0.162,
           0.336,
           0.036,
           0.189,
           0.126,
           0.127,
           0.329,
           0.359,
           0.699,
           0,
           0.086,
           0.155,
           0.949,
           0.732,
           0,
           0.059,
           0.528,
           0.326
          ],
          [
           0,
           0.262,
           0.22,
           0.261,
           0.083,
           0,
           0,
           0.211,
           0.149,
           0.266,
           0.226,
           0,
           0.008,
           0.038,
           0.875,
           0.951,
           0,
           0.155,
           0.625,
           0.102
          ],
          [
           0,
           0.305,
           0.282,
           0.287,
           0.243,
           0.016,
           0,
           0.254,
           0.163,
           0.321,
           0.279,
           0,
           0,
           0.029,
           0.97,
           0.765,
           0.032,
           0.183,
           0.701,
           0.128
          ],
          [
           0,
           0.279,
           0.272,
           0.265,
           0.2,
           0.019,
           0,
           0.243,
           0.14,
           0.305,
           0.289,
           0,
           0,
           0.031,
           0.973,
           0.729,
           0.108,
           0.209,
           0.726,
           0.125
          ],
          [
           0.555,
           0.151,
           0.153,
           0.459,
           1,
           0.436,
           0.238,
           1,
           0.529,
           0.272,
           0.296,
           0.188,
           0.102,
           0,
           0.076,
           0.463,
           0,
           0.801,
           0.105,
           0.184
          ],
          [
           0.27,
           0.367,
           0.351,
           0.238,
           0.753,
           0.833,
           0.256,
           0.627,
           0.292,
           0.867,
           0.011,
           0.719,
           0.058,
           0.512,
           0.276,
           0.406,
           0.682,
           0.509,
           0.714,
           0.019
          ],
          [
           0.473,
           0.087,
           0.229,
           0.174,
           1,
           0.027,
           0.417,
           0.637,
           0.197,
           0.046,
           0.404,
           0.464,
           0.077,
           0,
           0.064,
           0.539,
           0,
           0.537,
           0.158,
           0.628
          ],
          [
           0.237,
           0.865,
           0.585,
           0.442,
           0.15,
           0.968,
           0.294,
           0.419,
           0.561,
           0.683,
           0.123,
           0.661,
           0.084,
           0.553,
           0.735,
           0.237,
           1,
           0.291,
           0.798,
           0.385
          ],
          [
           0.14,
           0.169,
           0.829,
           0.133,
           0.897,
           0.48,
           0.446,
           0.159,
           0.239,
           0.149,
           0.113,
           0,
           0.206,
           1,
           0.533,
           0,
           0.812,
           0.315,
           0.416,
           0.392
          ],
          [
           0.02,
           0.266,
           0.124,
           0.178,
           0.25,
           0.028,
           0,
           0.385,
           0.094,
           0.144,
           0.263,
           0.056,
           0,
           0.005,
           0.967,
           0.919,
           0,
           0.153,
           0.617,
           0.112
          ],
          [
           0.424,
           0.508,
           0.254,
           0.415,
           0.406,
           0.372,
           0.074,
           0.699,
           0.349,
           0.208,
           0.637,
           0.777,
           0.177,
           0.169,
           0.647,
           0.711,
           0.326,
           0.524,
           0.626,
           0.597
          ],
          [
           1,
           0.683,
           0.538,
           1,
           0.012,
           0.313,
           0.141,
           0.399,
           0.555,
           0.05,
           0.992,
           0.839,
           0.629,
           0.251,
           1,
           0.78,
           0.465,
           0.032,
           1,
           0.231
          ],
          [
           1,
           0.222,
           0.301,
           0.36,
           0.131,
           0.147,
           0.244,
           0.409,
           0.202,
           0.167,
           0.497,
           0.141,
           0.473,
           0.068,
           1,
           0.251,
           1,
           0.018,
           1,
           0.057
          ]
         ]
        }
       ],
       "layout": {
        "coloraxis": {
         "colorscale": [
          [
           0,
           "#0d0887"
          ],
          [
           0.1111111111111111,
           "#46039f"
          ],
          [
           0.2222222222222222,
           "#7201a8"
          ],
          [
           0.3333333333333333,
           "#9c179e"
          ],
          [
           0.4444444444444444,
           "#bd3786"
          ],
          [
           0.5555555555555556,
           "#d8576b"
          ],
          [
           0.6666666666666666,
           "#ed7953"
          ],
          [
           0.7777777777777778,
           "#fb9f3a"
          ],
          [
           0.8888888888888888,
           "#fdca26"
          ],
          [
           1,
           "#f0f921"
          ]
         ]
        },
        "height": 1000,
        "template": {
         "data": {
          "bar": [
           {
            "error_x": {
             "color": "#f2f5fa"
            },
            "error_y": {
             "color": "#f2f5fa"
            },
            "marker": {
             "line": {
              "color": "rgb(17,17,17)",
              "width": 0.5
             },
             "pattern": {
              "fillmode": "overlay",
              "size": 10,
              "solidity": 0.2
             }
            },
            "type": "bar"
           }
          ],
          "barpolar": [
           {
            "marker": {
             "line": {
              "color": "rgb(17,17,17)",
              "width": 0.5
             },
             "pattern": {
              "fillmode": "overlay",
              "size": 10,
              "solidity": 0.2
             }
            },
            "type": "barpolar"
           }
          ],
          "carpet": [
           {
            "aaxis": {
             "endlinecolor": "#A2B1C6",
             "gridcolor": "#506784",
             "linecolor": "#506784",
             "minorgridcolor": "#506784",
             "startlinecolor": "#A2B1C6"
            },
            "baxis": {
             "endlinecolor": "#A2B1C6",
             "gridcolor": "#506784",
             "linecolor": "#506784",
             "minorgridcolor": "#506784",
             "startlinecolor": "#A2B1C6"
            },
            "type": "carpet"
           }
          ],
          "choropleth": [
           {
            "colorbar": {
             "outlinewidth": 0,
             "ticks": ""
            },
            "type": "choropleth"
           }
          ],
          "contour": [
           {
            "colorbar": {
             "outlinewidth": 0,
             "ticks": ""
            },
            "colorscale": [
             [
              0,
              "#0d0887"
             ],
             [
              0.1111111111111111,
              "#46039f"
             ],
             [
              0.2222222222222222,
              "#7201a8"
             ],
             [
              0.3333333333333333,
              "#9c179e"
             ],
             [
              0.4444444444444444,
              "#bd3786"
             ],
             [
              0.5555555555555556,
              "#d8576b"
             ],
             [
              0.6666666666666666,
              "#ed7953"
             ],
             [
              0.7777777777777778,
              "#fb9f3a"
             ],
             [
              0.8888888888888888,
              "#fdca26"
             ],
             [
              1,
              "#f0f921"
             ]
            ],
            "type": "contour"
           }
          ],
          "contourcarpet": [
           {
            "colorbar": {
             "outlinewidth": 0,
             "ticks": ""
            },
            "type": "contourcarpet"
           }
          ],
          "heatmap": [
           {
            "colorbar": {
             "outlinewidth": 0,
             "ticks": ""
            },
            "colorscale": [
             [
              0,
              "#0d0887"
             ],
             [
              0.1111111111111111,
              "#46039f"
             ],
             [
              0.2222222222222222,
              "#7201a8"
             ],
             [
              0.3333333333333333,
              "#9c179e"
             ],
             [
              0.4444444444444444,
              "#bd3786"
             ],
             [
              0.5555555555555556,
              "#d8576b"
             ],
             [
              0.6666666666666666,
              "#ed7953"
             ],
             [
              0.7777777777777778,
              "#fb9f3a"
             ],
             [
              0.8888888888888888,
              "#fdca26"
             ],
             [
              1,
              "#f0f921"
             ]
            ],
            "type": "heatmap"
           }
          ],
          "heatmapgl": [
           {
            "colorbar": {
             "outlinewidth": 0,
             "ticks": ""
            },
            "colorscale": [
             [
              0,
              "#0d0887"
             ],
             [
              0.1111111111111111,
              "#46039f"
             ],
             [
              0.2222222222222222,
              "#7201a8"
             ],
             [
              0.3333333333333333,
              "#9c179e"
             ],
             [
              0.4444444444444444,
              "#bd3786"
             ],
             [
              0.5555555555555556,
              "#d8576b"
             ],
             [
              0.6666666666666666,
              "#ed7953"
             ],
             [
              0.7777777777777778,
              "#fb9f3a"
             ],
             [
              0.8888888888888888,
              "#fdca26"
             ],
             [
              1,
              "#f0f921"
             ]
            ],
            "type": "heatmapgl"
           }
          ],
          "histogram": [
           {
            "marker": {
             "pattern": {
              "fillmode": "overlay",
              "size": 10,
              "solidity": 0.2
             }
            },
            "type": "histogram"
           }
          ],
          "histogram2d": [
           {
            "colorbar": {
             "outlinewidth": 0,
             "ticks": ""
            },
            "colorscale": [
             [
              0,
              "#0d0887"
             ],
             [
              0.1111111111111111,
              "#46039f"
             ],
             [
              0.2222222222222222,
              "#7201a8"
             ],
             [
              0.3333333333333333,
              "#9c179e"
             ],
             [
              0.4444444444444444,
              "#bd3786"
             ],
             [
              0.5555555555555556,
              "#d8576b"
             ],
             [
              0.6666666666666666,
              "#ed7953"
             ],
             [
              0.7777777777777778,
              "#fb9f3a"
             ],
             [
              0.8888888888888888,
              "#fdca26"
             ],
             [
              1,
              "#f0f921"
             ]
            ],
            "type": "histogram2d"
           }
          ],
          "histogram2dcontour": [
           {
            "colorbar": {
             "outlinewidth": 0,
             "ticks": ""
            },
            "colorscale": [
             [
              0,
              "#0d0887"
             ],
             [
              0.1111111111111111,
              "#46039f"
             ],
             [
              0.2222222222222222,
              "#7201a8"
             ],
             [
              0.3333333333333333,
              "#9c179e"
             ],
             [
              0.4444444444444444,
              "#bd3786"
             ],
             [
              0.5555555555555556,
              "#d8576b"
             ],
             [
              0.6666666666666666,
              "#ed7953"
             ],
             [
              0.7777777777777778,
              "#fb9f3a"
             ],
             [
              0.8888888888888888,
              "#fdca26"
             ],
             [
              1,
              "#f0f921"
             ]
            ],
            "type": "histogram2dcontour"
           }
          ],
          "mesh3d": [
           {
            "colorbar": {
             "outlinewidth": 0,
             "ticks": ""
            },
            "type": "mesh3d"
           }
          ],
          "parcoords": [
           {
            "line": {
             "colorbar": {
              "outlinewidth": 0,
              "ticks": ""
             }
            },
            "type": "parcoords"
           }
          ],
          "pie": [
           {
            "automargin": true,
            "type": "pie"
           }
          ],
          "scatter": [
           {
            "marker": {
             "line": {
              "color": "#283442"
             }
            },
            "type": "scatter"
           }
          ],
          "scatter3d": [
           {
            "line": {
             "colorbar": {
              "outlinewidth": 0,
              "ticks": ""
             }
            },
            "marker": {
             "colorbar": {
              "outlinewidth": 0,
              "ticks": ""
             }
            },
            "type": "scatter3d"
           }
          ],
          "scattercarpet": [
           {
            "marker": {
             "colorbar": {
              "outlinewidth": 0,
              "ticks": ""
             }
            },
            "type": "scattercarpet"
           }
          ],
          "scattergeo": [
           {
            "marker": {
             "colorbar": {
              "outlinewidth": 0,
              "ticks": ""
             }
            },
            "type": "scattergeo"
           }
          ],
          "scattergl": [
           {
            "marker": {
             "line": {
              "color": "#283442"
             }
            },
            "type": "scattergl"
           }
          ],
          "scattermapbox": [
           {
            "marker": {
             "colorbar": {
              "outlinewidth": 0,
              "ticks": ""
             }
            },
            "type": "scattermapbox"
           }
          ],
          "scatterpolar": [
           {
            "marker": {
             "colorbar": {
              "outlinewidth": 0,
              "ticks": ""
             }
            },
            "type": "scatterpolar"
           }
          ],
          "scatterpolargl": [
           {
            "marker": {
             "colorbar": {
              "outlinewidth": 0,
              "ticks": ""
             }
            },
            "type": "scatterpolargl"
           }
          ],
          "scatterternary": [
           {
            "marker": {
             "colorbar": {
              "outlinewidth": 0,
              "ticks": ""
             }
            },
            "type": "scatterternary"
           }
          ],
          "surface": [
           {
            "colorbar": {
             "outlinewidth": 0,
             "ticks": ""
            },
            "colorscale": [
             [
              0,
              "#0d0887"
             ],
             [
              0.1111111111111111,
              "#46039f"
             ],
             [
              0.2222222222222222,
              "#7201a8"
             ],
             [
              0.3333333333333333,
              "#9c179e"
             ],
             [
              0.4444444444444444,
              "#bd3786"
             ],
             [
              0.5555555555555556,
              "#d8576b"
             ],
             [
              0.6666666666666666,
              "#ed7953"
             ],
             [
              0.7777777777777778,
              "#fb9f3a"
             ],
             [
              0.8888888888888888,
              "#fdca26"
             ],
             [
              1,
              "#f0f921"
             ]
            ],
            "type": "surface"
           }
          ],
          "table": [
           {
            "cells": {
             "fill": {
              "color": "#506784"
             },
             "line": {
              "color": "rgb(17,17,17)"
             }
            },
            "header": {
             "fill": {
              "color": "#2a3f5f"
             },
             "line": {
              "color": "rgb(17,17,17)"
             }
            },
            "type": "table"
           }
          ]
         },
         "layout": {
          "annotationdefaults": {
           "arrowcolor": "#f2f5fa",
           "arrowhead": 0,
           "arrowwidth": 1
          },
          "autotypenumbers": "strict",
          "coloraxis": {
           "colorbar": {
            "outlinewidth": 0,
            "ticks": ""
           }
          },
          "colorscale": {
           "diverging": [
            [
             0,
             "#8e0152"
            ],
            [
             0.1,
             "#c51b7d"
            ],
            [
             0.2,
             "#de77ae"
            ],
            [
             0.3,
             "#f1b6da"
            ],
            [
             0.4,
             "#fde0ef"
            ],
            [
             0.5,
             "#f7f7f7"
            ],
            [
             0.6,
             "#e6f5d0"
            ],
            [
             0.7,
             "#b8e186"
            ],
            [
             0.8,
             "#7fbc41"
            ],
            [
             0.9,
             "#4d9221"
            ],
            [
             1,
             "#276419"
            ]
           ],
           "sequential": [
            [
             0,
             "#0d0887"
            ],
            [
             0.1111111111111111,
             "#46039f"
            ],
            [
             0.2222222222222222,
             "#7201a8"
            ],
            [
             0.3333333333333333,
             "#9c179e"
            ],
            [
             0.4444444444444444,
             "#bd3786"
            ],
            [
             0.5555555555555556,
             "#d8576b"
            ],
            [
             0.6666666666666666,
             "#ed7953"
            ],
            [
             0.7777777777777778,
             "#fb9f3a"
            ],
            [
             0.8888888888888888,
             "#fdca26"
            ],
            [
             1,
             "#f0f921"
            ]
           ],
           "sequentialminus": [
            [
             0,
             "#0d0887"
            ],
            [
             0.1111111111111111,
             "#46039f"
            ],
            [
             0.2222222222222222,
             "#7201a8"
            ],
            [
             0.3333333333333333,
             "#9c179e"
            ],
            [
             0.4444444444444444,
             "#bd3786"
            ],
            [
             0.5555555555555556,
             "#d8576b"
            ],
            [
             0.6666666666666666,
             "#ed7953"
            ],
            [
             0.7777777777777778,
             "#fb9f3a"
            ],
            [
             0.8888888888888888,
             "#fdca26"
            ],
            [
             1,
             "#f0f921"
            ]
           ]
          },
          "colorway": [
           "#636efa",
           "#EF553B",
           "#00cc96",
           "#ab63fa",
           "#FFA15A",
           "#19d3f3",
           "#FF6692",
           "#B6E880",
           "#FF97FF",
           "#FECB52"
          ],
          "font": {
           "color": "#f2f5fa"
          },
          "geo": {
           "bgcolor": "rgb(17,17,17)",
           "lakecolor": "rgb(17,17,17)",
           "landcolor": "rgb(17,17,17)",
           "showlakes": true,
           "showland": true,
           "subunitcolor": "#506784"
          },
          "hoverlabel": {
           "align": "left"
          },
          "hovermode": "closest",
          "mapbox": {
           "style": "dark"
          },
          "paper_bgcolor": "rgb(17,17,17)",
          "plot_bgcolor": "rgb(17,17,17)",
          "polar": {
           "angularaxis": {
            "gridcolor": "#506784",
            "linecolor": "#506784",
            "ticks": ""
           },
           "bgcolor": "rgb(17,17,17)",
           "radialaxis": {
            "gridcolor": "#506784",
            "linecolor": "#506784",
            "ticks": ""
           }
          },
          "scene": {
           "xaxis": {
            "backgroundcolor": "rgb(17,17,17)",
            "gridcolor": "#506784",
            "gridwidth": 2,
            "linecolor": "#506784",
            "showbackground": true,
            "ticks": "",
            "zerolinecolor": "#C8D4E3"
           },
           "yaxis": {
            "backgroundcolor": "rgb(17,17,17)",
            "gridcolor": "#506784",
            "gridwidth": 2,
            "linecolor": "#506784",
            "showbackground": true,
            "ticks": "",
            "zerolinecolor": "#C8D4E3"
           },
           "zaxis": {
            "backgroundcolor": "rgb(17,17,17)",
            "gridcolor": "#506784",
            "gridwidth": 2,
            "linecolor": "#506784",
            "showbackground": true,
            "ticks": "",
            "zerolinecolor": "#C8D4E3"
           }
          },
          "shapedefaults": {
           "line": {
            "color": "#f2f5fa"
           }
          },
          "sliderdefaults": {
           "bgcolor": "#C8D4E3",
           "bordercolor": "rgb(17,17,17)",
           "borderwidth": 1,
           "tickwidth": 0
          },
          "ternary": {
           "aaxis": {
            "gridcolor": "#506784",
            "linecolor": "#506784",
            "ticks": ""
           },
           "baxis": {
            "gridcolor": "#506784",
            "linecolor": "#506784",
            "ticks": ""
           },
           "bgcolor": "rgb(17,17,17)",
           "caxis": {
            "gridcolor": "#506784",
            "linecolor": "#506784",
            "ticks": ""
           }
          },
          "title": {
           "x": 0.05
          },
          "updatemenudefaults": {
           "bgcolor": "#506784",
           "borderwidth": 0
          },
          "xaxis": {
           "automargin": true,
           "gridcolor": "#283442",
           "linecolor": "#506784",
           "ticks": "",
           "title": {
            "standoff": 15
           },
           "zerolinecolor": "#283442",
           "zerolinewidth": 2
          },
          "yaxis": {
           "automargin": true,
           "gridcolor": "#283442",
           "linecolor": "#506784",
           "ticks": "",
           "title": {
            "standoff": 15
           },
           "zerolinecolor": "#283442",
           "zerolinewidth": 2
          }
         }
        },
        "title": {
         "text": "Heat Map of Normalized Equity Data from the Top 20 Companies in the S&P500"
        },
        "width": 800,
        "xaxis": {
         "anchor": "y",
         "constrain": "domain",
         "domain": [
          0,
          1
         ],
         "scaleanchor": "y"
        },
        "yaxis": {
         "anchor": "x",
         "autorange": "reversed",
         "constrain": "domain",
         "domain": [
          0,
          1
         ]
        }
       }
      }
     },
     "metadata": {},
     "output_type": "display_data"
    }
   ],
   "source": [
    "sort_by = 'Number of Employees'\n",
    "\n",
    "display(\n",
    "viz.heatmap_plot(\n",
    "    mega_df,\n",
    "    'Heat Map of Normalized Equity Data from the Bottom 20 Companies in the S&P500',\n",
    "    500,\n",
    "    20,\n",
    "    True,\n",
    "    plot_width=800,\n",
    "    plot_height=1000,\n",
    "    sort_by=sort_by),\n",
    "viz.heatmap_plot(\n",
    "    mega_df,\n",
    "    'Heat Map of Normalized Equity Data from the Top 20 Companies in the S&P500',\n",
    "    500,\n",
    "    20,\n",
    "    False,\n",
    "    plot_width=800,\n",
    "    plot_height=1000,\n",
    "    sort_by=sort_by))"
   ]
  },
  {
   "attachments": {},
   "cell_type": "markdown",
   "metadata": {},
   "source": [
    "The heatmap plots validate the strong correlation between market capitalization and overall equity performance across all other variables. Therefore, market capitalization is a strong determinant of the likelihood of a good return on investment as larger companies are more likely to perform better due to being more established in the market. The bottom 20 companies fromt he S&P 500 index perform poorly across almost all variables in direct contrast to those in the top 20 by market capitalization. "
   ]
  }
 ],
 "metadata": {
  "kernelspec": {
   "display_name": "base",
   "language": "python",
   "name": "python3"
  },
  "language_info": {
   "codemirror_mode": {
    "name": "ipython",
    "version": 3
   },
   "file_extension": ".py",
   "mimetype": "text/x-python",
   "name": "python",
   "nbconvert_exporter": "python",
   "pygments_lexer": "ipython3",
   "version": "3.9.15"
  }
 },
 "nbformat": 4,
 "nbformat_minor": 2
}
